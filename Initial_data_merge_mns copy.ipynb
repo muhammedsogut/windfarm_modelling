{
 "cells": [
  {
   "cell_type": "code",
   "execution_count": 1,
   "id": "4a93cb51",
   "metadata": {},
   "outputs": [],
   "source": [
    "import numpy as np\n",
    "import pandas as pd\n",
    "import read_zcfd_mns as read_zcfd"
   ]
  },
  {
   "cell_type": "code",
   "execution_count": 2,
   "id": "5665456c",
   "metadata": {},
   "outputs": [],
   "source": [
    "# Loading 2 turbine cases with 10 m/s wind speed\n",
    "\n",
    "dataset=read_zcfd.read(numturb=2,path='turbine_files/2_turbine/10_m_s/',angle=range(240,301,1), diameter_distance=range(3,8,1), wind_speed=10)\n",
    "\n",
    "dataset= dataset.append(read_zcfd.read(numturb=2,path='turbine_files/2_turbine/10_m_s/', angle=[270,272,275,280,286], distance=[800], wind_speed=10))\n",
    "\n",
    "dataset= dataset.append(read_zcfd.read(numturb=2,path='turbine_files/2_turbine/10_m_s/', angle=[270,273,276,278,279,283,288], distance=[1000], wind_speed=10))\n",
    "\n",
    "dataset= dataset.append(read_zcfd.read(numturb=2,path='turbine_files/2_turbine/10_m_s/', angle=[270,272,274,277,280,281], distance=[1250], wind_speed=10))\n",
    "\n",
    "dataset= dataset.append(read_zcfd.read(numturb=2,path='turbine_files/2_turbine/10_m_s/', angle=[270,271,272,273,274,278], distance=[1500], wind_speed=10))\n",
    "\n",
    "dataset= dataset.append(read_zcfd.read(numturb=2,path='turbine_files/2_turbine/10_m_s/', angle=[270,274,275,276,279], distance=[1750], wind_speed=10))\n",
    "\n",
    "dataset= dataset.append(read_zcfd.read(numturb=2,path='turbine_files/2_turbine/10_m_s/', angle=[270,278], distance=[2000], wind_speed=10))\n",
    "\n",
    "dataset= dataset.append(read_zcfd.read(numturb=2,path='turbine_files/2_turbine/10_m_s/', angle=[270,271,274], distance=[2250], wind_speed=10))\n",
    "\n",
    "dataset= dataset.append(read_zcfd.read(numturb=2,path='turbine_files/2_turbine/10_m_s/', angle=[270,272], distance=[2500], wind_speed=10))\n",
    "\n",
    "dataset= dataset.append(read_zcfd.read(numturb=2,path='turbine_files/2_turbine/10_m_s/', angle=[270,275], distance=[2750], wind_speed=10))\n",
    "\n",
    "dataset= dataset.append(read_zcfd.read(numturb=2,path='turbine_files/2_turbine/10_m_s/', angle=[270,272], distance=[3000], wind_speed=10))\n",
    "\n",
    "dataset= dataset.append(read_zcfd.read(numturb=2,path='turbine_files/2_turbine/10_m_s/', angle=[270,273,275], distance=[3200], wind_speed=10))\n",
    "\n",
    "dataset= dataset.append(read_zcfd.read(numturb=2,path='turbine_files/2_turbine/10_m_s/', angle=[270,271,273], distance=[3500], wind_speed=10))\n",
    "\n",
    "dataset= dataset.append(read_zcfd.read(numturb=2,path='turbine_files/2_turbine/10_m_s/', angle=[270], distance=[4000], wind_speed=10))"
   ]
  },
  {
   "cell_type": "code",
   "execution_count": 3,
   "id": "29abb9b0",
   "metadata": {},
   "outputs": [],
   "source": [
    "# Loading 2 turbine cases with 8 m/s wind speed\n",
    "\n",
    "dataset= dataset.append(read_zcfd.read(numturb=2,path='turbine_files/2_turbine/8_m_s/',angle=range(240,301,1), diameter_distance=range(3,8,1), wind_speed=8))"
   ]
  },
  {
   "cell_type": "code",
   "execution_count": 4,
   "id": "87348b6a",
   "metadata": {},
   "outputs": [],
   "source": [
    "# Loading 2 turbine cases with 6 m/s wind speed\n",
    "\n",
    "dataset= dataset.append(read_zcfd.read(numturb=2,path='turbine_files/2_turbine/6_m_s/',angle=range(240,301,1), diameter_distance=range(3,8,1), wind_speed=6))"
   ]
  },
  {
   "cell_type": "code",
   "execution_count": 5,
   "id": "0d391ccd",
   "metadata": {},
   "outputs": [],
   "source": [
    "# Loading 2 turbine cases with 4 m/s wind speed\n",
    "\n",
    "dataset= dataset.append(read_zcfd.read(numturb=2,path='turbine_files/2_turbine/4_m_s/',angle=range(240,301,1), diameter_distance=range(3,8,1), wind_speed=4))"
   ]
  },
  {
   "cell_type": "code",
   "execution_count": 6,
   "id": "70f29666",
   "metadata": {},
   "outputs": [],
   "source": [
    "# Loading 2 turbine cases with 12 m/s wind speed\n",
    "\n",
    "dataset= dataset.append(read_zcfd.read(numturb=2,path='turbine_files/2_turbine/12_m_s/',angle=range(240,301,1), diameter_distance=range(3,8,1), wind_speed=12))"
   ]
  },
  {
   "cell_type": "code",
   "execution_count": 7,
   "id": "92e26531",
   "metadata": {},
   "outputs": [],
   "source": [
    "# Loading 2 turbine cases with 14 m/s wind speed\n",
    "\n",
    "dataset= dataset.append(read_zcfd.read(numturb=2,path='turbine_files/2_turbine/14_m_s/',angle=range(240,301,1), diameter_distance=range(3,8,1), wind_speed=14))"
   ]
  },
  {
   "cell_type": "code",
   "execution_count": 8,
   "id": "e00d866f",
   "metadata": {},
   "outputs": [],
   "source": [
    "# Loading 2 turbine cases with 16 m/s wind speed\n",
    "\n",
    "dataset= dataset.append(read_zcfd.read(numturb=2,path='turbine_files/2_turbine/16_m_s/',angle=range(240,301,1), diameter_distance=range(3,8,1), wind_speed=16))"
   ]
  },
  {
   "cell_type": "code",
   "execution_count": 9,
   "id": "25b66b2a",
   "metadata": {},
   "outputs": [],
   "source": [
    "# Loading 2 turbine cases with 18 m/s wind speed\n",
    "\n",
    "dataset= dataset.append(read_zcfd.read(numturb=2,path='turbine_files/2_turbine/18_m_s/',angle=range(240,301,1), diameter_distance=range(3,8,1), wind_speed=18))"
   ]
  },
  {
   "cell_type": "code",
   "execution_count": 10,
   "id": "71c8f2c7",
   "metadata": {},
   "outputs": [],
   "source": [
    "# Loading 2 turbine cases with 20 m/s wind speed\n",
    "\n",
    "dataset= dataset.append(read_zcfd.read(numturb=2,path='turbine_files/2_turbine/20_m_s/',angle=range(240,301,1), diameter_distance=range(3,8,1), wind_speed=20))"
   ]
  },
  {
   "cell_type": "code",
   "execution_count": 11,
   "id": "52de6d8f",
   "metadata": {},
   "outputs": [],
   "source": [
    "#Loading 3 turbine cases with 10 m/s wind speed\n",
    "\n",
    "dataset=dataset.append(read_zcfd.read(numturb=3,path='turbine_files/3_turbine/10_m_s/', location_path='turbine_files/3_turbine/10_m_s/data_10m_s.csv', wind_speed=10))"
   ]
  },
  {
   "cell_type": "code",
   "execution_count": 12,
   "id": "7760d603",
   "metadata": {},
   "outputs": [],
   "source": [
    "#Loading 3 turbine cases with 8 m/s wind speed\n",
    "\n",
    "dataset=dataset.append(read_zcfd.read(numturb=3,path='turbine_files/3_turbine/8_m_s/', location_path='turbine_files/3_turbine/8_m_s/data_8m_s.csv', wind_speed=8))"
   ]
  },
  {
   "cell_type": "code",
   "execution_count": 13,
   "id": "79d91b6e",
   "metadata": {},
   "outputs": [],
   "source": [
    "#Loading 3 turbine cases with 6 m/s wind speed\n",
    "\n",
    "dataset=dataset.append(read_zcfd.read(numturb=3,path='turbine_files/3_turbine/6_m_s/', location_path='turbine_files/3_turbine/6_m_s/data_6m_s.csv', wind_speed=6))"
   ]
  },
  {
   "cell_type": "code",
   "execution_count": 14,
   "id": "fff382f7",
   "metadata": {},
   "outputs": [],
   "source": [
    "#Loading 3 turbine cases with 12 m/s wind speed\n",
    "\n",
    "dataset=dataset.append(read_zcfd.read(numturb=3,path='turbine_files/3_turbine/12_m_s/', location_path='turbine_files/3_turbine/12_m_s/data_12m_s.csv', wind_speed=12))"
   ]
  },
  {
   "cell_type": "code",
   "execution_count": 15,
   "id": "4c83411c",
   "metadata": {},
   "outputs": [],
   "source": [
    "#Loading 3 turbine cases with 14 m/s wind speed\n",
    "\n",
    "dataset=dataset.append(read_zcfd.read(numturb=3,path='turbine_files/3_turbine/14_m_s/', location_path='turbine_files/3_turbine/14_m_s/data_14m_s.csv', wind_speed=14))"
   ]
  },
  {
   "cell_type": "code",
   "execution_count": 16,
   "id": "b074353f",
   "metadata": {
    "scrolled": true
   },
   "outputs": [
    {
     "data": {
      "text/html": [
       "<div>\n",
       "<style scoped>\n",
       "    .dataframe tbody tr th:only-of-type {\n",
       "        vertical-align: middle;\n",
       "    }\n",
       "\n",
       "    .dataframe tbody tr th {\n",
       "        vertical-align: top;\n",
       "    }\n",
       "\n",
       "    .dataframe thead th {\n",
       "        text-align: right;\n",
       "    }\n",
       "</style>\n",
       "<table border=\"1\" class=\"dataframe\">\n",
       "  <thead>\n",
       "    <tr style=\"text-align: right;\">\n",
       "      <th></th>\n",
       "      <th>index</th>\n",
       "      <th>x_coord</th>\n",
       "      <th>y_coord</th>\n",
       "      <th>ref_wind_speed</th>\n",
       "      <th>id</th>\n",
       "      <th>turb_num</th>\n",
       "      <th>wind_speed</th>\n",
       "      <th>Num_tot_turb</th>\n",
       "    </tr>\n",
       "  </thead>\n",
       "  <tbody>\n",
       "    <tr>\n",
       "      <th>0</th>\n",
       "      <td>0</td>\n",
       "      <td>0.000000</td>\n",
       "      <td>0.000000</td>\n",
       "      <td>7.479762</td>\n",
       "      <td>2_turbine_240_degrees_279.0_meters</td>\n",
       "      <td>0</td>\n",
       "      <td>10</td>\n",
       "      <td>2</td>\n",
       "    </tr>\n",
       "    <tr>\n",
       "      <th>1</th>\n",
       "      <td>1</td>\n",
       "      <td>241.621088</td>\n",
       "      <td>139.500000</td>\n",
       "      <td>7.576231</td>\n",
       "      <td>2_turbine_240_degrees_279.0_meters</td>\n",
       "      <td>1</td>\n",
       "      <td>10</td>\n",
       "      <td>2</td>\n",
       "    </tr>\n",
       "    <tr>\n",
       "      <th>2</th>\n",
       "      <td>0</td>\n",
       "      <td>0.000000</td>\n",
       "      <td>0.000000</td>\n",
       "      <td>7.473602</td>\n",
       "      <td>2_turbine_241_degrees_279.0_meters</td>\n",
       "      <td>0</td>\n",
       "      <td>10</td>\n",
       "      <td>2</td>\n",
       "    </tr>\n",
       "    <tr>\n",
       "      <th>3</th>\n",
       "      <td>1</td>\n",
       "      <td>244.018898</td>\n",
       "      <td>135.261884</td>\n",
       "      <td>7.567527</td>\n",
       "      <td>2_turbine_241_degrees_279.0_meters</td>\n",
       "      <td>1</td>\n",
       "      <td>10</td>\n",
       "      <td>2</td>\n",
       "    </tr>\n",
       "    <tr>\n",
       "      <th>4</th>\n",
       "      <td>0</td>\n",
       "      <td>0.000000</td>\n",
       "      <td>0.000000</td>\n",
       "      <td>7.467848</td>\n",
       "      <td>2_turbine_242_degrees_279.0_meters</td>\n",
       "      <td>0</td>\n",
       "      <td>10</td>\n",
       "      <td>2</td>\n",
       "    </tr>\n",
       "    <tr>\n",
       "      <th>...</th>\n",
       "      <td>...</td>\n",
       "      <td>...</td>\n",
       "      <td>...</td>\n",
       "      <td>...</td>\n",
       "      <td>...</td>\n",
       "      <td>...</td>\n",
       "      <td>...</td>\n",
       "      <td>...</td>\n",
       "    </tr>\n",
       "    <tr>\n",
       "      <th>8519</th>\n",
       "      <td>1</td>\n",
       "      <td>3160.683672</td>\n",
       "      <td>-51.000000</td>\n",
       "      <td>12.547255</td>\n",
       "      <td>3_turbine_98th_simulation</td>\n",
       "      <td>1</td>\n",
       "      <td>14</td>\n",
       "      <td>3</td>\n",
       "    </tr>\n",
       "    <tr>\n",
       "      <th>8520</th>\n",
       "      <td>2</td>\n",
       "      <td>63.133465</td>\n",
       "      <td>-513.000000</td>\n",
       "      <td>12.647108</td>\n",
       "      <td>3_turbine_98th_simulation</td>\n",
       "      <td>2</td>\n",
       "      <td>14</td>\n",
       "      <td>3</td>\n",
       "    </tr>\n",
       "    <tr>\n",
       "      <th>8521</th>\n",
       "      <td>0</td>\n",
       "      <td>0.000000</td>\n",
       "      <td>0.000000</td>\n",
       "      <td>12.651578</td>\n",
       "      <td>3_turbine_99th_simulation</td>\n",
       "      <td>0</td>\n",
       "      <td>14</td>\n",
       "      <td>3</td>\n",
       "    </tr>\n",
       "    <tr>\n",
       "      <th>8522</th>\n",
       "      <td>1</td>\n",
       "      <td>3713.677934</td>\n",
       "      <td>-296.000000</td>\n",
       "      <td>12.787622</td>\n",
       "      <td>3_turbine_99th_simulation</td>\n",
       "      <td>1</td>\n",
       "      <td>14</td>\n",
       "      <td>3</td>\n",
       "    </tr>\n",
       "    <tr>\n",
       "      <th>8523</th>\n",
       "      <td>2</td>\n",
       "      <td>480.964173</td>\n",
       "      <td>-119.000000</td>\n",
       "      <td>12.655325</td>\n",
       "      <td>3_turbine_99th_simulation</td>\n",
       "      <td>2</td>\n",
       "      <td>14</td>\n",
       "      <td>3</td>\n",
       "    </tr>\n",
       "  </tbody>\n",
       "</table>\n",
       "<p>8524 rows × 8 columns</p>\n",
       "</div>"
      ],
      "text/plain": [
       "      index      x_coord     y_coord  ref_wind_speed  \\\n",
       "0         0     0.000000    0.000000        7.479762   \n",
       "1         1   241.621088  139.500000        7.576231   \n",
       "2         0     0.000000    0.000000        7.473602   \n",
       "3         1   244.018898  135.261884        7.567527   \n",
       "4         0     0.000000    0.000000        7.467848   \n",
       "...     ...          ...         ...             ...   \n",
       "8519      1  3160.683672  -51.000000       12.547255   \n",
       "8520      2    63.133465 -513.000000       12.647108   \n",
       "8521      0     0.000000    0.000000       12.651578   \n",
       "8522      1  3713.677934 -296.000000       12.787622   \n",
       "8523      2   480.964173 -119.000000       12.655325   \n",
       "\n",
       "                                      id  turb_num  wind_speed  Num_tot_turb  \n",
       "0     2_turbine_240_degrees_279.0_meters         0          10             2  \n",
       "1     2_turbine_240_degrees_279.0_meters         1          10             2  \n",
       "2     2_turbine_241_degrees_279.0_meters         0          10             2  \n",
       "3     2_turbine_241_degrees_279.0_meters         1          10             2  \n",
       "4     2_turbine_242_degrees_279.0_meters         0          10             2  \n",
       "...                                  ...       ...         ...           ...  \n",
       "8519           3_turbine_98th_simulation         1          14             3  \n",
       "8520           3_turbine_98th_simulation         2          14             3  \n",
       "8521           3_turbine_99th_simulation         0          14             3  \n",
       "8522           3_turbine_99th_simulation         1          14             3  \n",
       "8523           3_turbine_99th_simulation         2          14             3  \n",
       "\n",
       "[8524 rows x 8 columns]"
      ]
     },
     "execution_count": 16,
     "metadata": {},
     "output_type": "execute_result"
    }
   ],
   "source": [
    "dataset=dataset.reset_index()\n",
    "dataset"
   ]
  },
  {
   "cell_type": "code",
   "execution_count": 17,
   "id": "cf194f85",
   "metadata": {},
   "outputs": [
    {
     "name": "stdout",
     "output_type": "stream",
     "text": [
      "      index      x_coord     y_coord  ref_wind_speed  \\\n",
      "0         0     0.000000    0.000000        7.479762   \n",
      "1         1   241.621088  139.500000        7.576231   \n",
      "2         0     0.000000    0.000000        7.473602   \n",
      "3         1   244.018898  135.261884        7.567527   \n",
      "4         0     0.000000    0.000000        7.467848   \n",
      "...     ...          ...         ...             ...   \n",
      "8519      1  3160.683672  -51.000000       12.547255   \n",
      "8520      2    63.133465 -513.000000       12.647108   \n",
      "8521      0     0.000000    0.000000       12.651578   \n",
      "8522      1  3713.677934 -296.000000       12.787622   \n",
      "8523      2   480.964173 -119.000000       12.655325   \n",
      "\n",
      "                                      id  turb_num  wind_speed  Num_tot_turb  \\\n",
      "0     2_turbine_240_degrees_279.0_meters         0          10             2   \n",
      "1     2_turbine_240_degrees_279.0_meters         1          10             2   \n",
      "2     2_turbine_241_degrees_279.0_meters         0          10             2   \n",
      "3     2_turbine_241_degrees_279.0_meters         1          10             2   \n",
      "4     2_turbine_242_degrees_279.0_meters         0          10             2   \n",
      "...                                  ...       ...         ...           ...   \n",
      "8519           3_turbine_98th_simulation         1          14             3   \n",
      "8520           3_turbine_98th_simulation         2          14             3   \n",
      "8521           3_turbine_99th_simulation         0          14             3   \n",
      "8522           3_turbine_99th_simulation         1          14             3   \n",
      "8523           3_turbine_99th_simulation         2          14             3   \n",
      "\n",
      "       IDnum  \n",
      "0        0.0  \n",
      "1        0.0  \n",
      "2        1.0  \n",
      "3        1.0  \n",
      "4        2.0  \n",
      "...      ...  \n",
      "8519  3770.0  \n",
      "8520  3770.0  \n",
      "8521  3771.0  \n",
      "8522  3771.0  \n",
      "8523  3771.0  \n",
      "\n",
      "[8524 rows x 9 columns]\n"
     ]
    },
    {
     "name": "stderr",
     "output_type": "stream",
     "text": [
      "/var/folders/gr/z6l2h7kd4136nf0xqdtls40w0000gn/T/ipykernel_3083/2661450769.py:4: DeprecationWarning: The default dtype for empty Series will be 'object' instead of 'float64' in a future version. Specify a dtype explicitly to silence this warning.\n",
      "  dataset[\"IDnum\"]=pd.Series()\n"
     ]
    }
   ],
   "source": [
    "symbol=\"Siemens\"\n",
    "k=0\n",
    "count=0\n",
    "dataset[\"IDnum\"]=pd.Series()\n",
    "for i in range(len(dataset)):\n",
    "    dataset.at[i,\"IDnum\"]=k\n",
    "    count = count +1\n",
    "    if (count==dataset[\"Num_tot_turb\"].iloc[i]):\n",
    "        k=k+1\n",
    "        count=0\n",
    "print(dataset)\n",
    "dataset[\"Num_tot_turb\"]=dataset[\"Num_tot_turb\"].astype(int)\n",
    "dataset[\"turb_num\"]=dataset[\"turb_num\"].astype(int)\n",
    "dataset[\"IDnum\"]=dataset[\"IDnum\"].astype(int)\n",
    "numsims=dataset[\"IDnum\"].iloc[-1]+1\n",
    "turb = [symbol]"
   ]
  },
  {
   "cell_type": "code",
   "execution_count": null,
   "id": "c4cc41f0",
   "metadata": {},
   "outputs": [],
   "source": [
    "k=0\n",
    "count=0\n",
    "dataset[\"IDnum\"]=pd.Series()\n",
    "for i in range(len(dataset)):\n",
    "    dataset.at[i,\"IDnum\"]=k\n",
    "    count = count +1\n",
    "    if (count==dataset[\"Num_tot_turb\"].iloc[i]):\n",
    "        k=k+1\n",
    "        count=0"
   ]
  },
  {
   "cell_type": "code",
   "execution_count": 18,
   "id": "1b8adfa5",
   "metadata": {},
   "outputs": [],
   "source": [
    "dataset_full=dataset.drop(['id','turb_num'], axis=1)"
   ]
  },
  {
   "cell_type": "code",
   "execution_count": 19,
   "id": "e6d9a8a0",
   "metadata": {},
   "outputs": [
    {
     "data": {
      "text/html": [
       "<div>\n",
       "<style scoped>\n",
       "    .dataframe tbody tr th:only-of-type {\n",
       "        vertical-align: middle;\n",
       "    }\n",
       "\n",
       "    .dataframe tbody tr th {\n",
       "        vertical-align: top;\n",
       "    }\n",
       "\n",
       "    .dataframe thead th {\n",
       "        text-align: right;\n",
       "    }\n",
       "</style>\n",
       "<table border=\"1\" class=\"dataframe\">\n",
       "  <thead>\n",
       "    <tr style=\"text-align: right;\">\n",
       "      <th></th>\n",
       "      <th>index</th>\n",
       "      <th>x_coord</th>\n",
       "      <th>y_coord</th>\n",
       "      <th>ref_wind_speed</th>\n",
       "      <th>wind_speed</th>\n",
       "      <th>Num_tot_turb</th>\n",
       "      <th>IDnum</th>\n",
       "    </tr>\n",
       "  </thead>\n",
       "  <tbody>\n",
       "    <tr>\n",
       "      <th>0</th>\n",
       "      <td>0</td>\n",
       "      <td>0.000000</td>\n",
       "      <td>0.000000</td>\n",
       "      <td>7.479762</td>\n",
       "      <td>10</td>\n",
       "      <td>2</td>\n",
       "      <td>0</td>\n",
       "    </tr>\n",
       "    <tr>\n",
       "      <th>1</th>\n",
       "      <td>1</td>\n",
       "      <td>241.621088</td>\n",
       "      <td>139.500000</td>\n",
       "      <td>7.576231</td>\n",
       "      <td>10</td>\n",
       "      <td>2</td>\n",
       "      <td>0</td>\n",
       "    </tr>\n",
       "    <tr>\n",
       "      <th>2</th>\n",
       "      <td>0</td>\n",
       "      <td>0.000000</td>\n",
       "      <td>0.000000</td>\n",
       "      <td>7.473602</td>\n",
       "      <td>10</td>\n",
       "      <td>2</td>\n",
       "      <td>1</td>\n",
       "    </tr>\n",
       "    <tr>\n",
       "      <th>3</th>\n",
       "      <td>1</td>\n",
       "      <td>244.018898</td>\n",
       "      <td>135.261884</td>\n",
       "      <td>7.567527</td>\n",
       "      <td>10</td>\n",
       "      <td>2</td>\n",
       "      <td>1</td>\n",
       "    </tr>\n",
       "    <tr>\n",
       "      <th>4</th>\n",
       "      <td>0</td>\n",
       "      <td>0.000000</td>\n",
       "      <td>0.000000</td>\n",
       "      <td>7.467848</td>\n",
       "      <td>10</td>\n",
       "      <td>2</td>\n",
       "      <td>2</td>\n",
       "    </tr>\n",
       "    <tr>\n",
       "      <th>...</th>\n",
       "      <td>...</td>\n",
       "      <td>...</td>\n",
       "      <td>...</td>\n",
       "      <td>...</td>\n",
       "      <td>...</td>\n",
       "      <td>...</td>\n",
       "      <td>...</td>\n",
       "    </tr>\n",
       "    <tr>\n",
       "      <th>8519</th>\n",
       "      <td>1</td>\n",
       "      <td>3160.683672</td>\n",
       "      <td>-51.000000</td>\n",
       "      <td>12.547255</td>\n",
       "      <td>14</td>\n",
       "      <td>3</td>\n",
       "      <td>3770</td>\n",
       "    </tr>\n",
       "    <tr>\n",
       "      <th>8520</th>\n",
       "      <td>2</td>\n",
       "      <td>63.133465</td>\n",
       "      <td>-513.000000</td>\n",
       "      <td>12.647108</td>\n",
       "      <td>14</td>\n",
       "      <td>3</td>\n",
       "      <td>3770</td>\n",
       "    </tr>\n",
       "    <tr>\n",
       "      <th>8521</th>\n",
       "      <td>0</td>\n",
       "      <td>0.000000</td>\n",
       "      <td>0.000000</td>\n",
       "      <td>12.651578</td>\n",
       "      <td>14</td>\n",
       "      <td>3</td>\n",
       "      <td>3771</td>\n",
       "    </tr>\n",
       "    <tr>\n",
       "      <th>8522</th>\n",
       "      <td>1</td>\n",
       "      <td>3713.677934</td>\n",
       "      <td>-296.000000</td>\n",
       "      <td>12.787622</td>\n",
       "      <td>14</td>\n",
       "      <td>3</td>\n",
       "      <td>3771</td>\n",
       "    </tr>\n",
       "    <tr>\n",
       "      <th>8523</th>\n",
       "      <td>2</td>\n",
       "      <td>480.964173</td>\n",
       "      <td>-119.000000</td>\n",
       "      <td>12.655325</td>\n",
       "      <td>14</td>\n",
       "      <td>3</td>\n",
       "      <td>3771</td>\n",
       "    </tr>\n",
       "  </tbody>\n",
       "</table>\n",
       "<p>8524 rows × 7 columns</p>\n",
       "</div>"
      ],
      "text/plain": [
       "      index      x_coord     y_coord  ref_wind_speed  wind_speed  \\\n",
       "0         0     0.000000    0.000000        7.479762          10   \n",
       "1         1   241.621088  139.500000        7.576231          10   \n",
       "2         0     0.000000    0.000000        7.473602          10   \n",
       "3         1   244.018898  135.261884        7.567527          10   \n",
       "4         0     0.000000    0.000000        7.467848          10   \n",
       "...     ...          ...         ...             ...         ...   \n",
       "8519      1  3160.683672  -51.000000       12.547255          14   \n",
       "8520      2    63.133465 -513.000000       12.647108          14   \n",
       "8521      0     0.000000    0.000000       12.651578          14   \n",
       "8522      1  3713.677934 -296.000000       12.787622          14   \n",
       "8523      2   480.964173 -119.000000       12.655325          14   \n",
       "\n",
       "      Num_tot_turb  IDnum  \n",
       "0                2      0  \n",
       "1                2      0  \n",
       "2                2      1  \n",
       "3                2      1  \n",
       "4                2      2  \n",
       "...            ...    ...  \n",
       "8519             3   3770  \n",
       "8520             3   3770  \n",
       "8521             3   3771  \n",
       "8522             3   3771  \n",
       "8523             3   3771  \n",
       "\n",
       "[8524 rows x 7 columns]"
      ]
     },
     "execution_count": 19,
     "metadata": {},
     "output_type": "execute_result"
    }
   ],
   "source": [
    "dataset_full"
   ]
  },
  {
   "cell_type": "code",
   "execution_count": 21,
   "id": "0779d24a",
   "metadata": {},
   "outputs": [
    {
     "data": {
      "text/plain": [
       "0.0"
      ]
     },
     "execution_count": 21,
     "metadata": {},
     "output_type": "execute_result"
    }
   ],
   "source": [
    "dataset_full[\"x_coord\"].iloc[0]"
   ]
  },
  {
   "cell_type": "code",
   "execution_count": 20,
   "id": "06f9248a",
   "metadata": {},
   "outputs": [],
   "source": [
    "import three_desc_model as exponential_new\n",
    "from cutoffs import Polynomial\n",
    "import matplotlib.pyplot as plt\n",
    "import GPy\n",
    "from IPython.display import display\n",
    "symbol=\"Siemens\"\n",
    "turb = [symbol]"
   ]
  },
  {
   "cell_type": "code",
   "execution_count": 21,
   "id": "fc5c8ea3",
   "metadata": {},
   "outputs": [],
   "source": [
    "nl=exponential_new.NeighborlistCalculator(cutoff=4001,cone_grad=0.12582561117875557, cone_offset=72.24947126849844)\n",
    "Gs = {\"Siemens\": [{\"type\":\"G2\", \"turbine\":\"Siemens\",\"eta\":4.25387599, \"offset\": 1.0151402},\n",
    "                  {\"type\":\"G4\", \"elements\":\"Siemens\",\"eta\":2.56450515, \"gamma\":8.04475192, \"zeta\": 2.5356155},\n",
    "                  {\"type\":\"G6\", \"elements\":\"Siemens\",\"eta\":2.33043463, \"gamma\": 0.50753377, \"zeta\": 0.93372721}\n",
    "                 ]}\n",
    "finpr=exponential_new.FingerprintCalculator(cutoff=4001,Gs=Gs,Rct=3000,delta_R=100,cone_grad=0.12582561117875557, cone_offset=72.24947126849844)\n",
    "count=0\n",
    "dataset_fp=np.empty(shape=(0, 3))\n",
    "dataset_rws=np.empty(shape=(0, 1))\n",
    "dataset_ws=np.empty(shape=(0, 1))\n",
    "dataset_pos=np.empty(shape=(0, 2))\n",
    "for i in range(numsims):\n",
    "    numturb=dataset_full[\"Num_tot_turb\"].iloc[count]\n",
    "    position = np.empty((numturb,2))\n",
    "    rws = np.empty((numturb,1))\n",
    "    ws = np.empty((numturb,1))\n",
    "    fp = np.empty((numturb,3))\n",
    "    for k in range(numturb):\n",
    "        position[k,0]=dataset_full[\"x_coord\"].iloc[count]#dataset_full.at[count,\"x_coord\"]\n",
    "        position[k,1]=dataset_full[\"y_coord\"].iloc[count]#dataset_full.at[count,\"y_coord\"]\n",
    "        rws[k,0]=dataset_full[\"ref_wind_speed\"].iloc[count]#dataset_full.at[count,\"ref_wind_speed\"]\n",
    "        ws[k,0]=dataset_full[\"wind_speed\"].iloc[count]#dataset_full.at[count,\"wind_speed\"]\n",
    "        count = count+ 1\n",
    "    neigh=nl.calculate(turb*numturb,position)\n",
    "    fingerprints=finpr.calculate(turb*numturb,position,neigh,symbol)\n",
    "    fingerprints=np.array(fingerprints)\n",
    "    dataset_fp=np.append(dataset_fp,fingerprints,axis=0)\n",
    "    dataset_rws=np.append(dataset_rws,rws,axis=0)\n",
    "    dataset_ws=np.append(dataset_ws,ws,axis=0)\n",
    "    dataset_pos=np.append(dataset_pos,position,axis=0)\n",
    "dataset=np.concatenate((dataset_fp, dataset_ws, dataset_rws),axis=1)\n",
    "dataset = pd.DataFrame(dataset, columns = ['Fingerprint(G2)','Fingerprint(G4)','Fingerprint(G6)','Wind_Speed','Ref_Wind_Speed'])\n",
    "X=dataset[[\"Fingerprint(G2)\",\"Fingerprint(G4)\",\"Fingerprint(G6)\",\"Wind_Speed\"]].to_numpy()\n",
    "Y=dataset[[\"Ref_Wind_Speed\"]].to_numpy()\n",
    "train_dataset = dataset.sample(frac=0.8, random_state=0)\n",
    "test_dataset = dataset.drop(train_dataset.index)\n",
    "Xtrain=train_dataset[[\"Fingerprint(G2)\",\"Fingerprint(G4)\",\"Fingerprint(G6)\",\"Wind_Speed\"]].to_numpy()\n",
    "Ytrain=train_dataset[[\"Ref_Wind_Speed\"]].to_numpy()\n",
    "Xtest=test_dataset[[\"Fingerprint(G2)\",\"Fingerprint(G4)\",\"Fingerprint(G6)\",\"Wind_Speed\"]].to_numpy()\n",
    "Ytest=test_dataset[[\"Ref_Wind_Speed\"]].to_numpy()"
   ]
  },
  {
   "cell_type": "code",
   "execution_count": 22,
   "id": "14fa796f",
   "metadata": {},
   "outputs": [],
   "source": [
    "# define kernel\n",
    "ker = GPy.kern.RBF(4,lengthscale=0.1, ARD=True)# + GPy.kern.White(2)"
   ]
  },
  {
   "cell_type": "code",
   "execution_count": 23,
   "id": "c0c5fdb7",
   "metadata": {},
   "outputs": [],
   "source": [
    "# create simple GP model\n",
    "m = GPy.models.GPRegression(Xtrain,Ytrain,ker)"
   ]
  },
  {
   "cell_type": "code",
   "execution_count": 24,
   "id": "33bfe91f",
   "metadata": {},
   "outputs": [
    {
     "data": {
      "application/vnd.jupyter.widget-view+json": {
       "model_id": "b18ea2e78d744cc98ba102cec5c55a22",
       "version_major": 2,
       "version_minor": 0
      },
      "text/plain": [
       "HBox(children=(VBox(children=(IntProgress(value=0, max=1000), HTML(value=''))), Box(children=(HTML(value=''),)…"
      ]
     },
     "metadata": {},
     "output_type": "display_data"
    },
    {
     "data": {
      "text/html": [
       "<style type=\"text/css\">\n",
       ".pd{\n",
       "    font-family: \"Courier New\", Courier, monospace !important;\n",
       "    width: 100%;\n",
       "    padding: 3px;\n",
       "}\n",
       "</style>\n",
       "\n",
       "<p class=pd>\n",
       "<b>Model</b>: GP regression<br>\n",
       "<b>Objective</b>: -7859.018549110293<br>\n",
       "<b>Number of Parameters</b>: 6<br>\n",
       "<b>Number of Optimization Parameters</b>: 6<br>\n",
       "<b>Updates</b>: True<br>\n",
       "</p>\n",
       "<style type=\"text/css\">\n",
       ".tg  {font-family:\"Courier New\", Courier, monospace !important;padding:2px 3px;word-break:normal;border-collapse:collapse;border-spacing:0;border-color:#DCDCDC;margin:0px auto;width:100%;}\n",
       ".tg td{font-family:\"Courier New\", Courier, monospace !important;font-weight:bold;color:#444;background-color:#F7FDFA;border-style:solid;border-width:1px;overflow:hidden;word-break:normal;border-color:#DCDCDC;}\n",
       ".tg th{font-family:\"Courier New\", Courier, monospace !important;font-weight:normal;color:#fff;background-color:#26ADE4;border-style:solid;border-width:1px;overflow:hidden;word-break:normal;border-color:#DCDCDC;}\n",
       ".tg .tg-left{font-family:\"Courier New\", Courier, monospace !important;font-weight:normal;text-align:left;}\n",
       ".tg .tg-center{font-family:\"Courier New\", Courier, monospace !important;font-weight:normal;text-align:center;}\n",
       ".tg .tg-right{font-family:\"Courier New\", Courier, monospace !important;font-weight:normal;text-align:right;}\n",
       "</style>\n",
       "<table class=\"tg\"><tr><th><b>  GP_regression.         </b></th><th><b>               value</b></th><th><b>constraints</b></th><th><b>priors</b></th></tr>\n",
       "<tr><td class=tg-left>  rbf.variance           </td><td class=tg-right>   47.40301085098342</td><td class=tg-center>    +ve    </td><td class=tg-center>      </td></tr>\n",
       "<tr><td class=tg-left>  rbf.lengthscale        </td><td class=tg-right>                (4,)</td><td class=tg-center>    +ve    </td><td class=tg-center>      </td></tr>\n",
       "<tr><td class=tg-left>  Gaussian_noise.variance</td><td class=tg-right>0.004891627888363137</td><td class=tg-center>    +ve    </td><td class=tg-center>      </td></tr>\n",
       "</table>"
      ],
      "text/plain": [
       "<GPy.models.gp_regression.GPRegression at 0x133a5cb50>"
      ]
     },
     "metadata": {},
     "output_type": "display_data"
    }
   ],
   "source": [
    "# optimize and plot\n",
    "m.optimize(messages=True,max_f_eval = 1000)\n",
    "#fig = m.plot()\n",
    "#display(GPy.plotting.show(fig, filename='basic_gp_regression_notebook_2d'))\n",
    "display(m)"
   ]
  },
  {
   "cell_type": "code",
   "execution_count": 25,
   "id": "a0db1e94",
   "metadata": {},
   "outputs": [
    {
     "name": "stdout",
     "output_type": "stream",
     "text": [
      "\n",
      "Name : GP regression\n",
      "Objective : -7859.018549110293\n",
      "Number of Parameters : 6\n",
      "Number of Optimization Parameters : 6\n",
      "Updates : True\n",
      "Parameters:\n",
      "  \u001b[1mGP_regression.         \u001b[0;0m  |                 value  |  constraints  |  priors\n",
      "  \u001b[1mrbf.variance           \u001b[0;0m  |     47.40301085098342  |      +ve      |        \n",
      "  \u001b[1mrbf.lengthscale        \u001b[0;0m  |                  (4,)  |      +ve      |        \n",
      "  \u001b[1mGaussian_noise.variance\u001b[0;0m  |  0.004891627888363137  |      +ve      |        \n"
     ]
    }
   ],
   "source": [
    "print(m)"
   ]
  },
  {
   "cell_type": "code",
   "execution_count": 26,
   "id": "1056ebcd",
   "metadata": {},
   "outputs": [
    {
     "ename": "TypeError",
     "evalue": "calculated free_dims [0 2 3] from visible_dims None and fixed_dims [1] is neither 1D nor 2D",
     "output_type": "error",
     "traceback": [
      "\u001b[0;31m---------------------------------------------------------------------------\u001b[0m",
      "\u001b[0;31mTypeError\u001b[0m                                 Traceback (most recent call last)",
      "\u001b[0;32m/var/folders/gr/z6l2h7kd4136nf0xqdtls40w0000gn/T/ipykernel_3083/41764423.py\u001b[0m in \u001b[0;36m<module>\u001b[0;34m\u001b[0m\n\u001b[1;32m      3\u001b[0m \u001b[0;34m\u001b[0m\u001b[0m\n\u001b[1;32m      4\u001b[0m \u001b[0;32mfor\u001b[0m \u001b[0mi\u001b[0m\u001b[0;34m,\u001b[0m \u001b[0my\u001b[0m \u001b[0;32min\u001b[0m \u001b[0mzip\u001b[0m\u001b[0;34m(\u001b[0m\u001b[0mrange\u001b[0m\u001b[0;34m(\u001b[0m\u001b[0;36m4\u001b[0m\u001b[0;34m)\u001b[0m\u001b[0;34m,\u001b[0m \u001b[0mslices\u001b[0m\u001b[0;34m)\u001b[0m\u001b[0;34m:\u001b[0m\u001b[0;34m\u001b[0m\u001b[0;34m\u001b[0m\u001b[0m\n\u001b[0;32m----> 5\u001b[0;31m     \u001b[0mcanvas\u001b[0m \u001b[0;34m=\u001b[0m \u001b[0mm\u001b[0m\u001b[0;34m.\u001b[0m\u001b[0mplot\u001b[0m\u001b[0;34m(\u001b[0m\u001b[0mfigure\u001b[0m\u001b[0;34m=\u001b[0m\u001b[0mfigure\u001b[0m\u001b[0;34m,\u001b[0m \u001b[0mfixed_inputs\u001b[0m\u001b[0;34m=\u001b[0m\u001b[0;34m[\u001b[0m\u001b[0;34m(\u001b[0m\u001b[0;36m1\u001b[0m\u001b[0;34m,\u001b[0m\u001b[0my\u001b[0m\u001b[0;34m)\u001b[0m\u001b[0;34m]\u001b[0m\u001b[0;34m,\u001b[0m \u001b[0mrow\u001b[0m\u001b[0;34m=\u001b[0m\u001b[0;34m(\u001b[0m\u001b[0mi\u001b[0m\u001b[0;34m+\u001b[0m\u001b[0;36m1\u001b[0m\u001b[0;34m)\u001b[0m\u001b[0;34m,\u001b[0m \u001b[0mplot_data\u001b[0m\u001b[0;34m=\u001b[0m\u001b[0;32mFalse\u001b[0m\u001b[0;34m)\u001b[0m\u001b[0;34m\u001b[0m\u001b[0;34m\u001b[0m\u001b[0m\n\u001b[0m\u001b[1;32m      6\u001b[0m \u001b[0;31m#GPy.plotting.show(canvas, filename='basic_gp_regression_notebook_slicing')\u001b[0m\u001b[0;34m\u001b[0m\u001b[0;34m\u001b[0m\u001b[0m\n",
      "\u001b[0;32m~/Library/Python/3.9/lib/python/site-packages/GPy/plotting/gpy_plot/gp_plots.py\u001b[0m in \u001b[0;36mplot\u001b[0;34m(self, plot_limits, fixed_inputs, resolution, plot_raw, apply_link, which_data_ycols, which_data_rows, visible_dims, levels, samples, samples_likelihood, lower, upper, plot_data, plot_inducing, plot_density, predict_kw, projection, legend, **kwargs)\u001b[0m\n\u001b[1;32m    322\u001b[0m     \"\"\"\n\u001b[1;32m    323\u001b[0m     \u001b[0mX\u001b[0m \u001b[0;34m=\u001b[0m \u001b[0mget_x_y_var\u001b[0m\u001b[0;34m(\u001b[0m\u001b[0mself\u001b[0m\u001b[0;34m)\u001b[0m\u001b[0;34m[\u001b[0m\u001b[0;36m0\u001b[0m\u001b[0;34m]\u001b[0m\u001b[0;34m\u001b[0m\u001b[0;34m\u001b[0m\u001b[0m\n\u001b[0;32m--> 324\u001b[0;31m     \u001b[0mhelper_data\u001b[0m \u001b[0;34m=\u001b[0m \u001b[0mhelper_for_plot_data\u001b[0m\u001b[0;34m(\u001b[0m\u001b[0mself\u001b[0m\u001b[0;34m,\u001b[0m \u001b[0mX\u001b[0m\u001b[0;34m,\u001b[0m \u001b[0mplot_limits\u001b[0m\u001b[0;34m,\u001b[0m \u001b[0mvisible_dims\u001b[0m\u001b[0;34m,\u001b[0m \u001b[0mfixed_inputs\u001b[0m\u001b[0;34m,\u001b[0m \u001b[0mresolution\u001b[0m\u001b[0;34m)\u001b[0m\u001b[0;34m\u001b[0m\u001b[0;34m\u001b[0m\u001b[0m\n\u001b[0m\u001b[1;32m    325\u001b[0m     \u001b[0mxmin\u001b[0m\u001b[0;34m,\u001b[0m \u001b[0mxmax\u001b[0m \u001b[0;34m=\u001b[0m \u001b[0mhelper_data\u001b[0m\u001b[0;34m[\u001b[0m\u001b[0;36m5\u001b[0m\u001b[0;34m:\u001b[0m\u001b[0;36m7\u001b[0m\u001b[0;34m]\u001b[0m\u001b[0;34m\u001b[0m\u001b[0;34m\u001b[0m\u001b[0m\n\u001b[1;32m    326\u001b[0m     \u001b[0mfree_dims\u001b[0m \u001b[0;34m=\u001b[0m \u001b[0mhelper_data\u001b[0m\u001b[0;34m[\u001b[0m\u001b[0;36m1\u001b[0m\u001b[0;34m]\u001b[0m\u001b[0;34m\u001b[0m\u001b[0;34m\u001b[0m\u001b[0m\n",
      "\u001b[0;32m~/Library/Python/3.9/lib/python/site-packages/GPy/plotting/gpy_plot/plot_util.py\u001b[0m in \u001b[0;36mhelper_for_plot_data\u001b[0;34m(self, X, plot_limits, visible_dims, fixed_inputs, resolution)\u001b[0m\n\u001b[1;32m    135\u001b[0m             \u001b[0mXgrid\u001b[0m\u001b[0;34m[\u001b[0m\u001b[0;34m:\u001b[0m\u001b[0;34m,\u001b[0m\u001b[0mi\u001b[0m\u001b[0;34m]\u001b[0m \u001b[0;34m=\u001b[0m \u001b[0mv\u001b[0m\u001b[0;34m\u001b[0m\u001b[0;34m\u001b[0m\u001b[0m\n\u001b[1;32m    136\u001b[0m     \u001b[0;32melse\u001b[0m\u001b[0;34m:\u001b[0m\u001b[0;34m\u001b[0m\u001b[0;34m\u001b[0m\u001b[0m\n\u001b[0;32m--> 137\u001b[0;31m         \u001b[0;32mraise\u001b[0m \u001b[0mTypeError\u001b[0m\u001b[0;34m(\u001b[0m\u001b[0;34m\"calculated free_dims {} from visible_dims {} and fixed_dims {} is neither 1D nor 2D\"\u001b[0m\u001b[0;34m.\u001b[0m\u001b[0mformat\u001b[0m\u001b[0;34m(\u001b[0m\u001b[0mfree_dims\u001b[0m\u001b[0;34m,\u001b[0m \u001b[0mvisible_dims\u001b[0m\u001b[0;34m,\u001b[0m \u001b[0mfixed_dims\u001b[0m\u001b[0;34m)\u001b[0m\u001b[0;34m)\u001b[0m\u001b[0;34m\u001b[0m\u001b[0;34m\u001b[0m\u001b[0m\n\u001b[0m\u001b[1;32m    138\u001b[0m     \u001b[0;32mreturn\u001b[0m \u001b[0mfixed_dims\u001b[0m\u001b[0;34m,\u001b[0m \u001b[0mfree_dims\u001b[0m\u001b[0;34m,\u001b[0m \u001b[0mXgrid\u001b[0m\u001b[0;34m,\u001b[0m \u001b[0mx\u001b[0m\u001b[0;34m,\u001b[0m \u001b[0my\u001b[0m\u001b[0;34m,\u001b[0m \u001b[0mxmin\u001b[0m\u001b[0;34m,\u001b[0m \u001b[0mxmax\u001b[0m\u001b[0;34m,\u001b[0m \u001b[0mresolution\u001b[0m\u001b[0;34m\u001b[0m\u001b[0;34m\u001b[0m\u001b[0m\n\u001b[1;32m    139\u001b[0m \u001b[0;34m\u001b[0m\u001b[0m\n",
      "\u001b[0;31mTypeError\u001b[0m: calculated free_dims [0 2 3] from visible_dims None and fixed_dims [1] is neither 1D nor 2D"
     ]
    },
    {
     "data": {
      "text/plain": [
       "<Figure size 432x288 with 0 Axes>"
      ]
     },
     "metadata": {},
     "output_type": "display_data"
    }
   ],
   "source": [
    "slices = [0.2, 0.5, 0.8, 1.0]\n",
    "figure = GPy.plotting.plotting_library().figure(4, 1)\n",
    "                            \n",
    "for i, y in zip(range(4), slices):\n",
    "    canvas = m.plot(figure=figure, fixed_inputs=[(1,y)], row=(i+1), plot_data=False)\n",
    "#GPy.plotting.show(canvas, filename='basic_gp_regression_notebook_slicing')"
   ]
  },
  {
   "cell_type": "code",
   "execution_count": 27,
   "id": "dead1b95",
   "metadata": {},
   "outputs": [
    {
     "data": {
      "text/plain": [
       "0.38778101136441734"
      ]
     },
     "execution_count": 27,
     "metadata": {},
     "output_type": "execute_result"
    }
   ],
   "source": [
    "[Ypred,Yvar]=m.predict(Xtest)\n",
    "error_test=np.abs(Ypred-Ytest)\n",
    "np.max(error_test)"
   ]
  },
  {
   "cell_type": "code",
   "execution_count": 28,
   "id": "087c6ad2",
   "metadata": {},
   "outputs": [
    {
     "data": {
      "text/plain": [
       "0.420994534040684"
      ]
     },
     "execution_count": 28,
     "metadata": {},
     "output_type": "execute_result"
    }
   ],
   "source": [
    "[Yval,Yvalvar]=m.predict(Xtrain)\n",
    "error_train=np.abs(Yval-Ytrain)\n",
    "np.max(error_train)"
   ]
  },
  {
   "cell_type": "code",
   "execution_count": 29,
   "id": "85082495",
   "metadata": {},
   "outputs": [
    {
     "data": {
      "text/plain": [
       "0.420994534040684"
      ]
     },
     "execution_count": 29,
     "metadata": {},
     "output_type": "execute_result"
    }
   ],
   "source": [
    "[Yall,Yallvar]=m.predict(X)\n",
    "error_all=np.abs(Yall-Y)\n",
    "np.max(error_all)"
   ]
  },
  {
   "cell_type": "code",
   "execution_count": 31,
   "id": "fac0c6b8",
   "metadata": {},
   "outputs": [
    {
     "data": {
      "text/plain": [
       "(array([[7.39548785],\n",
       "        [5.3030723 ]]),\n",
       " array([[0.00489659],\n",
       "        [0.00570419]]))"
      ]
     },
     "execution_count": 31,
     "metadata": {},
     "output_type": "execute_result"
    }
   ],
   "source": [
    "position=np.array([[0,0],[500,0]])\n",
    "neigh=nl.calculate(turb*2,position)\n",
    "#print(neigh)\n",
    "fingerprints=np.array(finpr.calculate(turb*2,position,neigh,symbol))\n",
    "test_data=np.append(fingerprints,[[10],[10]],axis=1)\n",
    "#print(test_data)\n",
    "m.predict(test_data)"
   ]
  },
  {
   "cell_type": "code",
   "execution_count": null,
   "id": "32483b5e",
   "metadata": {},
   "outputs": [],
   "source": [
    "dataset['Num_tot_turb']=2"
   ]
  },
  {
   "cell_type": "code",
   "execution_count": null,
   "id": "eef0413c",
   "metadata": {},
   "outputs": [],
   "source": [
    "dataset[\"Num_tot_turb\"].iloc[count]"
   ]
  },
  {
   "cell_type": "code",
   "execution_count": null,
   "id": "0ac816fd",
   "metadata": {},
   "outputs": [],
   "source": [
    "angle=270\n",
    "distance=4000  \n",
    "df=pd.read_csv('turbine_files/turbine_%sp00_10p00_report_%s.csv' %(angle,distance), sep=' ', header=None)\n",
    "df=df.tail(1)\n",
    "#df=pd.melt(df)\n",
    "#df=df.dropna()\n",
    "df\n",
    "float(df.iloc[0,62])\n",
    "#pd.DataFrame(df.iloc[0,62])"
   ]
  },
  {
   "cell_type": "code",
   "execution_count": null,
   "id": "d7eda334",
   "metadata": {},
   "outputs": [],
   "source": [
    "k=0\n",
    "count=0\n",
    "dataset[\"IDnum\"]=pd.Series()\n",
    "for i in range(len(dataset)):\n",
    "    dataset.at[i,\"IDnum\"]=k\n",
    "    #print(i,k,dataset[\"Num_tot_turb\"].iloc[i])\n",
    "    count = count +1\n",
    "    if (count==dataset[\"Num_tot_turb\"].iloc[i]):\n",
    "        k=k+1\n",
    "        count=0\n",
    "dataset[\"Num_tot_turb\"]=dataset[\"Num_tot_turb\"].astype(int)\n",
    "dataset[\"Turb_num\"]=dataset[\"Turb_num\"].astype(int)\n",
    "dataset[\"IDnum\"]=dataset[\"IDnum\"].astype(int)\n",
    "dataset"
   ]
  },
  {
   "cell_type": "code",
   "execution_count": null,
   "id": "9c5d08d4",
   "metadata": {},
   "outputs": [],
   "source": [
    "df=pd.read_csv('turbine_files/turbine_%sp00_10p00_report_%s.csv' %(angle,distance), sep=' ', header=None)\n",
    "df=df.tail(1)\n",
    "dataset=pd.Dataframe(float(df.iloc[0,53])"
   ]
  },
  {
   "cell_type": "code",
   "execution_count": null,
   "id": "5a9ddf3a",
   "metadata": {},
   "outputs": [],
   "source": [
    "df=pd.read_csv('turbine_files/3_turbine_latest/0.csv', sep=' ', header=None)"
   ]
  },
  {
   "cell_type": "code",
   "execution_count": null,
   "id": "5c4b5eec",
   "metadata": {},
   "outputs": [],
   "source": [
    "df=df.tail(1)"
   ]
  },
  {
   "cell_type": "code",
   "execution_count": null,
   "id": "e64248f2",
   "metadata": {},
   "outputs": [],
   "source": [
    "(df.dropna(axis='columns').T"
   ]
  },
  {
   "cell_type": "code",
   "execution_count": null,
   "id": "ebfaace2",
   "metadata": {},
   "outputs": [],
   "source": [
    "float(df.iloc[0,83])"
   ]
  },
  {
   "cell_type": "code",
   "execution_count": null,
   "id": "77d002c7",
   "metadata": {},
   "outputs": [],
   "source": []
  }
 ],
 "metadata": {
  "kernelspec": {
   "display_name": "Python 3 (ipykernel)",
   "language": "python",
   "name": "python3"
  },
  "language_info": {
   "codemirror_mode": {
    "name": "ipython",
    "version": 3
   },
   "file_extension": ".py",
   "mimetype": "text/x-python",
   "name": "python",
   "nbconvert_exporter": "python",
   "pygments_lexer": "ipython3",
   "version": "3.9.10"
  }
 },
 "nbformat": 4,
 "nbformat_minor": 5
}
