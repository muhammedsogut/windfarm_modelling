{
 "cells": [
  {
   "cell_type": "code",
   "execution_count": 1,
   "id": "8e1bb85d",
   "metadata": {},
   "outputs": [],
   "source": [
    "import exponential_new\n",
    "import numpy as np\n",
    "import random\n",
    "import os\n",
    "import random\n",
    "import pandas as pd\n",
    "nl=exponential_new.NeighborlistCalculator(cutoff=4001,ang_cutoff=np.pi/6.)\n",
    "turbs = [\"Siemens\"] *3\n",
    "Gs = {\"Siemens\": [{\"type\":\"G2\", \"turbine\":\"Siemens\",\"eta\":5.3, \"offset\": 1.},{\"type\":\"G4\", \"elements\":\"Siemens\",\"eta\":5., \"gamma\":6.05, \"zeta\":1.0}]}\n",
    "symbol=\"Siemens\"\n",
    "finpr=exponential_new.FingerprintCalculator(cutoff=4001,Gs=Gs)\n",
    "turbs = [\"Siemens\"] *3\n",
    "position=np.array([[0.,0.],[300.,500.],[-200.,100]])\n",
    "neigh=nl.calculate(turbs,position)"
   ]
  },
  {
   "cell_type": "code",
   "execution_count": 2,
   "id": "73be4fe4",
   "metadata": {},
   "outputs": [
    {
     "name": "stdout",
     "output_type": "stream",
     "text": [
      "Distance between second and third turbine is too low\n",
      "(2,) (2,)\n",
      "(2,) (2,)\n",
      "(2,) (2,)\n"
     ]
    }
   ],
   "source": [
    "pos=np.empty(shape=(0, 2))\n",
    "fps=np.empty(shape=(0, 2))\n",
    "k = 206\n",
    "while (k<207) :\n",
    "    x1=random.triangular(279, 4001, 279)\n",
    "    y1=random.randrange(-325, 0, 1)\n",
    "    x2=random.triangular(279, 4001, 279)\n",
    "    y2=random.randrange(-325, 0, 1)\n",
    "    position=np.array([[0.,0.],[x1,y1],[x2,y2]])\n",
    "\n",
    "    dist23 = np.linalg.norm(position[2]-position[1])\n",
    "    dist12 = np.linalg.norm(position[1]-position[0])\n",
    "    dist13 = np.linalg.norm(position[2]-position[0])\n",
    "\n",
    "    if(dist23<279):\n",
    "        print(\"Distance between second and third turbine is too low\")\n",
    "        continue\n",
    "    if(dist12<279):\n",
    "        print(\"Distance between first and second turbine is too low\")\n",
    "        continue\n",
    "    if(dist13<279):\n",
    "        print(\"Distance between first and third turbine is too low\")\n",
    "        continue\n",
    "    neigh=nl.calculate(turbs,position)\n",
    "\n",
    "    if len(neigh[1])<2 and len(neigh[2])<2 :\n",
    "        print(\"Second and third turbine have less then 2 neighboors\")\n",
    "        continue\n",
    "\n",
    "    #print(position)\n",
    "    #vector=position[1:2].flatten\n",
    "    #distnorm=np.linalg.norm(vector-prev_vec)\n",
    "    #if distnorm<threshold:\n",
    "    t0=np.array([(position[0][0]-2000),(position[0][1]+167.5)])\n",
    "    t1=np.array([(position[1][0]-2000),(position[1][1]+167.5)])\n",
    "    t2=np.array([(position[2][0]-2000),(position[2][1]+167.5)])\n",
    "    with open(r'snappyHexMeshDict_in', 'r') as file:\n",
    "        data = file.read()\n",
    "        data = data.replace('turbine0x', str(t0[0]))\n",
    "        data = data.replace('turbine0y', str(t0[1]))\n",
    "        data = data.replace('turbine1x', str(t1[0]))\n",
    "        data = data.replace('turbine1y', str(t1[1]))\n",
    "        data = data.replace('turbine2x', str(t2[0]))\n",
    "        data = data.replace('turbine2y', str(t2[1]))\n",
    "    with open(r'snappyHexMeshDict', 'w') as file:\n",
    "        file.write(data)\n",
    "    with open(r'xy_turbine_in.txt', 'r') as file:\n",
    "        data = file.read()\n",
    "        data = data.replace('turbine0x', str(t0[0]))\n",
    "        data = data.replace('turbine0y', str(t0[1]))\n",
    "        data = data.replace('turbine1x', str(t1[0]))\n",
    "        data = data.replace('turbine1y', str(t1[1]))\n",
    "        data = data.replace('turbine2x', str(t2[0]))\n",
    "        data = data.replace('turbine2y', str(t2[1]))\n",
    "    #with open(r'xy_turbine.txt', 'w') as file:\n",
    "        #file.write(data)\n",
    "    #exit_code = os.system('bash create_turbine_files_3_turbine.sh '+str(k))\n",
    "    #print(exit_code)\n",
    "    pos=np.concatenate((pos,position), axis=0)\n",
    "    fp=finpr.calculate(turbs,position,neigh,symbol)\n",
    "    \n",
    "    fp=np.array(fp)\n",
    "#    print(fp)\n",
    "    #if len(neigh[1])==2:\n",
    "    #    twoneighs = 1\n",
    "    #else:\n",
    "    #    twoneighs = 2\n",
    "    #for oldfp in fps:\n",
    "        #print(\"Oldfp: \",oldfp, \"Fp: \",fp[twoneighs])\n",
    "    #    fpdist = np.linalg.norm(oldfp-fp[twoneighs])\n",
    "        #print(\"fpdist: \",fpdist)\n",
    "#        if fp not in fps:\n",
    "    #fps=np.append(fps,fp[twoneighs:twoneighs+1],axis=0)\n",
    "    #print(fps)\n",
    "    #print(position)\n",
    "        #pos=np.append(pos,position,axis=0)\n",
    "    posf=position.flatten()\n",
    "    \n",
    "\n",
    "    #if k==0 :\n",
    "       # df=pd.DataFrame([posf], columns=['X0', 'Y0', 'X1', 'Y1', 'X2', 'Y2'])\n",
    "        #print(df)\n",
    "        #print('k=0')\n",
    "    #else:\n",
    "        #df = pd.read_csv('data.csv', index_col=0, header=0)\n",
    "        #print(df)\n",
    "        #df_new = pd.DataFrame([posf], columns=['X0', 'Y0', 'X1', 'Y1', 'X2', 'Y2'])\n",
    "        #df= pd.concat([df,df_new], axis=0, ignore_index=True)\n",
    "        #print(df)\n",
    "        #print(\"k=\",k)\n",
    "    #df.to_csv('data.csv')\n",
    "    k +=1"
   ]
  },
  {
   "cell_type": "code",
   "execution_count": 3,
   "id": "5bb65906",
   "metadata": {},
   "outputs": [
    {
     "data": {
      "text/plain": [
       "'3.9.10 (main, Jan 15 2022, 12:08:01) \\n[Clang 11.0.3 (clang-1103.0.32.62)]'"
      ]
     },
     "execution_count": 3,
     "metadata": {},
     "output_type": "execute_result"
    }
   ],
   "source": [
    "import sys\n",
    "sys.version"
   ]
  },
  {
   "cell_type": "code",
   "execution_count": 4,
   "id": "a600587e",
   "metadata": {},
   "outputs": [
    {
     "data": {
      "text/plain": [
       "array([[   0.        ,    0.        ],\n",
       "       [1319.84723988, -156.        ],\n",
       "       [1678.47179335, -243.        ]])"
      ]
     },
     "execution_count": 4,
     "metadata": {},
     "output_type": "execute_result"
    }
   ],
   "source": [
    "position"
   ]
  },
  {
   "cell_type": "code",
   "execution_count": null,
   "id": "89a69553",
   "metadata": {},
   "outputs": [],
   "source": []
  }
 ],
 "metadata": {
  "kernelspec": {
   "display_name": "Python 3 (ipykernel)",
   "language": "python",
   "name": "python3"
  },
  "language_info": {
   "codemirror_mode": {
    "name": "ipython",
    "version": 3
   },
   "file_extension": ".py",
   "mimetype": "text/x-python",
   "name": "python",
   "nbconvert_exporter": "python",
   "pygments_lexer": "ipython3",
   "version": "3.9.10"
  }
 },
 "nbformat": 4,
 "nbformat_minor": 5
}
