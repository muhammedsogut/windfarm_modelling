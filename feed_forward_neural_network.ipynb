{
 "cells": [
  {
   "cell_type": "code",
   "execution_count": 1,
   "metadata": {
    "colab": {
     "base_uri": "https://localhost:8080/"
    },
    "executionInfo": {
     "elapsed": 6132,
     "status": "ok",
     "timestamp": 1637598617273,
     "user": {
      "displayName": "Muhammed Nedim Söğüt",
      "photoUrl": "https://lh3.googleusercontent.com/a-/AOh14Gi7CHj6vsdvLbpZe4gviCH_RX4DfZaqg6OrfDwc=s64",
      "userId": "14768761371783583511"
     },
     "user_tz": 0
    },
    "id": "6O0xWu2E6O3-",
    "outputId": "2de923c8-f80d-4bd5-83a6-8fe14d470016"
   },
   "outputs": [],
   "source": [
    "import three_desc_model as exponential_new\n",
    "import numpy as np\n",
    "import pandas as pd\n",
    "from cutoffs import Polynomial\n",
    "import tensorflow as tf\n",
    "import matplotlib.pyplot as plt\n",
    "import keras\n",
    "from tensorflow.keras import layers\n",
    "from tensorflow.keras.layers.experimental import preprocessing\n",
    "turbs = [\"Siemens\"] *2\n",
    "turbs_3 = [\"Siemens\"] *3\n",
    "nl=exponential_new.NeighborlistCalculator(cutoff=4001,cone_grad=0.12582561117875557, cone_offset=72.24947126849844)\n",
    "Gs = {\"Siemens\": [{\"type\":\"G2\", \"turbine\":\"Siemens\",\"eta\":4.25387599, \"offset\": 1.0151402},\n",
    "                  {\"type\":\"G4\", \"elements\":\"Siemens\",\"eta\":2.56450515, \"gamma\":8.04475192, \"zeta\":2.5356155},\n",
    "                  {\"type\":\"G6\", \"elements\":\"Siemens\",\"eta\":2.33043463, \"gamma\":0.50753377, \"zeta\":0.93372721}\n",
    "                 ]}\n",
    "\n",
    "symbol=\"Siemens\"\n",
    "dataset_pos=np.empty(shape=(0, 2))\n",
    "dataset_fp=np.empty(shape=(0, 3))\n",
    "dataset_ws=np.empty(shape=(0, 1))"
   ]
  },
  {
   "cell_type": "code",
   "execution_count": 2,
   "metadata": {
    "executionInfo": {
     "elapsed": 12,
     "status": "ok",
     "timestamp": 1637598617274,
     "user": {
      "displayName": "Muhammed Nedim Söğüt",
      "photoUrl": "https://lh3.googleusercontent.com/a-/AOh14Gi7CHj6vsdvLbpZe4gviCH_RX4DfZaqg6OrfDwc=s64",
      "userId": "14768761371783583511"
     },
     "user_tz": 0
    },
    "id": "pXjmmtRt8oYX"
   },
   "outputs": [],
   "source": [
    "def plot_loss(history):\n",
    "    plt.plot(history.history['loss'], label='loss')\n",
    "    plt.plot(history.history['val_loss'], label='val_loss')\n",
    "    plt.ylim([0, 8])\n",
    "    plt.xlabel('Epoch')\n",
    "    plt.ylabel('Error [ref_wind_speed]')\n",
    "    plt.legend()\n",
    "    plt.grid(True)"
   ]
  },
  {
   "cell_type": "code",
   "execution_count": 3,
   "metadata": {
    "executionInfo": {
     "elapsed": 8,
     "status": "ok",
     "timestamp": 1637598617275,
     "user": {
      "displayName": "Muhammed Nedim Söğüt",
      "photoUrl": "https://lh3.googleusercontent.com/a-/AOh14Gi7CHj6vsdvLbpZe4gviCH_RX4DfZaqg6OrfDwc=s64",
      "userId": "14768761371783583511"
     },
     "user_tz": 0
    },
    "id": "C_YDpv2P-_jQ"
   },
   "outputs": [],
   "source": [
    "def build_and_compile_model(norm):\n",
    "    model = keras.Sequential([\n",
    "        norm,\n",
    "        layers.Dense(64, activation='relu'),\n",
    "        layers.Dense(64, activation='relu'),\n",
    "        layers.Dense(32, activation='relu'),\n",
    "        layers.Dense(16, activation='relu'),\n",
    "        layers.Dense(1)\n",
    "    ])\n",
    "    model.compile(loss='mean_absolute_error', optimizer=tf.keras.optimizers.Adam(0.001))\n",
    "    return model"
   ]
  },
  {
   "cell_type": "code",
   "execution_count": 7,
   "metadata": {},
   "outputs": [
    {
     "ename": "KeyError",
     "evalue": "0",
     "output_type": "error",
     "traceback": [
      "\u001b[0;31m---------------------------------------------------------------------------\u001b[0m",
      "\u001b[0;31mKeyError\u001b[0m                                  Traceback (most recent call last)",
      "\u001b[0;32m/var/folders/gr/z6l2h7kd4136nf0xqdtls40w0000gn/T/ipykernel_1387/3040415969.py\u001b[0m in \u001b[0;36m<module>\u001b[0;34m\u001b[0m\n\u001b[1;32m      2\u001b[0m \u001b[0;32mfor\u001b[0m \u001b[0mi\u001b[0m \u001b[0;32min\u001b[0m \u001b[0mrange\u001b[0m\u001b[0;34m(\u001b[0m\u001b[0mlen\u001b[0m\u001b[0;34m(\u001b[0m\u001b[0mthree_turb_dataset\u001b[0m\u001b[0;34m)\u001b[0m\u001b[0;34m)\u001b[0m\u001b[0;34m:\u001b[0m\u001b[0;34m\u001b[0m\u001b[0;34m\u001b[0m\u001b[0m\n\u001b[1;32m      3\u001b[0m     \u001b[0mid_dataset\u001b[0m \u001b[0;34m=\u001b[0m \u001b[0mthree_turb_dataset\u001b[0m\u001b[0;34m.\u001b[0m\u001b[0mloc\u001b[0m\u001b[0;34m[\u001b[0m\u001b[0mthree_turb_dataset\u001b[0m\u001b[0;34m[\u001b[0m\u001b[0;34m'ID'\u001b[0m\u001b[0;34m]\u001b[0m \u001b[0;34m==\u001b[0m \u001b[0mi\u001b[0m\u001b[0;34m]\u001b[0m\u001b[0;34m.\u001b[0m\u001b[0mreset_index\u001b[0m\u001b[0;34m(\u001b[0m\u001b[0mdrop\u001b[0m\u001b[0;34m=\u001b[0m\u001b[0;32mTrue\u001b[0m\u001b[0;34m)\u001b[0m\u001b[0;34m\u001b[0m\u001b[0;34m\u001b[0m\u001b[0m\n\u001b[0;32m----> 4\u001b[0;31m     \u001b[0mposition\u001b[0m \u001b[0;34m=\u001b[0m \u001b[0mnp\u001b[0m\u001b[0;34m.\u001b[0m\u001b[0marray\u001b[0m\u001b[0;34m(\u001b[0m\u001b[0;34m[\u001b[0m\u001b[0;34m[\u001b[0m\u001b[0mid_dataset\u001b[0m\u001b[0;34m.\u001b[0m\u001b[0mat\u001b[0m\u001b[0;34m[\u001b[0m\u001b[0;36m0\u001b[0m\u001b[0;34m,\u001b[0m\u001b[0;34m\"X_coord\"\u001b[0m\u001b[0;34m]\u001b[0m\u001b[0;34m,\u001b[0m\u001b[0mid_dataset\u001b[0m\u001b[0;34m.\u001b[0m\u001b[0mat\u001b[0m\u001b[0;34m[\u001b[0m\u001b[0;36m0\u001b[0m\u001b[0;34m,\u001b[0m\u001b[0;34m\"Y_coord\"\u001b[0m\u001b[0;34m]\u001b[0m\u001b[0;34m]\u001b[0m\u001b[0;34m,\u001b[0m\u001b[0;34m[\u001b[0m\u001b[0mid_dataset\u001b[0m\u001b[0;34m.\u001b[0m\u001b[0mat\u001b[0m\u001b[0;34m[\u001b[0m\u001b[0;36m1\u001b[0m\u001b[0;34m,\u001b[0m\u001b[0;34m\"X_coord\"\u001b[0m\u001b[0;34m]\u001b[0m\u001b[0;34m,\u001b[0m\u001b[0mid_dataset\u001b[0m\u001b[0;34m.\u001b[0m\u001b[0mat\u001b[0m\u001b[0;34m[\u001b[0m\u001b[0;36m1\u001b[0m\u001b[0;34m,\u001b[0m\u001b[0;34m\"Y_coord\"\u001b[0m\u001b[0;34m]\u001b[0m\u001b[0;34m]\u001b[0m\u001b[0;34m,\u001b[0m\u001b[0;34m[\u001b[0m\u001b[0mid_dataset\u001b[0m\u001b[0;34m.\u001b[0m\u001b[0mat\u001b[0m\u001b[0;34m[\u001b[0m\u001b[0;36m2\u001b[0m\u001b[0;34m,\u001b[0m\u001b[0;34m\"X_coord\"\u001b[0m\u001b[0;34m]\u001b[0m\u001b[0;34m,\u001b[0m\u001b[0mid_dataset\u001b[0m\u001b[0;34m.\u001b[0m\u001b[0mat\u001b[0m\u001b[0;34m[\u001b[0m\u001b[0;36m2\u001b[0m\u001b[0;34m,\u001b[0m\u001b[0;34m\"Y_coord\"\u001b[0m\u001b[0;34m]\u001b[0m\u001b[0;34m]\u001b[0m\u001b[0;34m]\u001b[0m\u001b[0;34m)\u001b[0m\u001b[0;34m\u001b[0m\u001b[0;34m\u001b[0m\u001b[0m\n\u001b[0m\u001b[1;32m      5\u001b[0m     \u001b[0mws\u001b[0m \u001b[0;34m=\u001b[0m \u001b[0mnp\u001b[0m\u001b[0;34m.\u001b[0m\u001b[0marray\u001b[0m\u001b[0;34m(\u001b[0m\u001b[0;34m[\u001b[0m\u001b[0;34m[\u001b[0m\u001b[0mid_dataset\u001b[0m\u001b[0;34m.\u001b[0m\u001b[0mat\u001b[0m\u001b[0;34m[\u001b[0m\u001b[0;36m0\u001b[0m\u001b[0;34m,\u001b[0m\u001b[0;34m\"Ref_Wind_Speed\"\u001b[0m\u001b[0;34m]\u001b[0m\u001b[0;34m]\u001b[0m\u001b[0;34m,\u001b[0m \u001b[0;34m[\u001b[0m\u001b[0mid_dataset\u001b[0m\u001b[0;34m.\u001b[0m\u001b[0mat\u001b[0m\u001b[0;34m[\u001b[0m\u001b[0;36m1\u001b[0m\u001b[0;34m,\u001b[0m\u001b[0;34m\"Ref_Wind_Speed\"\u001b[0m\u001b[0;34m]\u001b[0m\u001b[0;34m]\u001b[0m\u001b[0;34m,\u001b[0m \u001b[0;34m[\u001b[0m\u001b[0mid_dataset\u001b[0m\u001b[0;34m.\u001b[0m\u001b[0mat\u001b[0m\u001b[0;34m[\u001b[0m\u001b[0;36m2\u001b[0m\u001b[0;34m,\u001b[0m\u001b[0;34m\"Ref_Wind_Speed\"\u001b[0m\u001b[0;34m]\u001b[0m\u001b[0;34m]\u001b[0m\u001b[0;34m]\u001b[0m\u001b[0;34m)\u001b[0m\u001b[0;34m\u001b[0m\u001b[0;34m\u001b[0m\u001b[0m\n\u001b[1;32m      6\u001b[0m     \u001b[0mneigh\u001b[0m\u001b[0;34m=\u001b[0m\u001b[0mnl\u001b[0m\u001b[0;34m.\u001b[0m\u001b[0mcalculate\u001b[0m\u001b[0;34m(\u001b[0m\u001b[0mturbs_3\u001b[0m\u001b[0;34m,\u001b[0m\u001b[0mposition\u001b[0m\u001b[0;34m)\u001b[0m\u001b[0;34m\u001b[0m\u001b[0;34m\u001b[0m\u001b[0m\n",
      "\u001b[0;32m/opt/local/Library/Frameworks/Python.framework/Versions/3.9/lib/python3.9/site-packages/pandas/core/indexing.py\u001b[0m in \u001b[0;36m__getitem__\u001b[0;34m(self, key)\u001b[0m\n\u001b[1;32m   2273\u001b[0m             \u001b[0;32mreturn\u001b[0m \u001b[0mself\u001b[0m\u001b[0;34m.\u001b[0m\u001b[0mobj\u001b[0m\u001b[0;34m.\u001b[0m\u001b[0mloc\u001b[0m\u001b[0;34m[\u001b[0m\u001b[0mkey\u001b[0m\u001b[0;34m]\u001b[0m\u001b[0;34m\u001b[0m\u001b[0;34m\u001b[0m\u001b[0m\n\u001b[1;32m   2274\u001b[0m \u001b[0;34m\u001b[0m\u001b[0m\n\u001b[0;32m-> 2275\u001b[0;31m         \u001b[0;32mreturn\u001b[0m \u001b[0msuper\u001b[0m\u001b[0;34m(\u001b[0m\u001b[0;34m)\u001b[0m\u001b[0;34m.\u001b[0m\u001b[0m__getitem__\u001b[0m\u001b[0;34m(\u001b[0m\u001b[0mkey\u001b[0m\u001b[0;34m)\u001b[0m\u001b[0;34m\u001b[0m\u001b[0;34m\u001b[0m\u001b[0m\n\u001b[0m\u001b[1;32m   2276\u001b[0m \u001b[0;34m\u001b[0m\u001b[0m\n\u001b[1;32m   2277\u001b[0m     \u001b[0;32mdef\u001b[0m \u001b[0m__setitem__\u001b[0m\u001b[0;34m(\u001b[0m\u001b[0mself\u001b[0m\u001b[0;34m,\u001b[0m \u001b[0mkey\u001b[0m\u001b[0;34m,\u001b[0m \u001b[0mvalue\u001b[0m\u001b[0;34m)\u001b[0m\u001b[0;34m:\u001b[0m\u001b[0;34m\u001b[0m\u001b[0;34m\u001b[0m\u001b[0m\n",
      "\u001b[0;32m/opt/local/Library/Frameworks/Python.framework/Versions/3.9/lib/python3.9/site-packages/pandas/core/indexing.py\u001b[0m in \u001b[0;36m__getitem__\u001b[0;34m(self, key)\u001b[0m\n\u001b[1;32m   2220\u001b[0m \u001b[0;34m\u001b[0m\u001b[0m\n\u001b[1;32m   2221\u001b[0m         \u001b[0mkey\u001b[0m \u001b[0;34m=\u001b[0m \u001b[0mself\u001b[0m\u001b[0;34m.\u001b[0m\u001b[0m_convert_key\u001b[0m\u001b[0;34m(\u001b[0m\u001b[0mkey\u001b[0m\u001b[0;34m)\u001b[0m\u001b[0;34m\u001b[0m\u001b[0;34m\u001b[0m\u001b[0m\n\u001b[0;32m-> 2222\u001b[0;31m         \u001b[0;32mreturn\u001b[0m \u001b[0mself\u001b[0m\u001b[0;34m.\u001b[0m\u001b[0mobj\u001b[0m\u001b[0;34m.\u001b[0m\u001b[0m_get_value\u001b[0m\u001b[0;34m(\u001b[0m\u001b[0;34m*\u001b[0m\u001b[0mkey\u001b[0m\u001b[0;34m,\u001b[0m \u001b[0mtakeable\u001b[0m\u001b[0;34m=\u001b[0m\u001b[0mself\u001b[0m\u001b[0;34m.\u001b[0m\u001b[0m_takeable\u001b[0m\u001b[0;34m)\u001b[0m\u001b[0;34m\u001b[0m\u001b[0;34m\u001b[0m\u001b[0m\n\u001b[0m\u001b[1;32m   2223\u001b[0m \u001b[0;34m\u001b[0m\u001b[0m\n\u001b[1;32m   2224\u001b[0m     \u001b[0;32mdef\u001b[0m \u001b[0m__setitem__\u001b[0m\u001b[0;34m(\u001b[0m\u001b[0mself\u001b[0m\u001b[0;34m,\u001b[0m \u001b[0mkey\u001b[0m\u001b[0;34m,\u001b[0m \u001b[0mvalue\u001b[0m\u001b[0;34m)\u001b[0m\u001b[0;34m:\u001b[0m\u001b[0;34m\u001b[0m\u001b[0;34m\u001b[0m\u001b[0m\n",
      "\u001b[0;32m/opt/local/Library/Frameworks/Python.framework/Versions/3.9/lib/python3.9/site-packages/pandas/core/frame.py\u001b[0m in \u001b[0;36m_get_value\u001b[0;34m(self, index, col, takeable)\u001b[0m\n\u001b[1;32m   3577\u001b[0m \u001b[0;34m\u001b[0m\u001b[0m\n\u001b[1;32m   3578\u001b[0m         \u001b[0;32mtry\u001b[0m\u001b[0;34m:\u001b[0m\u001b[0;34m\u001b[0m\u001b[0;34m\u001b[0m\u001b[0m\n\u001b[0;32m-> 3579\u001b[0;31m             \u001b[0mloc\u001b[0m \u001b[0;34m=\u001b[0m \u001b[0mengine\u001b[0m\u001b[0;34m.\u001b[0m\u001b[0mget_loc\u001b[0m\u001b[0;34m(\u001b[0m\u001b[0mindex\u001b[0m\u001b[0;34m)\u001b[0m\u001b[0;34m\u001b[0m\u001b[0;34m\u001b[0m\u001b[0m\n\u001b[0m\u001b[1;32m   3580\u001b[0m             \u001b[0;32mreturn\u001b[0m \u001b[0mseries\u001b[0m\u001b[0;34m.\u001b[0m\u001b[0m_values\u001b[0m\u001b[0;34m[\u001b[0m\u001b[0mloc\u001b[0m\u001b[0;34m]\u001b[0m\u001b[0;34m\u001b[0m\u001b[0;34m\u001b[0m\u001b[0m\n\u001b[1;32m   3581\u001b[0m         \u001b[0;32mexcept\u001b[0m \u001b[0mAttributeError\u001b[0m\u001b[0;34m:\u001b[0m\u001b[0;34m\u001b[0m\u001b[0;34m\u001b[0m\u001b[0m\n",
      "\u001b[0;32m/opt/local/Library/Frameworks/Python.framework/Versions/3.9/lib/python3.9/site-packages/pandas/_libs/index.pyx\u001b[0m in \u001b[0;36mpandas._libs.index.IndexEngine.get_loc\u001b[0;34m()\u001b[0m\n",
      "\u001b[0;32m/opt/local/Library/Frameworks/Python.framework/Versions/3.9/lib/python3.9/site-packages/pandas/_libs/index.pyx\u001b[0m in \u001b[0;36mpandas._libs.index.IndexEngine.get_loc\u001b[0;34m()\u001b[0m\n",
      "\u001b[0;32mpandas/_libs/hashtable_class_helper.pxi\u001b[0m in \u001b[0;36mpandas._libs.hashtable.Int64HashTable.get_item\u001b[0;34m()\u001b[0m\n",
      "\u001b[0;32mpandas/_libs/hashtable_class_helper.pxi\u001b[0m in \u001b[0;36mpandas._libs.hashtable.Int64HashTable.get_item\u001b[0;34m()\u001b[0m\n",
      "\u001b[0;31mKeyError\u001b[0m: 0"
     ]
    }
   ],
   "source": [
    "three_turb_dataset = pd.read_csv('three_turbine_dataset.csv', index_col=0)\n",
    "for i in range(len(three_turb_dataset)):\n",
    "    id_dataset = three_turb_dataset.loc[three_turb_dataset['ID'] == i].reset_index(drop=True)\n",
    "    position = np.array([[id_dataset.at[0,\"X_coord\"],id_dataset.at[0,\"Y_coord\"]],[id_dataset.at[1,\"X_coord\"],id_dataset.at[1,\"Y_coord\"]],[id_dataset.at[2,\"X_coord\"],id_dataset.at[2,\"Y_coord\"]]])\n",
    "    ws = np.array([[id_dataset.at[0,\"Ref_Wind_Speed\"]], [id_dataset.at[1,\"Ref_Wind_Speed\"]], [id_dataset.at[2,\"Ref_Wind_Speed\"]]])\n",
    "    neigh=nl.calculate(turbs_3,position)\n",
    "    finpr=exponential_new.FingerprintCalculator(cutoff=4001,Gs=Gs,Rct=3000,delta_R=100,cone_grad=0.12582561117875557, cone_offset=72.24947126849844)\n",
    "    fp=finpr.calculate(turbs_3,position,neigh,symbol)\n",
    "    fp=np.array(fp)\n",
    "    dataset_pos=np.append(dataset_pos,position,axis=0)\n",
    "    dataset_fp=np.append(dataset_fp,fp,axis=0)\n",
    "    dataset_ws=np.append(dataset_ws,ws,axis=0)\n",
    "dataset=np.concatenate((dataset_fp, dataset_ws),axis=1)"
   ]
  },
  {
   "cell_type": "code",
   "execution_count": 6,
   "metadata": {},
   "outputs": [
    {
     "data": {
      "text/plain": [
       "1080"
      ]
     },
     "execution_count": 6,
     "metadata": {},
     "output_type": "execute_result"
    }
   ],
   "source": [
    "len(three_turb_dataset)"
   ]
  },
  {
   "cell_type": "code",
   "execution_count": null,
   "metadata": {},
   "outputs": [],
   "source": [
    "two_turb_dataset"
   ]
  },
  {
   "cell_type": "code",
   "execution_count": null,
   "metadata": {
    "executionInfo": {
     "elapsed": 2517,
     "status": "ok",
     "timestamp": 1637598619785,
     "user": {
      "displayName": "Muhammed Nedim Söğüt",
      "photoUrl": "https://lh3.googleusercontent.com/a-/AOh14Gi7CHj6vsdvLbpZe4gviCH_RX4DfZaqg6OrfDwc=s64",
      "userId": "14768761371783583511"
     },
     "user_tz": 0
    },
    "id": "8w2-ljQo6O4A"
   },
   "outputs": [],
   "source": [
    "two_turb_dataset = pd.read_csv('two_turbine_dataset.csv', index_col=0)\n",
    "for distance in sorted(set(two_turb_dataset[\"Spacing\"])):\n",
    "    for angle in sorted(set(two_turb_dataset[\"Wind_angle\"])):\n",
    "        #print(distance,angle)\n",
    "        id_dataset = two_turb_dataset[(two_turb_dataset.Wind_angle==angle) & (two_turb_dataset.Spacing==distance)].reset_index(drop=True)\n",
    "        #print(id_dataset)\n",
    "        if id_dataset.empty:\n",
    "            continue\n",
    "        ws=np.array([[id_dataset.at[0,'Ref_Wind_Speed']],[id_dataset.at[1,'Ref_Wind_Speed']]])\n",
    "        #print(ws)\n",
    "        position=np.array([[0., 0.], [((distance)*np.cos(np.deg2rad(270-angle))),((distance)*np.sin(np.deg2rad(270-angle)))]])\n",
    "        neigh=nl.calculate(turbs,position)\n",
    "        finpr=exponential_new.FingerprintCalculator(cutoff=4001,Gs=Gs,Rct=3000,delta_R=100,cone_grad=0.12582561117875557, cone_offset=72.24947126849844)\n",
    "        fp=finpr.calculate(turbs,position,neigh,symbol)\n",
    "        fp=np.array(fp)\n",
    "        dataset_pos=np.append(dataset_pos,position,axis=0)\n",
    "        dataset_fp=np.append(dataset_fp,fp,axis=0)\n",
    "        dataset_ws=np.append(dataset_ws,ws,axis=0)\n",
    "dataset=np.concatenate((dataset_fp, dataset_ws),axis=1)"
   ]
  },
  {
   "cell_type": "code",
   "execution_count": null,
   "metadata": {
    "executionInfo": {
     "elapsed": 10,
     "status": "ok",
     "timestamp": 1637598620208,
     "user": {
      "displayName": "Muhammed Nedim Söğüt",
      "photoUrl": "https://lh3.googleusercontent.com/a-/AOh14Gi7CHj6vsdvLbpZe4gviCH_RX4DfZaqg6OrfDwc=s64",
      "userId": "14768761371783583511"
     },
     "user_tz": 0
    },
    "id": "FkkVLsU76O4C"
   },
   "outputs": [],
   "source": [
    "dataset = pd.DataFrame(dataset, columns = ['Fingerprint(G2)','Fingerprint(G4)','Fingerprint(G6)','Ref_Wind_Speed'])"
   ]
  },
  {
   "cell_type": "code",
   "execution_count": null,
   "metadata": {
    "scrolled": true
   },
   "outputs": [],
   "source": [
    "dataset"
   ]
  },
  {
   "cell_type": "code",
   "execution_count": null,
   "metadata": {
    "executionInfo": {
     "elapsed": 10,
     "status": "ok",
     "timestamp": 1637598620209,
     "user": {
      "displayName": "Muhammed Nedim Söğüt",
      "photoUrl": "https://lh3.googleusercontent.com/a-/AOh14Gi7CHj6vsdvLbpZe4gviCH_RX4DfZaqg6OrfDwc=s64",
      "userId": "14768761371783583511"
     },
     "user_tz": 0
    },
    "id": "MXQM1Szw6O4D"
   },
   "outputs": [],
   "source": [
    "train_dataset = dataset.sample(frac=0.8, random_state=0)\n",
    "test_dataset = dataset.drop(train_dataset.index)"
   ]
  },
  {
   "cell_type": "code",
   "execution_count": null,
   "metadata": {
    "executionInfo": {
     "elapsed": 9,
     "status": "ok",
     "timestamp": 1637598620209,
     "user": {
      "displayName": "Muhammed Nedim Söğüt",
      "photoUrl": "https://lh3.googleusercontent.com/a-/AOh14Gi7CHj6vsdvLbpZe4gviCH_RX4DfZaqg6OrfDwc=s64",
      "userId": "14768761371783583511"
     },
     "user_tz": 0
    },
    "id": "iIDK2X016O4F"
   },
   "outputs": [],
   "source": [
    "train_features = train_dataset.copy()\n",
    "test_features = test_dataset.copy()\n",
    "all_features = dataset.copy()\n",
    "\n",
    "train_labels = train_features.pop('Ref_Wind_Speed')\n",
    "test_labels = test_features.pop('Ref_Wind_Speed')\n",
    "all_labels = all_features.pop('Ref_Wind_Speed')"
   ]
  },
  {
   "cell_type": "code",
   "execution_count": null,
   "metadata": {
    "colab": {
     "base_uri": "https://localhost:8080/",
     "height": 142
    },
    "executionInfo": {
     "elapsed": 9,
     "status": "ok",
     "timestamp": 1637598620210,
     "user": {
      "displayName": "Muhammed Nedim Söğüt",
      "photoUrl": "https://lh3.googleusercontent.com/a-/AOh14Gi7CHj6vsdvLbpZe4gviCH_RX4DfZaqg6OrfDwc=s64",
      "userId": "14768761371783583511"
     },
     "user_tz": 0
    },
    "id": "jpYMZe6Y6O4F",
    "outputId": "fb20fdf7-22cb-4d4c-b908-ba74ded96ba8"
   },
   "outputs": [],
   "source": [
    "train_dataset.describe().transpose()[['mean', 'std']]"
   ]
  },
  {
   "cell_type": "code",
   "execution_count": null,
   "metadata": {
    "colab": {
     "base_uri": "https://localhost:8080/"
    },
    "executionInfo": {
     "elapsed": 339,
     "status": "ok",
     "timestamp": 1637598620542,
     "user": {
      "displayName": "Muhammed Nedim Söğüt",
      "photoUrl": "https://lh3.googleusercontent.com/a-/AOh14Gi7CHj6vsdvLbpZe4gviCH_RX4DfZaqg6OrfDwc=s64",
      "userId": "14768761371783583511"
     },
     "user_tz": 0
    },
    "id": "lFHqe1aY6O4G",
    "outputId": "e598673e-eca6-4cc2-b50c-23eafa8dc4d8"
   },
   "outputs": [],
   "source": [
    "normalizer = preprocessing.Normalization(axis=-1)\n",
    "normalizer.adapt(np.array(train_features))\n",
    "print(normalizer.mean.numpy())"
   ]
  },
  {
   "cell_type": "code",
   "execution_count": null,
   "metadata": {
    "colab": {
     "base_uri": "https://localhost:8080/"
    },
    "executionInfo": {
     "elapsed": 10,
     "status": "ok",
     "timestamp": 1637598620543,
     "user": {
      "displayName": "Muhammed Nedim Söğüt",
      "photoUrl": "https://lh3.googleusercontent.com/a-/AOh14Gi7CHj6vsdvLbpZe4gviCH_RX4DfZaqg6OrfDwc=s64",
      "userId": "14768761371783583511"
     },
     "user_tz": 0
    },
    "id": "jT66MAz8_qz1",
    "outputId": "91df6f2c-bcee-44b9-ae6f-3e2a378f50b4"
   },
   "outputs": [],
   "source": [
    "dnn_model = build_and_compile_model(normalizer)\n",
    "dnn_model.summary()"
   ]
  },
  {
   "cell_type": "code",
   "execution_count": null,
   "metadata": {
    "colab": {
     "base_uri": "https://localhost:8080/"
    },
    "executionInfo": {
     "elapsed": 5743,
     "status": "ok",
     "timestamp": 1637598626283,
     "user": {
      "displayName": "Muhammed Nedim Söğüt",
      "photoUrl": "https://lh3.googleusercontent.com/a-/AOh14Gi7CHj6vsdvLbpZe4gviCH_RX4DfZaqg6OrfDwc=s64",
      "userId": "14768761371783583511"
     },
     "user_tz": 0
    },
    "id": "BxYKBgly_vKz",
    "outputId": "8234c669-98e3-47c4-e99d-a3dba3fe9fe5"
   },
   "outputs": [],
   "source": [
    "%%time\n",
    "history = dnn_model.fit(\n",
    "    train_features, train_labels,\n",
    "    validation_split=0.2,\n",
    "    verbose=0, epochs=120)"
   ]
  },
  {
   "cell_type": "code",
   "execution_count": null,
   "metadata": {
    "colab": {
     "base_uri": "https://localhost:8080/",
     "height": 283
    },
    "executionInfo": {
     "elapsed": 451,
     "status": "ok",
     "timestamp": 1637598626728,
     "user": {
      "displayName": "Muhammed Nedim Söğüt",
      "photoUrl": "https://lh3.googleusercontent.com/a-/AOh14Gi7CHj6vsdvLbpZe4gviCH_RX4DfZaqg6OrfDwc=s64",
      "userId": "14768761371783583511"
     },
     "user_tz": 0
    },
    "id": "IRSzsfQ5_yZt",
    "outputId": "76204080-d7db-4c5e-ac64-31d6a2d260b0"
   },
   "outputs": [],
   "source": [
    "plot_loss(history)"
   ]
  },
  {
   "cell_type": "code",
   "execution_count": null,
   "metadata": {
    "colab": {
     "base_uri": "https://localhost:8080/",
     "height": 284
    },
    "executionInfo": {
     "elapsed": 624,
     "status": "ok",
     "timestamp": 1637598627348,
     "user": {
      "displayName": "Muhammed Nedim Söğüt",
      "photoUrl": "https://lh3.googleusercontent.com/a-/AOh14Gi7CHj6vsdvLbpZe4gviCH_RX4DfZaqg6OrfDwc=s64",
      "userId": "14768761371783583511"
     },
     "user_tz": 0
    },
    "id": "dHtOGkBy_8JM",
    "outputId": "c023a307-e6d1-4432-db40-d371d440fecc"
   },
   "outputs": [],
   "source": [
    "test_predictions = dnn_model.predict(test_features).flatten()\n",
    "train_predictions = dnn_model.predict(train_features).flatten()\n",
    "#test_predictions_0 = dnn_model.predict(test_features[\"Fingerprint(G2)\"]==0).flatten()\n",
    "#train_predictions_0 = dnn_model.predict(train_features[\"Fingerprint(G2)\"]==0).flatten()\n",
    "a = plt.axes(aspect='equal')\n",
    "plt.scatter(test_labels, test_predictions,c=test_features[\"Fingerprint(G2)\"])\n",
    "plt.scatter(train_labels, train_predictions,c=train_features[\"Fingerprint(G2)\"])\n",
    "plt.xlabel('True Values [Ref_wind_speed]')\n",
    "plt.ylabel('Predictions [Ref_wind_speed]')\n",
    "cbar=plt.colorbar()\n",
    "cbar.set_label('Fingerprint(G2)')\n",
    "lims = [5, 8]\n",
    "plt.xlim(lims)\n",
    "plt.ylim(lims)\n",
    "_ = plt.plot(lims, lims)"
   ]
  },
  {
   "cell_type": "code",
   "execution_count": null,
   "metadata": {},
   "outputs": [],
   "source": [
    "test_predictions = dnn_model.predict(test_features).flatten()\n",
    "train_predictions = dnn_model.predict(train_features).flatten()\n",
    "#test_predictions_0 = dnn_model.predict(test_features[\"Fingerprint(G4)\"]==0).flatten()\n",
    "#train_predictions_0 = dnn_model.predict(train_features[\"Fingerprint(G4)\"]==0).flatten()\n",
    "a = plt.axes(aspect='equal')\n",
    "plt.scatter(test_labels, test_predictions,c=test_features[\"Fingerprint(G4)\"])\n",
    "plt.scatter(train_labels, train_predictions,c=train_features[\"Fingerprint(G4)\"])\n",
    "plt.xlabel('True Values [Ref_wind_speed]')\n",
    "plt.ylabel('Predictions [Ref_wind_speed]')\n",
    "cbar=plt.colorbar()\n",
    "cbar.set_label('Fingerprint(G4)')\n",
    "lims = [5, 8]\n",
    "plt.xlim(lims)\n",
    "plt.ylim(lims)\n",
    "_ = plt.plot(lims, lims)"
   ]
  },
  {
   "cell_type": "code",
   "execution_count": null,
   "metadata": {
    "colab": {
     "base_uri": "https://localhost:8080/",
     "height": 296
    },
    "executionInfo": {
     "elapsed": 493,
     "status": "ok",
     "timestamp": 1637598627831,
     "user": {
      "displayName": "Muhammed Nedim Söğüt",
      "photoUrl": "https://lh3.googleusercontent.com/a-/AOh14Gi7CHj6vsdvLbpZe4gviCH_RX4DfZaqg6OrfDwc=s64",
      "userId": "14768761371783583511"
     },
     "user_tz": 0
    },
    "id": "dvb-24fH31s-",
    "outputId": "8e4778fe-e023-4993-fd72-61554c8cf6a2"
   },
   "outputs": [],
   "source": [
    "\n",
    "a = plt.axes\n",
    "plt.scatter(test_features[\"Fingerprint(G2)\"], test_features[\"Fingerprint(G4)\"],c=np.abs(test_labels))\n",
    "plt.scatter(train_features[\"Fingerprint(G2)\"], train_features[\"Fingerprint(G4)\"],c=np.abs(train_labels))\n",
    "#plt.scatter(train_labels, train_predictions)\n",
    "plt.xlabel('Fingerprint(G2)')\n",
    "plt.ylabel('Fingerprint(G4)')\n",
    "plt.title('Actual CFD Values')\n",
    "cbar=plt.colorbar()\n",
    "cbar.set_label('True Wind Speed (m/s)')\n",
    "#_ = plt.plot()"
   ]
  },
  {
   "cell_type": "code",
   "execution_count": null,
   "metadata": {},
   "outputs": [],
   "source": [
    "a = plt.axes\n",
    "plt.scatter(test_features[\"Fingerprint(G2)\"], test_features[\"Fingerprint(G4)\"],c=np.abs(test_predictions))\n",
    "plt.scatter(train_features[\"Fingerprint(G2)\"], train_features[\"Fingerprint(G4)\"],c=np.abs(train_predictions))\n",
    "#plt.scatter(train_labels, train_predictions)\n",
    "plt.xlabel('Fingerprint(G2)')\n",
    "plt.ylabel('Fingerprint(G4)')\n",
    "plt.title('Predicted Values')\n",
    "cbar=plt.colorbar()\n",
    "cbar.set_label('Predicted Wind Speed (m/s)')\n",
    "#_ = plt.plot()"
   ]
  },
  {
   "cell_type": "code",
   "execution_count": null,
   "metadata": {},
   "outputs": [],
   "source": [
    "test_predictions = dnn_model.predict(test_features).flatten()\n",
    "train_predictions = dnn_model.predict(train_features).flatten()\n",
    "a = plt.axes\n",
    "plt.scatter(test_features[\"Fingerprint(G2)\"], test_features[\"Fingerprint(G4)\"],c=np.abs(test_predictions-test_labels))\n",
    "#plt.scatter(train_features[\"Fingerprint(G2)\"], train_features[\"Fingerprint(G4)\"],c=np.abs(train_predictions-train_labels))\n",
    "#plt.scatter(train_labels, train_predictions)\n",
    "plt.xlabel('Fingerprint(G2)')\n",
    "plt.ylabel('Fingerprint(G4)')\n",
    "plt.title('Error Rate')\n",
    "cbar=plt.colorbar()\n",
    "cbar.set_label('Absolute Error Rate (m/s)')"
   ]
  },
  {
   "cell_type": "code",
   "execution_count": null,
   "metadata": {},
   "outputs": [],
   "source": [
    "all_predictions = dnn_model.predict(all_features).flatten()\n",
    "error_all=np.abs(all_predictions-all_labels)\n",
    "\n",
    "a = plt.axes\n",
    "plt.scatter(all_features[\"Fingerprint(G2)\"], all_features[\"Fingerprint(G4)\"],c=error_all)\n",
    "#plt.scatter(train_features[\"Fingerprint(G2)\"], train_features[\"Fingerprint(G4)\"],c=np.abs(train_predictions-train_labels))\n",
    "#plt.scatter(train_labels, train_predictions)\n",
    "plt.xlabel('Fingerprint(G2)')\n",
    "plt.ylabel('Fingerprint(G4)')\n",
    "plt.title('Error Rate')\n",
    "cbar=plt.colorbar()\n",
    "cbar.set_label('Absolute Error Rate (m/s)')"
   ]
  },
  {
   "cell_type": "code",
   "execution_count": null,
   "metadata": {},
   "outputs": [],
   "source": [
    "all_predictions = dnn_model.predict(all_features).flatten()\n",
    "error_all=np.abs(all_predictions-all_labels)\n",
    "\n",
    "a = plt.axes\n",
    "plt.scatter(all_features[\"Fingerprint(G2)\"], all_features[\"Fingerprint(G6)\"],c=error_all)\n",
    "#plt.scatter(train_features[\"Fingerprint(G2)\"], train_features[\"Fingerprint(G4)\"],c=np.abs(train_predictions-train_labels))\n",
    "#plt.scatter(train_labels, train_predictions)\n",
    "plt.xlabel('Fingerprint(G2)')\n",
    "plt.ylabel('Fingerprint(G6)')\n",
    "plt.title('Error Rate')\n",
    "cbar=plt.colorbar()\n",
    "cbar.set_label('Absolute Error Rate (m/s)')"
   ]
  },
  {
   "cell_type": "code",
   "execution_count": null,
   "metadata": {},
   "outputs": [],
   "source": [
    "all_predictions = dnn_model.predict(all_features).flatten()\n",
    "error_all=np.abs(all_predictions-all_labels)\n",
    "\n",
    "a = plt.axes\n",
    "plt.scatter(all_features[\"Fingerprint(G4)\"], all_features[\"Fingerprint(G6)\"],c=error_all)\n",
    "#plt.scatter(train_features[\"Fingerprint(G2)\"], train_features[\"Fingerprint(G4)\"],c=np.abs(train_predictions-train_labels))\n",
    "#plt.scatter(train_labels, train_predictions)\n",
    "plt.xlabel('Fingerprint(G4)')\n",
    "plt.ylabel('Fingerprint(G6)')\n",
    "plt.title('Error Rate')\n",
    "cbar=plt.colorbar()\n",
    "cbar.set_label('Absolute Error Rate (m/s)')"
   ]
  },
  {
   "cell_type": "code",
   "execution_count": null,
   "metadata": {},
   "outputs": [],
   "source": [
    "from mpl_toolkits.mplot3d import Axes3D\n",
    "fig = plt.figure(figsize=(20,15))\n",
    "\n",
    "ax = fig.add_subplot(projection='3d')\n",
    "ax.scatter(all_features[\"Fingerprint(G2)\"], all_features[\"Fingerprint(G4)\"], all_features[\"Fingerprint(G6)\"], zdir='z', s=20, c=error_all, depthshade=True)"
   ]
  },
  {
   "cell_type": "code",
   "execution_count": null,
   "metadata": {},
   "outputs": [],
   "source": [
    "import numpy\n",
    "from mayavi.mlab import *\n",
    "\n",
    "def test_points3d():\n",
    "\n",
    "\n",
    "    x = all_features[\"Fingerprint(G2)\"]\n",
    "    y = all_features[\"Fingerprint(G4)\"]\n",
    "    z = all_features[\"Fingerprint(G6)\"]\n",
    "    s = error_all\n",
    "    colorbar(orientation='vertical')\n",
    "    xlabel('Fingerprint(G2)')\n",
    "    ylabel('Fingerprint(G4)')\n",
    "    zlabel('Fingerprint(G6)')\n",
    "    return points3d(x, y, z, s, colormap=\"blue-red\", scale_factor=0.05)\n",
    "test_points3d()\n",
    "#colorbar(object=all_labels, title=\"Points in Mayavi\")\n",
    "#view()\n",
    "show()"
   ]
  },
  {
   "cell_type": "code",
   "execution_count": null,
   "metadata": {},
   "outputs": [],
   "source": [
    "all_predictions = dnn_model.predict(all_features).flatten()\n",
    "a = plt.axes\n",
    "error_all=np.abs(all_predictions-all_labels)\n",
    "\n",
    "plt.scatter(dataset_pos[:,0], dataset_pos[:,1],c=error_all)\n",
    "#plt.scatter(train_features[\"Fingerprint(G2)\"], train_features[\"Fingerprint(G4)\"],c=train_labels)\n",
    "#plt.scatter(train_labels, train_predictions)\n",
    "plt.xlabel('X-axis')\n",
    "plt.ylabel('Y-axis')\n",
    "plt.title('Error Rate Locations')\n",
    "cbar=plt.colorbar()\n",
    "cbar.set_label('Absolute Error Rate (m/s)')"
   ]
  },
  {
   "cell_type": "code",
   "execution_count": null,
   "metadata": {
    "colab": {
     "base_uri": "https://localhost:8080/"
    },
    "executionInfo": {
     "elapsed": 228,
     "status": "ok",
     "timestamp": 1637598641922,
     "user": {
      "displayName": "Muhammed Nedim Söğüt",
      "photoUrl": "https://lh3.googleusercontent.com/a-/AOh14Gi7CHj6vsdvLbpZe4gviCH_RX4DfZaqg6OrfDwc=s64",
      "userId": "14768761371783583511"
     },
     "user_tz": 0
    },
    "id": "flMoSq1TA3k_",
    "outputId": "ea4db5db-0f8c-4e2b-acca-67cceb376cd0",
    "scrolled": true
   },
   "outputs": [],
   "source": [
    "arg=np.argsort(error_all)\n",
    "error_all[arg]\n",
    "pd.set_option(\"display.max_rows\", None)\n",
    "error_all[arg]"
   ]
  },
  {
   "cell_type": "code",
   "execution_count": null,
   "metadata": {
    "colab": {
     "base_uri": "https://localhost:8080/",
     "height": 296
    },
    "executionInfo": {
     "elapsed": 18,
     "status": "ok",
     "timestamp": 1637598627833,
     "user": {
      "displayName": "Muhammed Nedim Söğüt",
      "photoUrl": "https://lh3.googleusercontent.com/a-/AOh14Gi7CHj6vsdvLbpZe4gviCH_RX4DfZaqg6OrfDwc=s64",
      "userId": "14768761371783583511"
     },
     "user_tz": 0
    },
    "id": "l-ggP6fm8CUJ",
    "outputId": "7beb1008-2768-4642-8cbe-252757b1a37e"
   },
   "outputs": [],
   "source": [
    "all_predictions = dnn_model.predict(all_features).flatten()\n",
    "a = plt.axes\n",
    "error_all=np.abs(all_predictions-all_labels)\n",
    "\n",
    "plt.scatter(dataset_pos[arg[-20:],0], dataset_pos[arg[-20:],1],c=error_all[arg[-20:]])\n",
    "#plt.scatter(train_features[\"Fingerprint(G2)\"], train_features[\"Fingerprint(G4)\"],c=train_labels)\n",
    "#plt.scatter(train_labels, train_predictions)\n",
    "plt.xlabel('X-axis')\n",
    "plt.ylabel('Y-axis')\n",
    "plt.colorbar()"
   ]
  },
  {
   "cell_type": "code",
   "execution_count": null,
   "metadata": {},
   "outputs": [],
   "source": [
    "dataset_pos[523]\n",
    "all_predictions[523]\n",
    "#all_labels[523]"
   ]
  },
  {
   "cell_type": "code",
   "execution_count": null,
   "metadata": {
    "colab": {
     "base_uri": "https://localhost:8080/",
     "height": 280
    },
    "executionInfo": {
     "elapsed": 335,
     "status": "ok",
     "timestamp": 1637598628159,
     "user": {
      "displayName": "Muhammed Nedim Söğüt",
      "photoUrl": "https://lh3.googleusercontent.com/a-/AOh14Gi7CHj6vsdvLbpZe4gviCH_RX4DfZaqg6OrfDwc=s64",
      "userId": "14768761371783583511"
     },
     "user_tz": 0
    },
    "id": "23zkkl1WAiNj",
    "outputId": "de776c7a-05a9-4ea3-9f01-1645976e1761"
   },
   "outputs": [],
   "source": [
    "error = test_predictions - test_labels\n",
    "plt.hist(error, bins=10)\n",
    "plt.xlabel('Prediction Error [Ref_wind_speed]')\n",
    "_ = plt.ylabel('Count')"
   ]
  },
  {
   "cell_type": "code",
   "execution_count": null,
   "metadata": {
    "colab": {
     "base_uri": "https://localhost:8080/"
    },
    "executionInfo": {
     "elapsed": 1433,
     "status": "ok",
     "timestamp": 1637322784200,
     "user": {
      "displayName": "Muhammed Nedim Söğüt",
      "photoUrl": "https://lh3.googleusercontent.com/a-/AOh14Gi7CHj6vsdvLbpZe4gviCH_RX4DfZaqg6OrfDwc=s64",
      "userId": "14768761371783583511"
     },
     "user_tz": 0
    },
    "id": "DiosGFVeA19b",
    "outputId": "3d61d28e-c50f-4e6d-d686-c9a373027694"
   },
   "outputs": [],
   "source": [
    "dnn_model.save('dnn_model')"
   ]
  },
  {
   "cell_type": "code",
   "execution_count": null,
   "metadata": {
    "colab": {
     "base_uri": "https://localhost:8080/"
    },
    "executionInfo": {
     "elapsed": 228,
     "status": "ok",
     "timestamp": 1637598640621,
     "user": {
      "displayName": "Muhammed Nedim Söğüt",
      "photoUrl": "https://lh3.googleusercontent.com/a-/AOh14Gi7CHj6vsdvLbpZe4gviCH_RX4DfZaqg6OrfDwc=s64",
      "userId": "14768761371783583511"
     },
     "user_tz": 0
    },
    "id": "_VPdEWlkA1B5",
    "outputId": "5fc1921f-3b7a-4e17-efae-0272cdc5815a"
   },
   "outputs": [],
   "source": [
    "print(min(error),max(error))"
   ]
  },
  {
   "cell_type": "code",
   "execution_count": null,
   "metadata": {},
   "outputs": [],
   "source": [
    "arg[30:]"
   ]
  },
  {
   "cell_type": "code",
   "execution_count": null,
   "metadata": {},
   "outputs": [],
   "source": [
    "error_all[577:582]"
   ]
  },
  {
   "cell_type": "code",
   "execution_count": null,
   "metadata": {
    "colab": {
     "base_uri": "https://localhost:8080/",
     "height": 279
    },
    "executionInfo": {
     "elapsed": 476,
     "status": "ok",
     "timestamp": 1637322784673,
     "user": {
      "displayName": "Muhammed Nedim Söğüt",
      "photoUrl": "https://lh3.googleusercontent.com/a-/AOh14Gi7CHj6vsdvLbpZe4gviCH_RX4DfZaqg6OrfDwc=s64",
      "userId": "14768761371783583511"
     },
     "user_tz": 0
    },
    "id": "gZj1hkCX2wf1",
    "outputId": "89849e47-1aa5-473a-9bde-b7bbaa1aa7a5"
   },
   "outputs": [],
   "source": [
    "import matplotlib.cm as cm\n",
    "plt.scatter(dataset['Fingerprint(G4)'],dataset['Fingerprint(G2)'], c=dataset['Ref_Wind_Speed'], s=10, cmap=cm.bwr)\n",
    "cbar= plt.colorbar()\n",
    "plt.xlabel('Fingerprint(G4)')\n",
    "plt.ylabel('Fingerprint(G2)')\n",
    "plt.show()"
   ]
  },
  {
   "cell_type": "code",
   "execution_count": null,
   "metadata": {
    "colab": {
     "base_uri": "https://localhost:8080/"
    },
    "executionInfo": {
     "elapsed": 218,
     "status": "ok",
     "timestamp": 1637598660389,
     "user": {
      "displayName": "Muhammed Nedim Söğüt",
      "photoUrl": "https://lh3.googleusercontent.com/a-/AOh14Gi7CHj6vsdvLbpZe4gviCH_RX4DfZaqg6OrfDwc=s64",
      "userId": "14768761371783583511"
     },
     "user_tz": 0
    },
    "id": "7ZhO04q-lq-j",
    "outputId": "daa17f3c-fa29-481d-e535-843bda31ff42"
   },
   "outputs": [],
   "source": [
    "np.mean(error_all)"
   ]
  },
  {
   "cell_type": "code",
   "execution_count": null,
   "metadata": {
    "id": "DSo9UvnO0Qo2"
   },
   "outputs": [],
   "source": [
    "max(error_all)"
   ]
  },
  {
   "cell_type": "code",
   "execution_count": null,
   "metadata": {},
   "outputs": [],
   "source": []
  }
 ],
 "metadata": {
  "colab": {
   "collapsed_sections": [],
   "name": "Turbine_short_version.ipynb",
   "provenance": [
    {
     "file_id": "1UWQk13gYCPngG8v-VRnmZuC62CBCI0tM",
     "timestamp": 1633258861452
    }
   ]
  },
  "kernelspec": {
   "display_name": "Python 3 (ipykernel)",
   "language": "python",
   "name": "python3"
  },
  "language_info": {
   "codemirror_mode": {
    "name": "ipython",
    "version": 3
   },
   "file_extension": ".py",
   "mimetype": "text/x-python",
   "name": "python",
   "nbconvert_exporter": "python",
   "pygments_lexer": "ipython3",
   "version": "3.9.10"
  }
 },
 "nbformat": 4,
 "nbformat_minor": 1
}
