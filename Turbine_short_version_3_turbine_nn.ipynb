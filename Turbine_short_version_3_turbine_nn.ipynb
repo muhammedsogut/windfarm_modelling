{
 "cells": [
  {
   "cell_type": "code",
   "execution_count": 1,
   "metadata": {
    "colab": {
     "base_uri": "https://localhost:8080/"
    },
    "executionInfo": {
     "elapsed": 6132,
     "status": "ok",
     "timestamp": 1637598617273,
     "user": {
      "displayName": "Muhammed Nedim Söğüt",
      "photoUrl": "https://lh3.googleusercontent.com/a-/AOh14Gi7CHj6vsdvLbpZe4gviCH_RX4DfZaqg6OrfDwc=s64",
      "userId": "14768761371783583511"
     },
     "user_tz": 0
    },
    "id": "6O0xWu2E6O3-",
    "outputId": "2de923c8-f80d-4bd5-83a6-8fe14d470016"
   },
   "outputs": [
    {
     "name": "stderr",
     "output_type": "stream",
     "text": [
      "/var/folders/gr/z6l2h7kd4136nf0xqdtls40w0000gn/T/ipykernel_1017/4064572797.py:14: DeprecationWarning: The default dtype for empty Series will be 'object' instead of 'float64' in a future version. Specify a dtype explicitly to silence this warning.\n",
      "  dataset_full[\"IDnum\"]=pd.Series()\n"
     ]
    }
   ],
   "source": [
    "import three_desc_model_new as pyturb\n",
    "import numpy as np\n",
    "import pandas as pd\n",
    "from cutoffs import Polynomial\n",
    "import tensorflow as tf\n",
    "import matplotlib.pyplot as plt\n",
    "import keras\n",
    "from tensorflow.keras import layers\n",
    "from tensorflow.keras.layers.experimental import preprocessing\n",
    "dataset_full = pd.read_csv('all_dataset.csv', index_col=0)\n",
    "symbol=\"Siemens\"\n",
    "k=0\n",
    "count=0\n",
    "dataset_full[\"IDnum\"]=pd.Series()\n",
    "for i in range(len(dataset_full)):\n",
    "    dataset_full.at[i,\"IDnum\"]=k\n",
    "    count = count +1\n",
    "    if (count==dataset_full[\"Num_tot_turb\"].iloc[i]):\n",
    "        k=k+1\n",
    "        count=0\n",
    "dataset_full[\"Num_tot_turb\"]=dataset_full[\"Num_tot_turb\"].astype(int)\n",
    "dataset_full[\"Turb_num\"]=dataset_full[\"Turb_num\"].astype(int)\n",
    "dataset_full[\"IDnum\"]=dataset_full[\"IDnum\"].astype(int)\n",
    "numsims=dataset_full[\"IDnum\"].iloc[-1]+1\n",
    "turb = [symbol]\n",
    "nl=pyturb.NeighborlistCalculator(cutoff=4001,cone_grad=0.12582561117875557, cone_offset=72.24947126849844)"
   ]
  },
  {
   "cell_type": "code",
   "execution_count": 2,
   "metadata": {
    "executionInfo": {
     "elapsed": 12,
     "status": "ok",
     "timestamp": 1637598617274,
     "user": {
      "displayName": "Muhammed Nedim Söğüt",
      "photoUrl": "https://lh3.googleusercontent.com/a-/AOh14Gi7CHj6vsdvLbpZe4gviCH_RX4DfZaqg6OrfDwc=s64",
      "userId": "14768761371783583511"
     },
     "user_tz": 0
    },
    "id": "pXjmmtRt8oYX"
   },
   "outputs": [],
   "source": [
    "def plot_loss(history):\n",
    "    plt.plot(history.history['loss'], label='loss')\n",
    "    plt.plot(history.history['val_loss'], label='val_loss')\n",
    "    plt.ylim([0, 8])\n",
    "    plt.xlabel('Epoch')\n",
    "    plt.ylabel('Error [ref_wind_speed]')\n",
    "    plt.legend()\n",
    "    plt.grid(True)"
   ]
  },
  {
   "cell_type": "code",
   "execution_count": 3,
   "metadata": {
    "executionInfo": {
     "elapsed": 8,
     "status": "ok",
     "timestamp": 1637598617275,
     "user": {
      "displayName": "Muhammed Nedim Söğüt",
      "photoUrl": "https://lh3.googleusercontent.com/a-/AOh14Gi7CHj6vsdvLbpZe4gviCH_RX4DfZaqg6OrfDwc=s64",
      "userId": "14768761371783583511"
     },
     "user_tz": 0
    },
    "id": "C_YDpv2P-_jQ"
   },
   "outputs": [],
   "source": [
    "def build_and_compile_model(norm):\n",
    "    model = keras.Sequential([\n",
    "        norm,\n",
    "        layers.Dense(64, activation='relu'),\n",
    "        layers.Dense(64, activation='relu'),\n",
    "        layers.Dense(32, activation='relu'),\n",
    "        layers.Dense(16, activation='relu'),\n",
    "        layers.Dense(1)\n",
    "    ])\n",
    "    model.compile(loss='mean_absolute_error', optimizer=tf.keras.optimizers.Adam(0.001))\n",
    "    return model"
   ]
  },
  {
   "cell_type": "code",
   "execution_count": 31,
   "metadata": {},
   "outputs": [],
   "source": [
    "Gs = pyturb.make_symmetry_functions(turbines=symbol, type='G2',\n",
    "                                    etas=np.linspace(1,10,5),\n",
    "                                    offsets=[0.46])\n",
    "Gs += pyturb.make_symmetry_functions(turbines=symbol, type='G4',\n",
    "                                     etas=np.linspace(1,10,5),\n",
    "                                     zetas=np.linspace(1,3,3),\n",
    "                                     gammas=[-1,1])\n",
    "Gs += pyturb.make_symmetry_functions(turbines=symbol, type='G6',\n",
    "                                     etas=np.linspace(1,10,5),\n",
    "                                     zetas=np.linspace(0,3,5),\n",
    "                                     gammas=[-1,1])"
   ]
  },
  {
   "cell_type": "code",
   "execution_count": 32,
   "metadata": {},
   "outputs": [
    {
     "data": {
      "text/plain": [
       "[{'type': 'G2', 'turbine': 'Siemens', 'eta': 1.0, 'offset': 0.46},\n",
       " {'type': 'G2', 'turbine': 'Siemens', 'eta': 3.25, 'offset': 0.46},\n",
       " {'type': 'G2', 'turbine': 'Siemens', 'eta': 5.5, 'offset': 0.46},\n",
       " {'type': 'G2', 'turbine': 'Siemens', 'eta': 7.75, 'offset': 0.46},\n",
       " {'type': 'G2', 'turbine': 'Siemens', 'eta': 10.0, 'offset': 0.46},\n",
       " {'type': 'G4', 'turbine': 'Siemens', 'eta': 1.0, 'gamma': -1, 'zeta': 1.0},\n",
       " {'type': 'G4', 'turbine': 'Siemens', 'eta': 1.0, 'gamma': 1, 'zeta': 1.0},\n",
       " {'type': 'G4', 'turbine': 'Siemens', 'eta': 1.0, 'gamma': -1, 'zeta': 2.0},\n",
       " {'type': 'G4', 'turbine': 'Siemens', 'eta': 1.0, 'gamma': 1, 'zeta': 2.0},\n",
       " {'type': 'G4', 'turbine': 'Siemens', 'eta': 1.0, 'gamma': -1, 'zeta': 3.0},\n",
       " {'type': 'G4', 'turbine': 'Siemens', 'eta': 1.0, 'gamma': 1, 'zeta': 3.0},\n",
       " {'type': 'G4', 'turbine': 'Siemens', 'eta': 3.25, 'gamma': -1, 'zeta': 1.0},\n",
       " {'type': 'G4', 'turbine': 'Siemens', 'eta': 3.25, 'gamma': 1, 'zeta': 1.0},\n",
       " {'type': 'G4', 'turbine': 'Siemens', 'eta': 3.25, 'gamma': -1, 'zeta': 2.0},\n",
       " {'type': 'G4', 'turbine': 'Siemens', 'eta': 3.25, 'gamma': 1, 'zeta': 2.0},\n",
       " {'type': 'G4', 'turbine': 'Siemens', 'eta': 3.25, 'gamma': -1, 'zeta': 3.0},\n",
       " {'type': 'G4', 'turbine': 'Siemens', 'eta': 3.25, 'gamma': 1, 'zeta': 3.0},\n",
       " {'type': 'G4', 'turbine': 'Siemens', 'eta': 5.5, 'gamma': -1, 'zeta': 1.0},\n",
       " {'type': 'G4', 'turbine': 'Siemens', 'eta': 5.5, 'gamma': 1, 'zeta': 1.0},\n",
       " {'type': 'G4', 'turbine': 'Siemens', 'eta': 5.5, 'gamma': -1, 'zeta': 2.0},\n",
       " {'type': 'G4', 'turbine': 'Siemens', 'eta': 5.5, 'gamma': 1, 'zeta': 2.0},\n",
       " {'type': 'G4', 'turbine': 'Siemens', 'eta': 5.5, 'gamma': -1, 'zeta': 3.0},\n",
       " {'type': 'G4', 'turbine': 'Siemens', 'eta': 5.5, 'gamma': 1, 'zeta': 3.0},\n",
       " {'type': 'G4', 'turbine': 'Siemens', 'eta': 7.75, 'gamma': -1, 'zeta': 1.0},\n",
       " {'type': 'G4', 'turbine': 'Siemens', 'eta': 7.75, 'gamma': 1, 'zeta': 1.0},\n",
       " {'type': 'G4', 'turbine': 'Siemens', 'eta': 7.75, 'gamma': -1, 'zeta': 2.0},\n",
       " {'type': 'G4', 'turbine': 'Siemens', 'eta': 7.75, 'gamma': 1, 'zeta': 2.0},\n",
       " {'type': 'G4', 'turbine': 'Siemens', 'eta': 7.75, 'gamma': -1, 'zeta': 3.0},\n",
       " {'type': 'G4', 'turbine': 'Siemens', 'eta': 7.75, 'gamma': 1, 'zeta': 3.0},\n",
       " {'type': 'G4', 'turbine': 'Siemens', 'eta': 10.0, 'gamma': -1, 'zeta': 1.0},\n",
       " {'type': 'G4', 'turbine': 'Siemens', 'eta': 10.0, 'gamma': 1, 'zeta': 1.0},\n",
       " {'type': 'G4', 'turbine': 'Siemens', 'eta': 10.0, 'gamma': -1, 'zeta': 2.0},\n",
       " {'type': 'G4', 'turbine': 'Siemens', 'eta': 10.0, 'gamma': 1, 'zeta': 2.0},\n",
       " {'type': 'G4', 'turbine': 'Siemens', 'eta': 10.0, 'gamma': -1, 'zeta': 3.0},\n",
       " {'type': 'G4', 'turbine': 'Siemens', 'eta': 10.0, 'gamma': 1, 'zeta': 3.0},\n",
       " {'type': 'G6', 'turbine': 'Siemens', 'eta': 1.0, 'gamma': -1, 'zeta': 0.0},\n",
       " {'type': 'G6', 'turbine': 'Siemens', 'eta': 1.0, 'gamma': 1, 'zeta': 0.0},\n",
       " {'type': 'G6', 'turbine': 'Siemens', 'eta': 1.0, 'gamma': -1, 'zeta': 0.75},\n",
       " {'type': 'G6', 'turbine': 'Siemens', 'eta': 1.0, 'gamma': 1, 'zeta': 0.75},\n",
       " {'type': 'G6', 'turbine': 'Siemens', 'eta': 1.0, 'gamma': -1, 'zeta': 1.5},\n",
       " {'type': 'G6', 'turbine': 'Siemens', 'eta': 1.0, 'gamma': 1, 'zeta': 1.5},\n",
       " {'type': 'G6', 'turbine': 'Siemens', 'eta': 1.0, 'gamma': -1, 'zeta': 2.25},\n",
       " {'type': 'G6', 'turbine': 'Siemens', 'eta': 1.0, 'gamma': 1, 'zeta': 2.25},\n",
       " {'type': 'G6', 'turbine': 'Siemens', 'eta': 1.0, 'gamma': -1, 'zeta': 3.0},\n",
       " {'type': 'G6', 'turbine': 'Siemens', 'eta': 1.0, 'gamma': 1, 'zeta': 3.0},\n",
       " {'type': 'G6', 'turbine': 'Siemens', 'eta': 3.25, 'gamma': -1, 'zeta': 0.0},\n",
       " {'type': 'G6', 'turbine': 'Siemens', 'eta': 3.25, 'gamma': 1, 'zeta': 0.0},\n",
       " {'type': 'G6', 'turbine': 'Siemens', 'eta': 3.25, 'gamma': -1, 'zeta': 0.75},\n",
       " {'type': 'G6', 'turbine': 'Siemens', 'eta': 3.25, 'gamma': 1, 'zeta': 0.75},\n",
       " {'type': 'G6', 'turbine': 'Siemens', 'eta': 3.25, 'gamma': -1, 'zeta': 1.5},\n",
       " {'type': 'G6', 'turbine': 'Siemens', 'eta': 3.25, 'gamma': 1, 'zeta': 1.5},\n",
       " {'type': 'G6', 'turbine': 'Siemens', 'eta': 3.25, 'gamma': -1, 'zeta': 2.25},\n",
       " {'type': 'G6', 'turbine': 'Siemens', 'eta': 3.25, 'gamma': 1, 'zeta': 2.25},\n",
       " {'type': 'G6', 'turbine': 'Siemens', 'eta': 3.25, 'gamma': -1, 'zeta': 3.0},\n",
       " {'type': 'G6', 'turbine': 'Siemens', 'eta': 3.25, 'gamma': 1, 'zeta': 3.0},\n",
       " {'type': 'G6', 'turbine': 'Siemens', 'eta': 5.5, 'gamma': -1, 'zeta': 0.0},\n",
       " {'type': 'G6', 'turbine': 'Siemens', 'eta': 5.5, 'gamma': 1, 'zeta': 0.0},\n",
       " {'type': 'G6', 'turbine': 'Siemens', 'eta': 5.5, 'gamma': -1, 'zeta': 0.75},\n",
       " {'type': 'G6', 'turbine': 'Siemens', 'eta': 5.5, 'gamma': 1, 'zeta': 0.75},\n",
       " {'type': 'G6', 'turbine': 'Siemens', 'eta': 5.5, 'gamma': -1, 'zeta': 1.5},\n",
       " {'type': 'G6', 'turbine': 'Siemens', 'eta': 5.5, 'gamma': 1, 'zeta': 1.5},\n",
       " {'type': 'G6', 'turbine': 'Siemens', 'eta': 5.5, 'gamma': -1, 'zeta': 2.25},\n",
       " {'type': 'G6', 'turbine': 'Siemens', 'eta': 5.5, 'gamma': 1, 'zeta': 2.25},\n",
       " {'type': 'G6', 'turbine': 'Siemens', 'eta': 5.5, 'gamma': -1, 'zeta': 3.0},\n",
       " {'type': 'G6', 'turbine': 'Siemens', 'eta': 5.5, 'gamma': 1, 'zeta': 3.0},\n",
       " {'type': 'G6', 'turbine': 'Siemens', 'eta': 7.75, 'gamma': -1, 'zeta': 0.0},\n",
       " {'type': 'G6', 'turbine': 'Siemens', 'eta': 7.75, 'gamma': 1, 'zeta': 0.0},\n",
       " {'type': 'G6', 'turbine': 'Siemens', 'eta': 7.75, 'gamma': -1, 'zeta': 0.75},\n",
       " {'type': 'G6', 'turbine': 'Siemens', 'eta': 7.75, 'gamma': 1, 'zeta': 0.75},\n",
       " {'type': 'G6', 'turbine': 'Siemens', 'eta': 7.75, 'gamma': -1, 'zeta': 1.5},\n",
       " {'type': 'G6', 'turbine': 'Siemens', 'eta': 7.75, 'gamma': 1, 'zeta': 1.5},\n",
       " {'type': 'G6', 'turbine': 'Siemens', 'eta': 7.75, 'gamma': -1, 'zeta': 2.25},\n",
       " {'type': 'G6', 'turbine': 'Siemens', 'eta': 7.75, 'gamma': 1, 'zeta': 2.25},\n",
       " {'type': 'G6', 'turbine': 'Siemens', 'eta': 7.75, 'gamma': -1, 'zeta': 3.0},\n",
       " {'type': 'G6', 'turbine': 'Siemens', 'eta': 7.75, 'gamma': 1, 'zeta': 3.0},\n",
       " {'type': 'G6', 'turbine': 'Siemens', 'eta': 10.0, 'gamma': -1, 'zeta': 0.0},\n",
       " {'type': 'G6', 'turbine': 'Siemens', 'eta': 10.0, 'gamma': 1, 'zeta': 0.0},\n",
       " {'type': 'G6', 'turbine': 'Siemens', 'eta': 10.0, 'gamma': -1, 'zeta': 0.75},\n",
       " {'type': 'G6', 'turbine': 'Siemens', 'eta': 10.0, 'gamma': 1, 'zeta': 0.75},\n",
       " {'type': 'G6', 'turbine': 'Siemens', 'eta': 10.0, 'gamma': -1, 'zeta': 1.5},\n",
       " {'type': 'G6', 'turbine': 'Siemens', 'eta': 10.0, 'gamma': 1, 'zeta': 1.5},\n",
       " {'type': 'G6', 'turbine': 'Siemens', 'eta': 10.0, 'gamma': -1, 'zeta': 2.25},\n",
       " {'type': 'G6', 'turbine': 'Siemens', 'eta': 10.0, 'gamma': 1, 'zeta': 2.25},\n",
       " {'type': 'G6', 'turbine': 'Siemens', 'eta': 10.0, 'gamma': -1, 'zeta': 3.0},\n",
       " {'type': 'G6', 'turbine': 'Siemens', 'eta': 10.0, 'gamma': 1, 'zeta': 3.0}]"
      ]
     },
     "execution_count": 32,
     "metadata": {},
     "output_type": "execute_result"
    }
   ],
   "source": [
    "Gs"
   ]
  },
  {
   "cell_type": "code",
   "execution_count": 33,
   "metadata": {
    "executionInfo": {
     "elapsed": 10,
     "status": "ok",
     "timestamp": 1637598620208,
     "user": {
      "displayName": "Muhammed Nedim Söğüt",
      "photoUrl": "https://lh3.googleusercontent.com/a-/AOh14Gi7CHj6vsdvLbpZe4gviCH_RX4DfZaqg6OrfDwc=s64",
      "userId": "14768761371783583511"
     },
     "user_tz": 0
    },
    "id": "FkkVLsU76O4C"
   },
   "outputs": [],
   "source": [
    "#Gs = {\"Siemens\": [{\"type\":\"G2\", \"turbine\":\"Siemens\",\"eta\":7.83091952, \"offset\": 1.},\n",
    "#                  {\"type\":\"G4\", \"turbine\":\"Siemens\",\"eta\":1.91278235, \"gamma\":4., \"zeta\": 1.0},\n",
    "#                  {\"type\":\"G6\", \"turbine\":\"Siemens\",\"eta\":0.8768927, \"gamma\": 0.5, \"zeta\": 1.0}\n",
    "#                 ]}\n",
    "finpr=pyturb.FingerprintCalculator(cutoff=4001,Gs=Gs,Rct=3000,delta_R=100,cone_grad=0.12582561117875557, cone_offset=72.24947126849844)\n",
    "count=0\n",
    "dataset_fp=np.empty(shape=(0, len(Gs)))\n",
    "dataset_ws=np.empty(shape=(0, 1))\n",
    "dataset_pos=np.empty(shape=(0, 2))\n",
    "for i in range(numsims):\n",
    "    numturb=dataset_full[\"Num_tot_turb\"].iloc[count]\n",
    "    position = np.empty((numturb,2))\n",
    "    ws = np.empty((numturb,1))\n",
    "    fp = np.empty((numturb,3))\n",
    "    for k in range(numturb):\n",
    "        position[k,0]=dataset_full.at[count,\"X_coord\"]\n",
    "        position[k,1]=dataset_full.at[count,\"Y_coord\"]\n",
    "        ws[k,0]=dataset_full.at[count,\"Ref_wind\"]\n",
    "        count = count+ 1\n",
    "    neigh=nl.calculate(turb*numturb,position)\n",
    "    fingerprints=finpr.calculate(turb*numturb,position,neigh,symbol)\n",
    "    fingerprints=np.array(fingerprints)\n",
    "    dataset_fp=np.append(dataset_fp,fingerprints,axis=0)\n",
    "    dataset_ws=np.append(dataset_ws,ws,axis=0)\n",
    "    dataset_pos=np.append(dataset_pos,position,axis=0)\n",
    "dataset=np.concatenate((dataset_fp, dataset_ws),axis=1)\n",
    "dataset = pd.DataFrame(dataset)\n",
    "\n",
    "train_dataset = dataset.sample(frac=0.8, random_state=0)\n",
    "test_dataset = dataset.drop(train_dataset.index)\n",
    "\n",
    "train_features = train_dataset.copy()\n",
    "test_features = test_dataset.copy()\n",
    "all_features = dataset.copy()\n",
    "\n",
    "train_labels = train_features.iloc[:,-1]\n",
    "test_labels = test_features.iloc[:,-1]\n",
    "all_labels = all_features.iloc[:,-1]"
   ]
  },
  {
   "cell_type": "code",
   "execution_count": 34,
   "metadata": {},
   "outputs": [],
   "source": [
    "normalizer = preprocessing.Normalization(axis=-1)\n",
    "normalizer.adapt(np.array(train_features))"
   ]
  },
  {
   "cell_type": "code",
   "execution_count": 35,
   "metadata": {
    "colab": {
     "base_uri": "https://localhost:8080/"
    },
    "executionInfo": {
     "elapsed": 10,
     "status": "ok",
     "timestamp": 1637598620543,
     "user": {
      "displayName": "Muhammed Nedim Söğüt",
      "photoUrl": "https://lh3.googleusercontent.com/a-/AOh14Gi7CHj6vsdvLbpZe4gviCH_RX4DfZaqg6OrfDwc=s64",
      "userId": "14768761371783583511"
     },
     "user_tz": 0
    },
    "id": "jT66MAz8_qz1",
    "outputId": "91df6f2c-bcee-44b9-ae6f-3e2a378f50b4"
   },
   "outputs": [
    {
     "name": "stdout",
     "output_type": "stream",
     "text": [
      "Model: \"sequential_3\"\n",
      "_________________________________________________________________\n",
      " Layer (type)                Output Shape              Param #   \n",
      "=================================================================\n",
      " normalization_3 (Normalizat  (None, 86)               173       \n",
      " ion)                                                            \n",
      "                                                                 \n",
      " dense_15 (Dense)            (None, 64)                5568      \n",
      "                                                                 \n",
      " dense_16 (Dense)            (None, 64)                4160      \n",
      "                                                                 \n",
      " dense_17 (Dense)            (None, 32)                2080      \n",
      "                                                                 \n",
      " dense_18 (Dense)            (None, 16)                528       \n",
      "                                                                 \n",
      " dense_19 (Dense)            (None, 1)                 17        \n",
      "                                                                 \n",
      "=================================================================\n",
      "Total params: 12,526\n",
      "Trainable params: 12,353\n",
      "Non-trainable params: 173\n",
      "_________________________________________________________________\n"
     ]
    }
   ],
   "source": [
    "dnn_model = build_and_compile_model(normalizer)\n",
    "dnn_model.summary()"
   ]
  },
  {
   "cell_type": "code",
   "execution_count": 36,
   "metadata": {
    "colab": {
     "base_uri": "https://localhost:8080/"
    },
    "executionInfo": {
     "elapsed": 5743,
     "status": "ok",
     "timestamp": 1637598626283,
     "user": {
      "displayName": "Muhammed Nedim Söğüt",
      "photoUrl": "https://lh3.googleusercontent.com/a-/AOh14Gi7CHj6vsdvLbpZe4gviCH_RX4DfZaqg6OrfDwc=s64",
      "userId": "14768761371783583511"
     },
     "user_tz": 0
    },
    "id": "BxYKBgly_vKz",
    "outputId": "8234c669-98e3-47c4-e99d-a3dba3fe9fe5"
   },
   "outputs": [
    {
     "name": "stdout",
     "output_type": "stream",
     "text": [
      "CPU times: user 8.22 s, sys: 1.62 s, total: 9.84 s\n",
      "Wall time: 5.87 s\n"
     ]
    }
   ],
   "source": [
    "%%time\n",
    "history = dnn_model.fit(\n",
    "    train_features, train_labels,\n",
    "    validation_split=0.2,\n",
    "    verbose=0, epochs=120)"
   ]
  },
  {
   "cell_type": "code",
   "execution_count": 37,
   "metadata": {
    "colab": {
     "base_uri": "https://localhost:8080/",
     "height": 283
    },
    "executionInfo": {
     "elapsed": 451,
     "status": "ok",
     "timestamp": 1637598626728,
     "user": {
      "displayName": "Muhammed Nedim Söğüt",
      "photoUrl": "https://lh3.googleusercontent.com/a-/AOh14Gi7CHj6vsdvLbpZe4gviCH_RX4DfZaqg6OrfDwc=s64",
      "userId": "14768761371783583511"
     },
     "user_tz": 0
    },
    "id": "IRSzsfQ5_yZt",
    "outputId": "76204080-d7db-4c5e-ac64-31d6a2d260b0"
   },
   "outputs": [
    {
     "data": {
      "image/png": "[encoded data removed]",
      "text/plain": [
       "<Figure size 432x288 with 1 Axes>"
      ]
     },
     "metadata": {
      "needs_background": "light"
     },
     "output_type": "display_data"
    }
   ],
   "source": [
    "plot_loss(history)"
   ]
  },
  {
   "cell_type": "code",
   "execution_count": 38,
   "metadata": {
    "colab": {
     "base_uri": "https://localhost:8080/",
     "height": 284
    },
    "executionInfo": {
     "elapsed": 624,
     "status": "ok",
     "timestamp": 1637598627348,
     "user": {
      "displayName": "Muhammed Nedim Söğüt",
      "photoUrl": "https://lh3.googleusercontent.com/a-/AOh14Gi7CHj6vsdvLbpZe4gviCH_RX4DfZaqg6OrfDwc=s64",
      "userId": "14768761371783583511"
     },
     "user_tz": 0
    },
    "id": "dHtOGkBy_8JM",
    "outputId": "c023a307-e6d1-4432-db40-d371d440fecc"
   },
   "outputs": [
    {
     "data": {
      "image/png": "[encoded data removed]",
      "text/plain": [
       "<Figure size 432x288 with 1 Axes>"
      ]
     },
     "metadata": {
      "needs_background": "light"
     },
     "output_type": "display_data"
    }
   ],
   "source": [
    "test_predictions = dnn_model.predict(test_features).flatten()\n",
    "train_predictions = dnn_model.predict(train_features).flatten()\n",
    "#test_predictions_0 = dnn_model.predict(test_features[\"Fingerprint(G2)\"]==0).flatten()\n",
    "#train_predictions_0 = dnn_model.predict(train_features[\"Fingerprint(G2)\"]==0).flatten()\n",
    "a = plt.axes(aspect='equal')\n",
    "plt.scatter(test_labels, test_predictions)#,c=test_features[\"Fingerprint(G2)\"])\n",
    "plt.scatter(train_labels, train_predictions)#,c=train_features[\"Fingerprint(G2)\"])\n",
    "plt.xlabel('True Values [Ref_wind_speed]')\n",
    "plt.ylabel('Predictions [Ref_wind_speed]')\n",
    "#cbar=plt.colorbar()\n",
    "#cbar.set_label('Fingerprint(G2)')\n",
    "lims = [4.5, 8]\n",
    "plt.xlim(lims)\n",
    "plt.ylim(lims)\n",
    "_ = plt.plot(lims, lims)"
   ]
  },
  {
   "cell_type": "code",
   "execution_count": 39,
   "metadata": {},
   "outputs": [
    {
     "data": {
      "image/png": "[encoded data removed]",
      "text/plain": [
       "<Figure size 432x288 with 2 Axes>"
      ]
     },
     "metadata": {
      "needs_background": "light"
     },
     "output_type": "display_data"
    }
   ],
   "source": [
    "all_predictions = dnn_model.predict(all_features).flatten()\n",
    "a = plt.axes\n",
    "error_all=np.abs(all_predictions-all_labels)\n",
    "\n",
    "plt.scatter(dataset_pos[:,0], dataset_pos[:,1],c=error_all)\n",
    "#plt.scatter(train_features[\"Fingerprint(G2)\"], train_features[\"Fingerprint(G4)\"],c=train_labels)\n",
    "#plt.scatter(train_labels, train_predictions)\n",
    "plt.xlabel('X-axis')\n",
    "plt.ylabel('Y-axis')\n",
    "plt.title('Error Rate Locations')\n",
    "cbar=plt.colorbar()\n",
    "cbar.set_label('Absolute Error Rate (m/s)')"
   ]
  },
  {
   "cell_type": "code",
   "execution_count": null,
   "metadata": {
    "colab": {
     "base_uri": "https://localhost:8080/"
    },
    "executionInfo": {
     "elapsed": 228,
     "status": "ok",
     "timestamp": 1637598641922,
     "user": {
      "displayName": "Muhammed Nedim Söğüt",
      "photoUrl": "https://lh3.googleusercontent.com/a-/AOh14Gi7CHj6vsdvLbpZe4gviCH_RX4DfZaqg6OrfDwc=s64",
      "userId": "14768761371783583511"
     },
     "user_tz": 0
    },
    "id": "flMoSq1TA3k_",
    "outputId": "ea4db5db-0f8c-4e2b-acca-67cceb376cd0",
    "scrolled": true
   },
   "outputs": [],
   "source": [
    "arg=np.argsort(error_all)\n",
    "error_all[arg]"
   ]
  },
  {
   "cell_type": "code",
   "execution_count": null,
   "metadata": {
    "colab": {
     "base_uri": "https://localhost:8080/",
     "height": 296
    },
    "executionInfo": {
     "elapsed": 18,
     "status": "ok",
     "timestamp": 1637598627833,
     "user": {
      "displayName": "Muhammed Nedim Söğüt",
      "photoUrl": "https://lh3.googleusercontent.com/a-/AOh14Gi7CHj6vsdvLbpZe4gviCH_RX4DfZaqg6OrfDwc=s64",
      "userId": "14768761371783583511"
     },
     "user_tz": 0
    },
    "id": "l-ggP6fm8CUJ",
    "outputId": "7beb1008-2768-4642-8cbe-252757b1a37e"
   },
   "outputs": [],
   "source": [
    "all_predictions = dnn_model.predict(all_features).flatten()\n",
    "a = plt.axes\n",
    "error_all=np.abs(all_predictions-all_labels)\n",
    "\n",
    "plt.scatter(dataset_pos[arg[-20:],0], dataset_pos[arg[-20:],1],c=error_all[arg[-20:]])\n",
    "#plt.scatter(train_features[\"Fingerprint(G2)\"], train_features[\"Fingerprint(G4)\"],c=train_labels)\n",
    "#plt.scatter(train_labels, train_predictions)\n",
    "plt.xlabel('X-axis')\n",
    "plt.ylabel('Y-axis')\n",
    "plt.colorbar()"
   ]
  },
  {
   "cell_type": "code",
   "execution_count": null,
   "metadata": {},
   "outputs": [],
   "source": [
    "dataset_pos[523]\n",
    "all_predictions[523]\n",
    "#all_labels[523]"
   ]
  },
  {
   "cell_type": "code",
   "execution_count": null,
   "metadata": {
    "colab": {
     "base_uri": "https://localhost:8080/",
     "height": 280
    },
    "executionInfo": {
     "elapsed": 335,
     "status": "ok",
     "timestamp": 1637598628159,
     "user": {
      "displayName": "Muhammed Nedim Söğüt",
      "photoUrl": "https://lh3.googleusercontent.com/a-/AOh14Gi7CHj6vsdvLbpZe4gviCH_RX4DfZaqg6OrfDwc=s64",
      "userId": "14768761371783583511"
     },
     "user_tz": 0
    },
    "id": "23zkkl1WAiNj",
    "outputId": "de776c7a-05a9-4ea3-9f01-1645976e1761"
   },
   "outputs": [],
   "source": [
    "error = test_predictions - test_labels\n",
    "plt.hist(error, bins=10)\n",
    "plt.xlabel('Prediction Error [Ref_wind_speed]')\n",
    "_ = plt.ylabel('Count')"
   ]
  },
  {
   "cell_type": "code",
   "execution_count": null,
   "metadata": {
    "colab": {
     "base_uri": "https://localhost:8080/"
    },
    "executionInfo": {
     "elapsed": 1433,
     "status": "ok",
     "timestamp": 1637322784200,
     "user": {
      "displayName": "Muhammed Nedim Söğüt",
      "photoUrl": "https://lh3.googleusercontent.com/a-/AOh14Gi7CHj6vsdvLbpZe4gviCH_RX4DfZaqg6OrfDwc=s64",
      "userId": "14768761371783583511"
     },
     "user_tz": 0
    },
    "id": "DiosGFVeA19b",
    "outputId": "3d61d28e-c50f-4e6d-d686-c9a373027694"
   },
   "outputs": [],
   "source": [
    "dnn_model.save('dnn_model')"
   ]
  },
  {
   "cell_type": "code",
   "execution_count": null,
   "metadata": {
    "colab": {
     "base_uri": "https://localhost:8080/"
    },
    "executionInfo": {
     "elapsed": 228,
     "status": "ok",
     "timestamp": 1637598640621,
     "user": {
      "displayName": "Muhammed Nedim Söğüt",
      "photoUrl": "https://lh3.googleusercontent.com/a-/AOh14Gi7CHj6vsdvLbpZe4gviCH_RX4DfZaqg6OrfDwc=s64",
      "userId": "14768761371783583511"
     },
     "user_tz": 0
    },
    "id": "_VPdEWlkA1B5",
    "outputId": "5fc1921f-3b7a-4e17-efae-0272cdc5815a"
   },
   "outputs": [],
   "source": [
    "print(min(error),max(error))"
   ]
  },
  {
   "cell_type": "code",
   "execution_count": null,
   "metadata": {},
   "outputs": [],
   "source": [
    "arg[30:]"
   ]
  },
  {
   "cell_type": "code",
   "execution_count": null,
   "metadata": {},
   "outputs": [],
   "source": [
    "error_all[577:582]"
   ]
  },
  {
   "cell_type": "code",
   "execution_count": null,
   "metadata": {
    "colab": {
     "base_uri": "https://localhost:8080/",
     "height": 279
    },
    "executionInfo": {
     "elapsed": 476,
     "status": "ok",
     "timestamp": 1637322784673,
     "user": {
      "displayName": "Muhammed Nedim Söğüt",
      "photoUrl": "https://lh3.googleusercontent.com/a-/AOh14Gi7CHj6vsdvLbpZe4gviCH_RX4DfZaqg6OrfDwc=s64",
      "userId": "14768761371783583511"
     },
     "user_tz": 0
    },
    "id": "gZj1hkCX2wf1",
    "outputId": "89849e47-1aa5-473a-9bde-b7bbaa1aa7a5"
   },
   "outputs": [],
   "source": [
    "import matplotlib.cm as cm\n",
    "plt.scatter(dataset['Fingerprint(G4)'],dataset['Fingerprint(G2)'], c=dataset['Ref_Wind_Speed'], s=10, cmap=cm.bwr)\n",
    "cbar= plt.colorbar()\n",
    "plt.xlabel('Fingerprint(G4)')\n",
    "plt.ylabel('Fingerprint(G2)')\n",
    "plt.show()"
   ]
  },
  {
   "cell_type": "code",
   "execution_count": null,
   "metadata": {
    "colab": {
     "base_uri": "https://localhost:8080/"
    },
    "executionInfo": {
     "elapsed": 218,
     "status": "ok",
     "timestamp": 1637598660389,
     "user": {
      "displayName": "Muhammed Nedim Söğüt",
      "photoUrl": "https://lh3.googleusercontent.com/a-/AOh14Gi7CHj6vsdvLbpZe4gviCH_RX4DfZaqg6OrfDwc=s64",
      "userId": "14768761371783583511"
     },
     "user_tz": 0
    },
    "id": "7ZhO04q-lq-j",
    "outputId": "daa17f3c-fa29-481d-e535-843bda31ff42"
   },
   "outputs": [],
   "source": [
    "dnn_model.evaluate(test_features, test_labels, verbose=0)"
   ]
  },
  {
   "cell_type": "code",
   "execution_count": null,
   "metadata": {
    "id": "DSo9UvnO0Qo2"
   },
   "outputs": [],
   "source": [
    "import numpy\n",
    "from mayavi.mlab import *\n",
    "\n",
    "def test_points3d():\n",
    "\n",
    "\n",
    "    x = all_features[\"Fingerprint(G2)\"]\n",
    "    y = all_features[\"Fingerprint(G4)\"]\n",
    "    z = all_features[\"Fingerprint(G6)\"]\n",
    "    s = error_all\n",
    "    colorbar(orientation='vertical')\n",
    "    xlabel('Fingerprint(G2)')\n",
    "    ylabel('Fingerprint(G4)')\n",
    "    zlabel('Fingerprint(G6)')\n",
    "    return points3d(x, y, z, s, colormap=\"blue-red\", scale_factor=0.05)\n",
    "test_points3d()\n",
    "#colorbar(object=all_labels, title=\"Points in Mayavi\")\n",
    "#view()\n",
    "show()"
   ]
  },
  {
   "cell_type": "code",
   "execution_count": null,
   "metadata": {},
   "outputs": [],
   "source": []
  }
 ],
 "metadata": {
  "colab": {
   "collapsed_sections": [],
   "name": "Turbine_short_version.ipynb",
   "provenance": [
    {
     "file_id": "1UWQk13gYCPngG8v-VRnmZuC62CBCI0tM",
     "timestamp": 1633258861452
    }
   ]
  },
  "kernelspec": {
   "display_name": "Python 3 (ipykernel)",
   "language": "python",
   "name": "python3"
  },
  "language_info": {
   "codemirror_mode": {
    "name": "ipython",
    "version": 3
   },
   "file_extension": ".py",
   "mimetype": "text/x-python",
   "name": "python",
   "nbconvert_exporter": "python",
   "pygments_lexer": "ipython3",
   "version": "3.9.10"
  }
 },
 "nbformat": 4,
 "nbformat_minor": 1
}
