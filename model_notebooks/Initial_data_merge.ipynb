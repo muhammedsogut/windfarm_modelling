{
 "cells": [
  {
   "cell_type": "code",
   "execution_count": 1,
   "id": "4a93cb51",
   "metadata": {},
   "outputs": [],
   "source": [
    "import numpy as np\n",
    "import pandas as pd\n",
    "import os\n",
    "os.chdir(\"..\")\n",
    "import read_zcfd\n",
    "turb_data = pd.DataFrame() # Create an empty DataFrame to store the loaded data"
   ]
  },
  {
   "cell_type": "code",
   "execution_count": 2,
   "id": "f4efbbc7",
   "metadata": {},
   "outputs": [],
   "source": [
    "def load_two_turbine(numturb, wind_speed, path):\n",
    "    for filename in os.listdir(path):\n",
    "        if filename.endswith('.csv'):  # Only consider CSV files\n",
    "            # Extract distance and angle from the file name\n",
    "            basename = os.path.splitext(filename)[0]  # Remove file extension\n",
    "            parts = basename.split('_')\n",
    "            angle = float(parts[1].replace('p', '.'))  # Convert 'p' to '.'\n",
    "            distance = int(parts[4])\n",
    "        \n",
    "            filepath = os.path.join(path, filename)  # Construct the full file path\n",
    "        \n",
    "            data = read_zcfd.read(numturb, filepath, wind_speed,\n",
    "                                np.array([[0., 0.], [distance * np.cos(np.deg2rad(270 - angle)), distance * np.sin(np.deg2rad(270 - angle))]]),\n",
    "                                '{}_turbine_{}_degrees_{}_meters'.format(numturb, angle, distance))\n",
    "    return turb_data"
   ]
  },
  {
   "cell_type": "code",
   "execution_count": 3,
   "id": "9e0d80dd",
   "metadata": {},
   "outputs": [],
   "source": [
    "# Loading 2 turbine cases with 4 m/s wind speed\n",
    "numturb = 2\n",
    "wind_speed = 4\n",
    "path = 'turbine_files/2_turbine/4_m_s'\n",
    "\n",
    "turb_data = pd.concat([turb_data, load_two_turbine(numturb, wind_speed, path)])"
   ]
  },
  {
   "cell_type": "code",
   "execution_count": 4,
   "id": "9a687415",
   "metadata": {},
   "outputs": [],
   "source": [
    "# Loading 2 turbine cases with 6 m/s wind speed\n",
    "numturb = 2\n",
    "wind_speed = 6\n",
    "path = 'turbine_files/2_turbine/6_m_s'\n",
    "\n",
    "turb_data = pd.concat([turb_data, load_two_turbine(numturb, wind_speed, path)])"
   ]
  },
  {
   "cell_type": "code",
   "execution_count": 5,
   "id": "77b63694",
   "metadata": {},
   "outputs": [],
   "source": [
    "# Loading 2 turbine cases with 8 m/s wind speed\n",
    "numturb = 2\n",
    "wind_speed = 8\n",
    "path = 'turbine_files/2_turbine/8_m_s'\n",
    "\n",
    "turb_data = pd.concat([turb_data, load_two_turbine(numturb, wind_speed, path)])"
   ]
  },
  {
   "cell_type": "code",
   "execution_count": 6,
   "id": "d96b0577",
   "metadata": {},
   "outputs": [],
   "source": [
    "# Loading 2 turbine cases with 10 m/s wind speed\n",
    "numturb = 2\n",
    "wind_speed = 10\n",
    "path = 'turbine_files/2_turbine/10_m_s'\n",
    "\n",
    "turb_data = pd.concat([turb_data, load_two_turbine(numturb, wind_speed, path)])"
   ]
  },
  {
   "cell_type": "code",
   "execution_count": 7,
   "id": "aec97ddc",
   "metadata": {},
   "outputs": [],
   "source": [
    "# Loading 2 turbine cases with 12 m/s wind speed\n",
    "numturb = 2\n",
    "wind_speed = 12\n",
    "path = 'turbine_files/2_turbine/12_m_s'\n",
    "\n",
    "turb_data = pd.concat([turb_data, load_two_turbine(numturb, wind_speed, path)])"
   ]
  },
  {
   "cell_type": "code",
   "execution_count": 8,
   "id": "ecba9865",
   "metadata": {},
   "outputs": [],
   "source": [
    "# Loading 2 turbine cases with 14 m/s wind speed\n",
    "numturb = 2\n",
    "wind_speed = 14\n",
    "path = 'turbine_files/2_turbine/14_m_s'\n",
    "\n",
    "turb_data = pd.concat([turb_data, load_two_turbine(numturb, wind_speed, path)])"
   ]
  },
  {
   "cell_type": "code",
   "execution_count": 9,
   "id": "59b7cf59",
   "metadata": {},
   "outputs": [],
   "source": [
    "# Loading 2 turbine cases with 16 m/s wind speed\n",
    "numturb = 2\n",
    "wind_speed = 16\n",
    "path = 'turbine_files/2_turbine/16_m_s'\n",
    "\n",
    "turb_data = pd.concat([turb_data, load_two_turbine(numturb, wind_speed, path)])"
   ]
  },
  {
   "cell_type": "code",
   "execution_count": 10,
   "id": "974f222c",
   "metadata": {},
   "outputs": [],
   "source": [
    "# Loading 2 turbine cases with 18 m/s wind speed\n",
    "numturb = 2\n",
    "wind_speed = 18\n",
    "path = 'turbine_files/2_turbine/18_m_s'\n",
    "\n",
    "turb_data = pd.concat([turb_data, load_two_turbine(numturb, wind_speed, path)])"
   ]
  },
  {
   "cell_type": "code",
   "execution_count": 11,
   "id": "f4456b1f",
   "metadata": {},
   "outputs": [],
   "source": [
    "# Loading 2 turbine cases with 20 m/s wind speed\n",
    "numturb = 2\n",
    "wind_speed = 20\n",
    "path = 'turbine_files/2_turbine/20_m_s'\n",
    "\n",
    "turb_data = pd.concat([turb_data, load_two_turbine(numturb, wind_speed, path)])"
   ]
  },
  {
   "cell_type": "code",
   "execution_count": 12,
   "id": "01679e62",
   "metadata": {},
   "outputs": [],
   "source": [
    "def load_three_turbine(numturb, wind_speed, path, coord_data_path):\n",
    "    df_loc = pd.read_csv(coord_data_path, sep=',', index_col=0, header=0)\n",
    "\n",
    "    turb_data = pd.DataFrame()  # Create an empty DataFrame to store the turbine data\n",
    "\n",
    "    for filename in os.listdir(path):\n",
    "        if filename.endswith('.csv'):  # Only consider CSV files\n",
    "            basename = int(os.path.splitext(filename)[0])  # Remove file extension\n",
    "            \n",
    "            # Check if the basename exists in the coordinate data DataFrame\n",
    "            if basename in df_loc.index:\n",
    "                filepath = os.path.join(path, filename)  # Construct the full file path\n",
    "                \n",
    "                # Call the read_zcfd function to read turbine data\n",
    "                data = read_zcfd.read(numturb, filepath, wind_speed,\n",
    "                                      np.array([[df_loc.at[basename,'X0'],df_loc.at[basename,'Y0']],\n",
    "                                                [df_loc.at[basename,'X1'],df_loc.at[basename,'Y1']],\n",
    "                                                [df_loc.at[basename,'X2'],df_loc.at[basename,'Y2']]]\n",
    "                                              ),\n",
    "                                      str('%s_turbine_%sth_simulation' %(numturb, basename)))\n",
    "                \n",
    "                turb_data = pd.concat([turb_data, data])  # Concatenate the data to the turb_data DataFrame\n",
    "            else:\n",
    "                print(f\"Warning: Coordinate data not found for {basename}. Skipping file.\")\n",
    "    \n",
    "    return turb_data"
   ]
  },
  {
   "cell_type": "code",
   "execution_count": 13,
   "id": "df866807",
   "metadata": {},
   "outputs": [],
   "source": [
    "numturb = 3\n",
    "wind_speed = 6\n",
    "path = 'turbine_files/3_turbine/6_m_s'\n",
    "coord_data_path = 'turbine_files/3_turbine/coordinate_files/coord_6m_s.csv'\n",
    "\n",
    "turb_data = pd.concat([turb_data, load_three_turbine(numturb, wind_speed, path, coord_data_path)])"
   ]
  },
  {
   "cell_type": "code",
   "execution_count": 14,
   "id": "afa79733",
   "metadata": {},
   "outputs": [],
   "source": [
    "numturb = 3\n",
    "wind_speed = 8\n",
    "path = 'turbine_files/3_turbine/8_m_s'\n",
    "coord_data_path = 'turbine_files/3_turbine/coordinate_files/coord_8m_s.csv'\n",
    "\n",
    "turb_data = pd.concat([turb_data, load_three_turbine(numturb, wind_speed, path, coord_data_path)])"
   ]
  },
  {
   "cell_type": "code",
   "execution_count": 15,
   "id": "dce417f5",
   "metadata": {},
   "outputs": [],
   "source": [
    "numturb = 3\n",
    "wind_speed = 10\n",
    "path = 'turbine_files/3_turbine/10_m_s'\n",
    "coord_data_path = 'turbine_files/3_turbine/coordinate_files/coord_10m_s.csv'\n",
    "\n",
    "turb_data = pd.concat([turb_data, load_three_turbine(numturb, wind_speed, path, coord_data_path)])"
   ]
  },
  {
   "cell_type": "code",
   "execution_count": 16,
   "id": "0bff82e4",
   "metadata": {},
   "outputs": [],
   "source": [
    "numturb = 3\n",
    "wind_speed = 12\n",
    "path = 'turbine_files/3_turbine/12_m_s'\n",
    "coord_data_path = 'turbine_files/3_turbine/coordinate_files/coord_12m_s.csv'\n",
    "\n",
    "turb_data = pd.concat([turb_data, load_three_turbine(numturb, wind_speed, path, coord_data_path)])"
   ]
  },
  {
   "cell_type": "code",
   "execution_count": 17,
   "id": "0fc377cf",
   "metadata": {},
   "outputs": [],
   "source": [
    "numturb = 3\n",
    "wind_speed = 14\n",
    "path = 'turbine_files/3_turbine/14_m_s'\n",
    "coord_data_path = 'turbine_files/3_turbine/coordinate_files/coord_14m_s.csv'\n",
    "\n",
    "turb_data = pd.concat([turb_data, load_three_turbine(numturb, wind_speed, path, coord_data_path)])"
   ]
  },
  {
   "cell_type": "code",
   "execution_count": 18,
   "id": "4e7934d6",
   "metadata": {},
   "outputs": [],
   "source": [
    "numturb = 3\n",
    "wind_speed = 16\n",
    "path = 'turbine_files/3_turbine/16_m_s'\n",
    "coord_data_path = 'turbine_files/3_turbine/coordinate_files/coord_16m_s.csv'\n",
    "\n",
    "turb_data = pd.concat([turb_data, load_three_turbine(numturb, wind_speed, path, coord_data_path)])"
   ]
  },
  {
   "cell_type": "code",
   "execution_count": 19,
   "id": "b45baacf",
   "metadata": {},
   "outputs": [],
   "source": [
    "numturb = 3\n",
    "wind_speed = 18\n",
    "path = 'turbine_files/3_turbine/18_m_s'\n",
    "coord_data_path = 'turbine_files/3_turbine/coordinate_files/coord_18m_s.csv'\n",
    "\n",
    "turb_data = pd.concat([turb_data, load_three_turbine(numturb, wind_speed, path, coord_data_path)])"
   ]
  },
  {
   "cell_type": "code",
   "execution_count": 20,
   "id": "1034ca25",
   "metadata": {},
   "outputs": [],
   "source": [
    "numturb = 3\n",
    "wind_speed = 20\n",
    "path = 'turbine_files/3_turbine/20_m_s'\n",
    "coord_data_path = 'turbine_files/3_turbine/coordinate_files/coord_20m_s.csv'\n",
    "\n",
    "turb_data = pd.concat([turb_data, load_three_turbine(numturb, wind_speed, path, coord_data_path)])"
   ]
  },
  {
   "cell_type": "code",
   "execution_count": 21,
   "id": "ef1b5049",
   "metadata": {},
   "outputs": [],
   "source": [
    "turb_data=turb_data.reset_index(drop=True)"
   ]
  },
  {
   "cell_type": "code",
   "execution_count": 22,
   "id": "c4cc41f0",
   "metadata": {},
   "outputs": [],
   "source": [
    "k=0\n",
    "count=0\n",
    "turb_data[\"IDnum\"]=pd.Series(dtype=int)\n",
    "for i in range(len(turb_data)):\n",
    "    turb_data.at[i,\"IDnum\"]=k\n",
    "    count = count +1\n",
    "    if (count==turb_data[\"num_tot_turb\"].iloc[i]):\n",
    "        k=k+1\n",
    "        count=0\n",
    "turb_data[\"num_tot_turb\"]=turb_data[\"num_tot_turb\"].astype(int)\n",
    "turb_data[\"turb_num\"]=turb_data[\"turb_num\"].astype(int)\n",
    "turb_data[\"IDnum\"]=turb_data[\"IDnum\"].astype(int)"
   ]
  },
  {
   "cell_type": "code",
   "execution_count": 23,
   "id": "1b8adfa5",
   "metadata": {},
   "outputs": [
    {
     "data": {
      "text/html": [
       "<div>\n",
       "<style scoped>\n",
       "    .dataframe tbody tr th:only-of-type {\n",
       "        vertical-align: middle;\n",
       "    }\n",
       "\n",
       "    .dataframe tbody tr th {\n",
       "        vertical-align: top;\n",
       "    }\n",
       "\n",
       "    .dataframe thead th {\n",
       "        text-align: right;\n",
       "    }\n",
       "</style>\n",
       "<table border=\"1\" class=\"dataframe\">\n",
       "  <thead>\n",
       "    <tr style=\"text-align: right;\">\n",
       "      <th></th>\n",
       "      <th>x_coord</th>\n",
       "      <th>y_coord</th>\n",
       "      <th>ref_wind_speed</th>\n",
       "      <th>wind_speed</th>\n",
       "      <th>turb_num</th>\n",
       "      <th>num_tot_turb</th>\n",
       "      <th>ID</th>\n",
       "      <th>IDnum</th>\n",
       "    </tr>\n",
       "  </thead>\n",
       "  <tbody>\n",
       "    <tr>\n",
       "      <th>0</th>\n",
       "      <td>0.000000</td>\n",
       "      <td>0.0</td>\n",
       "      <td>4.359392</td>\n",
       "      <td>6</td>\n",
       "      <td>0</td>\n",
       "      <td>3</td>\n",
       "      <td>3_turbine_155th_simulation</td>\n",
       "      <td>0</td>\n",
       "    </tr>\n",
       "    <tr>\n",
       "      <th>1</th>\n",
       "      <td>2633.103635</td>\n",
       "      <td>-226.0</td>\n",
       "      <td>4.387136</td>\n",
       "      <td>6</td>\n",
       "      <td>1</td>\n",
       "      <td>3</td>\n",
       "      <td>3_turbine_155th_simulation</td>\n",
       "      <td>0</td>\n",
       "    </tr>\n",
       "    <tr>\n",
       "      <th>2</th>\n",
       "      <td>57.854836</td>\n",
       "      <td>-545.0</td>\n",
       "      <td>4.358929</td>\n",
       "      <td>6</td>\n",
       "      <td>2</td>\n",
       "      <td>3</td>\n",
       "      <td>3_turbine_155th_simulation</td>\n",
       "      <td>0</td>\n",
       "    </tr>\n",
       "    <tr>\n",
       "      <th>3</th>\n",
       "      <td>0.000000</td>\n",
       "      <td>0.0</td>\n",
       "      <td>4.355684</td>\n",
       "      <td>6</td>\n",
       "      <td>0</td>\n",
       "      <td>3</td>\n",
       "      <td>3_turbine_141th_simulation</td>\n",
       "      <td>1</td>\n",
       "    </tr>\n",
       "    <tr>\n",
       "      <th>4</th>\n",
       "      <td>1935.499403</td>\n",
       "      <td>264.0</td>\n",
       "      <td>4.383674</td>\n",
       "      <td>6</td>\n",
       "      <td>1</td>\n",
       "      <td>3</td>\n",
       "      <td>3_turbine_141th_simulation</td>\n",
       "      <td>1</td>\n",
       "    </tr>\n",
       "    <tr>\n",
       "      <th>...</th>\n",
       "      <td>...</td>\n",
       "      <td>...</td>\n",
       "      <td>...</td>\n",
       "      <td>...</td>\n",
       "      <td>...</td>\n",
       "      <td>...</td>\n",
       "      <td>...</td>\n",
       "      <td>...</td>\n",
       "    </tr>\n",
       "    <tr>\n",
       "      <th>3835</th>\n",
       "      <td>294.588246</td>\n",
       "      <td>-52.0</td>\n",
       "      <td>18.847122</td>\n",
       "      <td>20</td>\n",
       "      <td>1</td>\n",
       "      <td>3</td>\n",
       "      <td>3_turbine_65th_simulation</td>\n",
       "      <td>1278</td>\n",
       "    </tr>\n",
       "    <tr>\n",
       "      <th>3836</th>\n",
       "      <td>1773.331277</td>\n",
       "      <td>-295.0</td>\n",
       "      <td>19.222500</td>\n",
       "      <td>20</td>\n",
       "      <td>2</td>\n",
       "      <td>3</td>\n",
       "      <td>3_turbine_65th_simulation</td>\n",
       "      <td>1278</td>\n",
       "    </tr>\n",
       "    <tr>\n",
       "      <th>3837</th>\n",
       "      <td>0.000000</td>\n",
       "      <td>0.0</td>\n",
       "      <td>19.118147</td>\n",
       "      <td>20</td>\n",
       "      <td>0</td>\n",
       "      <td>3</td>\n",
       "      <td>3_turbine_71th_simulation</td>\n",
       "      <td>1279</td>\n",
       "    </tr>\n",
       "    <tr>\n",
       "      <th>3838</th>\n",
       "      <td>3106.576695</td>\n",
       "      <td>-431.0</td>\n",
       "      <td>19.286488</td>\n",
       "      <td>20</td>\n",
       "      <td>1</td>\n",
       "      <td>3</td>\n",
       "      <td>3_turbine_71th_simulation</td>\n",
       "      <td>1279</td>\n",
       "    </tr>\n",
       "    <tr>\n",
       "      <th>3839</th>\n",
       "      <td>624.261321</td>\n",
       "      <td>-139.0</td>\n",
       "      <td>19.148735</td>\n",
       "      <td>20</td>\n",
       "      <td>2</td>\n",
       "      <td>3</td>\n",
       "      <td>3_turbine_71th_simulation</td>\n",
       "      <td>1279</td>\n",
       "    </tr>\n",
       "  </tbody>\n",
       "</table>\n",
       "<p>3840 rows × 8 columns</p>\n",
       "</div>"
      ],
      "text/plain": [
       "          x_coord  y_coord  ref_wind_speed  wind_speed  turb_num  \\\n",
       "0        0.000000      0.0        4.359392           6         0   \n",
       "1     2633.103635   -226.0        4.387136           6         1   \n",
       "2       57.854836   -545.0        4.358929           6         2   \n",
       "3        0.000000      0.0        4.355684           6         0   \n",
       "4     1935.499403    264.0        4.383674           6         1   \n",
       "...           ...      ...             ...         ...       ...   \n",
       "3835   294.588246    -52.0       18.847122          20         1   \n",
       "3836  1773.331277   -295.0       19.222500          20         2   \n",
       "3837     0.000000      0.0       19.118147          20         0   \n",
       "3838  3106.576695   -431.0       19.286488          20         1   \n",
       "3839   624.261321   -139.0       19.148735          20         2   \n",
       "\n",
       "      num_tot_turb                          ID  IDnum  \n",
       "0                3  3_turbine_155th_simulation      0  \n",
       "1                3  3_turbine_155th_simulation      0  \n",
       "2                3  3_turbine_155th_simulation      0  \n",
       "3                3  3_turbine_141th_simulation      1  \n",
       "4                3  3_turbine_141th_simulation      1  \n",
       "...            ...                         ...    ...  \n",
       "3835             3   3_turbine_65th_simulation   1278  \n",
       "3836             3   3_turbine_65th_simulation   1278  \n",
       "3837             3   3_turbine_71th_simulation   1279  \n",
       "3838             3   3_turbine_71th_simulation   1279  \n",
       "3839             3   3_turbine_71th_simulation   1279  \n",
       "\n",
       "[3840 rows x 8 columns]"
      ]
     },
     "execution_count": 23,
     "metadata": {},
     "output_type": "execute_result"
    }
   ],
   "source": [
    "turb_data"
   ]
  },
  {
   "cell_type": "code",
   "execution_count": 24,
   "id": "77d002c7",
   "metadata": {},
   "outputs": [],
   "source": [
    "turb_data.to_csv('turb_data.csv',index=False)"
   ]
  },
  {
   "cell_type": "code",
   "execution_count": null,
   "id": "f0a71a83",
   "metadata": {},
   "outputs": [],
   "source": []
  }
 ],
 "metadata": {
  "kernelspec": {
   "display_name": "Python 3 (ipykernel)",
   "language": "python",
   "name": "python3"
  },
  "language_info": {
   "codemirror_mode": {
    "name": "ipython",
    "version": 3
   },
   "file_extension": ".py",
   "mimetype": "text/x-python",
   "name": "python",
   "nbconvert_exporter": "python",
   "pygments_lexer": "ipython3",
   "version": "3.9.10"
  }
 },
 "nbformat": 4,
 "nbformat_minor": 5
}
