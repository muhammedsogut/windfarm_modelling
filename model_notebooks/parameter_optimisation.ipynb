{
 "cells": [
  {
   "cell_type": "code",
   "execution_count": null,
   "id": "cfc60910",
   "metadata": {},
   "outputs": [],
   "source": [
    "import three_desc_model as tdm\n",
    "import numpy as np\n",
    "import pandas as pd\n",
    "from cutoffs import Polynomial\n",
    "from scipy.optimize import minimize,fmin\n",
    "import matplotlib.pyplot as plt\n",
    "import GPy\n",
    "from IPython.display import display\n",
    "dataset = pd.read_csv('dataset_10m_s.csv', index_col=0)\n",
    "symbol=\"Siemens\"\n",
    "numsims=dataset[\"IDnum\"].iloc[-1]+1\n",
    "turb = [symbol]\n",
    "nl=exponential_new.NeighborlistCalculator(cutoff=4001,cone_grad=0.12582561117875557, cone_offset=72.24947126849844)"
   ]
  },
  {
   "cell_type": "code",
   "execution_count": null,
   "id": "dc9b46c7",
   "metadata": {},
   "outputs": [],
   "source": [
    "def f(x):\n",
    "    Gs = {\"Siemens\": [{\"type\":\"G2\", \"turbine\":\"Siemens\",\"eta\":x[0], \"offset\": x[3]},\n",
    "                  {\"type\":\"G4\", \"elements\":\"Siemens\",\"eta\":x[1], \"gamma\":x[4]},\n",
    "                  {\"type\":\"G6\", \"elements\":\"Siemens\",\"eta\":x[2], \"gamma\": x[5]}\n",
    "                 ]}\n",
    "    finpr=tdm.FingerprintCalculator(cutoff=4001,Gs=Gs,Rct=3000,delta_R=100,cone_grad=0.12582561117875557, cone_offset=72.24947126849844)\n",
    "    count=0\n",
    "    dataset_fp=np.empty(shape=(0, 3))\n",
    "    dataset_ws=np.empty(shape=(0, 1))\n",
    "    for i in range(numsims):\n",
    "        numturb=dataset_full[\"Num_tot_turb\"].iloc[count]\n",
    "        position = np.empty((numturb,2))\n",
    "        ws = np.empty((numturb,1))\n",
    "        fp = np.empty((numturb,3))\n",
    "        for k in range(numturb):\n",
    "            position[k,0]=dataset_full.at[count,\"X_coord\"]\n",
    "            position[k,1]=dataset_full.at[count,\"Y_coord\"]\n",
    "            ws[k,0]=dataset_full.at[count,\"Ref_wind\"]\n",
    "            count = count+ 1\n",
    "        neigh=nl.calculate(turb*numturb,position)\n",
    "        fingerprints=finpr.calculate(turb*numturb,position,neigh,symbol)\n",
    "        fingerprints=np.array(fingerprints)\n",
    "        dataset_fp=np.append(dataset_fp,fingerprints,axis=0)\n",
    "        dataset_ws=np.append(dataset_ws,ws,axis=0)\n",
    "    dataset=np.concatenate((dataset_fp, dataset_ws),axis=1)\n",
    "    dataset = pd.DataFrame(dataset, columns = ['Fingerprint(G2)','Fingerprint(G4)','Fingerprint(G6)','Ref_Wind_Speed'])\n",
    "    X=dataset[[\"Fingerprint(G2)\",\"Fingerprint(G4)\",\"Fingerprint(G6)\"]].to_numpy()\n",
    "    Y=dataset[[\"Ref_Wind_Speed\"]].to_numpy()\n",
    "    train_dataset = dataset.sample(frac=0.8, random_state=0)\n",
    "    test_dataset = dataset.drop(train_dataset.index)\n",
    "    Xtrain=train_dataset[[\"Fingerprint(G2)\",\"Fingerprint(G4)\",\"Fingerprint(G6)\"]].to_numpy()\n",
    "    Ytrain=train_dataset[[\"Ref_Wind_Speed\"]].to_numpy()\n",
    "    Xtest=test_dataset[[\"Fingerprint(G2)\",\"Fingerprint(G4)\",\"Fingerprint(G6)\"]].to_numpy()\n",
    "    Ytest=test_dataset[[\"Ref_Wind_Speed\"]].to_numpy()\n",
    "    # define kernel\n",
    "    ker = GPy.kern.RBF(3,lengthscale=0.1)# + GPy.kern.White(2)\n",
    "    # create simple GP model\n",
    "    m = GPy.models.GPRegression(Xtrain,Ytrain,ker)\n",
    "    # optimize and plot\n",
    "    m.optimize(max_f_eval = 1000)\n",
    "\n",
    "    [Ypred,Yvar]=m.predict(Xtest)\n",
    "    return np.max(Ypred-Ytest)"
   ]
  },
  {
   "cell_type": "code",
   "execution_count": null,
   "id": "45599440",
   "metadata": {},
   "outputs": [],
   "source": [
    "x0 = [5.3, 5., 2., 1., 8., 1.]\n",
    "bounds= ((0,10),(0,10),(0,10),(0,10),(0,10),(0,10))\n",
    "res = minimize(f, x0, bounds= bounds, options={'disp':True})"
   ]
  }
 ],
 "metadata": {
  "kernelspec": {
   "display_name": "Python 3 (ipykernel)",
   "language": "python",
   "name": "python3"
  },
  "language_info": {
   "codemirror_mode": {
    "name": "ipython",
    "version": 3
   },
   "file_extension": ".py",
   "mimetype": "text/x-python",
   "name": "python",
   "nbconvert_exporter": "python",
   "pygments_lexer": "ipython3",
   "version": "3.9.10"
  }
 },
 "nbformat": 4,
 "nbformat_minor": 5
}
