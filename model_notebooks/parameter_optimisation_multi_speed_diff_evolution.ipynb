{
 "cells": [
  {
   "cell_type": "code",
   "execution_count": 1,
   "id": "cfc60910",
   "metadata": {},
   "outputs": [],
   "source": [
    "import os\n",
    "os.chdir(\"..\")\n",
    "import descriptor.three_desc_model as tdm\n",
    "from descriptor.cutoffs import Polynomial\n",
    "import numpy as np\n",
    "import pandas as pd\n",
    "from scipy.optimize import minimize, differential_evolution, fmin\n",
    "import matplotlib.pyplot as plt\n",
    "import GPy\n",
    "from IPython.display import display\n",
    "dataset = pd.read_csv('turb_data.csv')\n",
    "dataset= dataset.drop(['ID','turb_num'], axis=1)\n",
    "symbol=\"Siemens\"\n",
    "numsims=dataset[\"IDnum\"].iloc[-1]+1\n",
    "turb = [symbol]\n",
    "nl=tdm.NeighborlistCalculator(cutoff=4001,cone_grad=0.12582561117875557, cone_offset=72.24947126849844)"
   ]
  },
  {
   "cell_type": "code",
   "execution_count": 2,
   "id": "dc9b46c7",
   "metadata": {},
   "outputs": [],
   "source": [
    "def f(x):\n",
    "    Gs = {\"Siemens\": [{\"type\":\"G2\", \"turbine\":\"Siemens\",\"eta\":x[0], \"offset\": x[3]},\n",
    "                  {\"type\":\"G4\", \"elements\":\"Siemens\",\"eta\":x[1], \"gamma\":x[4]},\n",
    "                  {\"type\":\"G6\", \"elements\":\"Siemens\",\"eta\":x[2], \"gamma\": x[5]}\n",
    "                 ]}\n",
    "    finpr=tdm.FingerprintCalculator(cutoff=4001,Gs=Gs,Rct=3000,delta_R=100,cone_grad=0.12582561117875557, cone_offset=72.24947126849844)\n",
    "    count=0\n",
    "    dataset_fp=np.empty(shape=(0, 3))\n",
    "    dataset_ws=np.empty(shape=(0, 1))\n",
    "    dataset_rws=np.empty(shape=(0, 1))\n",
    "    dataset_pos=np.empty(shape=(0, 2))\n",
    "    for i in range(numsims):\n",
    "        numturb=dataset[\"num_tot_turb\"].iloc[count]\n",
    "        position = np.empty((numturb,2))\n",
    "        rws = np.empty((numturb,1))\n",
    "        ws = np.empty((numturb,1))\n",
    "        #fp = np.empty((numturb,3))\n",
    "        for k in range(numturb):\n",
    "            position[k,0]=dataset.at[count,\"x_coord\"]\n",
    "            position[k,1]=dataset.at[count,\"y_coord\"]\n",
    "            rws[k,0]=dataset[\"ref_wind_speed\"].iloc[count]\n",
    "            ws[k,0]=dataset.at[count,\"wind_speed\"]\n",
    "            count = count+ 1\n",
    "        neigh=nl.calculate(turb*numturb,position)\n",
    "        fingerprints=finpr.calculate(turb*numturb,position,neigh,symbol)\n",
    "        fingerprints=np.array(fingerprints)\n",
    "        dataset_fp=np.append(dataset_fp,fingerprints,axis=0)\n",
    "        dataset_rws=np.append(dataset_rws,rws,axis=0)\n",
    "        dataset_ws=np.append(dataset_ws,ws,axis=0)\n",
    "        dataset_pos=np.append(dataset_pos,position,axis=0)\n",
    "    dataset_df=np.concatenate((dataset_fp, dataset_ws, dataset_rws),axis=1)\n",
    "    dataset_df = pd.DataFrame(dataset_df, columns = ['Fingerprint(G2)','Fingerprint(G4)','Fingerprint(G6)','Wind_Speed','Ref_Wind_Speed'])\n",
    "    #X=dataset[[\"Fingerprint(G2)\",\"Fingerprint(G4)\",\"Fingerprint(G6)\",\"Wind_Speed\"]].to_numpy()\n",
    "    #Y=dataset[[\"Ref_Wind_Speed\"]].to_numpy()\n",
    "    train_dataset = dataset_df.sample(frac=0.8, random_state=0)\n",
    "    test_dataset = dataset_df.drop(train_dataset.index)\n",
    "    Xtrain=train_dataset[[\"Fingerprint(G2)\",\"Fingerprint(G4)\",\"Fingerprint(G6)\",\"Wind_Speed\"]].to_numpy()\n",
    "    Ytrain=train_dataset[[\"Ref_Wind_Speed\"]].to_numpy()\n",
    "    Xtest=test_dataset[[\"Fingerprint(G2)\",\"Fingerprint(G4)\",\"Fingerprint(G6)\",\"Wind_Speed\"]].to_numpy()\n",
    "    Ytest=test_dataset[[\"Ref_Wind_Speed\"]].to_numpy()\n",
    "    # define kernel\n",
    "    ker = GPy.kern.RBF(4,lengthscale=0.1)# + GPy.kern.White(2)\n",
    "    # create simple GP model\n",
    "    m = GPy.models.GPRegression(Xtrain,Ytrain,ker)\n",
    "    # optimize and plot\n",
    "    m.optimize(max_f_eval = 1000)\n",
    "\n",
    "    [Ypred,Yvar]=m.predict(Xtest)\n",
    "    return np.max(Ypred-Ytest)"
   ]
  },
  {
   "cell_type": "code",
   "execution_count": 3,
   "id": "45599440",
   "metadata": {},
   "outputs": [
    {
     "name": "stderr",
     "output_type": "stream",
     "text": [
      " /Users/muhammedsogut/Library/Python/3.9/lib/python/site-packages/GPy/kern/src/rbf.py:52: RuntimeWarning:overflow encountered in square\n"
     ]
    },
    {
     "name": "stdout",
     "output_type": "stream",
     "text": [
      "differential_evolution step 1: f(x)= 0.409309\n",
      "differential_evolution step 2: f(x)= 0.362562\n",
      "differential_evolution step 3: f(x)= 0.350889\n",
      "differential_evolution step 4: f(x)= 0.344984\n",
      "differential_evolution step 5: f(x)= 0.344984\n",
      "differential_evolution step 6: f(x)= 0.344984\n",
      "differential_evolution step 7: f(x)= 0.34035\n",
      "differential_evolution step 8: f(x)= 0.34035\n"
     ]
    }
   ],
   "source": [
    "x0 = [5.3, 5., 2., 1., 8., 1.]\n",
    "bounds= ((0,10),(0,10),(0,10),(0,10),(0,10),(0,10))\n",
    "res = differential_evolution(f,x0=x0, bounds= bounds, disp=True, polish=True)\n",
    "#res = fmin(f, x0, disp=True)"
   ]
  },
  {
   "cell_type": "code",
   "execution_count": null,
   "id": "4d67fdee",
   "metadata": {},
   "outputs": [],
   "source": [
    "res"
   ]
  },
  {
   "cell_type": "code",
   "execution_count": null,
   "id": "801553f8",
   "metadata": {},
   "outputs": [],
   "source": [
    "from multiprocessing.pool import ThreadPool\n",
    "from pymoo.core.problem import StarmapParallelization\n",
    "from pymoo.algorithms.soo.nonconvex.ga import GA\n",
    "from pymoo.optimize import minimize"
   ]
  },
  {
   "cell_type": "code",
   "execution_count": 3,
   "id": "8fde70c7",
   "metadata": {},
   "outputs": [],
   "source": [
    "from pymoo.algorithms.soo.nonconvex.pso import PSO\n",
    "from pymoo.optimize import minimize\n",
    "from pymoo.problems import get_problem\n",
    "from pymoode.algorithms import GDE3\n",
    "from pymoode.algorithms import DE"
   ]
  },
  {
   "cell_type": "code",
   "execution_count": 4,
   "id": "49dd35ed",
   "metadata": {},
   "outputs": [],
   "source": [
    "NGEN = 100\n",
    "POPSIZE = 20\n",
    "SEED = 3"
   ]
  },
  {
   "cell_type": "code",
   "execution_count": 5,
   "id": "82cdd9f1",
   "metadata": {},
   "outputs": [],
   "source": [
    "# DE Parameters\n",
    "CR = 0.5\n",
    "F = (0.3, 1.0)"
   ]
  },
  {
   "cell_type": "code",
   "execution_count": 7,
   "id": "a20c41db",
   "metadata": {},
   "outputs": [
    {
     "ename": "Exception",
     "evalue": "Termination not found.",
     "output_type": "error",
     "traceback": [
      "\u001b[0;31m---------------------------------------------------------------------------\u001b[0m",
      "\u001b[0;31mException\u001b[0m                                 Traceback (most recent call last)",
      "\u001b[0;32m/var/folders/gr/z6l2h7kd4136nf0xqdtls40w0000gn/T/ipykernel_2048/3287791074.py\u001b[0m in \u001b[0;36m<module>\u001b[0;34m\u001b[0m\n\u001b[1;32m      1\u001b[0m \u001b[0mde\u001b[0m \u001b[0;34m=\u001b[0m \u001b[0mDE\u001b[0m\u001b[0;34m(\u001b[0m\u001b[0mpop_size\u001b[0m\u001b[0;34m=\u001b[0m\u001b[0mPOPSIZE\u001b[0m\u001b[0;34m,\u001b[0m \u001b[0mvariant\u001b[0m\u001b[0;34m=\u001b[0m\u001b[0;34m\"DE/rand/1/bin\"\u001b[0m\u001b[0;34m,\u001b[0m \u001b[0mCR\u001b[0m\u001b[0;34m=\u001b[0m\u001b[0mCR\u001b[0m\u001b[0;34m,\u001b[0m \u001b[0mF\u001b[0m\u001b[0;34m=\u001b[0m\u001b[0mF\u001b[0m\u001b[0;34m)\u001b[0m\u001b[0;34m\u001b[0m\u001b[0;34m\u001b[0m\u001b[0m\n\u001b[1;32m      2\u001b[0m \u001b[0;34m\u001b[0m\u001b[0m\n\u001b[0;32m----> 3\u001b[0;31m res_de = minimize(\n\u001b[0m\u001b[1;32m      4\u001b[0m     \u001b[0mf\u001b[0m\u001b[0;34m,\u001b[0m\u001b[0;34m\u001b[0m\u001b[0;34m\u001b[0m\u001b[0m\n\u001b[1;32m      5\u001b[0m     \u001b[0mde\u001b[0m\u001b[0;34m,\u001b[0m\u001b[0;34m\u001b[0m\u001b[0;34m\u001b[0m\u001b[0m\n",
      "\u001b[0;32m~/Library/Python/3.9/lib/python/site-packages/pymoo/optimize.py\u001b[0m in \u001b[0;36mminimize\u001b[0;34m(problem, algorithm, termination, copy_algorithm, copy_termination, **kwargs)\u001b[0m\n\u001b[1;32m     62\u001b[0m             \u001b[0mkwargs\u001b[0m\u001b[0;34m[\u001b[0m\u001b[0;34m\"termination\"\u001b[0m\u001b[0;34m]\u001b[0m \u001b[0;34m=\u001b[0m \u001b[0mtermination\u001b[0m\u001b[0;34m\u001b[0m\u001b[0;34m\u001b[0m\u001b[0m\n\u001b[1;32m     63\u001b[0m \u001b[0;34m\u001b[0m\u001b[0m\n\u001b[0;32m---> 64\u001b[0;31m         \u001b[0malgorithm\u001b[0m\u001b[0;34m.\u001b[0m\u001b[0msetup\u001b[0m\u001b[0;34m(\u001b[0m\u001b[0mproblem\u001b[0m\u001b[0;34m,\u001b[0m \u001b[0;34m**\u001b[0m\u001b[0mkwargs\u001b[0m\u001b[0;34m)\u001b[0m\u001b[0;34m\u001b[0m\u001b[0;34m\u001b[0m\u001b[0m\n\u001b[0m\u001b[1;32m     65\u001b[0m \u001b[0;34m\u001b[0m\u001b[0m\n\u001b[1;32m     66\u001b[0m     \u001b[0;31m# actually execute the algorithm\u001b[0m\u001b[0;34m\u001b[0m\u001b[0;34m\u001b[0m\u001b[0m\n",
      "\u001b[0;32m~/Library/Python/3.9/lib/python/site-packages/pymoo/core/algorithm.py\u001b[0m in \u001b[0;36msetup\u001b[0;34m(self, problem, **kwargs)\u001b[0m\n\u001b[1;32m    124\u001b[0m             \u001b[0mself\u001b[0m\u001b[0;34m.\u001b[0m\u001b[0mtermination\u001b[0m \u001b[0;34m=\u001b[0m \u001b[0mdefault_termination\u001b[0m\u001b[0;34m(\u001b[0m\u001b[0mproblem\u001b[0m\u001b[0;34m)\u001b[0m\u001b[0;34m\u001b[0m\u001b[0;34m\u001b[0m\u001b[0m\n\u001b[1;32m    125\u001b[0m         \u001b[0;32melse\u001b[0m\u001b[0;34m:\u001b[0m\u001b[0;34m\u001b[0m\u001b[0;34m\u001b[0m\u001b[0m\n\u001b[0;32m--> 126\u001b[0;31m             \u001b[0mself\u001b[0m\u001b[0;34m.\u001b[0m\u001b[0mtermination\u001b[0m \u001b[0;34m=\u001b[0m \u001b[0mtermination_from_tuple\u001b[0m\u001b[0;34m(\u001b[0m\u001b[0mself\u001b[0m\u001b[0;34m.\u001b[0m\u001b[0mtermination\u001b[0m\u001b[0;34m)\u001b[0m\u001b[0;34m\u001b[0m\u001b[0;34m\u001b[0m\u001b[0m\n\u001b[0m\u001b[1;32m    127\u001b[0m \u001b[0;34m\u001b[0m\u001b[0m\n\u001b[1;32m    128\u001b[0m         \u001b[0;31m# set up the display during the algorithm execution\u001b[0m\u001b[0;34m\u001b[0m\u001b[0;34m\u001b[0m\u001b[0m\n",
      "\u001b[0;32m~/Library/Python/3.9/lib/python/site-packages/pymoo/util/misc.py\u001b[0m in \u001b[0;36mtermination_from_tuple\u001b[0;34m(termination)\u001b[0m\n\u001b[1;32m    372\u001b[0m             \u001b[0mtermination\u001b[0m \u001b[0;34m=\u001b[0m \u001b[0mget_termination\u001b[0m\u001b[0;34m(\u001b[0m\u001b[0mtermination\u001b[0m\u001b[0;34m)\u001b[0m\u001b[0;34m\u001b[0m\u001b[0;34m\u001b[0m\u001b[0m\n\u001b[1;32m    373\u001b[0m         \u001b[0;32melse\u001b[0m\u001b[0;34m:\u001b[0m\u001b[0;34m\u001b[0m\u001b[0;34m\u001b[0m\u001b[0m\n\u001b[0;32m--> 374\u001b[0;31m             \u001b[0mtermination\u001b[0m \u001b[0;34m=\u001b[0m \u001b[0mget_termination\u001b[0m\u001b[0;34m(\u001b[0m\u001b[0;34m*\u001b[0m\u001b[0mtermination\u001b[0m\u001b[0;34m)\u001b[0m\u001b[0;34m\u001b[0m\u001b[0;34m\u001b[0m\u001b[0m\n\u001b[0m\u001b[1;32m    375\u001b[0m \u001b[0;34m\u001b[0m\u001b[0m\n\u001b[1;32m    376\u001b[0m     \u001b[0;32mreturn\u001b[0m \u001b[0mtermination\u001b[0m\u001b[0;34m\u001b[0m\u001b[0;34m\u001b[0m\u001b[0m\n",
      "\u001b[0;32m~/Library/Python/3.9/lib/python/site-packages/pymoo/termination/__init__.py\u001b[0m in \u001b[0;36mget_termination\u001b[0;34m(name, *args, **kwargs)\u001b[0m\n\u001b[1;32m     19\u001b[0m \u001b[0;34m\u001b[0m\u001b[0m\n\u001b[1;32m     20\u001b[0m     \u001b[0;32mif\u001b[0m \u001b[0mname\u001b[0m \u001b[0;32mnot\u001b[0m \u001b[0;32min\u001b[0m \u001b[0mTERMINATION\u001b[0m\u001b[0;34m:\u001b[0m\u001b[0;34m\u001b[0m\u001b[0;34m\u001b[0m\u001b[0m\n\u001b[0;32m---> 21\u001b[0;31m         \u001b[0;32mraise\u001b[0m \u001b[0mException\u001b[0m\u001b[0;34m(\u001b[0m\u001b[0;34m\"Termination not found.\"\u001b[0m\u001b[0;34m)\u001b[0m\u001b[0;34m\u001b[0m\u001b[0;34m\u001b[0m\u001b[0m\n\u001b[0m\u001b[1;32m     22\u001b[0m \u001b[0;34m\u001b[0m\u001b[0m\n\u001b[1;32m     23\u001b[0m     \u001b[0;32mreturn\u001b[0m \u001b[0mTERMINATION\u001b[0m\u001b[0;34m[\u001b[0m\u001b[0mname\u001b[0m\u001b[0;34m]\u001b[0m\u001b[0;34m(\u001b[0m\u001b[0;34m*\u001b[0m\u001b[0margs\u001b[0m\u001b[0;34m,\u001b[0m \u001b[0;34m**\u001b[0m\u001b[0mkwargs\u001b[0m\u001b[0;34m)\u001b[0m\u001b[0;34m\u001b[0m\u001b[0;34m\u001b[0m\u001b[0m\n",
      "\u001b[0;31mException\u001b[0m: Termination not found."
     ]
    }
   ],
   "source": [
    "de = DE(pop_size=POPSIZE, variant=\"DE/rand/1/bin\", CR=CR, F=F)\n",
    "\n",
    "res_de = minimize(\n",
    "    f,\n",
    "    de,\n",
    "    ((0,10),(0,10),(0,10),(0,10),(0,10),(0,10)),\n",
    "    seed=SEED,\n",
    "    save_history=False,\n",
    "    verbose=True,\n",
    ")\n",
    "\n",
    "print(res_de.F)\n",
    "print(res_de.X)"
   ]
  },
  {
   "cell_type": "code",
   "execution_count": null,
   "id": "f9798ed8",
   "metadata": {},
   "outputs": [],
   "source": [
    "\n",
    "# initialize the thread pool and create the runner\n",
    "n_threads = 4\n",
    "pool = ThreadPool(n_threads)\n",
    "runner = StarmapParallelization(pool.starmap)"
   ]
  },
  {
   "cell_type": "code",
   "execution_count": null,
   "id": "cf812919",
   "metadata": {},
   "outputs": [],
   "source": [
    "problem = f(elementwise_runner=runner)"
   ]
  },
  {
   "cell_type": "code",
   "execution_count": null,
   "id": "0dd4a481",
   "metadata": {},
   "outputs": [],
   "source": []
  }
 ],
 "metadata": {
  "kernelspec": {
   "display_name": "Python 3 (ipykernel)",
   "language": "python",
   "name": "python3"
  },
  "language_info": {
   "codemirror_mode": {
    "name": "ipython",
    "version": 3
   },
   "file_extension": ".py",
   "mimetype": "text/x-python",
   "name": "python",
   "nbconvert_exporter": "python",
   "pygments_lexer": "ipython3",
   "version": "3.9.10"
  }
 },
 "nbformat": 4,
 "nbformat_minor": 5
}
