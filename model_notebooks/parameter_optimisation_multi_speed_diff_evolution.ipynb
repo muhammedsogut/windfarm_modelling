{
 "cells": [
  {
   "cell_type": "code",
   "execution_count": 1,
   "id": "cfc60910",
   "metadata": {},
   "outputs": [],
   "source": [
    "import os\n",
    "os.chdir(\"..\")\n",
    "import descriptor.three_desc_model as tdm\n",
    "from descriptor.cutoffs import Polynomial\n",
    "import numpy as np\n",
    "import pandas as pd\n",
    "from scipy.optimize import minimize, differential_evolution, fmin\n",
    "import matplotlib.pyplot as plt\n",
    "import GPy\n",
    "from IPython.display import display\n",
    "dataset = pd.read_csv('turb_data.csv')\n",
    "dataset= dataset.drop(['ID','turb_num'], axis=1)\n",
    "symbol=\"Siemens\"\n",
    "numsims=dataset[\"IDnum\"].iloc[-1]+1\n",
    "turb = [symbol]\n",
    "nl=tdm.NeighborlistCalculator(cutoff=4001,cone_grad=0.12582561117875557, cone_offset=72.24947126849844)"
   ]
  },
  {
   "cell_type": "code",
   "execution_count": 2,
   "id": "dc9b46c7",
   "metadata": {},
   "outputs": [],
   "source": [
    "def f(x):\n",
    "    Gs = {\"Siemens\": [{\"type\":\"G2\", \"turbine\":\"Siemens\",\"eta\":x[0], \"offset\": x[3]},\n",
    "                  {\"type\":\"G4\", \"elements\":\"Siemens\",\"eta\":x[1], \"gamma\":x[4]},\n",
    "                  {\"type\":\"G6\", \"elements\":\"Siemens\",\"eta\":x[2], \"gamma\": x[5]}\n",
    "                 ]}\n",
    "    finpr=tdm.FingerprintCalculator(cutoff=4001,Gs=Gs,Rct=3000,delta_R=100,cone_grad=0.12582561117875557, cone_offset=72.24947126849844)\n",
    "    count=0\n",
    "    dataset_fp=np.empty(shape=(0, 3))\n",
    "    dataset_ws=np.empty(shape=(0, 1))\n",
    "    dataset_rws=np.empty(shape=(0, 1))\n",
    "    dataset_pos=np.empty(shape=(0, 2))\n",
    "    for i in range(numsims):\n",
    "        numturb=dataset[\"num_tot_turb\"].iloc[count]\n",
    "        position = np.empty((numturb,2))\n",
    "        rws = np.empty((numturb,1))\n",
    "        ws = np.empty((numturb,1))\n",
    "        #fp = np.empty((numturb,3))\n",
    "        for k in range(numturb):\n",
    "            position[k,0]=dataset.at[count,\"x_coord\"]\n",
    "            position[k,1]=dataset.at[count,\"y_coord\"]\n",
    "            rws[k,0]=dataset[\"ref_wind_speed\"].iloc[count]\n",
    "            ws[k,0]=dataset.at[count,\"wind_speed\"]\n",
    "            count = count+ 1\n",
    "        neigh=nl.calculate(turb*numturb,position)\n",
    "        fingerprints=finpr.calculate(turb*numturb,position,neigh,symbol)\n",
    "        fingerprints=np.array(fingerprints)\n",
    "        dataset_fp=np.append(dataset_fp,fingerprints,axis=0)\n",
    "        dataset_rws=np.append(dataset_rws,rws,axis=0)\n",
    "        dataset_ws=np.append(dataset_ws,ws,axis=0)\n",
    "        dataset_pos=np.append(dataset_pos,position,axis=0)\n",
    "    dataset_df=np.concatenate((dataset_fp, dataset_ws, dataset_rws),axis=1)\n",
    "    dataset_df = pd.DataFrame(dataset_df, columns = ['Fingerprint(G2)','Fingerprint(G4)','Fingerprint(G6)','Wind_Speed','Ref_Wind_Speed'])\n",
    "    #X=dataset[[\"Fingerprint(G2)\",\"Fingerprint(G4)\",\"Fingerprint(G6)\",\"Wind_Speed\"]].to_numpy()\n",
    "    #Y=dataset[[\"Ref_Wind_Speed\"]].to_numpy()\n",
    "    train_dataset = dataset_df.sample(frac=0.8, random_state=0)\n",
    "    test_dataset = dataset_df.drop(train_dataset.index)\n",
    "    Xtrain=train_dataset[[\"Fingerprint(G2)\",\"Fingerprint(G4)\",\"Fingerprint(G6)\",\"Wind_Speed\"]].to_numpy()\n",
    "    Ytrain=train_dataset[[\"Ref_Wind_Speed\"]].to_numpy()\n",
    "    Xtest=test_dataset[[\"Fingerprint(G2)\",\"Fingerprint(G4)\",\"Fingerprint(G6)\",\"Wind_Speed\"]].to_numpy()\n",
    "    Ytest=test_dataset[[\"Ref_Wind_Speed\"]].to_numpy()\n",
    "    # define kernel\n",
    "    ker = GPy.kern.RBF(4,lengthscale=0.1)# + GPy.kern.White(2)\n",
    "    # create simple GP model\n",
    "    m = GPy.models.GPRegression(Xtrain,Ytrain,ker)\n",
    "    # optimize and plot\n",
    "    m.optimize(max_f_eval = 1000)\n",
    "\n",
    "    [Ypred,Yvar]=m.predict(Xtest)\n",
    "    return np.max(Ypred-Ytest)"
   ]
  },
  {
   "cell_type": "code",
   "execution_count": 3,
   "id": "45599440",
   "metadata": {},
   "outputs": [
    {
     "name": "stderr",
     "output_type": "stream",
     "text": [
      " /Users/muhammedsogut/Documents/GitHub/windfarm_modelling/.venv/lib/python3.7/site-packages/scipy/optimize/_differentialevolution.py:535: UserWarning:differential_evolution: the 'workers' keyword has overridden updating='immediate' to updating='deferred'\n"
     ]
    }
   ],
   "source": [
    "x0 = [5.3, 5., 2., 1., 8., 1.]\n",
    "bounds= ((0,10),(0,10),(0,10),(0,10),(0,10),(0,10))\n",
    "res = differential_evolution(f,x0=x0, bounds= bounds, disp=True, workers=-1, polish=True)\n",
    "#res = fmin(f, x0, disp=True)"
   ]
  },
  {
   "cell_type": "code",
   "execution_count": null,
   "id": "f9798ed8",
   "metadata": {},
   "outputs": [],
   "source": [
    "\n",
    "res"
   ]
  },
  {
   "cell_type": "code",
   "execution_count": null,
   "id": "cf812919",
   "metadata": {},
   "outputs": [],
   "source": []
  }
 ],
 "metadata": {
  "kernelspec": {
   "display_name": "Python 3 (ipykernel)",
   "language": "python",
   "name": "python3"
  },
  "language_info": {
   "codemirror_mode": {
    "name": "ipython",
    "version": 3
   },
   "file_extension": ".py",
   "mimetype": "text/x-python",
   "name": "python",
   "nbconvert_exporter": "python",
   "pygments_lexer": "ipython3",
   "version": "3.7.3"
  }
 },
 "nbformat": 4,
 "nbformat_minor": 5
}
