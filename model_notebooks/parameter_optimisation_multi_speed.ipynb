{
 "cells": [
  {
   "cell_type": "code",
   "execution_count": 1,
   "id": "cfc60910",
   "metadata": {},
   "outputs": [],
   "source": [
    "import os\n",
    "os.chdir(\"..\")\n",
    "import descriptor.three_desc_model as tdm\n",
    "from descriptor.cutoffs import Polynomial\n",
    "import numpy as np\n",
    "import pandas as pd\n",
    "from scipy.optimize import minimize,fmin\n",
    "import matplotlib.pyplot as plt\n",
    "import GPy\n",
    "from IPython.display import display\n",
    "dataset = pd.read_csv('turb_data.csv')\n",
    "dataset= dataset.drop(['ID','turb_num'], axis=1)\n",
    "symbol=\"Siemens\"\n",
    "numsims=dataset[\"IDnum\"].iloc[-1]+1\n",
    "turb = [symbol]\n",
    "nl=tdm.NeighborlistCalculator(cutoff=4001,cone_grad=0.12582561117875557, cone_offset=72.24947126849844)"
   ]
  },
  {
   "cell_type": "code",
   "execution_count": 2,
   "id": "dc9b46c7",
   "metadata": {},
   "outputs": [],
   "source": [
    "def f(x):\n",
    "    Gs = {\"Siemens\": [{\"type\":\"G2\", \"turbine\":\"Siemens\",\"eta\":x[0], \"offset\": x[3]},\n",
    "                  {\"type\":\"G4\", \"elements\":\"Siemens\",\"eta\":x[1], \"gamma\":x[4]},\n",
    "                  {\"type\":\"G6\", \"elements\":\"Siemens\",\"eta\":x[2], \"gamma\": x[5]}\n",
    "                 ]}\n",
    "    finpr=tdm.FingerprintCalculator(cutoff=4001,Gs=Gs,Rct=3000,delta_R=100,cone_grad=0.12582561117875557, cone_offset=72.24947126849844)\n",
    "    count=0\n",
    "    dataset_fp=np.empty(shape=(0, 3))\n",
    "    dataset_ws=np.empty(shape=(0, 1))\n",
    "    dataset_rws=np.empty(shape=(0, 1))\n",
    "    dataset_pos=np.empty(shape=(0, 2))\n",
    "    for i in range(numsims):\n",
    "        numturb=dataset[\"num_tot_turb\"].iloc[count]\n",
    "        position = np.empty((numturb,2))\n",
    "        rws = np.empty((numturb,1))\n",
    "        ws = np.empty((numturb,1))\n",
    "        #fp = np.empty((numturb,3))\n",
    "        for k in range(numturb):\n",
    "            position[k,0]=dataset.at[count,\"x_coord\"]\n",
    "            position[k,1]=dataset.at[count,\"y_coord\"]\n",
    "            rws[k,0]=dataset[\"ref_wind_speed\"].iloc[count]\n",
    "            ws[k,0]=dataset.at[count,\"wind_speed\"]\n",
    "            count = count+ 1\n",
    "        neigh=nl.calculate(turb*numturb,position)\n",
    "        fingerprints=finpr.calculate(turb*numturb,position,neigh,symbol)\n",
    "        fingerprints=np.array(fingerprints)\n",
    "        dataset_fp=np.append(dataset_fp,fingerprints,axis=0)\n",
    "        dataset_rws=np.append(dataset_rws,rws,axis=0)\n",
    "        dataset_ws=np.append(dataset_ws,ws,axis=0)\n",
    "        dataset_pos=np.append(dataset_pos,position,axis=0)\n",
    "    dataset_df=np.concatenate((dataset_fp, dataset_ws, dataset_rws),axis=1)\n",
    "    dataset_df = pd.DataFrame(dataset_df, columns = ['Fingerprint(G2)','Fingerprint(G4)','Fingerprint(G6)','Wind_Speed','Ref_Wind_Speed'])\n",
    "    #X=dataset[[\"Fingerprint(G2)\",\"Fingerprint(G4)\",\"Fingerprint(G6)\",\"Wind_Speed\"]].to_numpy()\n",
    "    #Y=dataset[[\"Ref_Wind_Speed\"]].to_numpy()\n",
    "    train_dataset = dataset_df.sample(frac=0.8, random_state=0)\n",
    "    test_dataset = dataset_df.drop(train_dataset.index)\n",
    "    Xtrain=train_dataset[[\"Fingerprint(G2)\",\"Fingerprint(G4)\",\"Fingerprint(G6)\",\"Wind_Speed\"]].to_numpy()\n",
    "    Ytrain=train_dataset[[\"Ref_Wind_Speed\"]].to_numpy()\n",
    "    Xtest=test_dataset[[\"Fingerprint(G2)\",\"Fingerprint(G4)\",\"Fingerprint(G6)\",\"Wind_Speed\"]].to_numpy()\n",
    "    Ytest=test_dataset[[\"Ref_Wind_Speed\"]].to_numpy()\n",
    "    # define kernel\n",
    "    ker = GPy.kern.RBF(4,lengthscale=0.1)# + GPy.kern.White(2)\n",
    "    # create simple GP model\n",
    "    m = GPy.models.GPRegression(Xtrain,Ytrain,ker)\n",
    "    # optimize and plot\n",
    "    m.optimize(max_f_eval = 1000)\n",
    "\n",
    "    [Ypred,Yvar]=m.predict(Xtest)\n",
    "    return np.max(Ypred-Ytest)"
   ]
  },
  {
   "cell_type": "code",
   "execution_count": 3,
   "id": "45599440",
   "metadata": {},
   "outputs": [
    {
     "name": "stdout",
     "output_type": "stream",
     "text": [
      "RUNNING THE L-BFGS-B CODE\n",
      "\n",
      "           * * *\n",
      "\n",
      "Machine precision = 2.220D-16\n",
      " N =            6     M =           10\n",
      "\n",
      "At X0         0 variables are exactly at the bounds\n",
      "\n",
      "At iterate    0    f=  8.56012D-01    |proj g|=  7.26081D-02\n",
      "\n",
      "At iterate    1    f=  8.49742D-01    |proj g|=  2.78172D-01\n",
      "\n",
      "At iterate    2    f=  8.32250D-01    |proj g|=  9.19490D-02\n",
      "\n",
      "At iterate    3    f=  8.03219D-01    |proj g|=  2.25593D-01\n",
      "\n",
      "At iterate    4    f=  6.78540D-01    |proj g|=  3.24361D-01\n",
      "  ys=-1.610E-01  -gs= 7.541E-02 BFGS update SKIPPED\n",
      "\n",
      "At iterate    5    f=  6.66316D-01    |proj g|=  1.65737D-01\n",
      "\n",
      "At iterate    6    f=  6.05231D-01    |proj g|=  3.29375D-01\n",
      "\n",
      "At iterate    7    f=  5.51383D-01    |proj g|=  7.86155D+00\n",
      "\n",
      "At iterate    8    f=  5.51381D-01    |proj g|=  7.86155D+00\n",
      "  Positive dir derivative in projection \n",
      "  Using the backtracking step \n"
     ]
    },
    {
     "name": "stderr",
     "output_type": "stream",
     "text": [
      "\n",
      " Bad direction in the line search;\n",
      "   refresh the lbfgs memory and restart the iteration.\n"
     ]
    },
    {
     "name": "stdout",
     "output_type": "stream",
     "text": [
      "\n",
      "At iterate    9    f=  5.51373D-01    |proj g|=  7.86155D+00\n",
      "  ys=-4.107E-05  -gs= 5.181E-05 BFGS update SKIPPED\n",
      "\n",
      "           * * *\n",
      "\n",
      "Tit   = total number of iterations\n",
      "Tnf   = total number of function evaluations\n",
      "Tnint = total number of segments explored during Cauchy searches\n",
      "Skip  = number of BFGS updates skipped\n",
      "Nact  = number of active bounds at final generalized Cauchy point\n",
      "Projg = norm of the final projected gradient\n",
      "F     = final function value\n",
      "\n",
      "           * * *\n",
      "\n",
      "   N    Tit     Tnf  Tnint  Skip  Nact     Projg        F\n",
      "    6     10     90     21     2     6   7.862D+00   5.514D-01\n",
      "  F =  0.55137294198080244     \n",
      "\n",
      "ABNORMAL_TERMINATION_IN_LNSRCH                              \n"
     ]
    },
    {
     "name": "stderr",
     "output_type": "stream",
     "text": [
      "\n",
      " Line search cannot locate an adequate point after MAXLS\n",
      "  function and gradient evaluations.\n",
      "  Previous x, f and g restored.\n",
      " Possible causes: 1 error in function or gradient evaluation;\n",
      "                  2 rounding error dominate computation.\n"
     ]
    }
   ],
   "source": [
    "x0 = [5.3, 5., 2., 1., 8., 1.]\n",
    "bounds= ((0,10),(0,10),(0,10),(0,10),(0,10),(0,10))\n",
    "res = minimize(f, x0, bounds= bounds, options={'disp':True})"
   ]
  },
  {
   "cell_type": "code",
   "execution_count": 4,
   "id": "f9798ed8",
   "metadata": {},
   "outputs": [
    {
     "data": {
      "text/plain": [
       "      fun: 0.5513886036340123\n",
       " hess_inv: <6x6 LbfgsInvHessProduct with dtype=float64>\n",
       "      jac: array([1574.41318496, 1651.51308123, 1643.3032676 ,  348.35955861,\n",
       "       1560.8296917 , -781.58480092])\n",
       "  message: 'ABNORMAL_TERMINATION_IN_LNSRCH'\n",
       "     nfev: 630\n",
       "      nit: 9\n",
       "     njev: 90\n",
       "   status: 2\n",
       "  success: False\n",
       "        x: array([6.03533325, 3.35138237, 0.920186  , 1.17618377, 7.86155144,\n",
       "       2.42807815])"
      ]
     },
     "execution_count": 4,
     "metadata": {},
     "output_type": "execute_result"
    }
   ],
   "source": [
    "res"
   ]
  },
  {
   "cell_type": "code",
   "execution_count": null,
   "id": "cf812919",
   "metadata": {},
   "outputs": [],
   "source": []
  }
 ],
 "metadata": {
  "kernelspec": {
   "display_name": "Python 3 (ipykernel)",
   "language": "python",
   "name": "python3"
  },
  "language_info": {
   "codemirror_mode": {
    "name": "ipython",
    "version": 3
   },
   "file_extension": ".py",
   "mimetype": "text/x-python",
   "name": "python",
   "nbconvert_exporter": "python",
   "pygments_lexer": "ipython3",
   "version": "3.9.10"
  }
 },
 "nbformat": 4,
 "nbformat_minor": 5
}
