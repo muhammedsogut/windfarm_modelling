{
 "cells": [
  {
   "cell_type": "code",
   "execution_count": 1,
   "metadata": {
    "colab": {
     "base_uri": "https://localhost:8080/"
    },
    "executionInfo": {
     "elapsed": 6132,
     "status": "ok",
     "timestamp": 1637598617273,
     "user": {
      "displayName": "Muhammed Nedim Söğüt",
      "photoUrl": "https://lh3.googleusercontent.com/a-/AOh14Gi7CHj6vsdvLbpZe4gviCH_RX4DfZaqg6OrfDwc=s64",
      "userId": "14768761371783583511"
     },
     "user_tz": 0
    },
    "id": "6O0xWu2E6O3-",
    "outputId": "2de923c8-f80d-4bd5-83a6-8fe14d470016"
   },
   "outputs": [],
   "source": [
    "import exponential_new\n",
    "import numpy as np\n",
    "import pandas as pd\n",
    "from cutoffs_new import Polynomial\n",
    "import tensorflow as tf\n",
    "import matplotlib.pyplot as plt\n",
    "import keras\n",
    "from tensorflow.keras import layers\n",
    "from tensorflow.keras.layers.experimental import preprocessing\n",
    "turbs = [\"Siemens\"] *2\n",
    "nl=exponential_new.NeighborlistCalculator(cutoff=4001,ang_cutoff=np.pi/6.)\n",
    "Gs = {\"Siemens\": [{\"type\":\"G2\", \"turbine\":\"Siemens\",\"eta\":5.3, \"offset\": 1.},{\"type\":\"G4\", \"elements\":\"Siemens\",\"eta\":5., \"gamma\":4., \"zeta\":1.0}]}\n",
    "symbol=\"Siemens\"\n",
    "dataset_pos=np.empty(shape=(0, 2))\n",
    "dataset_fp=np.empty(shape=(0, 2))\n",
    "dataset_pri=np.empty(shape=(0, 1))"
   ]
  },
  {
   "cell_type": "code",
   "execution_count": 2,
   "metadata": {
    "executionInfo": {
     "elapsed": 12,
     "status": "ok",
     "timestamp": 1637598617274,
     "user": {
      "displayName": "Muhammed Nedim Söğüt",
      "photoUrl": "https://lh3.googleusercontent.com/a-/AOh14Gi7CHj6vsdvLbpZe4gviCH_RX4DfZaqg6OrfDwc=s64",
      "userId": "14768761371783583511"
     },
     "user_tz": 0
    },
    "id": "pXjmmtRt8oYX"
   },
   "outputs": [],
   "source": [
    "def plot_loss(history):\n",
    "    plt.plot(history.history['loss'], label='loss')\n",
    "    plt.plot(history.history['val_loss'], label='val_loss')\n",
    "    plt.ylim([0, 8])\n",
    "    plt.xlabel('Epoch')\n",
    "    plt.ylabel('Error [ref_wind_speed]')\n",
    "    plt.legend()\n",
    "    plt.grid(True)"
   ]
  },
  {
   "cell_type": "code",
   "execution_count": 3,
   "metadata": {
    "executionInfo": {
     "elapsed": 8,
     "status": "ok",
     "timestamp": 1637598617275,
     "user": {
      "displayName": "Muhammed Nedim Söğüt",
      "photoUrl": "https://lh3.googleusercontent.com/a-/AOh14Gi7CHj6vsdvLbpZe4gviCH_RX4DfZaqg6OrfDwc=s64",
      "userId": "14768761371783583511"
     },
     "user_tz": 0
    },
    "id": "C_YDpv2P-_jQ"
   },
   "outputs": [],
   "source": [
    "def build_and_compile_model(norm):\n",
    "    model = keras.Sequential([\n",
    "        norm,\n",
    "        layers.Dense(64, activation='relu'),\n",
    "        layers.Dense(64, activation='relu'),\n",
    "        layers.Dense(32, activation='relu'),\n",
    "        layers.Dense(16, activation='relu'),\n",
    "        layers.Dense(1)\n",
    "    ])\n",
    "    model.compile(loss='mean_absolute_error', optimizer=tf.keras.optimizers.Adam(0.001))\n",
    "    return model"
   ]
  },
  {
   "cell_type": "code",
   "execution_count": 4,
   "metadata": {
    "executionInfo": {
     "elapsed": 2517,
     "status": "ok",
     "timestamp": 1637598619785,
     "user": {
      "displayName": "Muhammed Nedim Söğüt",
      "photoUrl": "https://lh3.googleusercontent.com/a-/AOh14Gi7CHj6vsdvLbpZe4gviCH_RX4DfZaqg6OrfDwc=s64",
      "userId": "14768761371783583511"
     },
     "user_tz": 0
    },
    "id": "8w2-ljQo6O4A"
   },
   "outputs": [],
   "source": [
    "for distance in range(3,8,1):\n",
    "    for angle in range(240,301,1):\n",
    "        df=pd.read_csv('turbine_files/turbine_%sp00_10p00_report_%sD.csv' %(angle,distance), sep=' ', header=None)\n",
    "        df=df.tail(1)\n",
    "        df=pd.melt(df)\n",
    "        df=df.dropna()\n",
    "        a=df.to_numpy(dtype=float)\n",
    "        a=a[:,1]\n",
    "        pri=np.array([[a[22]],[a[19]]])\n",
    "        position=np.array([[0., 0.], [((93.0*distance)*np.cos(np.deg2rad(270-angle))),((93.0*distance)*np.sin(np.deg2rad(270-angle)))]])\n",
    "        #print(\"At angle: \", angle, pri,position[1])\n",
    "        neigh=nl.calculate(turbs,position)\n",
    "        finpr=exponential_new.FingerprintCalculator(cutoff=4001,Gs=Gs)\n",
    "        fp=finpr.calculate(turbs,position,neigh,symbol)\n",
    "        fp=np.array(fp)\n",
    "        #pri=(pri,fp)\n",
    "        #pri=np.concatenate((pri,fp), axis=None)\n",
    "        dataset_pos=np.append(dataset_pos,position,axis=0)\n",
    "        dataset_fp=np.append(dataset_fp,fp,axis=0)\n",
    "        dataset_pri=np.append(dataset_pri,pri,axis=0)\n",
    "dataset=np.concatenate((dataset_fp, dataset_pri),axis=1)"
   ]
  },
  {
   "cell_type": "code",
   "execution_count": 5,
   "metadata": {
    "executionInfo": {
     "elapsed": 7,
     "status": "ok",
     "timestamp": 1637598619786,
     "user": {
      "displayName": "Muhammed Nedim Söğüt",
      "photoUrl": "https://lh3.googleusercontent.com/a-/AOh14Gi7CHj6vsdvLbpZe4gviCH_RX4DfZaqg6OrfDwc=s64",
      "userId": "14768761371783583511"
     },
     "user_tz": 0
    },
    "id": "fMgE0Cu4zq4D"
   },
   "outputs": [],
   "source": [
    "for angle in [270,272,275,280,286]:\n",
    "    distance=800  \n",
    "    df=pd.read_csv('turbine_files/turbine_%sp00_10p00_report_%s.csv' %(angle,distance), sep=' ', header=None)\n",
    "    df=df.tail(1)\n",
    "    df=pd.melt(df)\n",
    "    df=df.dropna()\n",
    "    a=df.to_numpy(dtype=float)\n",
    "    a=a[:,1]\n",
    "    pri=np.array([[a[22]],[a[19]]])\n",
    "    position=np.array([[0., 0.], [(distance*np.cos(np.deg2rad(270-angle))),(distance*np.sin(np.deg2rad(270-angle)))]])\n",
    "    neigh=nl.calculate(turbs,position)\n",
    "    finpr=exponential_new.FingerprintCalculator(cutoff=4001,Gs=Gs)\n",
    "    fp=finpr.calculate(turbs,position,neigh,symbol)\n",
    "    fp=np.array(fp)\n",
    "    dataset_pos=np.append(dataset_pos,position,axis=0)\n",
    "    dataset_fp=np.append(dataset_fp,fp,axis=0)\n",
    "    dataset_pri=np.append(dataset_pri,pri,axis=0)\n",
    "dataset=np.concatenate((dataset_fp, dataset_pri),axis=1)"
   ]
  },
  {
   "cell_type": "code",
   "execution_count": 6,
   "metadata": {},
   "outputs": [],
   "source": [
    "for angle in [270,273,276,278,279,283,288]:\n",
    "    distance=1000  \n",
    "    df=pd.read_csv('turbine_files/turbine_%sp00_10p00_report_%s.csv' %(angle,distance), sep=' ', header=None)\n",
    "    df=df.tail(1)\n",
    "    df=pd.melt(df)\n",
    "    df=df.dropna()\n",
    "    a=df.to_numpy(dtype=float)\n",
    "    a=a[:,1]\n",
    "    pri=np.array([[a[22]],[a[19]]])\n",
    "    position=np.array([[0., 0.], [(distance*np.cos(np.deg2rad(270-angle))),(distance*np.sin(np.deg2rad(270-angle)))]])\n",
    "    neigh=nl.calculate(turbs,position)\n",
    "    finpr=exponential_new.FingerprintCalculator(cutoff=4001,Gs=Gs)\n",
    "    fp=finpr.calculate(turbs,position,neigh,symbol)\n",
    "    fp=np.array(fp)\n",
    "    dataset_pos=np.append(dataset_pos,position,axis=0)\n",
    "    dataset_fp=np.append(dataset_fp,fp,axis=0)\n",
    "    dataset_pri=np.append(dataset_pri,pri,axis=0)\n",
    "dataset=np.concatenate((dataset_fp, dataset_pri),axis=1)"
   ]
  },
  {
   "cell_type": "code",
   "execution_count": 7,
   "metadata": {},
   "outputs": [],
   "source": [
    "for angle in [270,272,274,277,280,281]:\n",
    "    distance=1250  \n",
    "    df=pd.read_csv('turbine_files/turbine_%sp00_10p00_report_%s.csv' %(angle,distance), sep=' ', header=None)\n",
    "    df=df.tail(1)\n",
    "    df=pd.melt(df)\n",
    "    df=df.dropna()\n",
    "    a=df.to_numpy(dtype=float)\n",
    "    a=a[:,1]\n",
    "    pri=np.array([[a[22]],[a[19]]])\n",
    "    position=np.array([[0., 0.], [(distance*np.cos(np.deg2rad(270-angle))),(distance*np.sin(np.deg2rad(270-angle)))]])\n",
    "    neigh=nl.calculate(turbs,position)\n",
    "    finpr=exponential_new.FingerprintCalculator(cutoff=4001,Gs=Gs)\n",
    "    fp=finpr.calculate(turbs,position,neigh,symbol)\n",
    "    fp=np.array(fp)\n",
    "    dataset_pos=np.append(dataset_pos,position,axis=0)\n",
    "    dataset_fp=np.append(dataset_fp,fp,axis=0)\n",
    "    dataset_pri=np.append(dataset_pri,pri,axis=0)\n",
    "dataset=np.concatenate((dataset_fp, dataset_pri),axis=1)"
   ]
  },
  {
   "cell_type": "code",
   "execution_count": 8,
   "metadata": {},
   "outputs": [],
   "source": [
    "for angle in [270,271,272,273,274,278]:\n",
    "    distance=1500  \n",
    "    df=pd.read_csv('turbine_files/turbine_%sp00_10p00_report_%s.csv' %(angle,distance), sep=' ', header=None)\n",
    "    df=df.tail(1)\n",
    "    df=pd.melt(df)\n",
    "    df=df.dropna()\n",
    "    a=df.to_numpy(dtype=float)\n",
    "    a=a[:,1]\n",
    "    pri=np.array([[a[22]],[a[19]]])\n",
    "    position=np.array([[0., 0.], [(distance*np.cos(np.deg2rad(270-angle))),(distance*np.sin(np.deg2rad(270-angle)))]])\n",
    "    neigh=nl.calculate(turbs,position)\n",
    "    finpr=exponential_new.FingerprintCalculator(cutoff=4001,Gs=Gs)\n",
    "    fp=finpr.calculate(turbs,position,neigh,symbol)\n",
    "    fp=np.array(fp)\n",
    "    dataset_pos=np.append(dataset_pos,position,axis=0)\n",
    "    dataset_fp=np.append(dataset_fp,fp,axis=0)\n",
    "    dataset_pri=np.append(dataset_pri,pri,axis=0)\n",
    "dataset=np.concatenate((dataset_fp, dataset_pri),axis=1)"
   ]
  },
  {
   "cell_type": "code",
   "execution_count": 9,
   "metadata": {},
   "outputs": [],
   "source": [
    "for angle in [270,274,275,276,279]:\n",
    "    distance=1750  \n",
    "    df=pd.read_csv('turbine_files/turbine_%sp00_10p00_report_%s.csv' %(angle,distance), sep=' ', header=None)\n",
    "    df=df.tail(1)\n",
    "    df=pd.melt(df)\n",
    "    df=df.dropna()\n",
    "    a=df.to_numpy(dtype=float)\n",
    "    a=a[:,1]\n",
    "    pri=np.array([[a[22]],[a[19]]])\n",
    "    position=np.array([[0., 0.], [(distance*np.cos(np.deg2rad(270-angle))),(distance*np.sin(np.deg2rad(270-angle)))]])\n",
    "    neigh=nl.calculate(turbs,position)\n",
    "    finpr=exponential_new.FingerprintCalculator(cutoff=4001,Gs=Gs)\n",
    "    fp=finpr.calculate(turbs,position,neigh,symbol)\n",
    "    fp=np.array(fp)\n",
    "    dataset_pos=np.append(dataset_pos,position,axis=0)\n",
    "    dataset_fp=np.append(dataset_fp,fp,axis=0)\n",
    "    dataset_pri=np.append(dataset_pri,pri,axis=0)\n",
    "dataset=np.concatenate((dataset_fp, dataset_pri),axis=1)"
   ]
  },
  {
   "cell_type": "code",
   "execution_count": 10,
   "metadata": {},
   "outputs": [],
   "source": [
    "for angle in [270,278]:\n",
    "    distance=2000  \n",
    "    df=pd.read_csv('turbine_files/turbine_%sp00_10p00_report_%s.csv' %(angle,distance), sep=' ', header=None)\n",
    "    df=df.tail(1)\n",
    "    df=pd.melt(df)\n",
    "    df=df.dropna()\n",
    "    a=df.to_numpy(dtype=float)\n",
    "    a=a[:,1]\n",
    "    pri=np.array([[a[22]],[a[19]]])\n",
    "    position=np.array([[0., 0.], [(distance*np.cos(np.deg2rad(270-angle))),(distance*np.sin(np.deg2rad(270-angle)))]])\n",
    "    neigh=nl.calculate(turbs,position)\n",
    "    finpr=exponential_new.FingerprintCalculator(cutoff=4001,Gs=Gs)\n",
    "    fp=finpr.calculate(turbs,position,neigh,symbol)\n",
    "    fp=np.array(fp)\n",
    "    dataset_pos=np.append(dataset_pos,position,axis=0)\n",
    "    dataset_fp=np.append(dataset_fp,fp,axis=0)\n",
    "    dataset_pri=np.append(dataset_pri,pri,axis=0)\n",
    "dataset=np.concatenate((dataset_fp, dataset_pri),axis=1)"
   ]
  },
  {
   "cell_type": "code",
   "execution_count": 11,
   "metadata": {},
   "outputs": [],
   "source": [
    "for angle in [270,271,274]:\n",
    "    distance=2250  \n",
    "    df=pd.read_csv('turbine_files/turbine_%sp00_10p00_report_%s.csv' %(angle,distance), sep=' ', header=None)\n",
    "    df=df.tail(1)\n",
    "    df=pd.melt(df)\n",
    "    df=df.dropna()\n",
    "    a=df.to_numpy(dtype=float)\n",
    "    a=a[:,1]\n",
    "    pri=np.array([[a[22]],[a[19]]])\n",
    "    position=np.array([[0., 0.], [(distance*np.cos(np.deg2rad(270-angle))),(distance*np.sin(np.deg2rad(270-angle)))]])\n",
    "    neigh=nl.calculate(turbs,position)\n",
    "    finpr=exponential_new.FingerprintCalculator(cutoff=4001,Gs=Gs)\n",
    "    fp=finpr.calculate(turbs,position,neigh,symbol)\n",
    "    fp=np.array(fp)\n",
    "    dataset_pos=np.append(dataset_pos,position,axis=0)\n",
    "    dataset_fp=np.append(dataset_fp,fp,axis=0)\n",
    "    dataset_pri=np.append(dataset_pri,pri,axis=0)\n",
    "dataset=np.concatenate((dataset_fp, dataset_pri),axis=1)"
   ]
  },
  {
   "cell_type": "code",
   "execution_count": 12,
   "metadata": {},
   "outputs": [],
   "source": [
    "for angle in [270,272]:\n",
    "    distance=2500  \n",
    "    df=pd.read_csv('turbine_files/turbine_%sp00_10p00_report_%s.csv' %(angle,distance), sep=' ', header=None)\n",
    "    df=df.tail(1)\n",
    "    df=pd.melt(df)\n",
    "    df=df.dropna()\n",
    "    a=df.to_numpy(dtype=float)\n",
    "    a=a[:,1]\n",
    "    pri=np.array([[a[22]],[a[19]]])\n",
    "    position=np.array([[0., 0.], [(distance*np.cos(np.deg2rad(270-angle))),(distance*np.sin(np.deg2rad(270-angle)))]])\n",
    "    neigh=nl.calculate(turbs,position)\n",
    "    finpr=exponential_new.FingerprintCalculator(cutoff=4001,Gs=Gs)\n",
    "    fp=finpr.calculate(turbs,position,neigh,symbol)\n",
    "    fp=np.array(fp)\n",
    "    dataset_pos=np.append(dataset_pos,position,axis=0)\n",
    "    dataset_fp=np.append(dataset_fp,fp,axis=0)\n",
    "    dataset_pri=np.append(dataset_pri,pri,axis=0)\n",
    "dataset=np.concatenate((dataset_fp, dataset_pri),axis=1)"
   ]
  },
  {
   "cell_type": "code",
   "execution_count": 13,
   "metadata": {},
   "outputs": [],
   "source": [
    "for angle in [270,275]:\n",
    "    distance=2750  \n",
    "    df=pd.read_csv('turbine_files/turbine_%sp00_10p00_report_%s.csv' %(angle,distance), sep=' ', header=None)\n",
    "    df=df.tail(1)\n",
    "    df=pd.melt(df)\n",
    "    df=df.dropna()\n",
    "    a=df.to_numpy(dtype=float)\n",
    "    a=a[:,1]\n",
    "    pri=np.array([[a[22]],[a[19]]])\n",
    "    position=np.array([[0., 0.], [(distance*np.cos(np.deg2rad(270-angle))),(distance*np.sin(np.deg2rad(270-angle)))]])\n",
    "    neigh=nl.calculate(turbs,position)\n",
    "    finpr=exponential_new.FingerprintCalculator(cutoff=4001,Gs=Gs)\n",
    "    fp=finpr.calculate(turbs,position,neigh,symbol)\n",
    "    fp=np.array(fp)\n",
    "    dataset_pos=np.append(dataset_pos,position,axis=0)\n",
    "    dataset_fp=np.append(dataset_fp,fp,axis=0)\n",
    "    dataset_pri=np.append(dataset_pri,pri,axis=0)\n",
    "dataset=np.concatenate((dataset_fp, dataset_pri),axis=1)"
   ]
  },
  {
   "cell_type": "code",
   "execution_count": 14,
   "metadata": {},
   "outputs": [],
   "source": [
    "for angle in [270,272]:\n",
    "    distance=3000  \n",
    "    df=pd.read_csv('turbine_files/turbine_%sp00_10p00_report_%s.csv' %(angle,distance), sep=' ', header=None)\n",
    "    df=df.tail(1)\n",
    "    df=pd.melt(df)\n",
    "    df=df.dropna()\n",
    "    a=df.to_numpy(dtype=float)\n",
    "    a=a[:,1]\n",
    "    pri=np.array([[a[22]],[a[19]]])\n",
    "    position=np.array([[0., 0.], [(distance*np.cos(np.deg2rad(270-angle))),(distance*np.sin(np.deg2rad(270-angle)))]])\n",
    "    neigh=nl.calculate(turbs,position)\n",
    "    finpr=exponential_new.FingerprintCalculator(cutoff=4001,Gs=Gs)\n",
    "    fp=finpr.calculate(turbs,position,neigh,symbol)\n",
    "    fp=np.array(fp)\n",
    "    dataset_pos=np.append(dataset_pos,position,axis=0)\n",
    "    dataset_fp=np.append(dataset_fp,fp,axis=0)\n",
    "    dataset_pri=np.append(dataset_pri,pri,axis=0)\n",
    "dataset=np.concatenate((dataset_fp, dataset_pri),axis=1)"
   ]
  },
  {
   "cell_type": "code",
   "execution_count": 15,
   "metadata": {},
   "outputs": [],
   "source": [
    "for angle in [270,273,275]:\n",
    "    distance=3200  \n",
    "    df=pd.read_csv('turbine_files/turbine_%sp00_10p00_report_%s.csv' %(angle,distance), sep=' ', header=None)\n",
    "    df=df.tail(1)\n",
    "    df=pd.melt(df)\n",
    "    df=df.dropna()\n",
    "    a=df.to_numpy(dtype=float)\n",
    "    a=a[:,1]\n",
    "    pri=np.array([[a[22]],[a[19]]])\n",
    "    position=np.array([[0., 0.], [(distance*np.cos(np.deg2rad(270-angle))),(distance*np.sin(np.deg2rad(270-angle)))]])\n",
    "    neigh=nl.calculate(turbs,position)\n",
    "    finpr=exponential_new.FingerprintCalculator(cutoff=4001,Gs=Gs)\n",
    "    fp=finpr.calculate(turbs,position,neigh,symbol)\n",
    "    fp=np.array(fp)\n",
    "    dataset_pos=np.append(dataset_pos,position,axis=0)\n",
    "    dataset_fp=np.append(dataset_fp,fp,axis=0)\n",
    "    dataset_pri=np.append(dataset_pri,pri,axis=0)\n",
    "dataset=np.concatenate((dataset_fp, dataset_pri),axis=1)"
   ]
  },
  {
   "cell_type": "code",
   "execution_count": 16,
   "metadata": {},
   "outputs": [],
   "source": [
    "for angle in [270,271,273]:\n",
    "    distance=3500  \n",
    "    df=pd.read_csv('turbine_files/turbine_%sp00_10p00_report_%s.csv' %(angle,distance), sep=' ', header=None)\n",
    "    df=df.tail(1)\n",
    "    df=pd.melt(df)\n",
    "    df=df.dropna()\n",
    "    a=df.to_numpy(dtype=float)\n",
    "    a=a[:,1]\n",
    "    pri=np.array([[a[22]],[a[19]]])\n",
    "    position=np.array([[0., 0.], [(distance*np.cos(np.deg2rad(270-angle))),(distance*np.sin(np.deg2rad(270-angle)))]])\n",
    "    neigh=nl.calculate(turbs,position)\n",
    "    finpr=exponential_new.FingerprintCalculator(cutoff=4001,Gs=Gs)\n",
    "    fp=finpr.calculate(turbs,position,neigh,symbol)\n",
    "    fp=np.array(fp)\n",
    "    dataset_pos=np.append(dataset_pos,position,axis=0)\n",
    "    dataset_fp=np.append(dataset_fp,fp,axis=0)\n",
    "    dataset_pri=np.append(dataset_pri,pri,axis=0)\n",
    "dataset=np.concatenate((dataset_fp, dataset_pri),axis=1)"
   ]
  },
  {
   "cell_type": "code",
   "execution_count": 17,
   "metadata": {},
   "outputs": [],
   "source": [
    "angle=270\n",
    "distance=4000  \n",
    "df=pd.read_csv('turbine_files/turbine_%sp00_10p00_report_%s.csv' %(angle,distance), sep=' ', header=None)\n",
    "df=df.tail(1)\n",
    "df=pd.melt(df)\n",
    "df=df.dropna()\n",
    "a=df.to_numpy(dtype=float)\n",
    "a=a[:,1]\n",
    "pri=np.array([[a[22]],[a[19]]])\n",
    "position=np.array([[0., 0.], [(distance*np.cos(np.deg2rad(270-angle))),(distance*np.sin(np.deg2rad(270-angle)))]])\n",
    "neigh=nl.calculate(turbs,position)\n",
    "finpr=exponential_new.FingerprintCalculator(cutoff=4001,Gs=Gs)\n",
    "fp=finpr.calculate(turbs,position,neigh,symbol)\n",
    "fp=np.array(fp)\n",
    "dataset_pos=np.append(dataset_pos,position,axis=0)\n",
    "dataset_fp=np.append(dataset_fp,fp,axis=0)\n",
    "dataset_pri=np.append(dataset_pri,pri,axis=0)\n",
    "dataset=np.concatenate((dataset_fp, dataset_pri),axis=1)"
   ]
  },
  {
   "cell_type": "code",
   "execution_count": 18,
   "metadata": {
    "executionInfo": {
     "elapsed": 10,
     "status": "ok",
     "timestamp": 1637598620208,
     "user": {
      "displayName": "Muhammed Nedim Söğüt",
      "photoUrl": "https://lh3.googleusercontent.com/a-/AOh14Gi7CHj6vsdvLbpZe4gviCH_RX4DfZaqg6OrfDwc=s64",
      "userId": "14768761371783583511"
     },
     "user_tz": 0
    },
    "id": "FkkVLsU76O4C"
   },
   "outputs": [],
   "source": [
    "dataset = pd.DataFrame(dataset, columns = ['Fingerprint(G2)','Fingerprint(G4)','Ref_Wind_Speed'])\n"
   ]
  },
  {
   "cell_type": "code",
   "execution_count": 19,
   "metadata": {},
   "outputs": [
    {
     "data": {
      "text/html": [
       "<div>\n",
       "<style scoped>\n",
       "    .dataframe tbody tr th:only-of-type {\n",
       "        vertical-align: middle;\n",
       "    }\n",
       "\n",
       "    .dataframe tbody tr th {\n",
       "        vertical-align: top;\n",
       "    }\n",
       "\n",
       "    .dataframe thead th {\n",
       "        text-align: right;\n",
       "    }\n",
       "</style>\n",
       "<table border=\"1\" class=\"dataframe\">\n",
       "  <thead>\n",
       "    <tr style=\"text-align: right;\">\n",
       "      <th></th>\n",
       "      <th>Fingerprint(G2)</th>\n",
       "      <th>Fingerprint(G4)</th>\n",
       "      <th>Ref_Wind_Speed</th>\n",
       "    </tr>\n",
       "  </thead>\n",
       "  <tbody>\n",
       "    <tr>\n",
       "      <th>0</th>\n",
       "      <td>1.000000</td>\n",
       "      <td>1.000000</td>\n",
       "      <td>7.479762</td>\n",
       "    </tr>\n",
       "    <tr>\n",
       "      <th>1</th>\n",
       "      <td>0.308061</td>\n",
       "      <td>0.879813</td>\n",
       "      <td>7.576231</td>\n",
       "    </tr>\n",
       "    <tr>\n",
       "      <th>2</th>\n",
       "      <td>1.000000</td>\n",
       "      <td>1.000000</td>\n",
       "      <td>7.473602</td>\n",
       "    </tr>\n",
       "    <tr>\n",
       "      <th>3</th>\n",
       "      <td>0.308061</td>\n",
       "      <td>0.871123</td>\n",
       "      <td>7.567527</td>\n",
       "    </tr>\n",
       "    <tr>\n",
       "      <th>4</th>\n",
       "      <td>1.000000</td>\n",
       "      <td>1.000000</td>\n",
       "      <td>7.467848</td>\n",
       "    </tr>\n",
       "    <tr>\n",
       "      <th>...</th>\n",
       "      <td>...</td>\n",
       "      <td>...</td>\n",
       "      <td>...</td>\n",
       "    </tr>\n",
       "    <tr>\n",
       "      <th>699</th>\n",
       "      <td>0.992108</td>\n",
       "      <td>0.983475</td>\n",
       "      <td>7.245134</td>\n",
       "    </tr>\n",
       "    <tr>\n",
       "      <th>700</th>\n",
       "      <td>1.000000</td>\n",
       "      <td>1.000000</td>\n",
       "      <td>7.483274</td>\n",
       "    </tr>\n",
       "    <tr>\n",
       "      <th>701</th>\n",
       "      <td>0.992108</td>\n",
       "      <td>0.985629</td>\n",
       "      <td>7.384614</td>\n",
       "    </tr>\n",
       "    <tr>\n",
       "      <th>702</th>\n",
       "      <td>1.000000</td>\n",
       "      <td>1.000000</td>\n",
       "      <td>7.433140</td>\n",
       "    </tr>\n",
       "    <tr>\n",
       "      <th>703</th>\n",
       "      <td>1.000000</td>\n",
       "      <td>1.000000</td>\n",
       "      <td>7.183321</td>\n",
       "    </tr>\n",
       "  </tbody>\n",
       "</table>\n",
       "<p>704 rows × 3 columns</p>\n",
       "</div>"
      ],
      "text/plain": [
       "     Fingerprint(G2)  Fingerprint(G4)  Ref_Wind_Speed\n",
       "0           1.000000         1.000000        7.479762\n",
       "1           0.308061         0.879813        7.576231\n",
       "2           1.000000         1.000000        7.473602\n",
       "3           0.308061         0.871123        7.567527\n",
       "4           1.000000         1.000000        7.467848\n",
       "..               ...              ...             ...\n",
       "699         0.992108         0.983475        7.245134\n",
       "700         1.000000         1.000000        7.483274\n",
       "701         0.992108         0.985629        7.384614\n",
       "702         1.000000         1.000000        7.433140\n",
       "703         1.000000         1.000000        7.183321\n",
       "\n",
       "[704 rows x 3 columns]"
      ]
     },
     "execution_count": 19,
     "metadata": {},
     "output_type": "execute_result"
    }
   ],
   "source": [
    "dataset"
   ]
  },
  {
   "cell_type": "code",
   "execution_count": 20,
   "metadata": {
    "executionInfo": {
     "elapsed": 10,
     "status": "ok",
     "timestamp": 1637598620209,
     "user": {
      "displayName": "Muhammed Nedim Söğüt",
      "photoUrl": "https://lh3.googleusercontent.com/a-/AOh14Gi7CHj6vsdvLbpZe4gviCH_RX4DfZaqg6OrfDwc=s64",
      "userId": "14768761371783583511"
     },
     "user_tz": 0
    },
    "id": "MXQM1Szw6O4D"
   },
   "outputs": [],
   "source": [
    "train_dataset = dataset.sample(frac=0.8, random_state=0)\n",
    "test_dataset = dataset.drop(train_dataset.index)"
   ]
  },
  {
   "cell_type": "code",
   "execution_count": 21,
   "metadata": {
    "executionInfo": {
     "elapsed": 9,
     "status": "ok",
     "timestamp": 1637598620209,
     "user": {
      "displayName": "Muhammed Nedim Söğüt",
      "photoUrl": "https://lh3.googleusercontent.com/a-/AOh14Gi7CHj6vsdvLbpZe4gviCH_RX4DfZaqg6OrfDwc=s64",
      "userId": "14768761371783583511"
     },
     "user_tz": 0
    },
    "id": "iIDK2X016O4F"
   },
   "outputs": [],
   "source": [
    "train_features = train_dataset.copy()\n",
    "test_features = test_dataset.copy()\n",
    "all_features = dataset.copy()\n",
    "\n",
    "train_labels = train_features.pop('Ref_Wind_Speed')\n",
    "test_labels = test_features.pop('Ref_Wind_Speed')\n",
    "all_labels = all_features.pop('Ref_Wind_Speed')"
   ]
  },
  {
   "cell_type": "code",
   "execution_count": 22,
   "metadata": {
    "colab": {
     "base_uri": "https://localhost:8080/",
     "height": 142
    },
    "executionInfo": {
     "elapsed": 9,
     "status": "ok",
     "timestamp": 1637598620210,
     "user": {
      "displayName": "Muhammed Nedim Söğüt",
      "photoUrl": "https://lh3.googleusercontent.com/a-/AOh14Gi7CHj6vsdvLbpZe4gviCH_RX4DfZaqg6OrfDwc=s64",
      "userId": "14768761371783583511"
     },
     "user_tz": 0
    },
    "id": "jpYMZe6Y6O4F",
    "outputId": "fb20fdf7-22cb-4d4c-b908-ba74ded96ba8"
   },
   "outputs": [
    {
     "data": {
      "text/html": [
       "<div>\n",
       "<style scoped>\n",
       "    .dataframe tbody tr th:only-of-type {\n",
       "        vertical-align: middle;\n",
       "    }\n",
       "\n",
       "    .dataframe tbody tr th {\n",
       "        vertical-align: top;\n",
       "    }\n",
       "\n",
       "    .dataframe thead th {\n",
       "        text-align: right;\n",
       "    }\n",
       "</style>\n",
       "<table border=\"1\" class=\"dataframe\">\n",
       "  <thead>\n",
       "    <tr style=\"text-align: right;\">\n",
       "      <th></th>\n",
       "      <th>mean</th>\n",
       "      <th>std</th>\n",
       "    </tr>\n",
       "  </thead>\n",
       "  <tbody>\n",
       "    <tr>\n",
       "      <th>Fingerprint(G2)</th>\n",
       "      <td>0.755911</td>\n",
       "      <td>0.273376</td>\n",
       "    </tr>\n",
       "    <tr>\n",
       "      <th>Fingerprint(G4)</th>\n",
       "      <td>0.817771</td>\n",
       "      <td>0.243344</td>\n",
       "    </tr>\n",
       "    <tr>\n",
       "      <th>Ref_Wind_Speed</th>\n",
       "      <td>7.194320</td>\n",
       "      <td>0.594781</td>\n",
       "    </tr>\n",
       "  </tbody>\n",
       "</table>\n",
       "</div>"
      ],
      "text/plain": [
       "                     mean       std\n",
       "Fingerprint(G2)  0.755911  0.273376\n",
       "Fingerprint(G4)  0.817771  0.243344\n",
       "Ref_Wind_Speed   7.194320  0.594781"
      ]
     },
     "execution_count": 22,
     "metadata": {},
     "output_type": "execute_result"
    }
   ],
   "source": [
    "train_dataset.describe().transpose()[['mean', 'std']]"
   ]
  },
  {
   "cell_type": "code",
   "execution_count": 23,
   "metadata": {
    "colab": {
     "base_uri": "https://localhost:8080/"
    },
    "executionInfo": {
     "elapsed": 339,
     "status": "ok",
     "timestamp": 1637598620542,
     "user": {
      "displayName": "Muhammed Nedim Söğüt",
      "photoUrl": "https://lh3.googleusercontent.com/a-/AOh14Gi7CHj6vsdvLbpZe4gviCH_RX4DfZaqg6OrfDwc=s64",
      "userId": "14768761371783583511"
     },
     "user_tz": 0
    },
    "id": "lFHqe1aY6O4G",
    "outputId": "e598673e-eca6-4cc2-b50c-23eafa8dc4d8"
   },
   "outputs": [
    {
     "name": "stdout",
     "output_type": "stream",
     "text": [
      "[[0.7559109  0.81777096]]\n"
     ]
    }
   ],
   "source": [
    "normalizer = preprocessing.Normalization(axis=-1)\n",
    "normalizer.adapt(np.array(train_features))\n",
    "print(normalizer.mean.numpy())"
   ]
  },
  {
   "cell_type": "code",
   "execution_count": 24,
   "metadata": {
    "colab": {
     "base_uri": "https://localhost:8080/"
    },
    "executionInfo": {
     "elapsed": 10,
     "status": "ok",
     "timestamp": 1637598620543,
     "user": {
      "displayName": "Muhammed Nedim Söğüt",
      "photoUrl": "https://lh3.googleusercontent.com/a-/AOh14Gi7CHj6vsdvLbpZe4gviCH_RX4DfZaqg6OrfDwc=s64",
      "userId": "14768761371783583511"
     },
     "user_tz": 0
    },
    "id": "jT66MAz8_qz1",
    "outputId": "91df6f2c-bcee-44b9-ae6f-3e2a378f50b4"
   },
   "outputs": [
    {
     "name": "stdout",
     "output_type": "stream",
     "text": [
      "Model: \"sequential\"\n",
      "_________________________________________________________________\n",
      " Layer (type)                Output Shape              Param #   \n",
      "=================================================================\n",
      " normalization (Normalizatio  (None, 2)                5         \n",
      " n)                                                              \n",
      "                                                                 \n",
      " dense (Dense)               (None, 64)                192       \n",
      "                                                                 \n",
      " dense_1 (Dense)             (None, 64)                4160      \n",
      "                                                                 \n",
      " dense_2 (Dense)             (None, 32)                2080      \n",
      "                                                                 \n",
      " dense_3 (Dense)             (None, 16)                528       \n",
      "                                                                 \n",
      " dense_4 (Dense)             (None, 1)                 17        \n",
      "                                                                 \n",
      "=================================================================\n",
      "Total params: 6,982\n",
      "Trainable params: 6,977\n",
      "Non-trainable params: 5\n",
      "_________________________________________________________________\n"
     ]
    }
   ],
   "source": [
    "dnn_model = build_and_compile_model(normalizer)\n",
    "dnn_model.summary()"
   ]
  },
  {
   "cell_type": "code",
   "execution_count": 25,
   "metadata": {
    "colab": {
     "base_uri": "https://localhost:8080/"
    },
    "executionInfo": {
     "elapsed": 5743,
     "status": "ok",
     "timestamp": 1637598626283,
     "user": {
      "displayName": "Muhammed Nedim Söğüt",
      "photoUrl": "https://lh3.googleusercontent.com/a-/AOh14Gi7CHj6vsdvLbpZe4gviCH_RX4DfZaqg6OrfDwc=s64",
      "userId": "14768761371783583511"
     },
     "user_tz": 0
    },
    "id": "BxYKBgly_vKz",
    "outputId": "8234c669-98e3-47c4-e99d-a3dba3fe9fe5"
   },
   "outputs": [
    {
     "name": "stdout",
     "output_type": "stream",
     "text": [
      "CPU times: user 6.35 s, sys: 1.09 s, total: 7.44 s\n",
      "Wall time: 4.85 s\n"
     ]
    }
   ],
   "source": [
    "%%time\n",
    "history = dnn_model.fit(\n",
    "    train_features, train_labels,\n",
    "    validation_split=0.2,\n",
    "    verbose=0, epochs=120)"
   ]
  },
  {
   "cell_type": "code",
   "execution_count": 26,
   "metadata": {
    "colab": {
     "base_uri": "https://localhost:8080/",
     "height": 283
    },
    "executionInfo": {
     "elapsed": 451,
     "status": "ok",
     "timestamp": 1637598626728,
     "user": {
      "displayName": "Muhammed Nedim Söğüt",
      "photoUrl": "https://lh3.googleusercontent.com/a-/AOh14Gi7CHj6vsdvLbpZe4gviCH_RX4DfZaqg6OrfDwc=s64",
      "userId": "14768761371783583511"
     },
     "user_tz": 0
    },
    "id": "IRSzsfQ5_yZt",
    "outputId": "76204080-d7db-4c5e-ac64-31d6a2d260b0"
   },
   "outputs": [
    {
     "data": {
      "image/png": "[encoded data removed]",
      "text/plain": [
       "<Figure size 432x288 with 1 Axes>"
      ]
     },
     "metadata": {
      "needs_background": "light"
     },
     "output_type": "display_data"
    }
   ],
   "source": [
    "plot_loss(history)"
   ]
  },
  {
   "cell_type": "code",
   "execution_count": 27,
   "metadata": {
    "colab": {
     "base_uri": "https://localhost:8080/",
     "height": 284
    },
    "executionInfo": {
     "elapsed": 624,
     "status": "ok",
     "timestamp": 1637598627348,
     "user": {
      "displayName": "Muhammed Nedim Söğüt",
      "photoUrl": "https://lh3.googleusercontent.com/a-/AOh14Gi7CHj6vsdvLbpZe4gviCH_RX4DfZaqg6OrfDwc=s64",
      "userId": "14768761371783583511"
     },
     "user_tz": 0
    },
    "id": "dHtOGkBy_8JM",
    "outputId": "c023a307-e6d1-4432-db40-d371d440fecc"
   },
   "outputs": [
    {
     "data": {
      "image/png": "[encoded data removed]",
      "text/plain": [
       "<Figure size 432x288 with 2 Axes>"
      ]
     },
     "metadata": {
      "needs_background": "light"
     },
     "output_type": "display_data"
    }
   ],
   "source": [
    "test_predictions = dnn_model.predict(test_features).flatten()\n",
    "train_predictions = dnn_model.predict(train_features).flatten()\n",
    "a = plt.axes(aspect='equal')\n",
    "plt.scatter(test_labels, test_predictions,c=test_features[\"Fingerprint(G4)\"])\n",
    "plt.scatter(train_labels, train_predictions,c=train_features[\"Fingerprint(G4)\"])\n",
    "plt.xlabel('True Values [Ref_wind_speed]')\n",
    "plt.ylabel('Predictions [Ref_wind_speed]')\n",
    "cbar=plt.colorbar()\n",
    "cbar.set_label('Fingerprint(G4)')\n",
    "lims = [5, 8]\n",
    "plt.xlim(lims)\n",
    "plt.ylim(lims)\n",
    "_ = plt.plot(lims, lims)"
   ]
  },
  {
   "cell_type": "code",
   "execution_count": 28,
   "metadata": {},
   "outputs": [
    {
     "data": {
      "image/png": "[encoded data removed]",
      "text/plain": [
       "<Figure size 432x288 with 1 Axes>"
      ]
     },
     "metadata": {
      "needs_background": "light"
     },
     "output_type": "display_data"
    }
   ],
   "source": [
    "est_predictions = dnn_model.predict(test_features).flatten()\n",
    "train_predictions = dnn_model.predict(train_features).flatten()\n",
    "a = plt.axes(aspect='equal')\n",
    "plt.scatter(test_labels, test_predictions)\n",
    "plt.scatter(train_labels, train_predictions)\n",
    "plt.xlabel('True Values [Ref_wind_speed]')\n",
    "plt.ylabel('Predictions [Ref_wind_speed]')\n",
    "\n",
    "lims = [5, 8]\n",
    "plt.xlim(lims)\n",
    "plt.ylim(lims)\n",
    "_ = plt.plot(lims, lims)"
   ]
  },
  {
   "cell_type": "code",
   "execution_count": 29,
   "metadata": {
    "colab": {
     "base_uri": "https://localhost:8080/",
     "height": 296
    },
    "executionInfo": {
     "elapsed": 493,
     "status": "ok",
     "timestamp": 1637598627831,
     "user": {
      "displayName": "Muhammed Nedim Söğüt",
      "photoUrl": "https://lh3.googleusercontent.com/a-/AOh14Gi7CHj6vsdvLbpZe4gviCH_RX4DfZaqg6OrfDwc=s64",
      "userId": "14768761371783583511"
     },
     "user_tz": 0
    },
    "id": "dvb-24fH31s-",
    "outputId": "8e4778fe-e023-4993-fd72-61554c8cf6a2"
   },
   "outputs": [
    {
     "data": {
      "image/png": "[encoded data removed]",
      "text/plain": [
       "<Figure size 432x288 with 2 Axes>"
      ]
     },
     "metadata": {
      "needs_background": "light"
     },
     "output_type": "display_data"
    }
   ],
   "source": [
    "a = plt.axes\n",
    "plt.scatter(test_features[\"Fingerprint(G2)\"], test_features[\"Fingerprint(G4)\"],c=np.abs(test_labels))\n",
    "plt.scatter(train_features[\"Fingerprint(G2)\"], train_features[\"Fingerprint(G4)\"],c=np.abs(train_labels))\n",
    "#plt.scatter(train_labels, train_predictions)\n",
    "plt.xlabel('Fingerprint(G2)')\n",
    "plt.ylabel('Fingerprint(G4)')\n",
    "cbar=plt.colorbar()\n",
    "cbar.set_label('True Reference Wind Speed(m/s)')\n",
    "#_ = plt.plot()"
   ]
  },
  {
   "cell_type": "code",
   "execution_count": 51,
   "metadata": {
    "colab": {
     "base_uri": "https://localhost:8080/",
     "height": 296
    },
    "executionInfo": {
     "elapsed": 18,
     "status": "ok",
     "timestamp": 1637598627833,
     "user": {
      "displayName": "Muhammed Nedim Söğüt",
      "photoUrl": "https://lh3.googleusercontent.com/a-/AOh14Gi7CHj6vsdvLbpZe4gviCH_RX4DfZaqg6OrfDwc=s64",
      "userId": "14768761371783583511"
     },
     "user_tz": 0
    },
    "id": "l-ggP6fm8CUJ",
    "outputId": "7beb1008-2768-4642-8cbe-252757b1a37e"
   },
   "outputs": [
    {
     "data": {
      "image/png": "[encoded data removed]",
      "text/plain": [
       "<Figure size 432x288 with 2 Axes>"
      ]
     },
     "metadata": {
      "needs_background": "light"
     },
     "output_type": "display_data"
    }
   ],
   "source": [
    "all_predictions = dnn_model.predict(all_features).flatten()\n",
    "a = plt.axes\n",
    "error_all=all_predictions-all_labels\n",
    "plt.scatter(dataset_pos[:,0], dataset_pos[:,1],c=np.abs(error_all))\n",
    "#plt.scatter(train_features[\"Fingerprint(G2)\"], train_features[\"Fingerprint(G4)\"],c=train_labels)\n",
    "#plt.scatter(train_labels, train_predictions)\n",
    "plt.xlabel('X-axis')\n",
    "plt.ylabel('Y-axis')\n",
    "cbar=plt.colorbar()\n",
    "cbar.set_label('Absolute Error rate (m/s)')"
   ]
  },
  {
   "cell_type": "code",
   "execution_count": 30,
   "metadata": {
    "colab": {
     "base_uri": "https://localhost:8080/",
     "height": 280
    },
    "executionInfo": {
     "elapsed": 335,
     "status": "ok",
     "timestamp": 1637598628159,
     "user": {
      "displayName": "Muhammed Nedim Söğüt",
      "photoUrl": "https://lh3.googleusercontent.com/a-/AOh14Gi7CHj6vsdvLbpZe4gviCH_RX4DfZaqg6OrfDwc=s64",
      "userId": "14768761371783583511"
     },
     "user_tz": 0
    },
    "id": "23zkkl1WAiNj",
    "outputId": "de776c7a-05a9-4ea3-9f01-1645976e1761"
   },
   "outputs": [
    {
     "data": {
      "image/png": "[encoded data removed]",
      "text/plain": [
       "<Figure size 432x288 with 1 Axes>"
      ]
     },
     "metadata": {
      "needs_background": "light"
     },
     "output_type": "display_data"
    }
   ],
   "source": [
    "error = test_predictions - test_labels\n",
    "plt.hist(error, bins=10)\n",
    "plt.xlabel('Prediction Error [Ref_wind_speed]')\n",
    "_ = plt.ylabel('Count')"
   ]
  },
  {
   "cell_type": "code",
   "execution_count": 31,
   "metadata": {
    "colab": {
     "base_uri": "https://localhost:8080/"
    },
    "executionInfo": {
     "elapsed": 1433,
     "status": "ok",
     "timestamp": 1637322784200,
     "user": {
      "displayName": "Muhammed Nedim Söğüt",
      "photoUrl": "https://lh3.googleusercontent.com/a-/AOh14Gi7CHj6vsdvLbpZe4gviCH_RX4DfZaqg6OrfDwc=s64",
      "userId": "14768761371783583511"
     },
     "user_tz": 0
    },
    "id": "DiosGFVeA19b",
    "outputId": "3d61d28e-c50f-4e6d-d686-c9a373027694"
   },
   "outputs": [
    {
     "name": "stderr",
     "output_type": "stream",
     "text": [
      "2022-02-22 10:11:30.032055: W tensorflow/python/util/util.cc:368] Sets are not currently considered sequences, but this may change in the future, so consider avoiding using them.\n"
     ]
    },
    {
     "name": "stdout",
     "output_type": "stream",
     "text": [
      "INFO:tensorflow:Assets written to: dnn_model/assets\n"
     ]
    }
   ],
   "source": [
    "dnn_model.save('dnn_model')"
   ]
  },
  {
   "cell_type": "code",
   "execution_count": 32,
   "metadata": {
    "colab": {
     "base_uri": "https://localhost:8080/"
    },
    "executionInfo": {
     "elapsed": 228,
     "status": "ok",
     "timestamp": 1637598640621,
     "user": {
      "displayName": "Muhammed Nedim Söğüt",
      "photoUrl": "https://lh3.googleusercontent.com/a-/AOh14Gi7CHj6vsdvLbpZe4gviCH_RX4DfZaqg6OrfDwc=s64",
      "userId": "14768761371783583511"
     },
     "user_tz": 0
    },
    "id": "_VPdEWlkA1B5",
    "outputId": "5fc1921f-3b7a-4e17-efae-0272cdc5815a"
   },
   "outputs": [
    {
     "name": "stdout",
     "output_type": "stream",
     "text": [
      "-0.6903910653491208 0.2012944268566894\n"
     ]
    }
   ],
   "source": [
    "print(min(error),max(error))"
   ]
  },
  {
   "cell_type": "code",
   "execution_count": 33,
   "metadata": {
    "colab": {
     "base_uri": "https://localhost:8080/"
    },
    "executionInfo": {
     "elapsed": 228,
     "status": "ok",
     "timestamp": 1637598641922,
     "user": {
      "displayName": "Muhammed Nedim Söğüt",
      "photoUrl": "https://lh3.googleusercontent.com/a-/AOh14Gi7CHj6vsdvLbpZe4gviCH_RX4DfZaqg6OrfDwc=s64",
      "userId": "14768761371783583511"
     },
     "user_tz": 0
    },
    "id": "flMoSq1TA3k_",
    "outputId": "ea4db5db-0f8c-4e2b-acca-67cceb376cd0"
   },
   "outputs": [
    {
     "data": {
      "text/plain": [
       "array([ 1.84539152e-04, -1.99236891e-02,  3.64847161e-02,  1.08949181e-01,\n",
       "        3.96070485e-02,  5.18836985e-02,  7.32531585e-02,  1.76716331e-01,\n",
       "        7.72476185e-02,  1.69069287e-01,  1.38038155e-01,  1.27630232e-01,\n",
       "        5.72495442e-02,  1.15258218e-01,  1.03212828e-01,  8.99472285e-02,\n",
       "        7.58843385e-02,  7.28116085e-02,  7.40961985e-02,  6.02698285e-02,\n",
       "        1.06747624e-01,  9.11440802e-02,  2.48651485e-02,  1.01782325e-01,\n",
       "        1.73268285e-02,  6.29158012e-02,  1.31130025e-03, -8.13010160e-04,\n",
       "        3.21202236e-02, -4.84485615e-02, -5.08308415e-02, -1.62792156e-02,\n",
       "       -2.13336927e-02,  8.67653175e-03,  9.15670505e-03, -6.72579155e-03,\n",
       "       -2.02579512e-02,  6.50691845e-03,  9.57469900e-02,  6.97097785e-02,\n",
       "        9.54194020e-02,  7.98001285e-02,  7.41620085e-02, -2.30588876e-02,\n",
       "        8.08472585e-02,  7.42268585e-02, -2.29301500e-02, -6.62045429e-02,\n",
       "       -5.88593494e-02, -7.71269833e-02, -2.62827915e-02, -2.75177927e-02,\n",
       "       -7.70373315e-02, -7.36761115e-02, -4.58345415e-02, -6.81352505e-03,\n",
       "       -4.24690215e-02, -1.76620491e-02,  7.13348041e-03, -7.40814427e-03,\n",
       "       -3.52063184e-02, -6.47730813e-02,  2.17642785e-02,  4.17327885e-02,\n",
       "        4.64510885e-02,  8.07542817e-02,  4.52156085e-02,  5.64441685e-02,\n",
       "       -3.90505799e-02,  1.16300648e-03,  4.86559885e-02, -2.68158885e-02,\n",
       "       -3.40890675e-03,  2.93531385e-02,  2.12454785e-02, -5.63917184e-02,\n",
       "       -2.10680936e-02, -7.64279415e-02, -8.07795515e-02, -1.97458423e-03,\n",
       "       -1.61242466e-02,  6.69097984e-03,  1.95512731e-02,  2.54683464e-02,\n",
       "       -3.96003715e-02, -1.33442915e-02, -2.94766415e-02,  3.71584885e-02,\n",
       "        5.87949785e-02,  9.10573023e-02,  5.33690485e-02,  1.68466523e-02,\n",
       "        3.74989485e-02,  1.90267585e-02,  1.51820185e-02,  1.32236485e-02,\n",
       "        1.14293090e-02,  3.08194122e-02, -5.20916015e-02, -8.28838315e-02,\n",
       "       -8.92124215e-02, -4.43873415e-02, -3.81078715e-02,  6.40602140e-02,\n",
       "        1.51095385e-02,  1.02424617e-01,  9.01260391e-02,  5.04612885e-02,\n",
       "        2.79483785e-02,  3.94496917e-02,  4.86082985e-02, -1.23667709e-02,\n",
       "       -1.56078375e-02,  2.78701785e-02,  2.42099785e-02,  6.61086673e-03,\n",
       "       -1.46007515e-02,  7.19127637e-02, -5.73501615e-02, -2.74605703e-02,\n",
       "       -8.01777815e-02, -8.58864815e-02, -8.20398155e-03, -7.16838826e-02,\n",
       "        1.09624718e-03,  1.07548719e-01, -2.56087302e-01,  7.95502629e-02,\n",
       "       -6.90391065e-01, -1.60565415e-02, -7.45544461e-02,  2.01294427e-01,\n",
       "        9.65800285e-02, -5.27873009e-02,  4.43201085e-02, -2.58597375e-01,\n",
       "        7.09032985e-02,  3.04217385e-02, -2.61309144e-01,  7.15589570e-02,\n",
       "       -9.33823622e-02])"
      ]
     },
     "execution_count": 33,
     "metadata": {},
     "output_type": "execute_result"
    }
   ],
   "source": [
    "np.array(error)"
   ]
  },
  {
   "cell_type": "code",
   "execution_count": 52,
   "metadata": {
    "colab": {
     "base_uri": "https://localhost:8080/",
     "height": 279
    },
    "executionInfo": {
     "elapsed": 476,
     "status": "ok",
     "timestamp": 1637322784673,
     "user": {
      "displayName": "Muhammed Nedim Söğüt",
      "photoUrl": "https://lh3.googleusercontent.com/a-/AOh14Gi7CHj6vsdvLbpZe4gviCH_RX4DfZaqg6OrfDwc=s64",
      "userId": "14768761371783583511"
     },
     "user_tz": 0
    },
    "id": "gZj1hkCX2wf1",
    "outputId": "89849e47-1aa5-473a-9bde-b7bbaa1aa7a5"
   },
   "outputs": [
    {
     "data": {
      "image/png": "[encoded data removed]",
      "text/plain": [
       "<Figure size 432x288 with 2 Axes>"
      ]
     },
     "metadata": {
      "needs_background": "light"
     },
     "output_type": "display_data"
    }
   ],
   "source": [
    "import matplotlib.cm as cm\n",
    "plt.scatter(dataset['Fingerprint(G4)'],dataset['Fingerprint(G2)'], c=dataset['Ref_Wind_Speed'], s=10, cmap=cm.bwr)\n",
    "cbar= plt.colorbar()\n",
    "plt.xlabel('Fingerprint(G4)')\n",
    "plt.ylabel('Fingerprint(G2)')\n",
    "plt.show()"
   ]
  },
  {
   "cell_type": "code",
   "execution_count": null,
   "metadata": {
    "colab": {
     "base_uri": "https://localhost:8080/"
    },
    "executionInfo": {
     "elapsed": 218,
     "status": "ok",
     "timestamp": 1637598660389,
     "user": {
      "displayName": "Muhammed Nedim Söğüt",
      "photoUrl": "https://lh3.googleusercontent.com/a-/AOh14Gi7CHj6vsdvLbpZe4gviCH_RX4DfZaqg6OrfDwc=s64",
      "userId": "14768761371783583511"
     },
     "user_tz": 0
    },
    "id": "7ZhO04q-lq-j",
    "outputId": "daa17f3c-fa29-481d-e535-843bda31ff42"
   },
   "outputs": [],
   "source": [
    "dnn_model.evaluate(test_features, test_labels, verbose=0)"
   ]
  },
  {
   "cell_type": "code",
   "execution_count": null,
   "metadata": {
    "id": "DSo9UvnO0Qo2"
   },
   "outputs": [],
   "source": [
    "max(dataset_pos[:,1])"
   ]
  },
  {
   "cell_type": "code",
   "execution_count": null,
   "metadata": {},
   "outputs": [],
   "source": [
    "dataset"
   ]
  },
  {
   "cell_type": "code",
   "execution_count": null,
   "metadata": {},
   "outputs": [],
   "source": [
    "if 5 in dataset:\n",
    "        print(\"YES\")\n",
    "else:\n",
    "        print(\"NO\")"
   ]
  },
  {
   "cell_type": "code",
   "execution_count": null,
   "metadata": {},
   "outputs": [],
   "source": []
  }
 ],
 "metadata": {
  "colab": {
   "collapsed_sections": [],
   "name": "Turbine_short_version.ipynb",
   "provenance": [
    {
     "file_id": "1UWQk13gYCPngG8v-VRnmZuC62CBCI0tM",
     "timestamp": 1633258861452
    }
   ]
  },
  "kernelspec": {
   "display_name": "Python 3 (ipykernel)",
   "language": "python",
   "name": "python3"
  },
  "language_info": {
   "codemirror_mode": {
    "name": "ipython",
    "version": 3
   },
   "file_extension": ".py",
   "mimetype": "text/x-python",
   "name": "python",
   "nbconvert_exporter": "python",
   "pygments_lexer": "ipython3",
   "version": "3.9.10"
  }
 },
 "nbformat": 4,
 "nbformat_minor": 1
}
