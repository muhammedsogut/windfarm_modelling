{
 "cells": [
  {
   "cell_type": "code",
   "execution_count": 1,
   "id": "5e30eaca",
   "metadata": {},
   "outputs": [],
   "source": [
    "import exponential_new\n",
    "import numpy as np\n",
    "import random\n",
    "nl=exponential_new.NeighborlistCalculator(cutoff=4001,ang_cutoff=np.pi/6.)\n",
    "turbs = [\"Siemens\"] *3\n",
    "Gs = {\"Siemens\": [{\"type\":\"G2\", \"turbine\":\"Siemens\",\"eta\":5.3, \"offset\": 1.},{\"type\":\"G4\", \"elements\":\"Siemens\",\"eta\":5., \"gamma\":6.05, \"zeta\":1.0}]}\n",
    "symbol=\"Siemens\"\n",
    "finpr=exponential_new.FingerprintCalculator(cutoff=4001,Gs=Gs)"
   ]
  },
  {
   "cell_type": "code",
   "execution_count": 11,
   "id": "ae637248",
   "metadata": {},
   "outputs": [],
   "source": [
    "turbs = [\"Siemens\"] *3\n",
    "position=np.array([[0.,0.],[300.,500.],[-200.,100]])"
   ]
  },
  {
   "cell_type": "code",
   "execution_count": 12,
   "id": "8ecd3ce9",
   "metadata": {},
   "outputs": [],
   "source": [
    "neigh=nl.calculate(turbs,position)"
   ]
  },
  {
   "cell_type": "code",
   "execution_count": 26,
   "id": "4c1c15e6",
   "metadata": {},
   "outputs": [
    {
     "data": {
      "text/plain": [
       "2"
      ]
     },
     "execution_count": 26,
     "metadata": {},
     "output_type": "execute_result"
    }
   ],
   "source": [
    "neigh[0][0]"
   ]
  },
  {
   "cell_type": "code",
   "execution_count": 30,
   "id": "e1ebbf0f",
   "metadata": {},
   "outputs": [
    {
     "data": {
      "text/plain": [
       "0"
      ]
     },
     "execution_count": 30,
     "metadata": {},
     "output_type": "execute_result"
    }
   ],
   "source": [
    "len(neigh[2])"
   ]
  },
  {
   "cell_type": "code",
   "execution_count": 8,
   "id": "d35ee985",
   "metadata": {},
   "outputs": [
    {
     "name": "stdout",
     "output_type": "stream",
     "text": [
      "609 -295\n"
     ]
    }
   ],
   "source": [
    "import random\n",
    "x1=random.randrange(279, 4001, 10)\n",
    "y1=random.randrange(-325, 0, 10)\n",
    "print(x_axis,y_axis)"
   ]
  },
  {
   "cell_type": "code",
   "execution_count": 3,
   "id": "63ece686",
   "metadata": {},
   "outputs": [
    {
     "name": "stdout",
     "output_type": "stream",
     "text": [
      "[[0.         0.        ]\n",
      " [0.37422935 0.15909723]\n",
      " [0.01551204 0.03663916]]\n",
      "[[0.         0.        ]\n",
      " [0.29542383 0.50548447]\n",
      " [0.42312914 0.73427341]]\n",
      "[[0.         0.        ]\n",
      " [0.273862   0.25946234]\n",
      " [1.07924227 0.59909486]]\n",
      "[[0.         0.        ]\n",
      " [0.26773856 0.24905653]\n",
      " [0.06156708 0.10154049]]\n",
      "[[0.         0.        ]\n",
      " [0.21751047 0.23611314]\n",
      " [0.05018463 0.1767434 ]]\n",
      "[[0.         0.        ]\n",
      " [0.07838143 0.26184968]\n",
      " [0.50923098 0.1803241 ]]\n",
      "[[0.         0.        ]\n",
      " [0.18276406 0.47344499]\n",
      " [0.07342677 0.18949712]]\n",
      "[[0.         0.        ]\n",
      " [0.05861466 0.1901954 ]\n",
      " [0.2717116  0.25814648]]\n",
      "[[0.         0.        ]\n",
      " [0.28087854 0.13711711]\n",
      " [0.01812226 0.05229859]]\n"
     ]
    }
   ],
   "source": [
    "pos=np.empty(shape=(0, 2))\n",
    "fps=np.empty(shape=(0, 2))\n",
    "for i in range(1,11,1):\n",
    "    x1=random.randrange(279, 4001, 1)\n",
    "    y1=random.randrange(-325, 0, 1)\n",
    "    x2=random.randrange(279, 4001, 1)\n",
    "    y2=random.randrange(-325, 0, 1)\n",
    "    position=np.array([[0.,0.],[x1,y1],[x2,y2]])\n",
    "    neigh=nl.calculate(turbs,position)\n",
    "    if len(neigh[1])==2 or len(neigh[2])==2 :\n",
    "    #print(len(neigh[0]))\n",
    "        #print(position)\n",
    "        fp=finpr.calculate(turbs,position,neigh,symbol)\n",
    "        fp=np.array(fp)\n",
    "        #if fp not in fps:\n",
    "            #fps=np.append(fps,fp,axis=0)\n",
    "            #print(pos)\n",
    "        print(fp)\n",
    "        #pos=np.append(pos,position,axis=0)\n"
   ]
  },
  {
   "cell_type": "code",
   "execution_count": 4,
   "id": "d89c19f7",
   "metadata": {},
   "outputs": [
    {
     "data": {
      "text/plain": [
       "array([1976., -247.])"
      ]
     },
     "execution_count": 4,
     "metadata": {},
     "output_type": "execute_result"
    }
   ],
   "source": [
    "position[1]"
   ]
  },
  {
   "cell_type": "code",
   "execution_count": null,
   "id": "3fb08acc",
   "metadata": {},
   "outputs": [],
   "source": []
  }
 ],
 "metadata": {
  "kernelspec": {
   "display_name": "Python 3 (ipykernel)",
   "language": "python",
   "name": "python3"
  },
  "language_info": {
   "codemirror_mode": {
    "name": "ipython",
    "version": 3
   },
   "file_extension": ".py",
   "mimetype": "text/x-python",
   "name": "python",
   "nbconvert_exporter": "python",
   "pygments_lexer": "ipython3",
   "version": "3.9.9"
  }
 },
 "nbformat": 4,
 "nbformat_minor": 5
}
