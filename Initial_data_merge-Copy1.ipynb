{
 "cells": [
  {
   "cell_type": "code",
   "execution_count": 1,
   "id": "4a93cb51",
   "metadata": {},
   "outputs": [],
   "source": [
    "import numpy as np\n",
    "import pandas as pd\n",
    "dataset_pos=np.empty(shape=(0, 2))\n",
    "dataset_ws=np.empty(shape=(0, 1))\n",
    "import read_zcfd"
   ]
  },
  {
   "cell_type": "code",
   "execution_count": null,
   "id": "5665456c",
   "metadata": {},
   "outputs": [],
   "source": [
    "dataset=read_zcfd.read(numturb=2,path='turbine_files',angle=range(240,301,1), distance=range(3,8,1), wind_speed=10)"
   ]
  },
  {
   "cell_type": "code",
   "execution_count": 2,
   "id": "01467262",
   "metadata": {},
   "outputs": [
    {
     "data": {
      "text/html": [
       "<div>\n",
       "<style scoped>\n",
       "    .dataframe tbody tr th:only-of-type {\n",
       "        vertical-align: middle;\n",
       "    }\n",
       "\n",
       "    .dataframe tbody tr th {\n",
       "        vertical-align: top;\n",
       "    }\n",
       "\n",
       "    .dataframe thead th {\n",
       "        text-align: right;\n",
       "    }\n",
       "</style>\n",
       "<table border=\"1\" class=\"dataframe\">\n",
       "  <thead>\n",
       "    <tr style=\"text-align: right;\">\n",
       "      <th></th>\n",
       "      <th>x_coord</th>\n",
       "      <th>y_coord</th>\n",
       "      <th>ref_wind_speed</th>\n",
       "      <th>id</th>\n",
       "      <th>turb_num</th>\n",
       "      <th>wind_speed</th>\n",
       "    </tr>\n",
       "  </thead>\n",
       "  <tbody>\n",
       "    <tr>\n",
       "      <th>0</th>\n",
       "      <td>0.000000</td>\n",
       "      <td>0.000000</td>\n",
       "      <td>7.452347</td>\n",
       "      <td>2_turbine_270_degrees_800_meters</td>\n",
       "      <td>0.0</td>\n",
       "      <td>10</td>\n",
       "    </tr>\n",
       "    <tr>\n",
       "      <th>1</th>\n",
       "      <td>800.000000</td>\n",
       "      <td>0.000000</td>\n",
       "      <td>6.038506</td>\n",
       "      <td>2_turbine_270_degrees_800_meters</td>\n",
       "      <td>1.0</td>\n",
       "      <td>10</td>\n",
       "    </tr>\n",
       "    <tr>\n",
       "      <th>0</th>\n",
       "      <td>0.000000</td>\n",
       "      <td>0.000000</td>\n",
       "      <td>7.435535</td>\n",
       "      <td>2_turbine_272_degrees_800_meters</td>\n",
       "      <td>0.0</td>\n",
       "      <td>10</td>\n",
       "    </tr>\n",
       "    <tr>\n",
       "      <th>1</th>\n",
       "      <td>799.512662</td>\n",
       "      <td>-27.919597</td>\n",
       "      <td>6.258958</td>\n",
       "      <td>2_turbine_272_degrees_800_meters</td>\n",
       "      <td>1.0</td>\n",
       "      <td>10</td>\n",
       "    </tr>\n",
       "    <tr>\n",
       "      <th>0</th>\n",
       "      <td>0.000000</td>\n",
       "      <td>0.000000</td>\n",
       "      <td>7.416233</td>\n",
       "      <td>2_turbine_275_degrees_800_meters</td>\n",
       "      <td>0.0</td>\n",
       "      <td>10</td>\n",
       "    </tr>\n",
       "    <tr>\n",
       "      <th>1</th>\n",
       "      <td>796.955758</td>\n",
       "      <td>-69.724594</td>\n",
       "      <td>6.803406</td>\n",
       "      <td>2_turbine_275_degrees_800_meters</td>\n",
       "      <td>1.0</td>\n",
       "      <td>10</td>\n",
       "    </tr>\n",
       "    <tr>\n",
       "      <th>0</th>\n",
       "      <td>0.000000</td>\n",
       "      <td>0.000000</td>\n",
       "      <td>7.445504</td>\n",
       "      <td>2_turbine_280_degrees_800_meters</td>\n",
       "      <td>0.0</td>\n",
       "      <td>10</td>\n",
       "    </tr>\n",
       "    <tr>\n",
       "      <th>1</th>\n",
       "      <td>787.846202</td>\n",
       "      <td>-138.918542</td>\n",
       "      <td>7.419782</td>\n",
       "      <td>2_turbine_280_degrees_800_meters</td>\n",
       "      <td>1.0</td>\n",
       "      <td>10</td>\n",
       "    </tr>\n",
       "    <tr>\n",
       "      <th>0</th>\n",
       "      <td>0.000000</td>\n",
       "      <td>0.000000</td>\n",
       "      <td>7.700230</td>\n",
       "      <td>2_turbine_286_degrees_800_meters</td>\n",
       "      <td>0.0</td>\n",
       "      <td>10</td>\n",
       "    </tr>\n",
       "    <tr>\n",
       "      <th>1</th>\n",
       "      <td>769.009357</td>\n",
       "      <td>-220.509885</td>\n",
       "      <td>7.729571</td>\n",
       "      <td>2_turbine_286_degrees_800_meters</td>\n",
       "      <td>1.0</td>\n",
       "      <td>10</td>\n",
       "    </tr>\n",
       "  </tbody>\n",
       "</table>\n",
       "</div>"
      ],
      "text/plain": [
       "      x_coord     y_coord  ref_wind_speed                                id  \\\n",
       "0    0.000000    0.000000        7.452347  2_turbine_270_degrees_800_meters   \n",
       "1  800.000000    0.000000        6.038506  2_turbine_270_degrees_800_meters   \n",
       "0    0.000000    0.000000        7.435535  2_turbine_272_degrees_800_meters   \n",
       "1  799.512662  -27.919597        6.258958  2_turbine_272_degrees_800_meters   \n",
       "0    0.000000    0.000000        7.416233  2_turbine_275_degrees_800_meters   \n",
       "1  796.955758  -69.724594        6.803406  2_turbine_275_degrees_800_meters   \n",
       "0    0.000000    0.000000        7.445504  2_turbine_280_degrees_800_meters   \n",
       "1  787.846202 -138.918542        7.419782  2_turbine_280_degrees_800_meters   \n",
       "0    0.000000    0.000000        7.700230  2_turbine_286_degrees_800_meters   \n",
       "1  769.009357 -220.509885        7.729571  2_turbine_286_degrees_800_meters   \n",
       "\n",
       "   turb_num  wind_speed  \n",
       "0       0.0          10  \n",
       "1       1.0          10  \n",
       "0       0.0          10  \n",
       "1       1.0          10  \n",
       "0       0.0          10  \n",
       "1       1.0          10  \n",
       "0       0.0          10  \n",
       "1       1.0          10  \n",
       "0       0.0          10  \n",
       "1       1.0          10  "
      ]
     },
     "execution_count": 2,
     "metadata": {},
     "output_type": "execute_result"
    }
   ],
   "source": [
    "read_zcfd.read(numturb=2,path='turbine_files', angle=[270,272,275,280,286], distance=[800], wind_speed=10)"
   ]
  },
  {
   "cell_type": "code",
   "execution_count": null,
   "id": "54a89239",
   "metadata": {},
   "outputs": [],
   "source": [
    "for angle in [270,272,275,280,286]:\n",
    "    distance=800  \n",
    "    df=pd.read_csv('turbine_files/turbine_%sp00_10p00_report_%s.csv' %(angle,distance), sep=' ', header=None)\n",
    "    df=df.tail(1)\n",
    "    df=pd.melt(df)\n",
    "    df=df.dropna()\n",
    "    a=df.to_numpy(dtype=float)\n",
    "    a=a[:,1]\n",
    "    ws=np.array([[a[22]],[a[19]]])\n",
    "    position=np.array([[0., 0.], [((93.0*distance)*np.cos(np.deg2rad(270-angle))),((93.0*distance)*np.sin(np.deg2rad(270-angle)))]])\n",
    "    dataset_pos=np.append(dataset_pos,position,axis=0)\n",
    "    dataset_ws=np.append(dataset_ws,ws,axis=0)\n",
    "dataset=np.concatenate((dataset_pos, dataset_ws),axis=1)\n",
    "dataset=pd.DataFrame(dataset, columns = ['X_coord','Y_coord','Ref_Wind_Speed'])\n",
    "dataset['Num_tot_turb']=2\n"
   ]
  },
  {
   "cell_type": "code",
   "execution_count": null,
   "id": "eac9ac95",
   "metadata": {},
   "outputs": [],
   "source": [
    "for angle in [270,273,276,278,279,283,288]:\n",
    "    distance=1000  \n",
    "    df=pd.read_csv('turbine_files/turbine_%sp00_10p00_report_%s.csv' %(angle,distance), sep=' ', header=None)\n",
    "    df=df.tail(1)\n",
    "    df=pd.melt(df)\n",
    "    df=df.dropna()\n",
    "    a=df.to_numpy(dtype=float)\n",
    "    a=a[:,1]\n",
    "    ws=np.array([[a[22]],[a[19]]])\n",
    "    position=np.array([[0., 0.], [((93.0*distance)*np.cos(np.deg2rad(270-angle))),((93.0*distance)*np.sin(np.deg2rad(270-angle)))]])\n",
    "    dataset_pos=np.append(dataset_pos,position,axis=0)\n",
    "    dataset_ws=np.append(dataset_ws,ws,axis=0)\n",
    "dataset=np.concatenate((dataset_pos, dataset_ws),axis=1)\n",
    "dataset=pd.DataFrame(dataset, columns = ['X_coord','Y_coord','Ref_Wind_Speed'])\n",
    "dataset['Num_tot_turb']=2"
   ]
  },
  {
   "cell_type": "code",
   "execution_count": null,
   "id": "08895e71",
   "metadata": {},
   "outputs": [],
   "source": [
    "for angle in [270,272,274,277,280,281]:\n",
    "    distance=1250  \n",
    "    df=pd.read_csv('turbine_files/turbine_%sp00_10p00_report_%s.csv' %(angle,distance), sep=' ', header=None)\n",
    "    df=df.tail(1)\n",
    "    df=pd.melt(df)\n",
    "    df=df.dropna()\n",
    "    a=df.to_numpy(dtype=float)\n",
    "    a=a[:,1]\n",
    "    ws=np.array([[a[22]],[a[19]]])\n",
    "    position=np.array([[0., 0.], [((93.0*distance)*np.cos(np.deg2rad(270-angle))),((93.0*distance)*np.sin(np.deg2rad(270-angle)))]])\n",
    "    dataset_pos=np.append(dataset_pos,position,axis=0)\n",
    "    dataset_ws=np.append(dataset_ws,ws,axis=0)\n",
    "dataset=np.concatenate((dataset_pos, dataset_ws),axis=1)\n",
    "dataset=pd.DataFrame(dataset, columns = ['X_coord','Y_coord','Ref_Wind_Speed'])\n",
    "dataset['Num_tot_turb']=2"
   ]
  },
  {
   "cell_type": "code",
   "execution_count": null,
   "id": "e9383bf2",
   "metadata": {},
   "outputs": [],
   "source": [
    "for angle in [270,271,272,273,274,278]:\n",
    "    distance=1500  \n",
    "    df=pd.read_csv('turbine_files/turbine_%sp00_10p00_report_%s.csv' %(angle,distance), sep=' ', header=None)\n",
    "    df=df.tail(1)\n",
    "    df=pd.melt(df)\n",
    "    df=df.dropna()\n",
    "    a=df.to_numpy(dtype=float)\n",
    "    a=a[:,1]\n",
    "    ws=np.array([[a[22]],[a[19]]])\n",
    "    position=np.array([[0., 0.], [((93.0*distance)*np.cos(np.deg2rad(270-angle))),((93.0*distance)*np.sin(np.deg2rad(270-angle)))]])\n",
    "    dataset_pos=np.append(dataset_pos,position,axis=0)\n",
    "    dataset_ws=np.append(dataset_ws,ws,axis=0)\n",
    "dataset=np.concatenate((dataset_pos, dataset_ws),axis=1)\n",
    "dataset=pd.DataFrame(dataset, columns = ['X_coord','Y_coord','Ref_Wind_Speed'])\n",
    "dataset['Num_tot_turb']=2"
   ]
  },
  {
   "cell_type": "code",
   "execution_count": null,
   "id": "466b490b",
   "metadata": {},
   "outputs": [],
   "source": [
    "for angle in [270,274,275,276,279]:\n",
    "    distance=1750  \n",
    "    df=pd.read_csv('turbine_files/turbine_%sp00_10p00_report_%s.csv' %(angle,distance), sep=' ', header=None)\n",
    "    df=df.tail(1)\n",
    "    df=pd.melt(df)\n",
    "    df=df.dropna()\n",
    "    a=df.to_numpy(dtype=float)\n",
    "    a=a[:,1]\n",
    "    ws=np.array([[a[22]],[a[19]]])\n",
    "    position=np.array([[0., 0.], [((93.0*distance)*np.cos(np.deg2rad(270-angle))),((93.0*distance)*np.sin(np.deg2rad(270-angle)))]])\n",
    "    dataset_pos=np.append(dataset_pos,position,axis=0)\n",
    "    dataset_ws=np.append(dataset_ws,ws,axis=0)\n",
    "dataset=np.concatenate((dataset_pos, dataset_ws),axis=1)\n",
    "dataset=pd.DataFrame(dataset, columns = ['X_coord','Y_coord','Ref_Wind_Speed'])\n",
    "dataset['Num_tot_turb']=2"
   ]
  },
  {
   "cell_type": "code",
   "execution_count": null,
   "id": "b842c90e",
   "metadata": {},
   "outputs": [],
   "source": [
    "for angle in [270,278]:\n",
    "    distance=2000  \n",
    "    df=pd.read_csv('turbine_files/turbine_%sp00_10p00_report_%s.csv' %(angle,distance), sep=' ', header=None)\n",
    "    df=df.tail(1)\n",
    "    df=pd.melt(df)\n",
    "    df=df.dropna()\n",
    "    a=df.to_numpy(dtype=float)\n",
    "    a=a[:,1]\n",
    "    ws=np.array([[a[22]],[a[19]]])\n",
    "    position=np.array([[0., 0.], [((93.0*distance)*np.cos(np.deg2rad(270-angle))),((93.0*distance)*np.sin(np.deg2rad(270-angle)))]])\n",
    "    dataset_pos=np.append(dataset_pos,position,axis=0)\n",
    "    dataset_ws=np.append(dataset_ws,ws,axis=0)\n",
    "dataset=np.concatenate((dataset_pos, dataset_ws),axis=1)\n",
    "dataset=pd.DataFrame(dataset, columns = ['X_coord','Y_coord','Ref_Wind_Speed'])\n",
    "dataset['Num_tot_turb']=2"
   ]
  },
  {
   "cell_type": "code",
   "execution_count": null,
   "id": "91ad9eed",
   "metadata": {},
   "outputs": [],
   "source": [
    "for angle in [270,271,274]:\n",
    "    distance=2250  \n",
    "    df=pd.read_csv('turbine_files/turbine_%sp00_10p00_report_%s.csv' %(angle,distance), sep=' ', header=None)\n",
    "    df=df.tail(1)\n",
    "    df=pd.melt(df)\n",
    "    df=df.dropna()\n",
    "    a=df.to_numpy(dtype=float)\n",
    "    a=a[:,1]\n",
    "    ws=np.array([[a[22]],[a[19]]])\n",
    "    position=np.array([[0., 0.], [((93.0*distance)*np.cos(np.deg2rad(270-angle))),((93.0*distance)*np.sin(np.deg2rad(270-angle)))]])\n",
    "    dataset_pos=np.append(dataset_pos,position,axis=0)\n",
    "    dataset_ws=np.append(dataset_ws,ws,axis=0)\n",
    "dataset=np.concatenate((dataset_pos, dataset_ws),axis=1)\n",
    "dataset=pd.DataFrame(dataset, columns = ['X_coord','Y_coord','Ref_Wind_Speed'])\n",
    "dataset['Num_tot_turb']=2"
   ]
  },
  {
   "cell_type": "code",
   "execution_count": null,
   "id": "e2556664",
   "metadata": {},
   "outputs": [],
   "source": [
    "for angle in [270,272]:\n",
    "    distance=2500  \n",
    "    df=pd.read_csv('turbine_files/turbine_%sp00_10p00_report_%s.csv' %(angle,distance), sep=' ', header=None)\n",
    "    df=df.tail(1)\n",
    "    df=pd.melt(df)\n",
    "    df=df.dropna()\n",
    "    a=df.to_numpy(dtype=float)\n",
    "    a=a[:,1]\n",
    "    ws=np.array([[a[22]],[a[19]]])\n",
    "    position=np.array([[0., 0.], [((93.0*distance)*np.cos(np.deg2rad(270-angle))),((93.0*distance)*np.sin(np.deg2rad(270-angle)))]])\n",
    "    dataset_pos=np.append(dataset_pos,position,axis=0)\n",
    "    dataset_ws=np.append(dataset_ws,ws,axis=0)\n",
    "dataset=np.concatenate((dataset_pos, dataset_ws),axis=1)\n",
    "dataset=pd.DataFrame(dataset, columns = ['X_coord','Y_coord','Ref_Wind_Speed'])\n",
    "dataset['Num_tot_turb']=2"
   ]
  },
  {
   "cell_type": "code",
   "execution_count": null,
   "id": "33aab3d4",
   "metadata": {},
   "outputs": [],
   "source": [
    "for angle in [270,275]:\n",
    "    distance=2750  \n",
    "    df=pd.read_csv('turbine_files/turbine_%sp00_10p00_report_%s.csv' %(angle,distance), sep=' ', header=None)\n",
    "    df=df.tail(1)\n",
    "    df=pd.melt(df)\n",
    "    df=df.dropna()\n",
    "    a=df.to_numpy(dtype=float)\n",
    "    a=a[:,1]\n",
    "    ws=np.array([[a[22]],[a[19]]])\n",
    "    position=np.array([[0., 0.], [((93.0*distance)*np.cos(np.deg2rad(270-angle))),((93.0*distance)*np.sin(np.deg2rad(270-angle)))]])\n",
    "    dataset_pos=np.append(dataset_pos,position,axis=0)\n",
    "    dataset_ws=np.append(dataset_ws,ws,axis=0)\n",
    "dataset=np.concatenate((dataset_pos, dataset_ws),axis=1)\n",
    "dataset=pd.DataFrame(dataset, columns = ['X_coord','Y_coord','Ref_Wind_Speed'])\n",
    "dataset['Num_tot_turb']=2"
   ]
  },
  {
   "cell_type": "code",
   "execution_count": null,
   "id": "cc7dc177",
   "metadata": {},
   "outputs": [],
   "source": [
    "for angle in [270,272]:\n",
    "    distance=3000  \n",
    "    df=pd.read_csv('turbine_files/turbine_%sp00_10p00_report_%s.csv' %(angle,distance), sep=' ', header=None)\n",
    "    df=df.tail(1)\n",
    "    df=pd.melt(df)\n",
    "    df=df.dropna()\n",
    "    a=df.to_numpy(dtype=float)\n",
    "    a=a[:,1]\n",
    "    ws=np.array([[a[22]],[a[19]]])\n",
    "    position=np.array([[0., 0.], [((93.0*distance)*np.cos(np.deg2rad(270-angle))),((93.0*distance)*np.sin(np.deg2rad(270-angle)))]])\n",
    "    dataset_pos=np.append(dataset_pos,position,axis=0)\n",
    "    dataset_ws=np.append(dataset_ws,ws,axis=0)\n",
    "dataset=np.concatenate((dataset_pos, dataset_ws),axis=1)\n",
    "dataset=pd.DataFrame(dataset, columns = ['X_coord','Y_coord','Ref_Wind_Speed'])\n",
    "dataset['Num_tot_turb']=2"
   ]
  },
  {
   "cell_type": "code",
   "execution_count": null,
   "id": "7f738a25",
   "metadata": {},
   "outputs": [],
   "source": [
    "for angle in [270,273,275]:\n",
    "    distance=3200  \n",
    "    df=pd.read_csv('turbine_files/turbine_%sp00_10p00_report_%s.csv' %(angle,distance), sep=' ', header=None)\n",
    "    df=df.tail(1)\n",
    "    df=pd.melt(df)\n",
    "    df=df.dropna()\n",
    "    a=df.to_numpy(dtype=float)\n",
    "    a=a[:,1]\n",
    "    ws=np.array([[a[22]],[a[19]]])\n",
    "    position=np.array([[0., 0.], [((93.0*distance)*np.cos(np.deg2rad(270-angle))),((93.0*distance)*np.sin(np.deg2rad(270-angle)))]])\n",
    "    dataset_pos=np.append(dataset_pos,position,axis=0)\n",
    "    dataset_ws=np.append(dataset_ws,ws,axis=0)\n",
    "dataset=np.concatenate((dataset_pos, dataset_ws),axis=1)\n",
    "dataset=pd.DataFrame(dataset, columns = ['X_coord','Y_coord','Ref_Wind_Speed'])\n",
    "dataset['Num_tot_turb']=2"
   ]
  },
  {
   "cell_type": "code",
   "execution_count": null,
   "id": "25ea9f5c",
   "metadata": {},
   "outputs": [],
   "source": [
    "for angle in [270,271,273]:\n",
    "    distance=3500  \n",
    "    df=pd.read_csv('turbine_files/turbine_%sp00_10p00_report_%s.csv' %(angle,distance), sep=' ', header=None)\n",
    "    df=df.tail(1)\n",
    "    df=pd.melt(df)\n",
    "    df=df.dropna()\n",
    "    a=df.to_numpy(dtype=float)\n",
    "    a=a[:,1]\n",
    "    ws=np.array([[a[22]],[a[19]]])\n",
    "    position=np.array([[0., 0.], [((93.0*distance)*np.cos(np.deg2rad(270-angle))),((93.0*distance)*np.sin(np.deg2rad(270-angle)))]])\n",
    "    dataset_pos=np.append(dataset_pos,position,axis=0)\n",
    "    dataset_ws=np.append(dataset_ws,ws,axis=0)\n",
    "dataset=np.concatenate((dataset_pos, dataset_ws),axis=1)\n",
    "dataset=pd.DataFrame(dataset, columns = ['X_coord','Y_coord','Ref_Wind_Speed'])\n",
    "dataset['Num_tot_turb']=2"
   ]
  },
  {
   "cell_type": "code",
   "execution_count": null,
   "id": "3d68eea9",
   "metadata": {},
   "outputs": [],
   "source": [
    "angle=270\n",
    "distance=4000  \n",
    "df=pd.read_csv('turbine_files/turbine_%sp00_10p00_report_%s.csv' %(angle,distance), sep=' ', header=None)\n",
    "df=df.tail(1)\n",
    "df=pd.melt(df)\n",
    "df=df.dropna()\n",
    "a=df.to_numpy(dtype=float)\n",
    "a=a[:,1]\n",
    "ws=np.array([[a[22]],[a[19]]])\n",
    "position=np.array([[0., 0.], [((93.0*distance)*np.cos(np.deg2rad(270-angle))),((93.0*distance)*np.sin(np.deg2rad(270-angle)))]])\n",
    "dataset_pos=np.append(dataset_pos,position,axis=0)\n",
    "dataset_ws=np.append(dataset_ws,ws,axis=0)\n",
    "dataset=np.concatenate((dataset_pos, dataset_ws),axis=1)\n",
    "dataset=pd.DataFrame(dataset, columns = ['X_coord','Y_coord','Ref_Wind_Speed'])\n",
    "dataset['Num_tot_turb']=2"
   ]
  },
  {
   "cell_type": "code",
   "execution_count": null,
   "id": "52de6d8f",
   "metadata": {},
   "outputs": [],
   "source": [
    "dataset=read_zcfd.read(numturb=3,path='turbine_files/3_turbine_latest', location_path='turbine_files/3_turbine_latest/data_10m_s.csv', wind_speed=10)"
   ]
  },
  {
   "cell_type": "code",
   "execution_count": null,
   "id": "b074353f",
   "metadata": {},
   "outputs": [],
   "source": [
    "dataset"
   ]
  },
  {
   "cell_type": "code",
   "execution_count": null,
   "id": "5e419b85",
   "metadata": {},
   "outputs": [],
   "source": [
    "dataset = pd.DataFrame(dataset, columns = ['X_coord','Y_coord','Ref_Wind_Speed'])"
   ]
  },
  {
   "cell_type": "code",
   "execution_count": null,
   "id": "32483b5e",
   "metadata": {},
   "outputs": [],
   "source": [
    "dataset['Num_tot_turb']=2"
   ]
  },
  {
   "cell_type": "code",
   "execution_count": null,
   "id": "eef0413c",
   "metadata": {},
   "outputs": [],
   "source": [
    "dataset[\"Num_tot_turb\"].iloc[count]"
   ]
  },
  {
   "cell_type": "code",
   "execution_count": null,
   "id": "0ac816fd",
   "metadata": {},
   "outputs": [],
   "source": [
    "angle=270\n",
    "distance=4000  \n",
    "df=pd.read_csv('turbine_files/turbine_%sp00_10p00_report_%s.csv' %(angle,distance), sep=' ', header=None)\n",
    "df=df.tail(1)\n",
    "#df=pd.melt(df)\n",
    "#df=df.dropna()\n",
    "df\n",
    "float(df.iloc[0,62])\n",
    "#pd.DataFrame(df.iloc[0,62])"
   ]
  },
  {
   "cell_type": "code",
   "execution_count": null,
   "id": "d7eda334",
   "metadata": {},
   "outputs": [],
   "source": [
    "k=0\n",
    "count=0\n",
    "dataset[\"IDnum\"]=pd.Series()\n",
    "for i in range(len(dataset)):\n",
    "    dataset.at[i,\"IDnum\"]=k\n",
    "    #print(i,k,dataset[\"Num_tot_turb\"].iloc[i])\n",
    "    count = count +1\n",
    "    if (count==dataset[\"Num_tot_turb\"].iloc[i]):\n",
    "        k=k+1\n",
    "        count=0\n",
    "dataset[\"Num_tot_turb\"]=dataset[\"Num_tot_turb\"].astype(int)\n",
    "dataset[\"Turb_num\"]=dataset[\"Turb_num\"].astype(int)\n",
    "dataset[\"IDnum\"]=dataset[\"IDnum\"].astype(int)\n",
    "dataset"
   ]
  },
  {
   "cell_type": "code",
   "execution_count": null,
   "id": "7ee42a85",
   "metadata": {},
   "outputs": [],
   "source": [
    "df=pd.read_csv('turbine_files/turbine_%sp00_10p00_report_%s.csv' %(angle,distance), sep=' ', header=None)\n",
    "df=df.tail(1)\n",
    "dataset=pd.Dataframe(float(df.iloc[0,53])"
   ]
  },
  {
   "cell_type": "code",
   "execution_count": null,
   "id": "d7e5d636",
   "metadata": {},
   "outputs": [],
   "source": [
    "df=pd.read_csv('turbine_files/3_turbine_latest/0.csv', sep=' ', header=None)"
   ]
  },
  {
   "cell_type": "code",
   "execution_count": null,
   "id": "050db10c",
   "metadata": {},
   "outputs": [],
   "source": [
    "df=df.tail(1)"
   ]
  },
  {
   "cell_type": "code",
   "execution_count": null,
   "id": "b9bd4f02",
   "metadata": {},
   "outputs": [],
   "source": [
    "(df.dropna(axis='columns').T"
   ]
  },
  {
   "cell_type": "code",
   "execution_count": null,
   "id": "373370d9",
   "metadata": {},
   "outputs": [],
   "source": [
    "float(df.iloc[0,83])"
   ]
  },
  {
   "cell_type": "code",
   "execution_count": null,
   "id": "96e0db04",
   "metadata": {},
   "outputs": [],
   "source": []
  }
 ],
 "metadata": {
  "kernelspec": {
   "display_name": "Python 3 (ipykernel)",
   "language": "python",
   "name": "python3"
  },
  "language_info": {
   "codemirror_mode": {
    "name": "ipython",
    "version": 3
   },
   "file_extension": ".py",
   "mimetype": "text/x-python",
   "name": "python",
   "nbconvert_exporter": "python",
   "pygments_lexer": "ipython3",
   "version": "3.9.10"
  }
 },
 "nbformat": 4,
 "nbformat_minor": 5
}
