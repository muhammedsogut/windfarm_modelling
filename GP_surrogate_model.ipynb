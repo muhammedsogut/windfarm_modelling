{
 "cells": [
  {
   "cell_type": "code",
   "execution_count": null,
   "id": "aaaaf444",
   "metadata": {},
   "outputs": [],
   "source": [
    "import pandas as pd\n",
    "import numpy as np\n",
    "import matplotlib.pyplot as plt\n",
    "import GPy\n",
    "from IPython.display import display\n",
    "import three_desc_model as tdm\n",
    "from cutoffs import Polynomial\n",
    "GPy.plotting.change_plotting_library('matplotlib')"
   ]
  },
  {
   "cell_type": "code",
   "execution_count": null,
   "id": "631a5dad",
   "metadata": {},
   "outputs": [],
   "source": [
    "dataset = pd.read_csv('dataset_10m_s.csv', index_col=0)\n",
    "numsims=dataset[\"IDnum\"].iloc[-1]+1\n",
    "symbol = \"Siemens\"\n",
    "turb = [symbol]"
   ]
  },
  {
   "cell_type": "code",
   "execution_count": null,
   "id": "c498bd34",
   "metadata": {},
   "outputs": [],
   "source": [
    "nl=tdm.NeighborlistCalculator(cutoff=4001,cone_grad=0.12582561117875557, cone_offset=72.24947126849844)\n",
    "Gs = {\"Siemens\": [{\"type\":\"G2\", \"turbine\":\"Siemens\",\"eta\":4.25387599, \"offset\": 1.0151402},\n",
    "                  {\"type\":\"G4\", \"elements\":\"Siemens\",\"eta\":2.56450515, \"gamma\":8.04475192},\n",
    "                  {\"type\":\"G6\", \"elements\":\"Siemens\",\"eta\":2.33043463, \"gamma\": 0.50753377}\n",
    "                 ]}\n",
    "finpr=tdm.FingerprintCalculator(cutoff=4001,Gs=Gs,Rct=3000,delta_R=100,cone_grad=0.12582561117875557, cone_offset=72.24947126849844)\n",
    "count=0\n",
    "dataset_fp=np.empty(shape=(0, 3))\n",
    "dataset_ws=np.empty(shape=(0, 1))\n",
    "dataset_pos=np.empty(shape=(0, 2))\n",
    "for i in range(numsims):\n",
    "    numturb=dataset[\"Num_tot_turb\"].iloc[count]\n",
    "    position = np.empty((numturb,2))\n",
    "    ws = np.empty((numturb,1))\n",
    "    fp = np.empty((numturb,3))\n",
    "    for k in range(numturb):\n",
    "        position[k,0]=dataset.at[count,\"X_coord\"]\n",
    "        position[k,1]=dataset.at[count,\"Y_coord\"]\n",
    "        ws[k,0]=dataset.at[count,\"Ref_wind\"]\n",
    "        count = count+ 1\n",
    "    neigh=nl.calculate(turb*numturb,position)\n",
    "    fingerprints=finpr.calculate(turb*numturb,position,neigh,symbol)\n",
    "    fingerprints=np.array(fingerprints)\n",
    "    dataset_fp=np.append(dataset_fp,fingerprints,axis=0)\n",
    "    dataset_ws=np.append(dataset_ws,ws,axis=0)\n",
    "    dataset_pos=np.append(dataset_pos,position,axis=0)\n",
    "dataset=np.concatenate((dataset_fp, dataset_ws),axis=1)\n",
    "dataset = pd.DataFrame(dataset, columns = ['Fingerprint(G2)','Fingerprint(G4)','Fingerprint(G6)','Ref_Wind_Speed'])\n",
    "X=dataset[[\"Fingerprint(G2)\",\"Fingerprint(G4)\",\"Fingerprint(G6)\"]].to_numpy()\n",
    "Y=dataset[[\"Ref_Wind_Speed\"]].to_numpy()\n",
    "train_dataset = dataset.sample(frac=0.8, random_state=0)\n",
    "test_dataset = dataset.drop(train_dataset.index)\n",
    "Xtrain=train_dataset[[\"Fingerprint(G2)\",\"Fingerprint(G4)\",\"Fingerprint(G6)\"]].to_numpy()\n",
    "Ytrain=train_dataset[[\"Ref_Wind_Speed\"]].to_numpy()\n",
    "Xtest=test_dataset[[\"Fingerprint(G2)\",\"Fingerprint(G4)\",\"Fingerprint(G6)\"]].to_numpy()\n",
    "Ytest=test_dataset[[\"Ref_Wind_Speed\"]].to_numpy()"
   ]
  },
  {
   "cell_type": "code",
   "execution_count": null,
   "id": "5f83e02d",
   "metadata": {},
   "outputs": [],
   "source": [
    "# define kernel\n",
    "ker = GPy.kern.RBF(3,lengthscale=0.1)# + GPy.kern.White(2)"
   ]
  },
  {
   "cell_type": "code",
   "execution_count": null,
   "id": "8d3c9c1c",
   "metadata": {},
   "outputs": [],
   "source": [
    "# create simple GP model\n",
    "m = GPy.models.GPRegression(Xtrain,Ytrain,ker)"
   ]
  },
  {
   "cell_type": "code",
   "execution_count": null,
   "id": "b2835f5c",
   "metadata": {},
   "outputs": [],
   "source": [
    "# optimize and plot\n",
    "m.optimize(messages=True,max_f_eval = 1000)\n",
    "#fig = m.plot()\n",
    "#display(GPy.plotting.show(fig, filename='basic_gp_regression_notebook_2d'))\n",
    "display(m)"
   ]
  },
  {
   "cell_type": "code",
   "execution_count": null,
   "id": "46ecbedd",
   "metadata": {},
   "outputs": [],
   "source": [
    "print(m)"
   ]
  },
  {
   "cell_type": "code",
   "execution_count": null,
   "id": "f6df8249",
   "metadata": {},
   "outputs": [],
   "source": [
    "[Ypred,Yvar]=m.predict(Xtest)\n",
    "error_test=np.abs(Ypred-Ytest)\n",
    "np.max(error_test)"
   ]
  },
  {
   "cell_type": "code",
   "execution_count": null,
   "id": "841f1561",
   "metadata": {},
   "outputs": [],
   "source": [
    "[Yval,Yvalvar]=m.predict(Xtrain)\n",
    "error_train=np.abs(Yval-Ytrain)\n",
    "np.max(error_train)"
   ]
  },
  {
   "cell_type": "code",
   "execution_count": null,
   "id": "c0ca9148",
   "metadata": {},
   "outputs": [],
   "source": [
    "[Yall,Yallvar]=m.predict(X)\n",
    "error_all=np.abs(Yall-Y)\n",
    "np.max(error_all)"
   ]
  },
  {
   "cell_type": "code",
   "execution_count": null,
   "id": "2ef68de4",
   "metadata": {},
   "outputs": [],
   "source": [
    "a = plt.axes(aspect='equal')\n",
    "plt.scatter(Ytest, Ypred,c=Xtest[:,0])     #\"Fingerprint(G2)\"\n",
    "plt.scatter(Ytrain, Yval,c=Xtrain[:,0])  #\"Fingerprint(G2)\"\n",
    "plt.xlabel('True Values [Ref_wind_speed]')\n",
    "plt.ylabel('Predictions [Ref_wind_speed]')\n",
    "cbar=plt.colorbar()\n",
    "cbar.set_label('Fingerprint(G2)')\n",
    "lims = [4.5, 8]\n",
    "plt.xlim(lims)\n",
    "plt.ylim(lims)\n",
    "_ = plt.plot(lims, lims)"
   ]
  },
  {
   "cell_type": "code",
   "execution_count": null,
   "id": "39ca4c7d",
   "metadata": {},
   "outputs": [],
   "source": [
    "a = plt.axes(aspect='equal')\n",
    "plt.scatter(Ytest, Ypred,c=Xtest[:,1])     #\"Fingerprint(G4)\"\n",
    "plt.scatter(Ytrain, Yval,c=Xtrain[:,1])  #\"Fingerprint(G4)\"\n",
    "plt.xlabel('True Values [Ref_wind_speed]')\n",
    "plt.ylabel('Predictions [Ref_wind_speed]')\n",
    "cbar=plt.colorbar()\n",
    "cbar.set_label('Fingerprint(G4)')\n",
    "lims = [4.5, 8]\n",
    "plt.xlim(lims)\n",
    "plt.ylim(lims)\n",
    "_ = plt.plot(lims, lims)"
   ]
  },
  {
   "cell_type": "code",
   "execution_count": null,
   "id": "34e50388",
   "metadata": {},
   "outputs": [],
   "source": [
    "a = plt.axes(aspect='equal')\n",
    "plt.scatter(Ytest, Ypred,c=Xtest[:,2])     #\"Fingerprint(G6)\"\n",
    "plt.scatter(Ytrain, Yval,c=Xtrain[:,2])  #\"Fingerprint(G6)\"\n",
    "plt.xlabel('True Values [Ref_wind_speed]')\n",
    "plt.ylabel('Predictions [Ref_wind_speed]')\n",
    "cbar=plt.colorbar()\n",
    "cbar.set_label('Fingerprint(G6)')\n",
    "lims = [4.5, 8]\n",
    "plt.xlim(lims)\n",
    "plt.ylim(lims)\n",
    "_ = plt.plot(lims, lims)"
   ]
  },
  {
   "cell_type": "code",
   "execution_count": null,
   "id": "fe88e9bf",
   "metadata": {},
   "outputs": [],
   "source": [
    "plt.scatter(dataset_pos[:,0], dataset_pos[:,1],c=error_all)\n",
    "plt.xlabel('X-axis')\n",
    "plt.ylabel('Y-axis')\n",
    "plt.title('Error Rate Locations')\n",
    "cbar=plt.colorbar()\n",
    "cbar.set_label('Absolute Error Rate (m/s)')"
   ]
  },
  {
   "cell_type": "code",
   "execution_count": null,
   "id": "dae77bab",
   "metadata": {},
   "outputs": [],
   "source": [
    "a = plt.axes\n",
    "plt.scatter(Xtest[:,0], Xtest[:,1],c=np.abs(Ypred))\n",
    "plt.scatter(Xtrain[:,0], Xtrain[:,1],c=np.abs(Yval))\n",
    "#plt.scatter(train_labels, train_predictions)\n",
    "plt.xlabel('Fingerprint(G2)')\n",
    "plt.ylabel('Fingerprint(G4)')\n",
    "plt.title('Predicted Values')\n",
    "cbar=plt.colorbar()\n",
    "cbar.set_label('Predicted Wind Speed (m/s)')"
   ]
  },
  {
   "cell_type": "code",
   "execution_count": null,
   "id": "df203d17",
   "metadata": {},
   "outputs": [],
   "source": [
    "a = plt.axes\n",
    "plt.scatter(Xtest[:,0], Xtest[:,1],c=np.abs(Ytest))\n",
    "plt.scatter(Xtrain[:,0], Xtrain[:,1],c=np.abs(Ytrain))\n",
    "#plt.scatter(train_labels, train_predictions)\n",
    "plt.xlabel('Fingerprint(G2)')\n",
    "plt.ylabel('Fingerprint(G4)')\n",
    "plt.title('Actual CFD Values')\n",
    "cbar=plt.colorbar()\n",
    "cbar.set_label('Predicted Wind Speed (m/s)')"
   ]
  },
  {
   "cell_type": "code",
   "execution_count": null,
   "id": "c1816a43",
   "metadata": {},
   "outputs": [],
   "source": [
    "a = plt.axes\n",
    "plt.scatter(X[:,0], X[:,1],c=error_all)\n",
    "#plt.scatter(Xtrain[:,0], Xtrain[:,1],c=np.abs(Ytrain))\n",
    "#plt.scatter(train_labels, train_predictions)\n",
    "plt.xlabel('Fingerprint(G2)')\n",
    "plt.ylabel('Fingerprint(G4)')\n",
    "plt.title('Error Rate (m/s)')\n",
    "cbar=plt.colorbar()\n",
    "cbar.set_label('Absolute Error Rate (m/s)')"
   ]
  },
  {
   "cell_type": "code",
   "execution_count": null,
   "id": "bbdf90ea",
   "metadata": {},
   "outputs": [],
   "source": [
    "plt.hist(error_all, bins=10)\n",
    "plt.xlabel('Prediction Error [Ref_wind_speed]')\n",
    "plt.title('error_all')\n",
    "_ = plt.ylabel('Count')"
   ]
  },
  {
   "cell_type": "code",
   "execution_count": null,
   "id": "b58caf04",
   "metadata": {},
   "outputs": [],
   "source": [
    "plt.hist(error_test, bins=10)\n",
    "plt.xlabel('Prediction Error [Ref_wind_speed]')\n",
    "plt.title('error_test')\n",
    "_ = plt.ylabel('Count')"
   ]
  },
  {
   "cell_type": "code",
   "execution_count": null,
   "id": "45610df4",
   "metadata": {},
   "outputs": [],
   "source": []
  }
 ],
 "metadata": {
  "kernelspec": {
   "display_name": "Python 3 (ipykernel)",
   "language": "python",
   "name": "python3"
  },
  "language_info": {
   "codemirror_mode": {
    "name": "ipython",
    "version": 3
   },
   "file_extension": ".py",
   "mimetype": "text/x-python",
   "name": "python",
   "nbconvert_exporter": "python",
   "pygments_lexer": "ipython3",
   "version": "3.9.10"
  }
 },
 "nbformat": 4,
 "nbformat_minor": 5
}
