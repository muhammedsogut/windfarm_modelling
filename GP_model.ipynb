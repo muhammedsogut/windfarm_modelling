{
 "cells": [
  {
   "cell_type": "code",
   "execution_count": 1,
   "id": "4a93cb51",
   "metadata": {},
   "outputs": [],
   "source": [
    "import numpy as np\n",
    "import pandas as pd"
   ]
  },
  {
   "cell_type": "code",
   "execution_count": 2,
   "id": "b074353f",
   "metadata": {
    "scrolled": true
   },
   "outputs": [
    {
     "data": {
      "text/html": [
       "<div>\n",
       "<style scoped>\n",
       "    .dataframe tbody tr th:only-of-type {\n",
       "        vertical-align: middle;\n",
       "    }\n",
       "\n",
       "    .dataframe tbody tr th {\n",
       "        vertical-align: top;\n",
       "    }\n",
       "\n",
       "    .dataframe thead th {\n",
       "        text-align: right;\n",
       "    }\n",
       "</style>\n",
       "<table border=\"1\" class=\"dataframe\">\n",
       "  <thead>\n",
       "    <tr style=\"text-align: right;\">\n",
       "      <th></th>\n",
       "      <th>x_coord</th>\n",
       "      <th>y_coord</th>\n",
       "      <th>ref_wind_speed</th>\n",
       "      <th>wind_speed</th>\n",
       "      <th>turb_num</th>\n",
       "      <th>num_tot_turb</th>\n",
       "      <th>ID</th>\n",
       "      <th>IDnum</th>\n",
       "    </tr>\n",
       "  </thead>\n",
       "  <tbody>\n",
       "    <tr>\n",
       "      <th>0</th>\n",
       "      <td>0.000000</td>\n",
       "      <td>0.000000</td>\n",
       "      <td>2.980920</td>\n",
       "      <td>4</td>\n",
       "      <td>0</td>\n",
       "      <td>2</td>\n",
       "      <td>2_turbine_248.0_degrees_558_meters</td>\n",
       "      <td>0</td>\n",
       "    </tr>\n",
       "    <tr>\n",
       "      <th>1</th>\n",
       "      <td>517.368591</td>\n",
       "      <td>209.030479</td>\n",
       "      <td>2.990576</td>\n",
       "      <td>4</td>\n",
       "      <td>1</td>\n",
       "      <td>2</td>\n",
       "      <td>2_turbine_248.0_degrees_558_meters</td>\n",
       "      <td>0</td>\n",
       "    </tr>\n",
       "    <tr>\n",
       "      <th>2</th>\n",
       "      <td>0.000000</td>\n",
       "      <td>0.000000</td>\n",
       "      <td>2.713630</td>\n",
       "      <td>4</td>\n",
       "      <td>0</td>\n",
       "      <td>2</td>\n",
       "      <td>2_turbine_269.0_degrees_279_meters</td>\n",
       "      <td>1</td>\n",
       "    </tr>\n",
       "    <tr>\n",
       "      <th>3</th>\n",
       "      <td>278.957507</td>\n",
       "      <td>4.869221</td>\n",
       "      <td>2.983835</td>\n",
       "      <td>4</td>\n",
       "      <td>1</td>\n",
       "      <td>2</td>\n",
       "      <td>2_turbine_269.0_degrees_279_meters</td>\n",
       "      <td>1</td>\n",
       "    </tr>\n",
       "    <tr>\n",
       "      <th>4</th>\n",
       "      <td>0.000000</td>\n",
       "      <td>0.000000</td>\n",
       "      <td>2.989921</td>\n",
       "      <td>4</td>\n",
       "      <td>0</td>\n",
       "      <td>2</td>\n",
       "      <td>2_turbine_289.0_degrees_558_meters</td>\n",
       "      <td>2</td>\n",
       "    </tr>\n",
       "    <tr>\n",
       "      <th>...</th>\n",
       "      <td>...</td>\n",
       "      <td>...</td>\n",
       "      <td>...</td>\n",
       "      <td>...</td>\n",
       "      <td>...</td>\n",
       "      <td>...</td>\n",
       "      <td>...</td>\n",
       "      <td>...</td>\n",
       "    </tr>\n",
       "    <tr>\n",
       "      <th>8819</th>\n",
       "      <td>670.079580</td>\n",
       "      <td>58.000000</td>\n",
       "      <td>14.692290</td>\n",
       "      <td>16</td>\n",
       "      <td>1</td>\n",
       "      <td>3</td>\n",
       "      <td>3_turbine_65th_simulation</td>\n",
       "      <td>3870</td>\n",
       "    </tr>\n",
       "    <tr>\n",
       "      <th>8820</th>\n",
       "      <td>2666.020316</td>\n",
       "      <td>-73.000000</td>\n",
       "      <td>14.800027</td>\n",
       "      <td>16</td>\n",
       "      <td>2</td>\n",
       "      <td>3</td>\n",
       "      <td>3_turbine_65th_simulation</td>\n",
       "      <td>3870</td>\n",
       "    </tr>\n",
       "    <tr>\n",
       "      <th>8821</th>\n",
       "      <td>0.000000</td>\n",
       "      <td>0.000000</td>\n",
       "      <td>14.935284</td>\n",
       "      <td>16</td>\n",
       "      <td>0</td>\n",
       "      <td>3</td>\n",
       "      <td>3_turbine_71th_simulation</td>\n",
       "      <td>3871</td>\n",
       "    </tr>\n",
       "    <tr>\n",
       "      <th>8822</th>\n",
       "      <td>645.525102</td>\n",
       "      <td>-37.000000</td>\n",
       "      <td>14.411438</td>\n",
       "      <td>16</td>\n",
       "      <td>1</td>\n",
       "      <td>3</td>\n",
       "      <td>3_turbine_71th_simulation</td>\n",
       "      <td>3871</td>\n",
       "    </tr>\n",
       "    <tr>\n",
       "      <th>8823</th>\n",
       "      <td>2329.506939</td>\n",
       "      <td>132.000000</td>\n",
       "      <td>15.011626</td>\n",
       "      <td>16</td>\n",
       "      <td>2</td>\n",
       "      <td>3</td>\n",
       "      <td>3_turbine_71th_simulation</td>\n",
       "      <td>3871</td>\n",
       "    </tr>\n",
       "  </tbody>\n",
       "</table>\n",
       "<p>8824 rows × 8 columns</p>\n",
       "</div>"
      ],
      "text/plain": [
       "          x_coord     y_coord  ref_wind_speed  wind_speed  turb_num  \\\n",
       "0        0.000000    0.000000        2.980920           4         0   \n",
       "1      517.368591  209.030479        2.990576           4         1   \n",
       "2        0.000000    0.000000        2.713630           4         0   \n",
       "3      278.957507    4.869221        2.983835           4         1   \n",
       "4        0.000000    0.000000        2.989921           4         0   \n",
       "...           ...         ...             ...         ...       ...   \n",
       "8819   670.079580   58.000000       14.692290          16         1   \n",
       "8820  2666.020316  -73.000000       14.800027          16         2   \n",
       "8821     0.000000    0.000000       14.935284          16         0   \n",
       "8822   645.525102  -37.000000       14.411438          16         1   \n",
       "8823  2329.506939  132.000000       15.011626          16         2   \n",
       "\n",
       "      num_tot_turb                                  ID  IDnum  \n",
       "0                2  2_turbine_248.0_degrees_558_meters      0  \n",
       "1                2  2_turbine_248.0_degrees_558_meters      0  \n",
       "2                2  2_turbine_269.0_degrees_279_meters      1  \n",
       "3                2  2_turbine_269.0_degrees_279_meters      1  \n",
       "4                2  2_turbine_289.0_degrees_558_meters      2  \n",
       "...            ...                                 ...    ...  \n",
       "8819             3           3_turbine_65th_simulation   3870  \n",
       "8820             3           3_turbine_65th_simulation   3870  \n",
       "8821             3           3_turbine_71th_simulation   3871  \n",
       "8822             3           3_turbine_71th_simulation   3871  \n",
       "8823             3           3_turbine_71th_simulation   3871  \n",
       "\n",
       "[8824 rows x 8 columns]"
      ]
     },
     "execution_count": 2,
     "metadata": {},
     "output_type": "execute_result"
    }
   ],
   "source": [
    "turb_data=pd.read_csv('turb_data.csv')\n",
    "turb_data"
   ]
  },
  {
   "cell_type": "code",
   "execution_count": 3,
   "id": "1b8adfa5",
   "metadata": {},
   "outputs": [],
   "source": [
    "dataset=turb_data.drop(['ID','turb_num'], axis=1)"
   ]
  },
  {
   "cell_type": "code",
   "execution_count": 4,
   "id": "e6d9a8a0",
   "metadata": {},
   "outputs": [
    {
     "data": {
      "text/html": [
       "<div>\n",
       "<style scoped>\n",
       "    .dataframe tbody tr th:only-of-type {\n",
       "        vertical-align: middle;\n",
       "    }\n",
       "\n",
       "    .dataframe tbody tr th {\n",
       "        vertical-align: top;\n",
       "    }\n",
       "\n",
       "    .dataframe thead th {\n",
       "        text-align: right;\n",
       "    }\n",
       "</style>\n",
       "<table border=\"1\" class=\"dataframe\">\n",
       "  <thead>\n",
       "    <tr style=\"text-align: right;\">\n",
       "      <th></th>\n",
       "      <th>x_coord</th>\n",
       "      <th>y_coord</th>\n",
       "      <th>ref_wind_speed</th>\n",
       "      <th>wind_speed</th>\n",
       "      <th>num_tot_turb</th>\n",
       "      <th>IDnum</th>\n",
       "    </tr>\n",
       "  </thead>\n",
       "  <tbody>\n",
       "    <tr>\n",
       "      <th>0</th>\n",
       "      <td>0.000000</td>\n",
       "      <td>0.000000</td>\n",
       "      <td>2.980920</td>\n",
       "      <td>4</td>\n",
       "      <td>2</td>\n",
       "      <td>0</td>\n",
       "    </tr>\n",
       "    <tr>\n",
       "      <th>1</th>\n",
       "      <td>517.368591</td>\n",
       "      <td>209.030479</td>\n",
       "      <td>2.990576</td>\n",
       "      <td>4</td>\n",
       "      <td>2</td>\n",
       "      <td>0</td>\n",
       "    </tr>\n",
       "    <tr>\n",
       "      <th>2</th>\n",
       "      <td>0.000000</td>\n",
       "      <td>0.000000</td>\n",
       "      <td>2.713630</td>\n",
       "      <td>4</td>\n",
       "      <td>2</td>\n",
       "      <td>1</td>\n",
       "    </tr>\n",
       "    <tr>\n",
       "      <th>3</th>\n",
       "      <td>278.957507</td>\n",
       "      <td>4.869221</td>\n",
       "      <td>2.983835</td>\n",
       "      <td>4</td>\n",
       "      <td>2</td>\n",
       "      <td>1</td>\n",
       "    </tr>\n",
       "    <tr>\n",
       "      <th>4</th>\n",
       "      <td>0.000000</td>\n",
       "      <td>0.000000</td>\n",
       "      <td>2.989921</td>\n",
       "      <td>4</td>\n",
       "      <td>2</td>\n",
       "      <td>2</td>\n",
       "    </tr>\n",
       "    <tr>\n",
       "      <th>...</th>\n",
       "      <td>...</td>\n",
       "      <td>...</td>\n",
       "      <td>...</td>\n",
       "      <td>...</td>\n",
       "      <td>...</td>\n",
       "      <td>...</td>\n",
       "    </tr>\n",
       "    <tr>\n",
       "      <th>8819</th>\n",
       "      <td>670.079580</td>\n",
       "      <td>58.000000</td>\n",
       "      <td>14.692290</td>\n",
       "      <td>16</td>\n",
       "      <td>3</td>\n",
       "      <td>3870</td>\n",
       "    </tr>\n",
       "    <tr>\n",
       "      <th>8820</th>\n",
       "      <td>2666.020316</td>\n",
       "      <td>-73.000000</td>\n",
       "      <td>14.800027</td>\n",
       "      <td>16</td>\n",
       "      <td>3</td>\n",
       "      <td>3870</td>\n",
       "    </tr>\n",
       "    <tr>\n",
       "      <th>8821</th>\n",
       "      <td>0.000000</td>\n",
       "      <td>0.000000</td>\n",
       "      <td>14.935284</td>\n",
       "      <td>16</td>\n",
       "      <td>3</td>\n",
       "      <td>3871</td>\n",
       "    </tr>\n",
       "    <tr>\n",
       "      <th>8822</th>\n",
       "      <td>645.525102</td>\n",
       "      <td>-37.000000</td>\n",
       "      <td>14.411438</td>\n",
       "      <td>16</td>\n",
       "      <td>3</td>\n",
       "      <td>3871</td>\n",
       "    </tr>\n",
       "    <tr>\n",
       "      <th>8823</th>\n",
       "      <td>2329.506939</td>\n",
       "      <td>132.000000</td>\n",
       "      <td>15.011626</td>\n",
       "      <td>16</td>\n",
       "      <td>3</td>\n",
       "      <td>3871</td>\n",
       "    </tr>\n",
       "  </tbody>\n",
       "</table>\n",
       "<p>8824 rows × 6 columns</p>\n",
       "</div>"
      ],
      "text/plain": [
       "          x_coord     y_coord  ref_wind_speed  wind_speed  num_tot_turb  IDnum\n",
       "0        0.000000    0.000000        2.980920           4             2      0\n",
       "1      517.368591  209.030479        2.990576           4             2      0\n",
       "2        0.000000    0.000000        2.713630           4             2      1\n",
       "3      278.957507    4.869221        2.983835           4             2      1\n",
       "4        0.000000    0.000000        2.989921           4             2      2\n",
       "...           ...         ...             ...         ...           ...    ...\n",
       "8819   670.079580   58.000000       14.692290          16             3   3870\n",
       "8820  2666.020316  -73.000000       14.800027          16             3   3870\n",
       "8821     0.000000    0.000000       14.935284          16             3   3871\n",
       "8822   645.525102  -37.000000       14.411438          16             3   3871\n",
       "8823  2329.506939  132.000000       15.011626          16             3   3871\n",
       "\n",
       "[8824 rows x 6 columns]"
      ]
     },
     "execution_count": 4,
     "metadata": {},
     "output_type": "execute_result"
    }
   ],
   "source": [
    "dataset"
   ]
  },
  {
   "cell_type": "code",
   "execution_count": 5,
   "id": "06f9248a",
   "metadata": {},
   "outputs": [],
   "source": [
    "import three_desc_model as desc\n",
    "from cutoffs import Polynomial\n",
    "import matplotlib.pyplot as plt\n",
    "import GPy\n",
    "from IPython.display import display\n",
    "symbol=\"Siemens\"\n",
    "turb = [symbol]\n",
    "numsims=dataset[\"IDnum\"].iloc[-1]+1"
   ]
  },
  {
   "cell_type": "code",
   "execution_count": 6,
   "id": "fc5c8ea3",
   "metadata": {},
   "outputs": [],
   "source": [
    "nl=desc.NeighborlistCalculator(cutoff=4001,cone_grad=0.12582561117875557, cone_offset=72.24947126849844)\n",
    "Gs = {\"Siemens\": [{\"type\":\"G2\", \"turbine\":\"Siemens\",\"eta\":4.25387599, \"offset\": 1.0151402},\n",
    "                  {\"type\":\"G4\", \"elements\":\"Siemens\",\"eta\":2.56450515, \"gamma\":8.04475192, \"zeta\": 2.5356155},\n",
    "                  {\"type\":\"G6\", \"elements\":\"Siemens\",\"eta\":2.33043463, \"gamma\": 0.50753377, \"zeta\": 0.93372721}\n",
    "                 ]}\n",
    "finpr=desc.FingerprintCalculator(cutoff=4001,Gs=Gs,Rct=3000,delta_R=100,cone_grad=0.12582561117875557, cone_offset=72.24947126849844)\n",
    "count=0\n",
    "dataset_fp=np.empty(shape=(0, 3))\n",
    "dataset_rws=np.empty(shape=(0, 1))\n",
    "dataset_ws=np.empty(shape=(0, 1))\n",
    "dataset_pos=np.empty(shape=(0, 2))\n",
    "for i in range(numsims):\n",
    "    numturb=dataset[\"num_tot_turb\"].iloc[count]\n",
    "    position = np.empty((numturb,2))\n",
    "    rws = np.empty((numturb,1))\n",
    "    ws = np.empty((numturb,1))\n",
    "    fp = np.empty((numturb,3))\n",
    "    for k in range(numturb):\n",
    "        position[k,0]=dataset[\"x_coord\"].iloc[count]#dataset_full.at[count,\"x_coord\"]\n",
    "        position[k,1]=dataset[\"y_coord\"].iloc[count]#dataset_full.at[count,\"y_coord\"]\n",
    "        rws[k,0]=dataset[\"ref_wind_speed\"].iloc[count]#dataset_full.at[count,\"ref_wind_speed\"]\n",
    "        ws[k,0]=dataset[\"wind_speed\"].iloc[count]#dataset_full.at[count,\"wind_speed\"]\n",
    "        count = count+ 1\n",
    "    neigh=nl.calculate(turb*numturb,position)\n",
    "    fingerprints=finpr.calculate(turb*numturb,position,neigh,symbol)\n",
    "    fingerprints=np.array(fingerprints)\n",
    "    dataset_fp=np.append(dataset_fp,fingerprints,axis=0)\n",
    "    dataset_rws=np.append(dataset_rws,rws,axis=0)\n",
    "    dataset_ws=np.append(dataset_ws,ws,axis=0)\n",
    "    dataset_pos=np.append(dataset_pos,position,axis=0)\n",
    "all_data=np.concatenate((dataset_fp, dataset_ws, dataset_rws),axis=1)\n",
    "all_data = pd.DataFrame(all_data, columns = ['Fingerprint(G2)','Fingerprint(G4)','Fingerprint(G6)','Wind_Speed','Ref_Wind_Speed'])\n",
    "X=all_data[[\"Fingerprint(G2)\",\"Fingerprint(G4)\",\"Fingerprint(G6)\",\"Wind_Speed\"]].to_numpy()\n",
    "Y=all_data[[\"Ref_Wind_Speed\"]].to_numpy()\n",
    "train_dataset = all_data.sample(frac=0.8, random_state=0)\n",
    "test_dataset = all_data.drop(train_dataset.index)\n",
    "Xtrain=train_dataset[[\"Fingerprint(G2)\",\"Fingerprint(G4)\",\"Fingerprint(G6)\",\"Wind_Speed\"]].to_numpy()\n",
    "Ytrain=train_dataset[[\"Ref_Wind_Speed\"]].to_numpy()\n",
    "Xtest=test_dataset[[\"Fingerprint(G2)\",\"Fingerprint(G4)\",\"Fingerprint(G6)\",\"Wind_Speed\"]].to_numpy()\n",
    "Ytest=test_dataset[[\"Ref_Wind_Speed\"]].to_numpy()"
   ]
  },
  {
   "cell_type": "code",
   "execution_count": 7,
   "id": "14fa796f",
   "metadata": {},
   "outputs": [],
   "source": [
    "# define kernel\n",
    "ker = GPy.kern.RBF(4,lengthscale=0.1, ARD=True)# + GPy.kern.White(2)"
   ]
  },
  {
   "cell_type": "code",
   "execution_count": 8,
   "id": "c0c5fdb7",
   "metadata": {},
   "outputs": [],
   "source": [
    "# create simple GP model\n",
    "m = GPy.models.GPRegression(Xtrain,Ytrain,ker)"
   ]
  },
  {
   "cell_type": "code",
   "execution_count": 30,
   "id": "a5846a19",
   "metadata": {},
   "outputs": [
    {
     "data": {
      "text/plain": [
       "<matplotlib.collections.PathCollection at 0x13851ca58>"
      ]
     },
     "execution_count": 30,
     "metadata": {},
     "output_type": "execute_result"
    },
    {
     "data": {
      "image/png": "[encoded data removed]",
      "text/plain": [
       "<Figure size 640x480 with 1 Axes>"
      ]
     },
     "metadata": {},
     "output_type": "display_data"
    }
   ],
   "source": [
    "#print(Xtrain[:,3])\n",
    "plt.scatter(Xtrain[Xtrain[:,3]==6,0],Xtrain[Xtrain[:,3]==6,2])"
   ]
  },
  {
   "cell_type": "code",
   "execution_count": 10,
   "id": "33bfe91f",
   "metadata": {},
   "outputs": [
    {
     "name": "stdout",
     "output_type": "stream",
     "text": [
      "Running L-BFGS-B (Scipy implementation) Code:\n",
      "  runtime   i      f              |g|        \n",
      "    58s16  0004   5.344960e+04   3.526603e+09 \n",
      " 01m56s09  0008   3.694469e+03   3.253698e+04 \n",
      " 02m45s41  0011   3.458224e+03   2.523957e+03 \n",
      " 05m09s14  0020   3.318995e+03   5.388174e+02 \n",
      " 09m42s16  0035   3.297622e+03   5.181693e-01 \n",
      " 12m21s94  0045   3.297541e+03   6.836739e-05 \n",
      " 12m37s79  0046   3.297541e+03   6.836739e-05 \n",
      "Runtime:  12m37s79\n",
      "Optimization status: Converged\n",
      "\n"
     ]
    },
    {
     "data": {
      "text/html": [
       "<style type=\"text/css\">\n",
       ".pd{\n",
       "    font-family: \"Courier New\", Courier, monospace !important;\n",
       "    width: 100%;\n",
       "    padding: 3px;\n",
       "}\n",
       "</style>\n",
       "\n",
       "<p class=pd>\n",
       "<b>Model</b>: GP regression<br>\n",
       "<b>Objective</b>: 3297.5409490907123<br>\n",
       "<b>Number of Parameters</b>: 6<br>\n",
       "<b>Number of Optimization Parameters</b>: 6<br>\n",
       "<b>Updates</b>: True<br>\n",
       "</p>\n",
       "<style type=\"text/css\">\n",
       ".tg  {font-family:\"Courier New\", Courier, monospace !important;padding:2px 3px;word-break:normal;border-collapse:collapse;border-spacing:0;border-color:#DCDCDC;margin:0px auto;width:100%;}\n",
       ".tg td{font-family:\"Courier New\", Courier, monospace !important;font-weight:bold;color:#444;background-color:#F7FDFA;border-style:solid;border-width:1px;overflow:hidden;word-break:normal;border-color:#DCDCDC;}\n",
       ".tg th{font-family:\"Courier New\", Courier, monospace !important;font-weight:normal;color:#fff;background-color:#26ADE4;border-style:solid;border-width:1px;overflow:hidden;word-break:normal;border-color:#DCDCDC;}\n",
       ".tg .tg-left{font-family:\"Courier New\", Courier, monospace !important;font-weight:normal;text-align:left;}\n",
       ".tg .tg-center{font-family:\"Courier New\", Courier, monospace !important;font-weight:normal;text-align:center;}\n",
       ".tg .tg-right{font-family:\"Courier New\", Courier, monospace !important;font-weight:normal;text-align:right;}\n",
       "</style>\n",
       "<table class=\"tg\"><tr><th><b>  GP_regression.         </b></th><th><b>              value</b></th><th><b>constraints</b></th><th><b>priors</b></th></tr>\n",
       "<tr><td class=tg-left>  rbf.variance           </td><td class=tg-right>  71.58625263683273</td><td class=tg-center>    +ve    </td><td class=tg-center>      </td></tr>\n",
       "<tr><td class=tg-left>  rbf.lengthscale        </td><td class=tg-right>               (4,)</td><td class=tg-center>    +ve    </td><td class=tg-center>      </td></tr>\n",
       "<tr><td class=tg-left>  Gaussian_noise.variance</td><td class=tg-right>0.13945795814426865</td><td class=tg-center>    +ve    </td><td class=tg-center>      </td></tr>\n",
       "</table>"
      ],
      "text/plain": [
       "<GPy.models.gp_regression.GPRegression at 0x13519cf98>"
      ]
     },
     "metadata": {},
     "output_type": "display_data"
    }
   ],
   "source": [
    "# optimize and plot\n",
    "m.optimize(messages=True,max_f_eval = 1000)\n",
    "#fig = m.plot()\n",
    "#display(GPy.plotting.show(fig, filename='basic_gp_regression_notebook_2d'))\n",
    "display(m)"
   ]
  },
  {
   "cell_type": "code",
   "execution_count": 11,
   "id": "a0db1e94",
   "metadata": {},
   "outputs": [
    {
     "name": "stdout",
     "output_type": "stream",
     "text": [
      "\n",
      "Name : GP regression\n",
      "Objective : 3297.5409490907123\n",
      "Number of Parameters : 6\n",
      "Number of Optimization Parameters : 6\n",
      "Updates : True\n",
      "Parameters:\n",
      "  \u001b[1mGP_regression.         \u001b[0;0m  |                value  |  constraints  |  priors\n",
      "  \u001b[1mrbf.variance           \u001b[0;0m  |    71.58625263683273  |      +ve      |        \n",
      "  \u001b[1mrbf.lengthscale        \u001b[0;0m  |                 (4,)  |      +ve      |        \n",
      "  \u001b[1mGaussian_noise.variance\u001b[0;0m  |  0.13945795814426865  |      +ve      |        \n"
     ]
    }
   ],
   "source": [
    "print(m)"
   ]
  },
  {
   "cell_type": "code",
   "execution_count": 12,
   "id": "dead1b95",
   "metadata": {},
   "outputs": [
    {
     "data": {
      "text/plain": [
       "2.788527479741423"
      ]
     },
     "execution_count": 12,
     "metadata": {},
     "output_type": "execute_result"
    }
   ],
   "source": [
    "[Ypred,Yvar]=m.predict(Xtest)\n",
    "error_test=np.abs(Ypred-Ytest)\n",
    "np.max(error_test)"
   ]
  },
  {
   "cell_type": "code",
   "execution_count": 13,
   "id": "087c6ad2",
   "metadata": {},
   "outputs": [
    {
     "data": {
      "text/plain": [
       "2.845550049741423"
      ]
     },
     "execution_count": 13,
     "metadata": {},
     "output_type": "execute_result"
    }
   ],
   "source": [
    "[Yval,Yvalvar]=m.predict(Xtrain)\n",
    "error_train=np.abs(Yval-Ytrain)\n",
    "np.max(error_train)"
   ]
  },
  {
   "cell_type": "code",
   "execution_count": 14,
   "id": "85082495",
   "metadata": {},
   "outputs": [
    {
     "data": {
      "text/plain": [
       "2.845550049741423"
      ]
     },
     "execution_count": 14,
     "metadata": {},
     "output_type": "execute_result"
    }
   ],
   "source": [
    "[Yall,Yallvar]=m.predict(X)\n",
    "error_all=np.abs(Yall-Y)\n",
    "np.max(error_all)"
   ]
  },
  {
   "cell_type": "code",
   "execution_count": 15,
   "id": "fac0c6b8",
   "metadata": {},
   "outputs": [
    {
     "data": {
      "text/plain": [
       "(array([[7.25724113],\n",
       "        [6.33173811]]),\n",
       " array([[0.13959789],\n",
       "        [0.14706866]]))"
      ]
     },
     "execution_count": 15,
     "metadata": {},
     "output_type": "execute_result"
    }
   ],
   "source": [
    "position=np.array([[0,0],[500,0]])\n",
    "neigh=nl.calculate(turb*2,position)\n",
    "#print(neigh)\n",
    "fingerprints=np.array(finpr.calculate(turb*2,position,neigh,symbol))\n",
    "test_data=np.append(fingerprints,[[10],[10]],axis=1)\n",
    "#print(test_data)\n",
    "m.predict(test_data)"
   ]
  },
  {
   "cell_type": "code",
   "execution_count": 16,
   "id": "0291a888",
   "metadata": {},
   "outputs": [
    {
     "data": {
      "text/plain": [
       "array([[ 1.        ,  0.34493215,  1.04700824, 10.        ],\n",
       "       [ 0.78021791,  0.32560321,  1.04700824,  4.        ],\n",
       "       [ 1.        ,  0.34493215,  1.04700824,  4.        ],\n",
       "       ...,\n",
       "       [ 1.        ,  0.34493215,  1.04700824, 10.        ],\n",
       "       [ 0.73855159,  0.33393113,  1.04700824, 14.        ],\n",
       "       [ 1.        ,  0.34493215,  1.04700824, 12.        ]])"
      ]
     },
     "execution_count": 16,
     "metadata": {},
     "output_type": "execute_result"
    }
   ],
   "source": [
    "Xtrain"
   ]
  },
  {
   "cell_type": "code",
   "execution_count": null,
   "id": "adda5018",
   "metadata": {},
   "outputs": [],
   "source": []
  }
 ],
 "metadata": {
  "kernelspec": {
   "display_name": "Python 3 (ipykernel)",
   "language": "python",
   "name": "python3"
  },
  "language_info": {
   "codemirror_mode": {
    "name": "ipython",
    "version": 3
   },
   "file_extension": ".py",
   "mimetype": "text/x-python",
   "name": "python",
   "nbconvert_exporter": "python",
   "pygments_lexer": "ipython3",
   "version": "3.7.3"
  }
 },
 "nbformat": 4,
 "nbformat_minor": 5
}
