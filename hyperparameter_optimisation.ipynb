{
 "cells": [
  {
   "cell_type": "code",
   "execution_count": 1,
   "id": "fb6d9d57",
   "metadata": {},
   "outputs": [],
   "source": [
    "import three_desc_model as exponential_new\n",
    "import numpy as np\n",
    "import pandas as pd\n",
    "from cutoffs import Polynomial\n",
    "import tensorflow as tf\n",
    "import matplotlib.pyplot as plt\n",
    "import keras\n",
    "from tensorflow.keras import layers\n",
    "from tensorflow.keras.layers.experimental import preprocessing\n",
    "from scipy.optimize import minimize\n",
    "turbs = [\"Siemens\"] *2\n",
    "turbs_3 = [\"Siemens\"] *3\n",
    "nl=exponential_new.NeighborlistCalculator(cutoff=4001,cone_grad=0.12582561117875557, cone_offset=72.24947126849844)\n",
    "\n",
    "\n",
    "symbol=\"Siemens\"\n",
    "dataset_pos=np.empty(shape=(0, 2))\n",
    "dataset_fp=np.empty(shape=(0, 3))\n",
    "dataset_pri=np.empty(shape=(0, 1))\n",
    "\n"
   ]
  },
  {
   "cell_type": "code",
   "execution_count": 2,
   "id": "980311f0",
   "metadata": {},
   "outputs": [],
   "source": [
    "def build_and_compile_model(norm):\n",
    "    model = keras.Sequential([\n",
    "        norm,\n",
    "        layers.Dense(64, activation='relu'),\n",
    "        layers.Dense(64, activation='relu'),\n",
    "        layers.Dense(32, activation='relu'),\n",
    "        layers.Dense(16, activation='relu'),\n",
    "        layers.Dense(1)\n",
    "    ])\n",
    "    model.compile(loss='mean_absolute_error', optimizer=tf.keras.optimizers.Adam(0.001))\n",
    "    return model"
   ]
  },
  {
   "cell_type": "code",
   "execution_count": 11,
   "id": "00623a4a",
   "metadata": {},
   "outputs": [
    {
     "data": {
      "text/plain": [
       "1784"
      ]
     },
     "execution_count": 11,
     "metadata": {},
     "output_type": "execute_result"
    }
   ],
   "source": [
    "dataset = pd.read_csv('all_dataset.csv', index_col=0)\n",
    "len(dataset)"
   ]
  },
  {
   "cell_type": "code",
   "execution_count": 13,
   "id": "f3ccfa12",
   "metadata": {},
   "outputs": [
    {
     "ename": "NameError",
     "evalue": "name 'id_dataset' is not defined",
     "output_type": "error",
     "traceback": [
      "\u001b[0;31m---------------------------------------------------------------------------\u001b[0m",
      "\u001b[0;31mNameError\u001b[0m                                 Traceback (most recent call last)",
      "\u001b[0;32m/var/folders/gr/z6l2h7kd4136nf0xqdtls40w0000gn/T/ipykernel_56328/2304221039.py\u001b[0m in \u001b[0;36m<module>\u001b[0;34m\u001b[0m\n\u001b[1;32m      1\u001b[0m \u001b[0;32mfor\u001b[0m \u001b[0mi\u001b[0m\u001b[0;34m,\u001b[0m\u001b[0mrow\u001b[0m \u001b[0;32min\u001b[0m \u001b[0mdataset\u001b[0m\u001b[0;34m.\u001b[0m\u001b[0miterrows\u001b[0m\u001b[0;34m(\u001b[0m\u001b[0;34m)\u001b[0m\u001b[0;34m:\u001b[0m\u001b[0;34m\u001b[0m\u001b[0;34m\u001b[0m\u001b[0m\n\u001b[1;32m      2\u001b[0m     \u001b[0;32mif\u001b[0m \u001b[0mrow\u001b[0m\u001b[0;34m[\u001b[0m\u001b[0;34m'Num_tot_turb'\u001b[0m\u001b[0;34m]\u001b[0m \u001b[0;34m==\u001b[0m \u001b[0;36m3\u001b[0m\u001b[0;34m:\u001b[0m\u001b[0;34m\u001b[0m\u001b[0;34m\u001b[0m\u001b[0m\n\u001b[0;32m----> 3\u001b[0;31m         \u001b[0mposition\u001b[0m \u001b[0;34m=\u001b[0m \u001b[0mnp\u001b[0m\u001b[0;34m.\u001b[0m\u001b[0marray\u001b[0m\u001b[0;34m(\u001b[0m\u001b[0;34m[\u001b[0m\u001b[0;34m[\u001b[0m\u001b[0mdataset\u001b[0m\u001b[0;34m.\u001b[0m\u001b[0mat\u001b[0m\u001b[0;34m[\u001b[0m\u001b[0mi\u001b[0m\u001b[0;34m,\u001b[0m\u001b[0;34m\"X_coord\"\u001b[0m\u001b[0;34m]\u001b[0m\u001b[0;34m,\u001b[0m\u001b[0mdataset\u001b[0m\u001b[0;34m.\u001b[0m\u001b[0mat\u001b[0m\u001b[0;34m[\u001b[0m\u001b[0mi\u001b[0m\u001b[0;34m,\u001b[0m\u001b[0;34m\"Y_coord\"\u001b[0m\u001b[0;34m]\u001b[0m\u001b[0;34m]\u001b[0m\u001b[0;34m,\u001b[0m\u001b[0;34m[\u001b[0m\u001b[0mdataset\u001b[0m\u001b[0;34m.\u001b[0m\u001b[0mat\u001b[0m\u001b[0;34m[\u001b[0m\u001b[0mi\u001b[0m\u001b[0;34m,\u001b[0m\u001b[0;34m\"X_coord\"\u001b[0m\u001b[0;34m]\u001b[0m\u001b[0;34m,\u001b[0m\u001b[0mid_dataset\u001b[0m\u001b[0;34m.\u001b[0m\u001b[0mat\u001b[0m\u001b[0;34m[\u001b[0m\u001b[0;36m1\u001b[0m\u001b[0;34m,\u001b[0m\u001b[0;34m\"Y_coord\"\u001b[0m\u001b[0;34m]\u001b[0m\u001b[0;34m]\u001b[0m\u001b[0;34m,\u001b[0m\u001b[0;34m[\u001b[0m\u001b[0mid_dataset\u001b[0m\u001b[0;34m.\u001b[0m\u001b[0mat\u001b[0m\u001b[0;34m[\u001b[0m\u001b[0;36m2\u001b[0m\u001b[0;34m,\u001b[0m\u001b[0;34m\"X_coord\"\u001b[0m\u001b[0;34m]\u001b[0m\u001b[0;34m,\u001b[0m\u001b[0mid_dataset\u001b[0m\u001b[0;34m.\u001b[0m\u001b[0mat\u001b[0m\u001b[0;34m[\u001b[0m\u001b[0;36m2\u001b[0m\u001b[0;34m,\u001b[0m\u001b[0;34m\"Y_coord\"\u001b[0m\u001b[0;34m]\u001b[0m\u001b[0;34m]\u001b[0m\u001b[0;34m]\u001b[0m\u001b[0;34m)\u001b[0m\u001b[0;34m\u001b[0m\u001b[0;34m\u001b[0m\u001b[0m\n\u001b[0m",
      "\u001b[0;31mNameError\u001b[0m: name 'id_dataset' is not defined"
     ]
    }
   ],
   "source": [
    "for i,row in dataset.iterrows():\n",
    "    if row['Num_tot_turb'] == 3:\n",
    "        position = np.array([[dataset.at[i,\"X_coord\"],dataset.at[i,\"Y_coord\"]],[dataset.at[i,\"X_coord\"],id_dataset.at[1,\"Y_coord\"]],[id_dataset.at[2,\"X_coord\"],id_dataset.at[2,\"Y_coord\"]]])"
   ]
  },
  {
   "cell_type": "code",
   "execution_count": 27,
   "id": "cfc60910",
   "metadata": {},
   "outputs": [
    {
     "data": {
      "text/plain": [
       "[(2.0,\n",
       "           X_coord     Y_coord  Ref_wind  Num_tot_turb  \\\n",
       "  0       0.000000    0.000000  7.479762           2.0   \n",
       "  1     241.621088  139.500000  7.576231           2.0   \n",
       "  2       0.000000    0.000000  7.473602           2.0   \n",
       "  3     244.018898  135.261884  7.567527           2.0   \n",
       "  4       0.000000    0.000000  7.467848           2.0   \n",
       "  ..           ...         ...       ...           ...   \n",
       "  699  3499.466933  -61.083423  7.245134           2.0   \n",
       "  700     0.000000    0.000000  7.483274           2.0   \n",
       "  701  3495.203372 -183.175847  7.384614           2.0   \n",
       "  702     0.000000    0.000000  7.433140           2.0   \n",
       "  703  4000.000000    0.000000  7.183321           2.0   \n",
       "  \n",
       "                                       ID  Turb_num  \n",
       "  0    2_turbine_240_degrees_279.0_meters       0.0  \n",
       "  1    2_turbine_240_degrees_279.0_meters       1.0  \n",
       "  2    2_turbine_241_degrees_279.0_meters       0.0  \n",
       "  3    2_turbine_241_degrees_279.0_meters       1.0  \n",
       "  4    2_turbine_242_degrees_279.0_meters       0.0  \n",
       "  ..                                  ...       ...  \n",
       "  699   2_turbine_271_degrees_3500_meters       1.0  \n",
       "  700   2_turbine_273_degrees_3500_meters       0.0  \n",
       "  701   2_turbine_273_degrees_3500_meters       1.0  \n",
       "  702   2_turbine_270_degrees_4000_meters       0.0  \n",
       "  703   2_turbine_270_degrees_4000_meters       1.0  \n",
       "  \n",
       "  [704 rows x 6 columns]),\n",
       " (3.0,\n",
       "            X_coord  Y_coord  Ref_wind  Num_tot_turb  \\\n",
       "  704      0.000000      0.0  7.327663           3.0   \n",
       "  705   1042.605230    495.0  7.369615           3.0   \n",
       "  706   1955.622859    151.0  7.305162           3.0   \n",
       "  707      0.000000      0.0  7.300573           3.0   \n",
       "  708    287.594345   -231.0  7.400468           3.0   \n",
       "  ...           ...      ...       ...           ...   \n",
       "  1779  3164.356744   -110.0  6.978195           3.0   \n",
       "  1780   499.388946    -80.0  6.763982           3.0   \n",
       "  1781     0.000000      0.0  7.306684           3.0   \n",
       "  1782  2630.260284    143.0  7.232828           3.0   \n",
       "  1783   497.023796   -128.0  7.301574           3.0   \n",
       "  \n",
       "                                ID  Turb_num  \n",
       "  704     3_turbine_0th_simulation       0.0  \n",
       "  705     3_turbine_0th_simulation       1.0  \n",
       "  706     3_turbine_0th_simulation       2.0  \n",
       "  707     3_turbine_1th_simulation       0.0  \n",
       "  708     3_turbine_1th_simulation       1.0  \n",
       "  ...                          ...       ...  \n",
       "  1779  3_turbine_358th_simulation       1.0  \n",
       "  1780  3_turbine_358th_simulation       2.0  \n",
       "  1781  3_turbine_359th_simulation       0.0  \n",
       "  1782  3_turbine_359th_simulation       1.0  \n",
       "  1783  3_turbine_359th_simulation       2.0  \n",
       "  \n",
       "  [1080 rows x 6 columns])]"
      ]
     },
     "execution_count": 27,
     "metadata": {},
     "output_type": "execute_result"
    }
   ],
   "source": [
    "gb=dataset.groupby([\"Num_tot_turb\"])\n",
    "#[gb.get_group(x) for x in gb.groups]\n",
    "list(gb)"
   ]
  },
  {
   "cell_type": "code",
   "execution_count": 4,
   "id": "c41e085d",
   "metadata": {},
   "outputs": [
    {
     "ename": "NameError",
     "evalue": "name 'three_turb_dataset' is not defined",
     "output_type": "error",
     "traceback": [
      "\u001b[0;31m---------------------------------------------------------------------------\u001b[0m",
      "\u001b[0;31mNameError\u001b[0m                                 Traceback (most recent call last)",
      "\u001b[0;32m/var/folders/gr/z6l2h7kd4136nf0xqdtls40w0000gn/T/ipykernel_56328/3185018421.py\u001b[0m in \u001b[0;36m<module>\u001b[0;34m\u001b[0m\n\u001b[1;32m      1\u001b[0m \u001b[0;32mfor\u001b[0m \u001b[0mi\u001b[0m \u001b[0;32min\u001b[0m \u001b[0mrange\u001b[0m\u001b[0;34m(\u001b[0m\u001b[0mlen\u001b[0m\u001b[0;34m(\u001b[0m\u001b[0mdataset\u001b[0m\u001b[0;34m)\u001b[0m\u001b[0;34m)\u001b[0m\u001b[0;34m:\u001b[0m\u001b[0;34m\u001b[0m\u001b[0;34m\u001b[0m\u001b[0m\n\u001b[0;32m----> 2\u001b[0;31m     \u001b[0mid_dataset\u001b[0m \u001b[0;34m=\u001b[0m \u001b[0mthree_turb_dataset\u001b[0m\u001b[0;34m.\u001b[0m\u001b[0mloc\u001b[0m\u001b[0;34m[\u001b[0m\u001b[0mthree_turb_dataset\u001b[0m\u001b[0;34m[\u001b[0m\u001b[0;34m'ID'\u001b[0m\u001b[0;34m]\u001b[0m \u001b[0;34m==\u001b[0m \u001b[0mi\u001b[0m\u001b[0;34m]\u001b[0m\u001b[0;34m.\u001b[0m\u001b[0mreset_index\u001b[0m\u001b[0;34m(\u001b[0m\u001b[0mdrop\u001b[0m\u001b[0;34m=\u001b[0m\u001b[0;32mTrue\u001b[0m\u001b[0;34m)\u001b[0m\u001b[0;34m\u001b[0m\u001b[0;34m\u001b[0m\u001b[0m\n\u001b[0m\u001b[1;32m      3\u001b[0m     \u001b[0mposition\u001b[0m \u001b[0;34m=\u001b[0m \u001b[0mnp\u001b[0m\u001b[0;34m.\u001b[0m\u001b[0marray\u001b[0m\u001b[0;34m(\u001b[0m\u001b[0;34m[\u001b[0m\u001b[0;34m[\u001b[0m\u001b[0mid_dataset\u001b[0m\u001b[0;34m.\u001b[0m\u001b[0mat\u001b[0m\u001b[0;34m[\u001b[0m\u001b[0;36m0\u001b[0m\u001b[0;34m,\u001b[0m\u001b[0;34m\"X_coord\"\u001b[0m\u001b[0;34m]\u001b[0m\u001b[0;34m,\u001b[0m\u001b[0mid_dataset\u001b[0m\u001b[0;34m.\u001b[0m\u001b[0mat\u001b[0m\u001b[0;34m[\u001b[0m\u001b[0;36m0\u001b[0m\u001b[0;34m,\u001b[0m\u001b[0;34m\"Y_coord\"\u001b[0m\u001b[0;34m]\u001b[0m\u001b[0;34m]\u001b[0m\u001b[0;34m,\u001b[0m\u001b[0;34m[\u001b[0m\u001b[0mid_dataset\u001b[0m\u001b[0;34m.\u001b[0m\u001b[0mat\u001b[0m\u001b[0;34m[\u001b[0m\u001b[0;36m1\u001b[0m\u001b[0;34m,\u001b[0m\u001b[0;34m\"X_coord\"\u001b[0m\u001b[0;34m]\u001b[0m\u001b[0;34m,\u001b[0m\u001b[0mid_dataset\u001b[0m\u001b[0;34m.\u001b[0m\u001b[0mat\u001b[0m\u001b[0;34m[\u001b[0m\u001b[0;36m1\u001b[0m\u001b[0;34m,\u001b[0m\u001b[0;34m\"Y_coord\"\u001b[0m\u001b[0;34m]\u001b[0m\u001b[0;34m]\u001b[0m\u001b[0;34m,\u001b[0m\u001b[0;34m[\u001b[0m\u001b[0mid_dataset\u001b[0m\u001b[0;34m.\u001b[0m\u001b[0mat\u001b[0m\u001b[0;34m[\u001b[0m\u001b[0;36m2\u001b[0m\u001b[0;34m,\u001b[0m\u001b[0;34m\"X_coord\"\u001b[0m\u001b[0;34m]\u001b[0m\u001b[0;34m,\u001b[0m\u001b[0mid_dataset\u001b[0m\u001b[0;34m.\u001b[0m\u001b[0mat\u001b[0m\u001b[0;34m[\u001b[0m\u001b[0;36m2\u001b[0m\u001b[0;34m,\u001b[0m\u001b[0;34m\"Y_coord\"\u001b[0m\u001b[0;34m]\u001b[0m\u001b[0;34m]\u001b[0m\u001b[0;34m]\u001b[0m\u001b[0;34m)\u001b[0m\u001b[0;34m\u001b[0m\u001b[0;34m\u001b[0m\u001b[0m\n\u001b[1;32m      4\u001b[0m     \u001b[0mws\u001b[0m \u001b[0;34m=\u001b[0m \u001b[0mnp\u001b[0m\u001b[0;34m.\u001b[0m\u001b[0marray\u001b[0m\u001b[0;34m(\u001b[0m\u001b[0;34m[\u001b[0m\u001b[0;34m[\u001b[0m\u001b[0mid_dataset\u001b[0m\u001b[0;34m.\u001b[0m\u001b[0mat\u001b[0m\u001b[0;34m[\u001b[0m\u001b[0;36m0\u001b[0m\u001b[0;34m,\u001b[0m\u001b[0;34m\"Ref_Wind_Speed\"\u001b[0m\u001b[0;34m]\u001b[0m\u001b[0;34m]\u001b[0m\u001b[0;34m,\u001b[0m \u001b[0;34m[\u001b[0m\u001b[0mid_dataset\u001b[0m\u001b[0;34m.\u001b[0m\u001b[0mat\u001b[0m\u001b[0;34m[\u001b[0m\u001b[0;36m1\u001b[0m\u001b[0;34m,\u001b[0m\u001b[0;34m\"Ref_Wind_Speed\"\u001b[0m\u001b[0;34m]\u001b[0m\u001b[0;34m]\u001b[0m\u001b[0;34m,\u001b[0m \u001b[0;34m[\u001b[0m\u001b[0mid_dataset\u001b[0m\u001b[0;34m.\u001b[0m\u001b[0mat\u001b[0m\u001b[0;34m[\u001b[0m\u001b[0;36m2\u001b[0m\u001b[0;34m,\u001b[0m\u001b[0;34m\"Ref_Wind_Speed\"\u001b[0m\u001b[0;34m]\u001b[0m\u001b[0;34m]\u001b[0m\u001b[0;34m]\u001b[0m\u001b[0;34m)\u001b[0m\u001b[0;34m\u001b[0m\u001b[0;34m\u001b[0m\u001b[0m\n\u001b[1;32m      5\u001b[0m     \u001b[0mneigh\u001b[0m\u001b[0;34m=\u001b[0m\u001b[0mnl\u001b[0m\u001b[0;34m.\u001b[0m\u001b[0mcalculate\u001b[0m\u001b[0;34m(\u001b[0m\u001b[0mturbs_3\u001b[0m\u001b[0;34m,\u001b[0m\u001b[0mposition\u001b[0m\u001b[0;34m)\u001b[0m\u001b[0;34m\u001b[0m\u001b[0;34m\u001b[0m\u001b[0m\n",
      "\u001b[0;31mNameError\u001b[0m: name 'three_turb_dataset' is not defined"
     ]
    }
   ],
   "source": [
    "for i in range(len(dataset)):\n",
    "    if dataset.loc[dataset['Number of Turbine in the Simulation'] == 2].reset_index(drop=True)\n",
    "    position = np.array([[id_dataset.at[0,\"X_coord\"],id_dataset.at[0,\"Y_coord\"]],[id_dataset.at[1,\"X_coord\"],id_dataset.at[1,\"Y_coord\"]],[id_dataset.at[2,\"X_coord\"],id_dataset.at[2,\"Y_coord\"]]])\n",
    "    ws = np.array([[id_dataset.at[0,\"Ref_Wind_Speed\"]], [id_dataset.at[1,\"Ref_Wind_Speed\"]], [id_dataset.at[2,\"Ref_Wind_Speed\"]]])\n",
    "    neigh=nl.calculate(turbs_3,position)\n",
    "    finpr=exponential_new.FingerprintCalculator(cutoff=4001,Gs=Gs,Rct=3000,delta_R=100,cone_grad=0.12582561117875557, cone_offset=72.24947126849844)\n",
    "    fp=finpr.calculate(turbs_3,position,neigh,symbol)\n",
    "    fp=np.array(fp)\n",
    "    dataset_pos=np.append(dataset_pos,position,axis=0)\n",
    "    dataset_fp=np.append(dataset_fp,fp,axis=0)\n",
    "    dataset_ws=np.append(dataset_ws,ws,axis=0)\n",
    "dataset=np.concatenate((dataset_fp, dataset_ws),axis=1)"
   ]
  },
  {
   "cell_type": "code",
   "execution_count": null,
   "id": "dc9b46c7",
   "metadata": {},
   "outputs": [],
   "source": [
    "def fitness(x):\n",
    "    Gs = {\"Siemens\": [{\"type\":\"G2\", \"turbine\":\"Siemens\",\"eta\":x[0], \"offset\": 1.},\n",
    "                  {\"type\":\"G4\", \"elements\":\"Siemens\",\"eta\":x[1], \"gamma\":4., \"zeta\": 1.0},\n",
    "                  {\"type\":\"G6\", \"elements\":\"Siemens\",\"eta\":x[2], \"gamma\": 0.5, \"zeta\": 1.0}\n",
    "                 ]}\n",
    "    turbs_3 = [\"Siemens\"] *3\n",
    "    nl=exponential_new.NeighborlistCalculator(cutoff=4001,cone_grad=0.12582561117875557, cone_offset=72.24947126849844)\n",
    "\n",
    "\n",
    "    symbol=\"Siemens\"\n",
    "\n",
    "    \n",
    "    dataset = pd.DataFrame(dataset, columns = ['Fingerprint(G2)','Fingerprint(G4)','Fingerprint(G6)','Ref_Wind_Speed'])\n",
    "    train_dataset = dataset.sample(frac=0.8, random_state=0)\n",
    "    test_dataset = dataset.drop(train_dataset.index)\n",
    "    train_features = train_dataset.copy()\n",
    "    test_features = test_dataset.copy()\n",
    "    all_features = dataset.copy()\n",
    "    train_labels = train_features.pop('Ref_Wind_Speed')\n",
    "    test_labels = test_features.pop('Ref_Wind_Speed')\n",
    "    all_labels = all_features.pop('Ref_Wind_Speed')\n",
    "    normalizer = preprocessing.Normalization(axis=-1)\n",
    "    normalizer.adapt(np.array(train_features))\n",
    "    dnn_model = build_and_compile_model(normalizer)\n",
    "    history = dnn_model.fit(\n",
    "        train_features, train_labels,\n",
    "        validation_split=0.2,\n",
    "        verbose=0, epochs=120)\n",
    "    all_predictions = dnn_model.predict(all_features).flatten()\n",
    "    error_all=np.abs(all_predictions-all_labels)\n",
    "    return np.max(error_all)"
   ]
  },
  {
   "cell_type": "code",
   "execution_count": null,
   "id": "45599440",
   "metadata": {},
   "outputs": [],
   "source": [
    "x0 = [5.3, 5., 2.]\n",
    "bounds= ((0,10),(0,10),(0,10))\n",
    "res = minimize(fitness, x0, bounds= bounds, options={'disp':True})"
   ]
  },
  {
   "cell_type": "code",
   "execution_count": null,
   "id": "8dc5aff1",
   "metadata": {},
   "outputs": [],
   "source": []
  }
 ],
 "metadata": {
  "kernelspec": {
   "display_name": "Python 3 (ipykernel)",
   "language": "python",
   "name": "python3"
  },
  "language_info": {
   "codemirror_mode": {
    "name": "ipython",
    "version": 3
   },
   "file_extension": ".py",
   "mimetype": "text/x-python",
   "name": "python",
   "nbconvert_exporter": "python",
   "pygments_lexer": "ipython3",
   "version": "3.9.10"
  }
 },
 "nbformat": 4,
 "nbformat_minor": 5
}
