{
 "cells": [
  {
   "cell_type": "code",
   "execution_count": 1,
   "metadata": {
    "collapsed": true
   },
   "outputs": [],
   "source": [
    "%matplotlib inline\n",
    "import numpy as np\n",
    "import matplotlib.pyplot as plt"
   ]
  },
  {
   "cell_type": "code",
   "execution_count": 2,
   "metadata": {},
   "outputs": [],
   "source": [
    "coords_in = np.loadtxt('coords.txt')\n",
    "#coords_in"
   ]
  },
  {
   "cell_type": "code",
   "execution_count": 3,
   "metadata": {},
   "outputs": [
    {
     "name": "stdout",
     "output_type": "stream",
     "text": [
      "423974.0 6147543.0\n",
      "2728.5 1952.0\n"
     ]
    }
   ],
   "source": [
    "print(min(coords_in[:,0]), min(coords_in[:,1]))\n",
    "xmin = min(coords_in[:,0])\n",
    "ymin = min(coords_in[:,1])\n",
    "\n",
    "xzero = (max(coords_in[:,0])-xmin)/2\n",
    "yzero = (max(coords_in[:,1])-ymin)/2\n",
    "print(xzero, yzero)"
   ]
  },
  {
   "cell_type": "code",
   "execution_count": 4,
   "metadata": {},
   "outputs": [
    {
     "data": {
      "text/plain": [
       "<matplotlib.collections.PathCollection at 0x1f4d9402550>"
      ]
     },
     "execution_count": 4,
     "metadata": {},
     "output_type": "execute_result"
    },
    {
     "data": {
      "image/png": "[encoded data removed]",
      "text/plain": [
       "<matplotlib.figure.Figure at 0x1f4d915b9b0>"
      ]
     },
     "metadata": {},
     "output_type": "display_data"
    }
   ],
   "source": [
    "coords_x=coords_in[:,0]-xzero-xmin\n",
    "coords_y=coords_in[:,1]-yzero-ymin\n",
    "coords=[coords_x,coords_y]\n",
    "coords=np.array(coords).T\n",
    "nturb=np.shape(coords)[0]\n",
    "plt.scatter(coords[:,0], coords[:,1])"
   ]
  },
  {
   "cell_type": "code",
   "execution_count": 5,
   "metadata": {},
   "outputs": [
    {
     "data": {
      "text/plain": [
       "-83.964270266685389"
      ]
     },
     "execution_count": 5,
     "metadata": {},
     "output_type": "execute_result"
    }
   ],
   "source": [
    "#Arrays for pairwise distances and angles\n",
    "#Angle 0: x directıon. Angle pi/2: y directıon\n",
    "distance=np.zeros((nturb,nturb))\n",
    "angles=np.zeros((nturb,nturb))\n",
    "for i in range(0,nturb):\n",
    "    distance[i,:]=np.sqrt(np.square(coords[i,0]-coords[:,0])+np.square(coords[i,1]-coords[:,1]))\n",
    "    angles[i,:]=np.arctan2(coords[:,1]-coords[i,1],coords[:,0]-coords[i,0])\n",
    "#Rotate angles so that north=0 and convert to degre\n",
    "angles=angles*180/np.pi\n",
    "angles[0,1]"
   ]
  },
  {
   "cell_type": "code",
   "execution_count": 6,
   "metadata": {
    "collapsed": true
   },
   "outputs": [],
   "source": [
    "#Rotating angles to wind direction\n",
    "windangle=5 #degrees\n",
    "rotangles=np.mod(angles-windangle+180,360)-180"
   ]
  },
  {
   "cell_type": "code",
   "execution_count": 7,
   "metadata": {},
   "outputs": [
    {
     "data": {
      "text/plain": [
       "561.11050605027879"
      ]
     },
     "execution_count": 7,
     "metadata": {},
     "output_type": "execute_result"
    }
   ],
   "source": [
    "(np.sort(distance))[0,2]"
   ]
  },
  {
   "cell_type": "code",
   "execution_count": 8,
   "metadata": {
    "collapsed": true
   },
   "outputs": [],
   "source": [
    "def rotate(angle,coords):\n",
    "    angle = np.pi*angle/180.\n",
    "    rotcoordx = []\n",
    "    rotcoordy = []\n",
    "    for coord in coords:\n",
    "        rotcoordx+=[coord[0]*np.cos(angle)-coord[1]*np.sin(angle)]\n",
    "        rotcoordy+=[coord[0]*np.sin(angle)+coord[1]*np.cos(angle)]\n",
    "    rotcoords=[rotcoordx,rotcoordy]\n",
    "    rotcoords=np.array(rotcoords).T   \n",
    "    return rotcoords \n",
    "    "
   ]
  },
  {
   "cell_type": "code",
   "execution_count": 9,
   "metadata": {},
   "outputs": [
    {
     "data": {
      "text/plain": [
       "<matplotlib.collections.PathCollection at 0x1f4d96b6be0>"
      ]
     },
     "execution_count": 9,
     "metadata": {},
     "output_type": "execute_result"
    },
    {
     "data": {
      "image/png": "[encoded data removed]",
      "text/plain": [
       "<matplotlib.figure.Figure at 0x1f4d9439f60>"
      ]
     },
     "metadata": {},
     "output_type": "display_data"
    }
   ],
   "source": [
    "#print rotate(254,coords)[:,0]\n",
    "plt.scatter(rotate(264,coords)[:,0],rotate(264,coords)[:,1])"
   ]
  },
  {
   "cell_type": "code",
   "execution_count": null,
   "metadata": {
    "collapsed": true
   },
   "outputs": [],
   "source": []
  },
  {
   "cell_type": "code",
   "execution_count": null,
   "metadata": {
    "collapsed": true
   },
   "outputs": [],
   "source": []
  }
 ],
 "metadata": {
  "kernelspec": {
   "display_name": "Python 3",
   "language": "python",
   "name": "python3"
  },
  "language_info": {
   "codemirror_mode": {
    "name": "ipython",
    "version": 3
   },
   "file_extension": ".py",
   "mimetype": "text/x-python",
   "name": "python",
   "nbconvert_exporter": "python",
   "pygments_lexer": "ipython3",
   "version": "3.6.3"
  }
 },
 "nbformat": 4,
 "nbformat_minor": 2
}
