{
 "cells": [
  {
   "cell_type": "code",
   "execution_count": 30,
   "metadata": {
    "collapsed": true
   },
   "outputs": [],
   "source": [
    "%matplotlib inline\n",
    "import scipy.special as sp\n",
    "import numpy as np\n",
    "import matplotlib.pyplot as plt\n",
    "import pandas as pd\n",
    "from scipy.optimize import minimize"
   ]
  },
  {
   "cell_type": "code",
   "execution_count": 90,
   "metadata": {
    "collapsed": true
   },
   "outputs": [],
   "source": [
    "# Parameters\n",
    "v0=8.0\n",
    "nwind = 33\n",
    "wind=np.arange(254,287)\n",
    "b=np.array((1,5,1000))"
   ]
  },
  {
   "cell_type": "code",
   "execution_count": 65,
   "metadata": {
    "collapsed": true
   },
   "outputs": [],
   "source": [
    "#Simple Attenuation fn\n",
    "def att(dist, ang, b):\n",
    "    # angular part\n",
    "    angular=np.where(b[1]*np.abs(ang)<np.pi/2.,np.square(np.cos(b[1]*ang)),0.)\n",
    "    #radial\n",
    "    radial=np.exp(-np.square(dist/b[2]))\n",
    "    return 1.0-b[0]*angular*radial"
   ]
  },
  {
   "cell_type": "code",
   "execution_count": 32,
   "metadata": {},
   "outputs": [
    {
     "data": {
      "text/plain": [
       "0.039565551245765218"
      ]
     },
     "execution_count": 32,
     "metadata": {},
     "output_type": "execute_result"
    }
   ],
   "source": []
  },
  {
   "cell_type": "code",
   "execution_count": 33,
   "metadata": {
    "scrolled": false
   },
   "outputs": [
    {
     "data": {
      "text/plain": [
       "6.5129137071193028"
      ]
     },
     "execution_count": 33,
     "metadata": {},
     "output_type": "execute_result"
    }
   ],
   "source": [
    "v=np.loadtxt('hornsrev_data_all.txt')\n",
    "\n",
    "vxref=v[:,3]\n",
    "vyref=v[:,4]\n",
    "angles=v[:,0]\n",
    "vmean=np.sqrt(np.square(vxref)+np.square(vyref))\n",
    "vmean=pd.DataFrame(vmean)\n",
    "vref=pd.DataFrame()\n",
    "vmean['angle']=angles\n",
    "vref=vref.append(vmean)\n",
    "vref=vref.groupby('angle')\n",
    "vref.groups\n",
    "vref.describe()\n",
    "vref.get_group(260).iat[50,0]\n",
    "#vref.iat[5,0]\n",
    "#vref.groupby('angle')\n"
   ]
  },
  {
   "cell_type": "code",
   "execution_count": 87,
   "metadata": {},
   "outputs": [
    {
     "data": {
      "text/plain": [
       "7.5954094255732185"
      ]
     },
     "execution_count": 87,
     "metadata": {},
     "output_type": "execute_result"
    }
   ],
   "source": [
    "vref.get_group(256).iat[0,0]"
   ]
  },
  {
   "cell_type": "code",
   "execution_count": 113,
   "metadata": {},
   "outputs": [
    {
     "data": {
      "text/plain": [
       "561.11050605027879"
      ]
     },
     "execution_count": 113,
     "metadata": {},
     "output_type": "execute_result"
    }
   ],
   "source": [
    "coords_in = np.loadtxt('coords.txt')\n",
    "#print(min(coords_in[:,0]), min(coords_in[:,1]))\n",
    "xmin = min(coords_in[:,0])\n",
    "ymin = min(coords_in[:,1])\n",
    "\n",
    "xzero = (max(coords_in[:,0])-xmin)/2\n",
    "yzero = (max(coords_in[:,1])-ymin)/2\n",
    "#print(xzero, yzero)\n",
    "\n",
    "coords_x=coords_in[:,0]-xzero-xmin\n",
    "coords_y=coords_in[:,1]-yzero-ymin\n",
    "coords=[coords_x,coords_y]\n",
    "coords=np.array(coords).T\n",
    "nturb=np.shape(coords)[0]\n",
    "#plt.scatter(coords[:,0], coords[:,1])\n",
    "\n",
    "#Arrays for pairwise distances and angles\n",
    "#Angle 0: x directıon. Angle pi/2: y directıon\n",
    "distance=np.zeros((nturb,nturb))\n",
    "angle=np.zeros((nturb,nturb))\n",
    "for i in range(0,nturb):\n",
    "    distance[i,:]=np.sqrt(np.square(coords[i,0]-coords[:,0])+np.square(coords[i,1]-coords[:,1]))\n",
    "    angle[i,:]=np.arctan2(coords[:,1]-coords[i,1],coords[:,0]-coords[i,0])\n",
    "#Rotate angles so that north=0 and convert to degrees\n",
    "angle=-np.rad2deg(angle)+270\n",
    "angle[0,1]\n",
    "\n",
    "#Rotating angles to wind direction\n",
    "windangle=5 #degrees\n",
    "rotangles=np.mod(angle-windangle+180,360)-180\n",
    "\n",
    "(np.sort(distance))[0,2]"
   ]
  },
  {
   "cell_type": "code",
   "execution_count": 119,
   "metadata": {},
   "outputs": [
    {
     "name": "stdout",
     "output_type": "stream",
     "text": [
      "Turbine 0 x -2728.5 y 1952.0\n",
      "Turbine 8 x -2168.5 y 1952.0\n",
      "0-8 dist 560.0 angle 270.0\n"
     ]
    }
   ],
   "source": [
    "i=0\n",
    "j=8\n",
    "print('Turbine {} x {} y {}'.format(i,coords[i,0],coords[i,1]))\n",
    "print('Turbine {} x {} y {}'.format(j,coords[j,0],coords[j,1]))\n",
    "print('{}-{} dist {} angle {}'.format(i,j,distance[i,j], angle[i,j]))"
   ]
  },
  {
   "cell_type": "code",
   "execution_count": 35,
   "metadata": {},
   "outputs": [
    {
     "data": {
      "text/plain": [
       "<matplotlib.collections.PathCollection at 0x22dcb11f470>"
      ]
     },
     "execution_count": 35,
     "metadata": {},
     "output_type": "execute_result"
    },
    {
     "data": {
      "image/png": "[encoded data removed]",
      "text/plain": [
       "<matplotlib.figure.Figure at 0x22dcb120da0>"
      ]
     },
     "metadata": {},
     "output_type": "display_data"
    }
   ],
   "source": [
    "def rotate(angle,coords):\n",
    "    angle = np.pi*angle/180.\n",
    "    rotcoordx = []\n",
    "    rotcoordy = []\n",
    "    for coord in coords:\n",
    "        rotcoordx+=[coord[0]*np.cos(angle)-coord[1]*np.sin(angle)]\n",
    "        rotcoordy+=[coord[0]*np.sin(angle)+coord[1]*np.cos(angle)]\n",
    "    rotcoords=[rotcoordx,rotcoordy]\n",
    "    rotcoords=np.array(rotcoords).T   \n",
    "    return rotcoords \n",
    "#print rotate(254,coords)[:,0]\n",
    "plt.scatter(rotate(264,coords)[:,0],rotate(264,coords)[:,1])"
   ]
  },
  {
   "cell_type": "code",
   "execution_count": 123,
   "metadata": {},
   "outputs": [],
   "source": [
    "#Total att\n",
    "def deviation(b):\n",
    "    total_att=np.ones((nturb,nwind))\n",
    "    deviation=0\n",
    "    for k in range(0,nwind):\n",
    "        for j in range(0,nturb):\n",
    "            for i in range(0,nturb):\n",
    "                if (i!=j):\n",
    "                    total_att[j,k] = total_att[j,k]*att(distance[i,j],np.mod(np.deg2rad(angle[i,j]-wind[k])+np.pi,np.pi*2)-np.pi,b)\n",
    " #           print('{0} {1} {2}'.format(j,wind[k],total_att[j,k]))\n",
    "            deviation=deviation+np.square(vref.get_group(wind[k]).iat[j,0]-v0*total_att[j,k])\n",
    "    return deviation"
   ]
  },
  {
   "cell_type": "code",
   "execution_count": 121,
   "metadata": {},
   "outputs": [
    {
     "name": "stdout",
     "output_type": "stream",
     "text": [
      "[[  1.00000000e+00   1.00000000e+00   1.00000000e+00 ...,   1.41253439e-01\n",
      "    1.60273696e-01   0.00000000e+00]\n",
      " [  1.00000000e+00   1.00000000e+00   1.00000000e+00 ...,   1.60041615e-01\n",
      "    1.77351631e-01   1.95918957e-01]\n",
      " [  1.00000000e+00   1.00000000e+00   1.00000000e+00 ...,   2.14355668e-01\n",
      "    2.26899828e-01   2.41161173e-01]\n",
      " ..., \n",
      " [  1.00000000e+00   1.00000000e+00   1.00000000e+00 ...,   1.84220905e-01\n",
      "    1.84427755e-01   1.87520082e-01]\n",
      " [  1.00000000e+00   1.00000000e+00   1.00000000e+00 ...,   9.38217327e-02\n",
      "    1.02820739e-01   1.13631489e-01]\n",
      " [  0.00000000e+00   7.51689487e-04   3.00336942e-03 ...,   6.14842818e-02\n",
      "    7.39187328e-02   8.76679289e-02]]\n"
     ]
    },
    {
     "data": {
      "image/png": "[encoded data removed]",
      "text/plain": [
       "<matplotlib.figure.Figure at 0x22dcb145f98>"
      ]
     },
     "metadata": {},
     "output_type": "display_data"
    }
   ],
   "source": [
    "#Plot attenuation\n",
    "xsamp = np.linspace(min(coords_x), max(coords_x), 200)\n",
    "ysamp = np.linspace(min(coords_y), max(coords_y), 200)\n",
    "\n",
    "x,y = np.meshgrid(xsamp,ysamp)\n",
    "distances=np.empty_like(x)\n",
    "angles=np.empty_like(x)\n",
    "values=np.empty_like(x)\n",
    "values=1.0\n",
    "\n",
    "for j in range(0,nturb):\n",
    "    distances=np.sqrt(np.square(coords[j,0]-x)+np.square(coords[j,1]-y))\n",
    "    angles=np.arctan2(y-coords[j,1],x-coords[j,0])+0/180*np.pi\n",
    "    values = values*att(distances,angles,b) #np.mod(angles-wind[k]+np.pi,np.pi*2)-np.pi,b)\n",
    "\n",
    "print(values)\n",
    "\n",
    "#-- Plot... ------------------------------------------------\n",
    "fig, ax = plt.subplots()\n",
    "ax.contourf(x, y, values)\n",
    "\n",
    "plt.show()"
   ]
  },
  {
   "cell_type": "code",
   "execution_count": 129,
   "metadata": {
    "scrolled": false
   },
   "outputs": [],
   "source": [
    "res=minimize(deviation,b)"
   ]
  },
  {
   "cell_type": "code",
   "execution_count": 46,
   "metadata": {},
   "outputs": [
    {
     "data": {
      "image/png": "[encoded data removed]",
      "text/plain": [
       "<matplotlib.figure.Figure at 0x22dcb60cda0>"
      ]
     },
     "metadata": {},
     "output_type": "display_data"
    }
   ],
   "source": [
    "azimuths = np.radians(np.linspace(-180, 180, 360))\n",
    "zeniths = np.arange(0, 100, .1)\n",
    "\n",
    "r, theta = np.meshgrid(zeniths, azimuths)\n",
    "values = att(r,theta,b)\n",
    "\n",
    "#-- Plot... ------------------------------------------------\n",
    "fig, ax = plt.subplots(subplot_kw=dict(projection='polar'))\n",
    "ax.contourf(theta, r, values)\n",
    "\n",
    "plt.show()"
   ]
  },
  {
   "cell_type": "code",
   "execution_count": 130,
   "metadata": {},
   "outputs": [
    {
     "data": {
      "text/plain": [
       "      fun: 693.2520043125913\n",
       " hess_inv: array([[  6.97609098e-06,   2.11229316e-04,  -2.77146380e-02],\n",
       "       [  2.11229316e-04,   2.54103467e-02,   3.17495730e+00],\n",
       "       [ -2.77146380e-02,   3.17495730e+00,   1.43997108e+03]])\n",
       "      jac: array([  1.92787170e-01,  -2.21252441e-03,   2.28881836e-05])\n",
       "  message: 'Desired error not necessarily achieved due to precision loss.'\n",
       "     nfev: 607\n",
       "      nit: 40\n",
       "     njev: 119\n",
       "   status: 2\n",
       "  success: False\n",
       "        x: array([  1.40002561e-01,   8.51478121e+00,   2.62606729e+03])"
      ]
     },
     "execution_count": 130,
     "metadata": {},
     "output_type": "execute_result"
    }
   ],
   "source": [
    "res"
   ]
  },
  {
   "cell_type": "code",
   "execution_count": null,
   "metadata": {
    "collapsed": true
   },
   "outputs": [],
   "source": []
  }
 ],
 "metadata": {
  "kernelspec": {
   "display_name": "Python 3",
   "language": "python",
   "name": "python3"
  },
  "language_info": {
   "codemirror_mode": {
    "name": "ipython",
    "version": 3
   },
   "file_extension": ".py",
   "mimetype": "text/x-python",
   "name": "python",
   "nbconvert_exporter": "python",
   "pygments_lexer": "ipython3",
   "version": "3.6.3"
  }
 },
 "nbformat": 4,
 "nbformat_minor": 2
}
