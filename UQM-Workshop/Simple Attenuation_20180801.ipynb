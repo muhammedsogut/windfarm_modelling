{
 "cells": [
  {
   "cell_type": "code",
   "execution_count": 14,
   "metadata": {
    "collapsed": true
   },
   "outputs": [],
   "source": [
    "%matplotlib inline\n",
    "import scipy.special as sp\n",
    "import numpy as np\n",
    "import matplotlib.pyplot as plt\n",
    "import pandas as pd\n",
    "from scipy.optimize import minimize,least_squares"
   ]
  },
  {
   "cell_type": "code",
   "execution_count": 2,
   "metadata": {
    "collapsed": true
   },
   "outputs": [],
   "source": [
    "# Parameters\n",
    "v0=8.0\n",
    "nwind = 33\n",
    "wind=np.arange(254,287)\n",
    "#b=np.array((1,5,1000))\n",
    "b=np.array(( 1.40002561e-01,   8.51478121e+00,   2.62606729e+03))"
   ]
  },
  {
   "cell_type": "code",
   "execution_count": 3,
   "metadata": {
    "collapsed": true
   },
   "outputs": [],
   "source": [
    "#Simple Attenuation fn\n",
    "def att(dist, ang, b):\n",
    "    # angular part\n",
    "    angular=np.where(b[1]*np.abs(ang)<np.pi/2.,np.square(np.cos(b[1]*ang)),0.)\n",
    "    #radial\n",
    "    radial=np.exp(-np.square(dist/b[2]))\n",
    "    return 1.0-b[0]*angular*radial"
   ]
  },
  {
   "cell_type": "code",
   "execution_count": 4,
   "metadata": {
    "scrolled": false
   },
   "outputs": [
    {
     "data": {
      "text/plain": [
       "6.512913707119303"
      ]
     },
     "execution_count": 4,
     "metadata": {},
     "output_type": "execute_result"
    }
   ],
   "source": [
    "#Loading the wind velocities for each wind turbine and each angle from CFD data\n",
    "v=np.loadtxt('hornsrev_data_all.txt')\n",
    "vxref=v[:,3]\n",
    "vyref=v[:,4]\n",
    "angles=v[:,0]\n",
    "#Calculating the mean wind velocities from x and y coordinates\n",
    "vmean=np.sqrt(np.square(vxref)+np.square(vyref))\n",
    "vmean=pd.DataFrame(vmean)\n",
    "vref=pd.DataFrame()\n",
    "vmean['angle']=angles\n",
    "vref=vref.append(vmean)\n",
    "#Seperating the wind speed appropriate to the wind angles\n",
    "vref=vref.groupby('angle')\n",
    "vref.groups\n",
    "vref.describe()\n",
    "#vref.get_group(260).iat[50,0]\n",
    "#vref.iat[5,0]\n",
    "#vref.groupby('angle')\n"
   ]
  },
  {
   "cell_type": "code",
   "execution_count": 7,
   "metadata": {},
   "outputs": [
    {
     "data": {
      "text/plain": [
       "561.1105060502788"
      ]
     },
     "execution_count": 7,
     "metadata": {},
     "output_type": "execute_result"
    }
   ],
   "source": [
    "#Loading the coordinates of each wind turbine \n",
    "coords_in = np.loadtxt('coords.txt')\n",
    "#Calculating the min points of the wind turbines\n",
    "xmin = min(coords_in[:,0])\n",
    "ymin = min(coords_in[:,1])\n",
    "#Finding a central point for whole wind farm\n",
    "xzero = (max(coords_in[:,0])-xmin)/2\n",
    "yzero = (max(coords_in[:,1])-ymin)/2\n",
    "#print(xzero, yzero)\n",
    "#Putting wind turbines appropriate to the new centre point\n",
    "coords_x=coords_in[:,0]-xzero-xmin\n",
    "coords_y=coords_in[:,1]-yzero-ymin\n",
    "coords=[coords_x,coords_y]\n",
    "coords=np.array(coords).T\n",
    "nturb=np.shape(coords)[0]\n",
    "#plt.scatter(coords[:,0], coords[:,1])\n",
    "\n",
    "#Arrays for pairwise distances and angles\n",
    "#Angle 0: x direction. Angle pi/2: y direction\n",
    "distance=np.zeros((nturb,nturb))\n",
    "angle=np.zeros((nturb,nturb))\n",
    "for i in range(0,nturb):\n",
    "    distance[i,:]=np.sqrt(np.square(coords[i,0]-coords[:,0])+np.square(coords[i,1]-coords[:,1]))\n",
    "    angle[i,:]=np.arctan2(coords[:,1]-coords[i,1],coords[:,0]-coords[i,0])\n",
    "#Rotate angles so that north=0 and convert to degrees\n",
    "angle=-np.rad2deg(angle)+270\n",
    "angle[0,1]\n",
    "\n",
    "#Rotating angles to wind direction\n",
    "windangle=5 #degrees\n",
    "rotangles=np.mod(angle-windangle+180,360)-180\n",
    "\n",
    "(np.sort(distance))[0,2]"
   ]
  },
  {
   "cell_type": "code",
   "execution_count": 8,
   "metadata": {},
   "outputs": [
    {
     "name": "stdout",
     "output_type": "stream",
     "text": [
      "Turbine 0 x -2728.5 y 1952.0\n",
      "Turbine 8 x -2168.5 y 1952.0\n",
      "0-8 dist 560.0 angle 270.0\n"
     ]
    }
   ],
   "source": [
    "i=0\n",
    "j=8\n",
    "print('Turbine {} x {} y {}'.format(i,coords[i,0],coords[i,1]))\n",
    "print('Turbine {} x {} y {}'.format(j,coords[j,0],coords[j,1]))\n",
    "print('{}-{} dist {} angle {}'.format(i,j,distance[i,j], angle[i,j]))"
   ]
  },
  {
   "cell_type": "code",
   "execution_count": 9,
   "metadata": {},
   "outputs": [
    {
     "data": {
      "text/plain": [
       "<matplotlib.collections.PathCollection at 0x1077fa8d0>"
      ]
     },
     "execution_count": 9,
     "metadata": {},
     "output_type": "execute_result"
    },
    {
     "data": {
      "image/png": "[encoded data removed]",
      "text/plain": [
       "<Figure size 432x288 with 1 Axes>"
      ]
     },
     "metadata": {},
     "output_type": "display_data"
    }
   ],
   "source": [
    "def rotate(angle,coords):\n",
    "    angle = np.pi*angle/180.\n",
    "    rotcoordx = []\n",
    "    rotcoordy = []\n",
    "    for coord in coords:\n",
    "        rotcoordx+=[coord[0]*np.cos(angle)-coord[1]*np.sin(angle)]\n",
    "        rotcoordy+=[coord[0]*np.sin(angle)+coord[1]*np.cos(angle)]\n",
    "    rotcoords=[rotcoordx,rotcoordy]\n",
    "    rotcoords=np.array(rotcoords).T   \n",
    "    return rotcoords \n",
    "#print rotate(254,coords)[:,0]\n",
    "plt.scatter(rotate(264,coords)[:,0],rotate(264,coords)[:,1])"
   ]
  },
  {
   "cell_type": "code",
   "execution_count": 10,
   "metadata": {
    "collapsed": true
   },
   "outputs": [],
   "source": [
    "#Total att\n",
    "def deviation(b):\n",
    "    total_att=np.ones((nturb,nwind))\n",
    "    deviation=0\n",
    "    for k in range(0,nwind):\n",
    "        for j in range(0,nturb):\n",
    "            for i in range(0,nturb):\n",
    "                if (i!=j):\n",
    "                    total_att[j,k] = total_att[j,k]*att(distance[i,j],np.mod(np.deg2rad(angle[i,j]-wind[k])+np.pi,np.pi*2)-np.pi,b)\n",
    " #           print('{0} {1} {2}'.format(j,wind[k],total_att[j,k]))\n",
    "            deviation=deviation+np.square(vref.get_group(wind[k]).iat[j,0]-v0*total_att[j,k])\n",
    "    return deviation"
   ]
  },
  {
   "cell_type": "code",
   "execution_count": 13,
   "metadata": {
    "collapsed": true
   },
   "outputs": [],
   "source": [
    "#Total att\n",
    "def deviation_sq(b):\n",
    "    total_att=np.ones((nturb,nwind))\n",
    "    dev_vec=np.zeros((nturb*nwind))\n",
    "    for k in range(0,nwind):\n",
    "        for j in range(0,nturb):\n",
    "            for i in range(0,nturb):\n",
    "                if (i!=j):\n",
    "                    total_att[j,k] = total_att[j,k]*att(distance[i,j],np.mod(np.deg2rad(angle[i,j]-wind[k])+np.pi,np.pi*2)-np.pi,b)\n",
    " #           print('{0} {1} {2}'.format(j,wind[k],total_att[j,k]))\n",
    "            dev_vec[nturb*k+j]=(vref.get_group(wind[k]).iat[j,0]-v0*total_att[j,k])\n",
    "    return dev_vec"
   ]
  },
  {
   "cell_type": "code",
   "execution_count": 11,
   "metadata": {},
   "outputs": [
    {
     "name": "stdout",
     "output_type": "stream",
     "text": [
      "[[1.         1.         1.         ... 0.57421312 0.57835346 0.50096564]\n",
      " [1.         1.         1.         ... 0.58587949 0.58899062 0.59225709]\n",
      " [1.         1.         1.         ... 0.61844562 0.61914042 0.62021525]\n",
      " ...\n",
      " [1.         1.         1.         ... 0.62159613 0.61933755 0.61778019]\n",
      " [1.         1.         1.         ... 0.57189015 0.57355987 0.57564542]\n",
      " [0.85999744 0.8600127  0.86005849 ... 0.55131572 0.55536028 0.55943108]]\n"
     ]
    },
    {
     "data": {
      "image/png": "[encoded data removed]",
      "text/plain": [
       "<Figure size 432x288 with 1 Axes>"
      ]
     },
     "metadata": {},
     "output_type": "display_data"
    }
   ],
   "source": [
    "#Plot attenuation\n",
    "xsamp = np.linspace(min(coords_x), max(coords_x), 200)\n",
    "ysamp = np.linspace(min(coords_y), max(coords_y), 200)\n",
    "\n",
    "x,y = np.meshgrid(xsamp,ysamp)\n",
    "distances=np.empty_like(x)\n",
    "angles=np.empty_like(x)\n",
    "values=np.empty_like(x)\n",
    "values=1.0\n",
    "\n",
    "for j in range(0,nturb):\n",
    "    distances=np.sqrt(np.square(coords[j,0]-x)+np.square(coords[j,1]-y))\n",
    "    angles=np.arctan2(y-coords[j,1],x-coords[j,0])+0/180*np.pi\n",
    "    values = values*att(distances,angles,b) #np.mod(angles-wind[k]+np.pi,np.pi*2)-np.pi,b)\n",
    "\n",
    "print(values)\n",
    "\n",
    "#-- Plot... ------------------------------------------------\n",
    "fig, ax = plt.subplots()\n",
    "ax.contourf(x, y, values)\n",
    "\n",
    "plt.show()"
   ]
  },
  {
   "cell_type": "code",
   "execution_count": 129,
   "metadata": {
    "collapsed": true,
    "scrolled": false
   },
   "outputs": [],
   "source": [
    "#Unconstrained minimisation\n",
    "res=minimize(deviation,b)\n"
   ]
  },
  {
   "cell_type": "code",
   "execution_count": 15,
   "metadata": {
    "collapsed": true
   },
   "outputs": [],
   "source": [
    "#Least squares minimisation\n",
    "lsq=least_squares(deviation_sq,b,method='lm')"
   ]
  },
  {
   "cell_type": "code",
   "execution_count": 12,
   "metadata": {},
   "outputs": [
    {
     "data": {
      "image/png": "[encoded data removed]",
      "text/plain": [
       "<Figure size 432x288 with 1 Axes>"
      ]
     },
     "metadata": {},
     "output_type": "display_data"
    }
   ],
   "source": [
    "azimuths = np.radians(np.linspace(-180, 180, 360))\n",
    "zeniths = np.arange(0, 100, .1)\n",
    "\n",
    "r, theta = np.meshgrid(zeniths, azimuths)\n",
    "values = att(r,theta,b)\n",
    "\n",
    "#-- Plot... ------------------------------------------------\n",
    "fig, ax = plt.subplots(subplot_kw=dict(projection='polar'))\n",
    "ax.contourf(theta, r, values)\n",
    "\n",
    "plt.show()"
   ]
  },
  {
   "cell_type": "code",
   "execution_count": 16,
   "metadata": {},
   "outputs": [
    {
     "data": {
      "text/plain": [
       " active_mask: array([0, 0, 0])\n",
       "        cost: 346.62600152398227\n",
       "         fun: array([-0.43111623, -0.23196619, -0.46045137, ..., -0.14973647,\n",
       "       -0.31511648, -0.31754505])\n",
       "        grad: array([ 3.77098865e-03, -1.64768308e-03, -4.17687333e-07])\n",
       "         jac: array([[ 0.00000000e+00,  0.00000000e+00,  0.00000000e+00],\n",
       "       [ 0.00000000e+00,  0.00000000e+00,  0.00000000e+00],\n",
       "       [ 0.00000000e+00,  0.00000000e+00,  0.00000000e+00],\n",
       "       ...,\n",
       "       [ 1.11185350e+01, -1.69012193e-01,  1.35304027e-03],\n",
       "       [ 1.11116172e+01, -1.68967333e-01,  1.35201293e-03],\n",
       "       [ 1.11257356e+01, -1.70529929e-01,  1.35145501e-03]])\n",
       "     message: '`ftol` termination condition is satisfied.'\n",
       "        nfev: 5\n",
       "        njev: None\n",
       "  optimality: 0.0037709886544234905\n",
       "      status: 2\n",
       "     success: True\n",
       "           x: array([1.39998719e-01, 8.51483871e+00, 2.62613638e+03])"
      ]
     },
     "execution_count": 16,
     "metadata": {},
     "output_type": "execute_result"
    }
   ],
   "source": [
    "lsq"
   ]
  },
  {
   "cell_type": "code",
   "execution_count": 17,
   "metadata": {},
   "outputs": [
    {
     "data": {
      "text/plain": [
       "array([1.40002561e-01, 8.51478121e+00, 2.62606729e+03])"
      ]
     },
     "execution_count": 17,
     "metadata": {},
     "output_type": "execute_result"
    }
   ],
   "source": [
    "b"
   ]
  },
  {
   "cell_type": "code",
   "execution_count": 21,
   "metadata": {
    "collapsed": true
   },
   "outputs": [],
   "source": [
    "res=np.reshape(lsq.fun,(nwind,nturb))"
   ]
  },
  {
   "cell_type": "code",
   "execution_count": 22,
   "metadata": {},
   "outputs": [
    {
     "name": "stdout",
     "output_type": "stream",
     "text": [
      "[[-0.43111623 -0.23196619 -0.46045137 ... -0.0982205  -0.33481943\n",
      "  -0.68489314]\n",
      " [-0.42325345 -0.38578134 -0.41003802 ... -0.22453381 -0.38894206\n",
      "  -0.53253668]\n",
      " [-0.40459057 -0.34337667 -0.42120008 ... -0.15328012 -0.52330292\n",
      "  -0.53868485]\n",
      " ...\n",
      " [-0.23622915 -0.58586897 -0.29943877 ... -0.1556825  -0.40571253\n",
      "  -0.38158218]\n",
      " [-0.21666345 -0.59795412 -0.46821978 ... -0.23238497 -0.33453279\n",
      "  -0.32573417]\n",
      " [-0.23560898 -0.61350412 -0.48893564 ... -0.14973647 -0.31511648\n",
      "  -0.31754505]]\n"
     ]
    }
   ],
   "source": [
    "print res"
   ]
  },
  {
   "cell_type": "code",
   "execution_count": null,
   "metadata": {
    "collapsed": true
   },
   "outputs": [],
   "source": []
  }
 ],
 "metadata": {
  "kernelspec": {
   "display_name": "Python 3",
   "language": "python",
   "name": "python3"
  },
  "language_info": {
   "codemirror_mode": {
    "name": "ipython",
    "version": 3
   },
   "file_extension": ".py",
   "mimetype": "text/x-python",
   "name": "python",
   "nbconvert_exporter": "python",
   "pygments_lexer": "ipython3",
   "version": "3.6.3"
  }
 },
 "nbformat": 4,
 "nbformat_minor": 2
}
