{
 "cells": [
  {
   "cell_type": "code",
   "execution_count": 2,
   "metadata": {},
   "outputs": [],
   "source": [
    "import pandas as pd\n",
    "import numpy as np\n",
    "import matplotlib.pyplot as plt\n",
    "\n",
    "t=np.array([[None,None,None,None,None]], dtype=np.float)\n",
    "data=pd.DataFrame()\n",
    "for distance in range(3,8,1): \n",
    "    for velocity in range(4,20,2):\n",
    "        for angle in range(240,301,1):\n",
    "            df=pd.read_csv('turbine_%sp00_%sp00_report_%sD.csv' %(angle, velocity, distance) , sep=' ', header=None)\n",
    "            df=df.tail(1)\n",
    "            df=pd.melt(df)\n",
    "            df=df.dropna()\n",
    "            a=df.to_numpy(dtype=np.float)\n",
    "            a=a[:,1]\n",
    "            pri=np.array([[distance, velocity, angle,a[19],a[22]]])\n",
    "            t=np.concatenate((t,pri), axis=0)\n",
    "            t=np.delete(t,0,0)\n",
    "            data=data.append(pd.DataFrame(t))\n",
    "data=data.rename(columns={0: \"Spacing\", 1: \"Wind Speed\", 2: \"Wind Direction\", 3: \"T1 Uref\", 4: \"T2 Uref\"})"
   ]
  },
  {
   "cell_type": "code",
   "execution_count": 34,
   "metadata": {},
   "outputs": [
    {
     "data": {
      "text/html": [
       "<div>\n",
       "<style scoped>\n",
       "    .dataframe tbody tr th:only-of-type {\n",
       "        vertical-align: middle;\n",
       "    }\n",
       "\n",
       "    .dataframe tbody tr th {\n",
       "        vertical-align: top;\n",
       "    }\n",
       "\n",
       "    .dataframe thead th {\n",
       "        text-align: right;\n",
       "    }\n",
       "</style>\n",
       "<table border=\"1\" class=\"dataframe\">\n",
       "  <thead>\n",
       "    <tr style=\"text-align: right;\">\n",
       "      <th></th>\n",
       "      <th>spacing</th>\n",
       "      <th>speed</th>\n",
       "      <th>direction</th>\n",
       "      <th>t1</th>\n",
       "      <th>t2</th>\n",
       "      <th>x</th>\n",
       "      <th>y</th>\n",
       "    </tr>\n",
       "  </thead>\n",
       "  <tbody>\n",
       "    <tr>\n",
       "      <th>0</th>\n",
       "      <td>3.0</td>\n",
       "      <td>20.0</td>\n",
       "      <td>240.0</td>\n",
       "      <td>19.273067</td>\n",
       "      <td>19.239824</td>\n",
       "      <td>241.621088</td>\n",
       "      <td>-139.500000</td>\n",
       "    </tr>\n",
       "    <tr>\n",
       "      <th>0</th>\n",
       "      <td>3.0</td>\n",
       "      <td>20.0</td>\n",
       "      <td>241.0</td>\n",
       "      <td>19.271507</td>\n",
       "      <td>19.239424</td>\n",
       "      <td>244.018898</td>\n",
       "      <td>-135.261884</td>\n",
       "    </tr>\n",
       "    <tr>\n",
       "      <th>0</th>\n",
       "      <td>3.0</td>\n",
       "      <td>20.0</td>\n",
       "      <td>242.0</td>\n",
       "      <td>19.269062</td>\n",
       "      <td>19.238682</td>\n",
       "      <td>246.342378</td>\n",
       "      <td>-130.982566</td>\n",
       "    </tr>\n",
       "    <tr>\n",
       "      <th>0</th>\n",
       "      <td>3.0</td>\n",
       "      <td>20.0</td>\n",
       "      <td>243.0</td>\n",
       "      <td>19.255991</td>\n",
       "      <td>19.240416</td>\n",
       "      <td>248.590820</td>\n",
       "      <td>-126.663349</td>\n",
       "    </tr>\n",
       "    <tr>\n",
       "      <th>0</th>\n",
       "      <td>3.0</td>\n",
       "      <td>20.0</td>\n",
       "      <td>244.0</td>\n",
       "      <td>19.249039</td>\n",
       "      <td>19.236456</td>\n",
       "      <td>250.763539</td>\n",
       "      <td>-122.305550</td>\n",
       "    </tr>\n",
       "    <tr>\n",
       "      <th>...</th>\n",
       "      <td>...</td>\n",
       "      <td>...</td>\n",
       "      <td>...</td>\n",
       "      <td>...</td>\n",
       "      <td>...</td>\n",
       "      <td>...</td>\n",
       "      <td>...</td>\n",
       "    </tr>\n",
       "    <tr>\n",
       "      <th>0</th>\n",
       "      <td>7.0</td>\n",
       "      <td>20.0</td>\n",
       "      <td>296.0</td>\n",
       "      <td>19.271261</td>\n",
       "      <td>19.232029</td>\n",
       "      <td>585.114924</td>\n",
       "      <td>285.379617</td>\n",
       "    </tr>\n",
       "    <tr>\n",
       "      <th>0</th>\n",
       "      <td>7.0</td>\n",
       "      <td>20.0</td>\n",
       "      <td>297.0</td>\n",
       "      <td>19.275078</td>\n",
       "      <td>19.235327</td>\n",
       "      <td>580.045247</td>\n",
       "      <td>295.547815</td>\n",
       "    </tr>\n",
       "    <tr>\n",
       "      <th>0</th>\n",
       "      <td>7.0</td>\n",
       "      <td>20.0</td>\n",
       "      <td>298.0</td>\n",
       "      <td>19.284533</td>\n",
       "      <td>19.235987</td>\n",
       "      <td>574.798883</td>\n",
       "      <td>305.625987</td>\n",
       "    </tr>\n",
       "    <tr>\n",
       "      <th>0</th>\n",
       "      <td>7.0</td>\n",
       "      <td>20.0</td>\n",
       "      <td>299.0</td>\n",
       "      <td>19.285231</td>\n",
       "      <td>19.238787</td>\n",
       "      <td>569.377429</td>\n",
       "      <td>315.611063</td>\n",
       "    </tr>\n",
       "    <tr>\n",
       "      <th>0</th>\n",
       "      <td>7.0</td>\n",
       "      <td>20.0</td>\n",
       "      <td>300.0</td>\n",
       "      <td>19.288784</td>\n",
       "      <td>19.241396</td>\n",
       "      <td>563.782538</td>\n",
       "      <td>325.500000</td>\n",
       "    </tr>\n",
       "  </tbody>\n",
       "</table>\n",
       "<p>305 rows × 7 columns</p>\n",
       "</div>"
      ],
      "text/plain": [
       "    spacing  speed  direction         t1         t2           x           y\n",
       "0       3.0   20.0      240.0  19.273067  19.239824  241.621088 -139.500000\n",
       "0       3.0   20.0      241.0  19.271507  19.239424  244.018898 -135.261884\n",
       "0       3.0   20.0      242.0  19.269062  19.238682  246.342378 -130.982566\n",
       "0       3.0   20.0      243.0  19.255991  19.240416  248.590820 -126.663349\n",
       "0       3.0   20.0      244.0  19.249039  19.236456  250.763539 -122.305550\n",
       "..      ...    ...        ...        ...        ...         ...         ...\n",
       "0       7.0   20.0      296.0  19.271261  19.232029  585.114924  285.379617\n",
       "0       7.0   20.0      297.0  19.275078  19.235327  580.045247  295.547815\n",
       "0       7.0   20.0      298.0  19.284533  19.235987  574.798883  305.625987\n",
       "0       7.0   20.0      299.0  19.285231  19.238787  569.377429  315.611063\n",
       "0       7.0   20.0      300.0  19.288784  19.241396  563.782538  325.500000\n",
       "\n",
       "[305 rows x 7 columns]"
      ]
     },
     "execution_count": 34,
     "metadata": {},
     "output_type": "execute_result"
    }
   ],
   "source": [
    "import pandas as pd\n",
    "import numpy as np\n",
    "import matplotlib.pyplot as plt\n",
    "\n",
    "t=np.array([[None,None,None,None,None, None, None]], dtype=np.float)\n",
    "data=pd.DataFrame()\n",
    "for distance in range(3,8,1): \n",
    "    for velocity in range(20,21,2):\n",
    "        for angle in range(240,301,1):\n",
    "            df=pd.read_csv('turbine_%sp00_%sp00_report_%sD.csv' %(angle, velocity, distance) , sep=' ', header=None)\n",
    "            df=df.tail(1)\n",
    "            df=pd.melt(df)\n",
    "            df=df.dropna()\n",
    "            a=df.to_numpy(dtype=np.float)\n",
    "            a=a[:,1]\n",
    "            x=(np.cos(np.radians(angle-270)))*distance*93\n",
    "            y=(np.sin(np.radians(angle-270)))*distance*93\n",
    "            pri=np.array([[distance, velocity, angle,a[19],a[22], x, y]])\n",
    "            t=np.concatenate((t,pri), axis=0)\n",
    "            t=np.delete(t,0,0)\n",
    "            data=data.append(pd.DataFrame(t))\n",
    "data=data.rename(columns={0: \"spacing\", 1: \"speed\", 2: \"direction\", 3: \"t1\", 4: \"t2\", 5: \"x\", 6:\"y\"})\n",
    "data"
   ]
  },
  {
   "cell_type": "code",
   "execution_count": 2,
   "metadata": {},
   "outputs": [
    {
     "ename": "NameError",
     "evalue": "name 't1' is not defined",
     "output_type": "error",
     "traceback": [
      "\u001b[0;31m---------------------------------------------------------------------------\u001b[0m",
      "\u001b[0;31mNameError\u001b[0m                                 Traceback (most recent call last)",
      "\u001b[0;32m<ipython-input-2-95ae91e3a7f9>\u001b[0m in \u001b[0;36m<module>\u001b[0;34m\u001b[0m\n\u001b[0;32m----> 1\u001b[0;31m \u001b[0mtp\u001b[0m\u001b[0;34m=\u001b[0m\u001b[0mt1\u001b[0m\u001b[0;34m.\u001b[0m\u001b[0mto_numpy\u001b[0m\u001b[0;34m(\u001b[0m\u001b[0mdtype\u001b[0m\u001b[0;34m=\u001b[0m\u001b[0mnp\u001b[0m\u001b[0;34m.\u001b[0m\u001b[0mfloat\u001b[0m\u001b[0;34m)\u001b[0m\u001b[0;34m\u001b[0m\u001b[0;34m\u001b[0m\u001b[0m\n\u001b[0m\u001b[1;32m      2\u001b[0m \u001b[0mtp\u001b[0m\u001b[0;34m[\u001b[0m\u001b[0;36m60\u001b[0m\u001b[0;34m]\u001b[0m\u001b[0;34m\u001b[0m\u001b[0;34m\u001b[0m\u001b[0m\n",
      "\u001b[0;31mNameError\u001b[0m: name 't1' is not defined"
     ]
    }
   ],
   "source": [
    "tp=t1.to_numpy(dtype=np.float)\n",
    "tp[60]"
   ]
  },
  {
   "cell_type": "code",
   "execution_count": 35,
   "metadata": {},
   "outputs": [
    {
     "data": {
      "image/png": "[encoded data removed]",
      "text/plain": [
       "<Figure size 432x288 with 1 Axes>"
      ]
     },
     "metadata": {
      "needs_background": "light"
     },
     "output_type": "display_data"
    }
   ],
   "source": [
    "threefour=data[:61]\n",
    "t1=threefour['t1']\n",
    "t2=threefour['t2']\n",
    "fig, ax = plt.subplots()\n",
    "ax.scatter((threefour['direction']-270),t1, marker='x')\n",
    "ax.scatter((threefour['direction']-270),t2, marker='.')\n",
    "turb1,=plt.plot((threefour['direction']-270),t1, marker='x')\n",
    "turb2,=plt.plot((threefour['direction']-270),t2, marker='.')\n",
    "plt.ylabel('Reference Wind Speed')\n",
    "plt.xlabel('Wind Direction')\n",
    "plt.title('3 Diameter Distance, 20 m/s windspeed')\n",
    "plt.legend((turb2,turb1),('Turbine_1','Turbine_2'))\n",
    "#def clear_line(turb1):\n",
    "#lines.pop(turb1).remove()\n",
    "plt.grid()    \n",
    "#plt.plot(diff[0,:],diff[1,:])\n",
    "plt.show()\n",
    "#plt.clr()"
   ]
  },
  {
   "cell_type": "code",
   "execution_count": 45,
   "metadata": {},
   "outputs": [
    {
     "data": {
      "text/plain": [
       "[<matplotlib.lines.Line2D at 0x11fbe3510>]"
      ]
     },
     "execution_count": 45,
     "metadata": {},
     "output_type": "execute_result"
    },
    {
     "data": {
      "image/png": "[encoded data removed]",
      "text/plain": [
       "<Figure size 432x288 with 1 Axes>"
      ]
     },
     "metadata": {
      "needs_background": "light"
     },
     "output_type": "display_data"
    }
   ],
   "source": [
    "a=np.array([None], dtype=np.float)\n",
    "for i in range (0,30,1):\n",
    "    d=np.array([tp[i]-tp[60-i]])\n",
    "    a=np.concatenate((a,d),axis=0)\n",
    "a=np.delete(a,0,0)\n",
    "plt.plot(a)"
   ]
  },
  {
   "cell_type": "code",
   "execution_count": null,
   "metadata": {},
   "outputs": [],
   "source": []
  }
 ],
 "metadata": {
  "kernelspec": {
   "display_name": "Python 3 (ipykernel)",
   "language": "python",
   "name": "python3"
  },
  "language_info": {
   "codemirror_mode": {
    "name": "ipython",
    "version": 3
   },
   "file_extension": ".py",
   "mimetype": "text/x-python",
   "name": "python",
   "nbconvert_exporter": "python",
   "pygments_lexer": "ipython3",
   "version": "3.9.10"
  }
 },
 "nbformat": 4,
 "nbformat_minor": 4
}
