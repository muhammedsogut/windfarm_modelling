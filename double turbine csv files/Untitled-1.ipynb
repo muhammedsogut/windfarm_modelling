{
 "cells": [
  {
   "cell_type": "code",
   "execution_count": 6,
   "metadata": {},
   "outputs": [
    {
     "ename": "SyntaxError",
     "evalue": "invalid syntax (<ipython-input-6-30f821a97832>, line 7)",
     "output_type": "error",
     "traceback": [
      "\u001b[0;36m  File \u001b[0;32m\"<ipython-input-6-30f821a97832>\"\u001b[0;36m, line \u001b[0;32m7\u001b[0m\n\u001b[0;31m    df=pd.read_csv(%s'_degrees' %(angle)/'turbine_%sp00_10p00_report.csv' %(angle) , sep=' ', header=None)\u001b[0m\n\u001b[0m                   ^\u001b[0m\n\u001b[0;31mSyntaxError\u001b[0m\u001b[0;31m:\u001b[0m invalid syntax\n"
     ]
    }
   ],
   "source": "import pandas as pd\nimport numpy as np\nimport matplotlib.pyplot as plt\nt1=np.array([[None,None]], dtype=np.float)\nt2=np.array([[None,None]], dtype=np.float)\nfor angle in range(255,285,1):\n    df=pd.read_csv(%s'_degrees' %(angle)/'turbine_%sp00_10p00_report.csv' %(angle) , sep=' ', header=None)\n    df=df.tail(1)\n    df=pd.melt(df)\n    df=df.dropna()\n    a=df.to_numpy(dtype=np.float)\n#a=np.array(df,dtype=np.float)\n#a[~np.isnan(a).any(axis=1)]\n    a=a[:,1]\n    sec=np.array([[angle,a[32]]])\n    pri=np.array([[angle,a[30]]])\n    t1=np.concatenate((t1,pri), axis=0)\n    t2=np.concatenate((t2,sec), axis=0)\nt1=np.delete(t1,0,0)\nt2=np.delete(t2,0,0)\ndiff=np.array([t1[:,0],t1[:,1]-t2[:,1]])\n#print(t1)\n#print(t2)\nprint(diff)\n#plt.plot(t1[:,0],t1[:,1])\n#plt.plot(t2[:,0],t2[:,1])\nplt.plot(diff[0,:],diff[1,:])\nplt.show()"
  },
  {
   "cell_type": "code",
   "execution_count": null,
   "metadata": {},
   "outputs": [],
   "source": ""
  }
 ],
 "metadata": {
  "kernelspec": {
   "display_name": "Python 2",
   "language": "python",
   "name": "python2"
  },
  "language_info": {
   "codemirror_mode": {
    "name": "ipython",
    "version": 2
   },
   "file_extension": ".py",
   "mimetype": "text/x-python",
   "name": "python",
   "nbconvert_exporter": "python",
   "pygments_lexer": "ipython2",
   "version": "2.7.16"
  }
 },
 "nbformat": 4,
 "nbformat_minor": 4
}
