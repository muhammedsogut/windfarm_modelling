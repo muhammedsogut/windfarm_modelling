{
 "cells": [
  {
   "cell_type": "code",
   "execution_count": 1,
   "metadata": {},
   "outputs": [
    {
     "name": "stderr",
     "output_type": "stream",
     "text": [
      "/var/folders/gr/z6l2h7kd4136nf0xqdtls40w0000gn/T/ipykernel_7783/953288101.py:5: DeprecationWarning: `np.float` is a deprecated alias for the builtin `float`. To silence this warning, use `float` by itself. Doing this will not modify any behavior and is safe. If you specifically wanted the numpy scalar type, use `np.float64` here.\n",
      "Deprecated in NumPy 1.20; for more details and guidance: https://numpy.org/devdocs/release/1.20.0-notes.html#deprecations\n",
      "  t=np.array([[None,None,None,None,None, None, None]], dtype=np.float)\n",
      "/var/folders/gr/z6l2h7kd4136nf0xqdtls40w0000gn/T/ipykernel_7783/953288101.py:14: DeprecationWarning: `np.float` is a deprecated alias for the builtin `float`. To silence this warning, use `float` by itself. Doing this will not modify any behavior and is safe. If you specifically wanted the numpy scalar type, use `np.float64` here.\n",
      "Deprecated in NumPy 1.20; for more details and guidance: https://numpy.org/devdocs/release/1.20.0-notes.html#deprecations\n",
      "  a=df.to_numpy(dtype=np.float)\n"
     ]
    },
    {
     "data": {
      "text/html": [
       "<div>\n",
       "<style scoped>\n",
       "    .dataframe tbody tr th:only-of-type {\n",
       "        vertical-align: middle;\n",
       "    }\n",
       "\n",
       "    .dataframe tbody tr th {\n",
       "        vertical-align: top;\n",
       "    }\n",
       "\n",
       "    .dataframe thead th {\n",
       "        text-align: right;\n",
       "    }\n",
       "</style>\n",
       "<table border=\"1\" class=\"dataframe\">\n",
       "  <thead>\n",
       "    <tr style=\"text-align: right;\">\n",
       "      <th></th>\n",
       "      <th>spacing</th>\n",
       "      <th>speed</th>\n",
       "      <th>direction</th>\n",
       "      <th>t1</th>\n",
       "      <th>t2</th>\n",
       "      <th>x</th>\n",
       "      <th>y</th>\n",
       "    </tr>\n",
       "  </thead>\n",
       "  <tbody>\n",
       "    <tr>\n",
       "      <th>0</th>\n",
       "      <td>3.0</td>\n",
       "      <td>10.0</td>\n",
       "      <td>240.0</td>\n",
       "      <td>7.479762</td>\n",
       "      <td>7.576231</td>\n",
       "      <td>241.621088</td>\n",
       "      <td>-139.500000</td>\n",
       "    </tr>\n",
       "    <tr>\n",
       "      <th>0</th>\n",
       "      <td>3.0</td>\n",
       "      <td>10.0</td>\n",
       "      <td>241.0</td>\n",
       "      <td>7.473602</td>\n",
       "      <td>7.567527</td>\n",
       "      <td>244.018898</td>\n",
       "      <td>-135.261884</td>\n",
       "    </tr>\n",
       "    <tr>\n",
       "      <th>0</th>\n",
       "      <td>3.0</td>\n",
       "      <td>10.0</td>\n",
       "      <td>242.0</td>\n",
       "      <td>7.467848</td>\n",
       "      <td>7.557923</td>\n",
       "      <td>246.342378</td>\n",
       "      <td>-130.982566</td>\n",
       "    </tr>\n",
       "    <tr>\n",
       "      <th>0</th>\n",
       "      <td>3.0</td>\n",
       "      <td>10.0</td>\n",
       "      <td>243.0</td>\n",
       "      <td>7.491735</td>\n",
       "      <td>7.517615</td>\n",
       "      <td>248.590820</td>\n",
       "      <td>-126.663349</td>\n",
       "    </tr>\n",
       "    <tr>\n",
       "      <th>0</th>\n",
       "      <td>3.0</td>\n",
       "      <td>10.0</td>\n",
       "      <td>244.0</td>\n",
       "      <td>7.483392</td>\n",
       "      <td>7.500354</td>\n",
       "      <td>250.763539</td>\n",
       "      <td>-122.305550</td>\n",
       "    </tr>\n",
       "    <tr>\n",
       "      <th>...</th>\n",
       "      <td>...</td>\n",
       "      <td>...</td>\n",
       "      <td>...</td>\n",
       "      <td>...</td>\n",
       "      <td>...</td>\n",
       "      <td>...</td>\n",
       "      <td>...</td>\n",
       "    </tr>\n",
       "    <tr>\n",
       "      <th>0</th>\n",
       "      <td>7.0</td>\n",
       "      <td>10.0</td>\n",
       "      <td>296.0</td>\n",
       "      <td>7.524321</td>\n",
       "      <td>7.523988</td>\n",
       "      <td>585.114924</td>\n",
       "      <td>285.379617</td>\n",
       "    </tr>\n",
       "    <tr>\n",
       "      <th>0</th>\n",
       "      <td>7.0</td>\n",
       "      <td>10.0</td>\n",
       "      <td>297.0</td>\n",
       "      <td>7.533778</td>\n",
       "      <td>7.535361</td>\n",
       "      <td>580.045247</td>\n",
       "      <td>295.547815</td>\n",
       "    </tr>\n",
       "    <tr>\n",
       "      <th>0</th>\n",
       "      <td>7.0</td>\n",
       "      <td>10.0</td>\n",
       "      <td>298.0</td>\n",
       "      <td>7.523042</td>\n",
       "      <td>7.562130</td>\n",
       "      <td>574.798883</td>\n",
       "      <td>305.625987</td>\n",
       "    </tr>\n",
       "    <tr>\n",
       "      <th>0</th>\n",
       "      <td>7.0</td>\n",
       "      <td>10.0</td>\n",
       "      <td>299.0</td>\n",
       "      <td>7.530029</td>\n",
       "      <td>7.558119</td>\n",
       "      <td>569.377429</td>\n",
       "      <td>315.611063</td>\n",
       "    </tr>\n",
       "    <tr>\n",
       "      <th>0</th>\n",
       "      <td>7.0</td>\n",
       "      <td>10.0</td>\n",
       "      <td>300.0</td>\n",
       "      <td>7.533179</td>\n",
       "      <td>7.566722</td>\n",
       "      <td>563.782538</td>\n",
       "      <td>325.500000</td>\n",
       "    </tr>\n",
       "  </tbody>\n",
       "</table>\n",
       "<p>305 rows × 7 columns</p>\n",
       "</div>"
      ],
      "text/plain": [
       "    spacing  speed  direction        t1        t2           x           y\n",
       "0       3.0   10.0      240.0  7.479762  7.576231  241.621088 -139.500000\n",
       "0       3.0   10.0      241.0  7.473602  7.567527  244.018898 -135.261884\n",
       "0       3.0   10.0      242.0  7.467848  7.557923  246.342378 -130.982566\n",
       "0       3.0   10.0      243.0  7.491735  7.517615  248.590820 -126.663349\n",
       "0       3.0   10.0      244.0  7.483392  7.500354  250.763539 -122.305550\n",
       "..      ...    ...        ...       ...       ...         ...         ...\n",
       "0       7.0   10.0      296.0  7.524321  7.523988  585.114924  285.379617\n",
       "0       7.0   10.0      297.0  7.533778  7.535361  580.045247  295.547815\n",
       "0       7.0   10.0      298.0  7.523042  7.562130  574.798883  305.625987\n",
       "0       7.0   10.0      299.0  7.530029  7.558119  569.377429  315.611063\n",
       "0       7.0   10.0      300.0  7.533179  7.566722  563.782538  325.500000\n",
       "\n",
       "[305 rows x 7 columns]"
      ]
     },
     "execution_count": 1,
     "metadata": {},
     "output_type": "execute_result"
    }
   ],
   "source": [
    "import pandas as pd\n",
    "import numpy as np\n",
    "import matplotlib.pyplot as plt\n",
    "\n",
    "t=np.array([[None,None,None,None,None, None, None]], dtype=np.float)\n",
    "data=pd.DataFrame()\n",
    "for distance in range(3,8,1): \n",
    "    for velocity in range(10,11,2):\n",
    "        for angle in range(240,301,1):\n",
    "            df=pd.read_csv('turbine_%sp00_%sp00_report_%sD.csv' %(angle, velocity, distance) , sep=' ', header=None)\n",
    "            df=df.tail(1)\n",
    "            df=pd.melt(df)\n",
    "            df=df.dropna()\n",
    "            a=df.to_numpy(dtype=np.float)\n",
    "            a=a[:,1]\n",
    "            x=(np.cos(np.radians(angle-270)))*distance*93\n",
    "            y=(np.sin(np.radians(angle-270)))*distance*93\n",
    "            pri=np.array([[distance, velocity, angle,a[22],a[19], x, y]])\n",
    "            t=np.concatenate((t,pri), axis=0)\n",
    "            t=np.delete(t,0,0)\n",
    "            data=data.append(pd.DataFrame(t))\n",
    "data=data.rename(columns={0: \"spacing\", 1: \"speed\", 2: \"direction\", 3: \"t1\", 4: \"t2\", 5: \"x\", 6:\"y\"})\n",
    "#data.to_excel(\"output.xlsx\")\n",
    "data\n"
   ]
  },
  {
   "cell_type": "code",
   "execution_count": 2,
   "metadata": {},
   "outputs": [],
   "source": [
    "a=data[:61]\n",
    "at=a['t2']\n",
    "b=data[61:122]\n",
    "bt=b['t2']\n",
    "c=data[122:183]\n",
    "ct=c['t2']\n",
    "d=data[183:244]\n",
    "dt=d['t2']\n",
    "e=data[244:305]\n",
    "et=e['t2']"
   ]
  },
  {
   "cell_type": "code",
   "execution_count": 3,
   "metadata": {},
   "outputs": [],
   "source": [
    "a=data[:61]\n",
    "at1=a['t1']\n",
    "at1=at1.to_numpy()[30:61]\n",
    "at1min=min(at1)\n",
    "at1max=max(at1)\n",
    "b=data[61:122]\n",
    "bt1=b['t1']\n",
    "bt1=bt1.to_numpy()[30:61]\n",
    "bt1min=min(bt1)\n",
    "bt1max=max(bt1)\n",
    "c=data[122:183]\n",
    "ct1=c['t1']\n",
    "ct1=ct1.to_numpy()[30:61]\n",
    "ct1min=min(ct1)\n",
    "ct1max=max(ct1)\n",
    "d=data[183:244]\n",
    "dt1=d['t1']\n",
    "dt1=dt1.to_numpy()[30:61]\n",
    "dt1min=min(dt1)\n",
    "dt1max=max(dt1)\n",
    "e=data[244:305]\n",
    "et1=e['t1']\n",
    "et1=et1.to_numpy()[30:61]\n",
    "et1min=min(et1)\n",
    "et1max=max(et1)"
   ]
  },
  {
   "cell_type": "code",
   "execution_count": 4,
   "metadata": {},
   "outputs": [],
   "source": [
    "at1av=(min(at1)+max(at1))/2\n",
    "bt1av=(min(bt1)+max(bt1))/2\n",
    "ct1av=(min(ct1)+max(ct1))/2\n",
    "dt1av=(min(dt1)+max(dt1))/2\n",
    "et1av=(min(et1)+max(et1))/2"
   ]
  },
  {
   "cell_type": "code",
   "execution_count": 5,
   "metadata": {},
   "outputs": [
    {
     "name": "stdout",
     "output_type": "stream",
     "text": [
      "7.36329556 7.50099802 7.43214679\n",
      "7.38115644 7.52085543 7.4510059349999995\n",
      "7.39077377 7.52702665 7.4589002099999995\n",
      "7.39504862 7.53377819 7.464413405\n"
     ]
    }
   ],
   "source": [
    "print(min(bt1), max(bt1), bt1av)\n",
    "print(min(ct1), max(ct1), ct1av)\n",
    "print(min(dt1), max(dt1), dt1av)\n",
    "print(min(et1), max(et1), et1av)"
   ]
  },
  {
   "cell_type": "code",
   "execution_count": 6,
   "metadata": {},
   "outputs": [
    {
     "name": "stderr",
     "output_type": "stream",
     "text": [
      "/var/folders/gr/z6l2h7kd4136nf0xqdtls40w0000gn/T/ipykernel_7783/4265841927.py:6: DeprecationWarning: `np.float` is a deprecated alias for the builtin `float`. To silence this warning, use `float` by itself. Doing this will not modify any behavior and is safe. If you specifically wanted the numpy scalar type, use `np.float64` here.\n",
      "Deprecated in NumPy 1.20; for more details and guidance: https://numpy.org/devdocs/release/1.20.0-notes.html#deprecations\n",
      "  a=df.to_numpy(dtype=np.float)\n"
     ]
    },
    {
     "name": "stdout",
     "output_type": "stream",
     "text": [
      "Angle of Independence is 21 for 10 m/s.\n",
      "20.796676675242622\n"
     ]
    }
   ],
   "source": [
    "for angle in range(270,301,1):\n",
    "    df=pd.read_csv('turbine_%sp00_%sp00_report_3D.csv' %(angle, velocity) , sep=' ', header=None)\n",
    "    df=df.tail(1)\n",
    "    df=pd.melt(df)\n",
    "    df=df.dropna()\n",
    "    a=df.to_numpy(dtype=np.float)\n",
    "    a=a[:,1]\n",
    "    #print(a[19],a[22])\n",
    "    if a[19] >= at1min:\n",
    "        print('Angle of Independence is %s for %s m/s.' %((angle-270), velocity))\n",
    "        ind=angle\n",
    "        break\n",
    "ang=ind-((at1min-a[19])/(at1min-at1[ind-271]))\n",
    "print(ang-270)"
   ]
  },
  {
   "cell_type": "code",
   "execution_count": 7,
   "metadata": {},
   "outputs": [
    {
     "name": "stdout",
     "output_type": "stream",
     "text": [
      "Angle of Independence is 17 for 10 m/s.\n",
      "16.745546533881907\n"
     ]
    },
    {
     "name": "stderr",
     "output_type": "stream",
     "text": [
      "/var/folders/gr/z6l2h7kd4136nf0xqdtls40w0000gn/T/ipykernel_7783/2438212277.py:6: DeprecationWarning: `np.float` is a deprecated alias for the builtin `float`. To silence this warning, use `float` by itself. Doing this will not modify any behavior and is safe. If you specifically wanted the numpy scalar type, use `np.float64` here.\n",
      "Deprecated in NumPy 1.20; for more details and guidance: https://numpy.org/devdocs/release/1.20.0-notes.html#deprecations\n",
      "  a=df.to_numpy(dtype=np.float)\n"
     ]
    }
   ],
   "source": [
    "for angle in range(270,301,1):\n",
    "    df=pd.read_csv('turbine_%sp00_%sp00_report_4D.csv' %(angle, velocity) , sep=' ', header=None)\n",
    "    df=df.tail(1)\n",
    "    df=pd.melt(df)\n",
    "    df=df.dropna()\n",
    "    a=df.to_numpy(dtype=np.float)\n",
    "    a=a[:,1]\n",
    "    #print(a[19],a[22])\n",
    "    if a[19] >= bt1min:\n",
    "        print('Angle of Independence is %s for %s m/s.' %((angle-270), velocity))\n",
    "        ind=angle\n",
    "        break\n",
    "ang=ind-((bt1min-a[19])/(bt1min-bt1[ind-271]))\n",
    "print(ang-270)\n",
    "#print(bt1)\n",
    "#min(at1.to_numpy()[30:61])\n",
    "#bt1min"
   ]
  },
  {
   "cell_type": "code",
   "execution_count": 8,
   "metadata": {},
   "outputs": [
    {
     "name": "stdout",
     "output_type": "stream",
     "text": [
      "Angle of Independence is 15 for 10 m/s.\n"
     ]
    },
    {
     "name": "stderr",
     "output_type": "stream",
     "text": [
      "/var/folders/gr/z6l2h7kd4136nf0xqdtls40w0000gn/T/ipykernel_7783/2380331550.py:6: DeprecationWarning: `np.float` is a deprecated alias for the builtin `float`. To silence this warning, use `float` by itself. Doing this will not modify any behavior and is safe. If you specifically wanted the numpy scalar type, use `np.float64` here.\n",
      "Deprecated in NumPy 1.20; for more details and guidance: https://numpy.org/devdocs/release/1.20.0-notes.html#deprecations\n",
      "  a=df.to_numpy(dtype=np.float)\n"
     ]
    },
    {
     "data": {
      "text/plain": [
       "14.6106511567329"
      ]
     },
     "execution_count": 8,
     "metadata": {},
     "output_type": "execute_result"
    }
   ],
   "source": [
    "for angle in range(270,301,1):\n",
    "    df=pd.read_csv('turbine_%sp00_%sp00_report_5D.csv' %(angle, velocity) , sep=' ', header=None)\n",
    "    df=df.tail(1)\n",
    "    df=pd.melt(df)\n",
    "    df=df.dropna()\n",
    "    a=df.to_numpy(dtype=np.float)\n",
    "    a=a[:,1]\n",
    "    #print(a[19],a[22])\n",
    "    if a[19] >= ct1min:\n",
    "        print('Angle of Independence is %s for %s m/s.' %((angle-270), velocity))\n",
    "        ind=angle\n",
    "        break\n",
    "ang=ind-((ct1min-a[19])/(ct1min-ct1[ind-271]))\n",
    "ang-270"
   ]
  },
  {
   "cell_type": "code",
   "execution_count": 9,
   "metadata": {},
   "outputs": [
    {
     "name": "stdout",
     "output_type": "stream",
     "text": [
      "Angle of Independence is 13 for 10 m/s.\n"
     ]
    },
    {
     "name": "stderr",
     "output_type": "stream",
     "text": [
      "/var/folders/gr/z6l2h7kd4136nf0xqdtls40w0000gn/T/ipykernel_7783/956748129.py:6: DeprecationWarning: `np.float` is a deprecated alias for the builtin `float`. To silence this warning, use `float` by itself. Doing this will not modify any behavior and is safe. If you specifically wanted the numpy scalar type, use `np.float64` here.\n",
      "Deprecated in NumPy 1.20; for more details and guidance: https://numpy.org/devdocs/release/1.20.0-notes.html#deprecations\n",
      "  a=df.to_numpy(dtype=np.float)\n"
     ]
    },
    {
     "data": {
      "text/plain": [
       "12.777862220827274"
      ]
     },
     "execution_count": 9,
     "metadata": {},
     "output_type": "execute_result"
    }
   ],
   "source": [
    "for angle in range(270,301,1):\n",
    "    df=pd.read_csv('turbine_%sp00_%sp00_report_6D.csv' %(angle, velocity) , sep=' ', header=None)\n",
    "    df=df.tail(1)\n",
    "    df=pd.melt(df)\n",
    "    df=df.dropna()\n",
    "    a=df.to_numpy(dtype=np.float)\n",
    "    a=a[:,1]\n",
    "    #print(a[19],a[22])\n",
    "    if a[19] >= dt1min:\n",
    "        print('Angle of Independence is %s for %s m/s.' %((angle-270), velocity))\n",
    "        ind=angle\n",
    "        break\n",
    "ang=ind-((dt1min-a[19])/(dt1min-dt1[ind-271]))\n",
    "ang-270"
   ]
  },
  {
   "cell_type": "code",
   "execution_count": 10,
   "metadata": {},
   "outputs": [
    {
     "name": "stdout",
     "output_type": "stream",
     "text": [
      "Angle of Independence is 12 for 10 m/s.\n"
     ]
    },
    {
     "name": "stderr",
     "output_type": "stream",
     "text": [
      "/var/folders/gr/z6l2h7kd4136nf0xqdtls40w0000gn/T/ipykernel_7783/89781280.py:6: DeprecationWarning: `np.float` is a deprecated alias for the builtin `float`. To silence this warning, use `float` by itself. Doing this will not modify any behavior and is safe. If you specifically wanted the numpy scalar type, use `np.float64` here.\n",
      "Deprecated in NumPy 1.20; for more details and guidance: https://numpy.org/devdocs/release/1.20.0-notes.html#deprecations\n",
      "  a=df.to_numpy(dtype=np.float)\n"
     ]
    },
    {
     "data": {
      "text/plain": [
       "11.683651997080915"
      ]
     },
     "execution_count": 10,
     "metadata": {},
     "output_type": "execute_result"
    }
   ],
   "source": [
    "for angle in range(270,301,1):\n",
    "    df=pd.read_csv('turbine_%sp00_%sp00_report_7D.csv' %(angle, velocity) , sep=' ', header=None)\n",
    "    df=df.tail(1)\n",
    "    df=pd.melt(df)\n",
    "    df=df.dropna()\n",
    "    a=df.to_numpy(dtype=np.float)\n",
    "    a=a[:,1]\n",
    "    #print(a[19],a[22])\n",
    "    if a[19] >= et1min:\n",
    "        print('Angle of Independence is %s for %s m/s.' %((angle-270), velocity))\n",
    "        ind=angle\n",
    "        break\n",
    "ang=ind-((et1min-a[19])/(et1min-et1[ind-271]))\n",
    "ang-270"
   ]
  },
  {
   "cell_type": "code",
   "execution_count": 11,
   "metadata": {},
   "outputs": [
    {
     "name": "stderr",
     "output_type": "stream",
     "text": [
      "/var/folders/gr/z6l2h7kd4136nf0xqdtls40w0000gn/T/ipykernel_7783/4092957689.py:6: DeprecationWarning: `np.float` is a deprecated alias for the builtin `float`. To silence this warning, use `float` by itself. Doing this will not modify any behavior and is safe. If you specifically wanted the numpy scalar type, use `np.float64` here.\n",
      "Deprecated in NumPy 1.20; for more details and guidance: https://numpy.org/devdocs/release/1.20.0-notes.html#deprecations\n",
      "  a=df.to_numpy(dtype=np.float)\n"
     ]
    },
    {
     "name": "stdout",
     "output_type": "stream",
     "text": [
      "Angle of Independence is 25 for 10 m/s.\n"
     ]
    },
    {
     "data": {
      "text/plain": [
       "25.259006558030194"
      ]
     },
     "execution_count": 11,
     "metadata": {},
     "output_type": "execute_result"
    }
   ],
   "source": [
    "for angle in range(270,301,1):\n",
    "    df=pd.read_csv('turbine_%sp00_%sp00_report_3D.csv' %(angle, velocity) , sep=' ', header=None)\n",
    "    df=df.tail(1)\n",
    "    df=pd.melt(df)\n",
    "    df=df.dropna()\n",
    "    a=df.to_numpy(dtype=np.float)\n",
    "    a=a[:,1]\n",
    "    #print(a[19],a[22])\n",
    "    if a[19] >= at1max:\n",
    "        print('Angle of Independence is %s for %s m/s.' %((angle-270), velocity))\n",
    "        ind=angle\n",
    "        break\n",
    "ang=ind-((at1max-a[19])/(at1max-at1[ind-271]))\n",
    "ang-270"
   ]
  },
  {
   "cell_type": "code",
   "execution_count": 198,
   "metadata": {},
   "outputs": [
    {
     "name": "stdout",
     "output_type": "stream",
     "text": [
      "Angle of Independence is 19 for 20 m/s.\n"
     ]
    },
    {
     "data": {
      "text/plain": [
       "19.133444920162617"
      ]
     },
     "execution_count": 198,
     "metadata": {},
     "output_type": "execute_result"
    }
   ],
   "source": [
    "for angle in range(270,301,1):\n",
    "    df=pd.read_csv('turbine_%sp00_%sp00_report_4D.csv' %(angle, velocity) , sep=' ', header=None)\n",
    "    df=df.tail(1)\n",
    "    df=pd.melt(df)\n",
    "    df=df.dropna()\n",
    "    a=df.to_numpy(dtype=np.float)\n",
    "    a=a[:,1]\n",
    "    #print(a[19],a[22])\n",
    "    if a[19] >= bt1max:\n",
    "        print('Angle of Independence is %s for %s m/s.' %((angle-270), velocity))\n",
    "        ind=angle\n",
    "        break\n",
    "ang=ind-((bt1max-a[19])/(bt1max-bt1[ind-271]))\n",
    "ang-270"
   ]
  },
  {
   "cell_type": "code",
   "execution_count": 199,
   "metadata": {},
   "outputs": [
    {
     "name": "stdout",
     "output_type": "stream",
     "text": [
      "Angle of Independence is 16 for 20 m/s.\n"
     ]
    },
    {
     "data": {
      "text/plain": [
       "16.11467173633031"
      ]
     },
     "execution_count": 199,
     "metadata": {},
     "output_type": "execute_result"
    }
   ],
   "source": [
    "for angle in range(270,301,1):\n",
    "    df=pd.read_csv('turbine_%sp00_%sp00_report_5D.csv'  %(angle, velocity), sep=' ', header=None)\n",
    "    df=df.tail(1)\n",
    "    df=pd.melt(df)\n",
    "    df=df.dropna()\n",
    "    a=df.to_numpy(dtype=np.float)\n",
    "    a=a[:,1]\n",
    "    #print(a[19],a[22])\n",
    "    if a[19] >= ct1max:\n",
    "        print('Angle of Independence is %s for %s m/s.' %((angle-270), velocity))\n",
    "        ind=angle\n",
    "        break\n",
    "ang=ind-((ct1max-a[19])/(ct1max-ct1[ind-271]))\n",
    "ang-270"
   ]
  },
  {
   "cell_type": "code",
   "execution_count": 200,
   "metadata": {},
   "outputs": [
    {
     "name": "stdout",
     "output_type": "stream",
     "text": [
      "Angle of Independence is 15 for 20 m/s.\n"
     ]
    },
    {
     "data": {
      "text/plain": [
       "15.163194205373145"
      ]
     },
     "execution_count": 200,
     "metadata": {},
     "output_type": "execute_result"
    }
   ],
   "source": [
    "for angle in range(270,301,1):\n",
    "    df=pd.read_csv('turbine_%sp00_%sp00_report_6D.csv'  %(angle, velocity) , sep=' ', header=None)\n",
    "    df=df.tail(1)\n",
    "    df=pd.melt(df)\n",
    "    df=df.dropna()\n",
    "    a=df.to_numpy(dtype=np.float)\n",
    "    a=a[:,1]\n",
    "    #print(a[19],a[22])\n",
    "    if a[19] >= dt1max:\n",
    "        print('Angle of Independence is %s for %s m/s.' %((angle-270), velocity))\n",
    "        ind=angle\n",
    "        break\n",
    "ang=ind-((dt1max-a[19])/(dt1max-dt1[ind-271]))\n",
    "ang-270"
   ]
  },
  {
   "cell_type": "code",
   "execution_count": 201,
   "metadata": {},
   "outputs": [
    {
     "name": "stdout",
     "output_type": "stream",
     "text": [
      "Angle of Independence is 12 for 20 m/s.\n"
     ]
    },
    {
     "data": {
      "text/plain": [
       "12.172825440524889"
      ]
     },
     "execution_count": 201,
     "metadata": {},
     "output_type": "execute_result"
    }
   ],
   "source": [
    "for angle in range(270,301,1):\n",
    "    df=pd.read_csv('turbine_%sp00_%sp00_report_7D.csv' %(angle, velocity) , sep=' ', header=None)\n",
    "    df=df.tail(1)\n",
    "    df=pd.melt(df)\n",
    "    df=df.dropna()\n",
    "    a=df.to_numpy(dtype=np.float)\n",
    "    a=a[:,1]\n",
    "    #print(a[19],a[22])\n",
    "    if a[19] >= et1max:\n",
    "        print('Angle of Independence is %s for %s m/s.' %((angle-270), velocity))\n",
    "        ind=angle\n",
    "        break\n",
    "ang=ind-((et1max-a[19])/(et1max-et1[ind-271]))\n",
    "ang-270"
   ]
  },
  {
   "cell_type": "code",
   "execution_count": 202,
   "metadata": {},
   "outputs": [
    {
     "name": "stdout",
     "output_type": "stream",
     "text": [
      "Angle of Independence is 21 for 20 m/s.\n"
     ]
    },
    {
     "data": {
      "text/plain": [
       "20.376757893626518"
      ]
     },
     "execution_count": 202,
     "metadata": {},
     "output_type": "execute_result"
    }
   ],
   "source": [
    "for angle in range(270,301,1):\n",
    "    df=pd.read_csv('turbine_%sp00_%sp00_report_3D.csv' %(angle, velocity) , sep=' ', header=None)\n",
    "    df=df.tail(1)\n",
    "    df=pd.melt(df)\n",
    "    df=df.dropna()\n",
    "    a=df.to_numpy(dtype=np.float)\n",
    "    a=a[:,1]\n",
    "    #print(a[19],a[22])\n",
    "    if a[19] >= at1av:\n",
    "        print('Angle of Independence is %s for %s m/s.' %((angle-270), velocity))\n",
    "        ind=angle\n",
    "        break\n",
    "ang=ind-((at1av-a[19])/(at1av-at1[ind-271]))\n",
    "ang-270"
   ]
  },
  {
   "cell_type": "code",
   "execution_count": 203,
   "metadata": {},
   "outputs": [
    {
     "name": "stdout",
     "output_type": "stream",
     "text": [
      "Angle of Independence is 17 for 20 m/s.\n"
     ]
    },
    {
     "data": {
      "text/plain": [
       "31.632409793816635"
      ]
     },
     "execution_count": 203,
     "metadata": {},
     "output_type": "execute_result"
    }
   ],
   "source": [
    "for angle in range(270,301,1):\n",
    "    df=pd.read_csv('turbine_%sp00_%sp00_report_4D.csv' %(angle, velocity) , sep=' ', header=None)\n",
    "    df=df.tail(1)\n",
    "    df=pd.melt(df)\n",
    "    df=df.dropna()\n",
    "    a=df.to_numpy(dtype=np.float)\n",
    "    a=a[:,1]\n",
    "    #print(a[19],a[22])\n",
    "    if a[19] >= bt1av:\n",
    "        print('Angle of Independence is %s for %s m/s.' %((angle-270), velocity))\n",
    "        ind=angle\n",
    "        break\n",
    "ang=ind-((bt1av-a[19])/(bt1av-bt1[ind-271]))\n",
    "ang-270"
   ]
  },
  {
   "cell_type": "code",
   "execution_count": 204,
   "metadata": {},
   "outputs": [
    {
     "name": "stdout",
     "output_type": "stream",
     "text": [
      "Angle of Independence is 14 for 20 m/s.\n"
     ]
    },
    {
     "data": {
      "text/plain": [
       "16.284619615031374"
      ]
     },
     "execution_count": 204,
     "metadata": {},
     "output_type": "execute_result"
    }
   ],
   "source": [
    "for angle in range(270,301,1):\n",
    "    df=pd.read_csv('turbine_%sp00_%sp00_report_5D.csv' %(angle, velocity) , sep=' ', header=None)\n",
    "    df=df.tail(1)\n",
    "    df=pd.melt(df)\n",
    "    df=df.dropna()\n",
    "    a=df.to_numpy(dtype=np.float)\n",
    "    a=a[:,1]\n",
    "    #print(a[19],a[22])\n",
    "    if a[19] >= ct1av:\n",
    "        print('Angle of Independence is %s for %s m/s.' %((angle-270), velocity))\n",
    "        ind=angle\n",
    "        break\n",
    "ang=ind-((ct1av-a[19])/(ct1av-ct1[ind-271]))\n",
    "ang-270"
   ]
  },
  {
   "cell_type": "code",
   "execution_count": 205,
   "metadata": {},
   "outputs": [
    {
     "name": "stdout",
     "output_type": "stream",
     "text": [
      "Angle of Independence is 12 for 20 m/s.\n"
     ]
    },
    {
     "data": {
      "text/plain": [
       "12.18204568863888"
      ]
     },
     "execution_count": 205,
     "metadata": {},
     "output_type": "execute_result"
    }
   ],
   "source": [
    "for angle in range(270,301,1):\n",
    "    df=pd.read_csv('turbine_%sp00_%sp00_report_6D.csv' %(angle, velocity) , sep=' ', header=None)\n",
    "    df=df.tail(1)\n",
    "    df=pd.melt(df)\n",
    "    df=df.dropna()\n",
    "    a=df.to_numpy(dtype=np.float)\n",
    "    a=a[:,1]\n",
    "    #print(a[19],a[22])\n",
    "    if a[19] >= dt1av:\n",
    "        print('Angle of Independence is %s for %s m/s.' %((angle-270), velocity))\n",
    "        ind=angle\n",
    "        break\n",
    "ang=ind-((dt1av-a[19])/(dt1av-dt1[ind-271]))\n",
    "ang-270"
   ]
  },
  {
   "cell_type": "code",
   "execution_count": 206,
   "metadata": {},
   "outputs": [
    {
     "name": "stdout",
     "output_type": "stream",
     "text": [
      "Angle of Independence is 10 for 20 m/s.\n"
     ]
    },
    {
     "data": {
      "text/plain": [
       "10.57337095232333"
      ]
     },
     "execution_count": 206,
     "metadata": {},
     "output_type": "execute_result"
    }
   ],
   "source": [
    "for angle in range(270,301,1):\n",
    "    df=pd.read_csv('turbine_%sp00_%sp00_report_7D.csv' %(angle, velocity) , sep=' ', header=None)\n",
    "    df=df.tail(1)\n",
    "    df=pd.melt(df)\n",
    "    df=df.dropna()\n",
    "    a=df.to_numpy(dtype=np.float)\n",
    "    a=a[:,1]\n",
    "    #print(a[19],a[22])\n",
    "    if a[19] >= et1av:\n",
    "        print('Angle of Independence is %s for %s m/s.' %((angle-270), velocity))\n",
    "        ind=angle\n",
    "        break\n",
    "ang=ind-((et1av-a[19])/(et1av-et1[ind-271]))\n",
    "ang-270"
   ]
  },
  {
   "cell_type": "code",
   "execution_count": 207,
   "metadata": {},
   "outputs": [
    {
     "data": {
      "image/png": "[encoded data removed]",
      "text/plain": [
       "<Figure size 432x288 with 1 Axes>"
      ]
     },
     "metadata": {
      "needs_background": "light"
     },
     "output_type": "display_data"
    }
   ],
   "source": [
    "a=data[:61]\n",
    "t1=a['t1']\n",
    "t2=a['t2']\n",
    "fig, ax = plt.subplots()\n",
    "ax.scatter(a['direction']-270,t1, marker='+')\n",
    "ax.scatter(a['direction']-270,t2, marker='.')\n",
    "turb1,=plt.plot(a['direction']-270,t1)\n",
    "turb2,=plt.plot(a['direction']-270,t2)\n",
    "plt.ylabel('Reference Wind Speed')\n",
    "plt.xlabel('Wind Direction')\n",
    "plt.title('3 Diameter Distance, 20 m/s windspeed')\n",
    "plt.legend((turb2,turb1),('Turbine_1','Turbine_2'))\n",
    "#def clear_line(turb1):\n",
    "#lines.pop(turb1).remove()\n",
    "    \n",
    "plt.grid()\n",
    "#plt.plot(diff[0,:],diff[1,:])\n",
    "plt.show()\n",
    "#plt.clr()"
   ]
  },
  {
   "cell_type": "code",
   "execution_count": 4,
   "metadata": {},
   "outputs": [
    {
     "data": {
      "image/png": "[encoded data removed]",
      "text/plain": [
       "<Figure size 432x288 with 1 Axes>"
      ]
     },
     "metadata": {
      "needs_background": "light"
     },
     "output_type": "display_data"
    }
   ],
   "source": [
    "fig, ax = plt.subplots()\n",
    "ax.scatter((a['direction']-270),at, marker='x')\n",
    "ax.scatter((b['direction']-270),bt, marker='+')\n",
    "ax.scatter((c['direction']-270),ct, marker='^')\n",
    "ax.scatter((d['direction']-270),dt, marker='.')\n",
    "ax.scatter((e['direction']-270),et, marker='v')\n",
    "turb1,=plt.plot((a['direction']-270),at, marker='x')\n",
    "turb2,=plt.plot((b['direction']-270),bt, marker='+')\n",
    "turb3,=plt.plot((c['direction']-270),ct, marker='^')\n",
    "turb4,=plt.plot((d['direction']-270),dt, marker='.')\n",
    "turb5,=plt.plot((e['direction']-270),et, marker='v')\n",
    "plt.ylabel('Turbine 2 average wind speed (m/s)')\n",
    "plt.xlabel('Wind direction angle (degrees)')\n",
    "#plt.title('20 m/s windspeed Turbine_2')\n",
    "plt.legend((turb1,turb2,turb3,turb4,turb5),('3D spacing','4D spacing','5D spacing','6D spacing','7D spacing'))\n",
    "    \n",
    "plt.grid()\n",
    "\n",
    "plt.show()\n"
   ]
  },
  {
   "cell_type": "code",
   "execution_count": 67,
   "metadata": {},
   "outputs": [
    {
     "data": {
      "image/png": "[encoded data removed]",
      "text/plain": [
       "<Figure size 432x288 with 1 Axes>"
      ]
     },
     "metadata": {
      "needs_background": "light"
     },
     "output_type": "display_data"
    }
   ],
   "source": [
    "difa=np.array([None], dtype=np.float)\n",
    "difb=np.array([None], dtype=np.float)\n",
    "difc=np.array([None], dtype=np.float)\n",
    "difd=np.array([None], dtype=np.float)\n",
    "dife=np.array([None], dtype=np.float)\n",
    "for i in range (30,0,-1):\n",
    "    ga=np.array([at.to_numpy(dtype=np.float)[60-i]-at.to_numpy(dtype=np.float)[i]])\n",
    "    gb=np.array([bt.to_numpy(dtype=np.float)[60-i]-bt.to_numpy(dtype=np.float)[i]])\n",
    "    gc=np.array([ct.to_numpy(dtype=np.float)[60-i]-ct.to_numpy(dtype=np.float)[i]])\n",
    "    gd=np.array([dt.to_numpy(dtype=np.float)[60-i]-dt.to_numpy(dtype=np.float)[i]])\n",
    "    ge=np.array([et.to_numpy(dtype=np.float)[60-i]-et.to_numpy(dtype=np.float)[i]])\n",
    "    difa=np.concatenate((difa,ga),axis=0)\n",
    "    difb=np.concatenate((difb,gb),axis=0)\n",
    "    difc=np.concatenate((difc,gc),axis=0)\n",
    "    difd=np.concatenate((difd,gd),axis=0)\n",
    "    dife=np.concatenate((dife,ge),axis=0)\n",
    "difa=np.delete(difa,0,0)\n",
    "difb=np.delete(difb,0,0)\n",
    "difc=np.delete(difc,0,0)\n",
    "difd=np.delete(difd,0,0)\n",
    "dife=np.delete(dife,0,0)\n",
    "x=[0,1,2,3,4,5,6,7,8,9,10,11,12,13,14,15,16,17,18,19,20,21,22,23,24,25,26,27,28,29]\n",
    "#x=[29,28,27,26,25,24,23,22,21,20,19,18,17,16,15,14,13,12,11,10,9,8,7,6,5,4,3,2,1,0]\n",
    "fig, ax = plt.subplots()\n",
    "ax.scatter(x,difa, marker='x')\n",
    "ax.scatter(x,difb, marker='+')\n",
    "ax.scatter(x,difc, marker='^')\n",
    "ax.scatter(x,difd, marker='.')\n",
    "ax.scatter(x,dife, marker='v')\n",
    "turb1,=plt.plot(difa, marker='x')\n",
    "turb2,=plt.plot(difb, marker='+')\n",
    "turb3,=plt.plot(difc, marker='^')\n",
    "turb4,=plt.plot(difd, marker='.')\n",
    "turb5,=plt.plot(dife, marker='v')\n",
    "plt.ylabel('Difference of Reference Wind Speed')\n",
    "plt.xlabel('Distance to 0 degrees')\n",
    "plt.title('Turning Effect Analysis for 10 m/s')\n",
    "plt.legend((turb1,turb2,turb3,turb4,turb5),('3D spacing','4D spacing','5D spacing','6D spacing','7D spacing'),loc='upper right')\n",
    "\n",
    "plt.grid()\n",
    "plt.show()"
   ]
  },
  {
   "cell_type": "code",
   "execution_count": 3,
   "metadata": {},
   "outputs": [
    {
     "data": {
      "image/png": "[encoded data removed]",
      "text/plain": [
       "<Figure size 432x288 with 1 Axes>"
      ]
     },
     "metadata": {
      "needs_background": "light"
     },
     "output_type": "display_data"
    }
   ],
   "source": [
    "import matplotlib.pyplot as plt\n",
    "d3=[23,23,23,22,22,22,22,21]\n",
    "d4=[19,19,19,18,18,18,17,17]\n",
    "d5=[16,17,16,16,16,15,14,14]\n",
    "d6=[15,16,15,15,15,13,13,12]\n",
    "d7=[14,15,14,14,12,11,11,10]\n",
    "speed=[6,8,10,12,14,16,18,20]\n",
    "fig, ax = plt.subplots()\n",
    "ax.scatter(speed,d3, marker='x')\n",
    "ax.scatter(speed,d4, marker='+')\n",
    "ax.scatter(speed,d5, marker='^')\n",
    "ax.scatter(speed,d6, marker='.')\n",
    "ax.scatter(speed,d7, marker='v')\n",
    "turb1,=plt.plot(speed,d3, marker='x')\n",
    "turb2,=plt.plot(speed,d4, marker='+')\n",
    "turb3,=plt.plot(speed,d5, marker='^')\n",
    "turb4,=plt.plot(speed,d6, marker='.')\n",
    "turb5,=plt.plot(speed,d7, marker='v')\n",
    "plt.ylim(6, 24)\n",
    "plt.ylabel('Angle of Independence')\n",
    "plt.xlabel('Wind Speed')\n",
    "plt.title('Angle of Independence vs. Wind Speed for various spacing')\n",
    "plt.legend((turb1,turb2,turb3,turb4,turb5),('3D spacing','4D spacing','5D spacing','6D spacing','7D spacing'),loc='lower left')\n",
    "\n",
    "plt.grid()\n",
    "plt.show()"
   ]
  },
  {
   "cell_type": "code",
   "execution_count": 39,
   "metadata": {},
   "outputs": [],
   "source": [
    "dif=np.array([None], dtype=np.float)\n",
    "for i in range (0,30,1):\n",
    "    ga=np.array([at.to_numpy(dtype=np.float)[i]-at.to_numpy(dtype=np.float)[60-i]])\n",
    "    gb=np.array([bt.to_numpy(dtype=np.float)[i]-bt.to_numpy(dtype=np.float)[60-i]])\n",
    "    gc=np.array([ct.to_numpy(dtype=np.float)[i]-ct.to_numpy(dtype=np.float)[60-i]])\n",
    "    gd=np.array([dt.to_numpy(dtype=np.float)[i]-dt.to_numpy(dtype=np.float)[60-i]])\n",
    "    ge=np.array([et.to_numpy(dtype=np.float)[i]-et.to_numpy(dtype=np.float)[60-i]])\n",
    "    difa=np.concatenate((difa,ga),axis=0)\n",
    "    difb=np.concatenate((dif,gb),axis=0)\n",
    "    difc=np.concatenate((dif,gc),axis=0)\n",
    "    difd=np.concatenate((dif,gd),axis=0)\n",
    "    dife=np.concatenate((dif,ge),axis=0)"
   ]
  },
  {
   "cell_type": "code",
   "execution_count": 13,
   "metadata": {},
   "outputs": [
    {
     "data": {
      "text/plain": [
       "Text(0.5, 0, 'Spacing Difference')"
      ]
     },
     "execution_count": 13,
     "metadata": {},
     "output_type": "execute_result"
    },
    {
     "data": {
      "image/png": "[encoded data removed]",
      "text/plain": [
       "<Figure size 432x288 with 1 Axes>"
      ]
     },
     "metadata": {
      "needs_background": "light"
     },
     "output_type": "display_data"
    }
   ],
   "source": [
    "import matplotlib.pyplot as plt\n",
    "k=[0.2803, 0.2462, 0.22, 0.1945]\n",
    "l=['4D-3D','5D-4D','6D-5D','7D-6D']\n",
    "plt.grid()\n",
    "\n",
    "plt.plot(l,k, marker='X')\n",
    "plt.title('T2 Difference Between Spacings')\n",
    "plt.ylabel(' m/s')\n",
    "plt.xlabel('Spacing Difference')"
   ]
  },
  {
   "cell_type": "code",
   "execution_count": 11,
   "metadata": {},
   "outputs": [
    {
     "data": {
      "text/plain": [
       "Text(0.5, 0, 'Spacing')"
      ]
     },
     "execution_count": 11,
     "metadata": {},
     "output_type": "execute_result"
    },
    {
     "data": {
      "image/png": "[encoded data removed]",
      "text/plain": [
       "<Figure size 432x288 with 1 Axes>"
      ]
     },
     "metadata": {
      "needs_background": "light"
     },
     "output_type": "display_data"
    }
   ],
   "source": [
    "import matplotlib.pyplot as plt\n",
    "k=[29.6, 27.4, 25.3, 23.4, 21.7]\n",
    "l=['3D','4D','5D','6D','7D']\n",
    "plt.grid()\n",
    "\n",
    "plt.plot(l,k, marker='X')\n",
    "plt.title('T2/T1 Percentage')\n",
    "plt.ylabel('%')\n",
    "plt.xlabel('Spacing')"
   ]
  },
  {
   "cell_type": "code",
   "execution_count": null,
   "metadata": {},
   "outputs": [],
   "source": []
  }
 ],
 "metadata": {
  "kernelspec": {
   "display_name": "Python 3 (ipykernel)",
   "language": "python",
   "name": "python3"
  },
  "language_info": {
   "codemirror_mode": {
    "name": "ipython",
    "version": 3
   },
   "file_extension": ".py",
   "mimetype": "text/x-python",
   "name": "python",
   "nbconvert_exporter": "python",
   "pygments_lexer": "ipython3",
   "version": "3.9.10"
  }
 },
 "nbformat": 4,
 "nbformat_minor": 4
}
