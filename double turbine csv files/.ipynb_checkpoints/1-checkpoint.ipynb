{
 "cells": [
  {
   "cell_type": "code",
   "execution_count": 12,
   "metadata": {},
   "outputs": [
    {
     "name": "stdout",
     "output_type": "stream",
     "text": [
      "[[300.           2.98308611]]\n",
      "[[300.           2.98936892]]\n",
      "[[300.           2.98314261]]\n",
      "[[300.           2.99803519]]\n",
      "[[300.           2.98613906]]\n"
     ]
    }
   ],
   "source": [
    "import pandas as pd\n",
    "import numpy as np\n",
    "import matplotlib.pyplot as plt\n",
    "from matplotlib.legend_handler import HandlerLine2D\n",
    "t1=np.array([[None,None]], dtype=np.float)\n",
    "t2=np.array([[None,None]], dtype=np.float)\n",
    "for distance in range(3,8,1): \n",
    "    for angle in range(240,301,1):\n",
    "        df=pd.read_csv('turbine_%sp00_4p00_report_%sD.csv' %(angle,distance) , sep=' ', header=None)\n",
    "        df=df.tail(1)\n",
    "        df=pd.melt(df)\n",
    "        df=df.dropna()\n",
    "        a=df.to_numpy(dtype=np.float)\n",
    "#a=np.array(df,dtype=np.float)\n",
    "#a[~np.isnan(a).any(axis=1)]\n",
    "        a=a[:,1]\n",
    "        sec=np.array([[angle,a[22]]])\n",
    "        pri=np.array([[angle,a[19]]])\n",
    "        t1=np.concatenate((t1,pri), axis=0)\n",
    "        t2=np.concatenate((t2,sec), axis=0)\n",
    "        t1=np.delete(t1,0,0)\n",
    "        t2=np.delete(t2,0,0)\n",
    "    diff=np.array([t1[:,0],t1[:,1]-t2[:,1]])\n",
    "    print(t2)\n"
   ]
  },
  {
   "cell_type": "code",
   "execution_count": 4,
   "metadata": {},
   "outputs": [
    {
     "ename": "IndentationError",
     "evalue": "unexpected indent (<ipython-input-4-731cfe254cd4>, line 11)",
     "output_type": "error",
     "traceback": [
      "\u001b[0;36m  File \u001b[0;32m\"<ipython-input-4-731cfe254cd4>\"\u001b[0;36m, line \u001b[0;32m11\u001b[0m\n\u001b[0;31m    turb1,=plt.plot(t1[:,0],t1[:,1])\u001b[0m\n\u001b[0m    ^\u001b[0m\n\u001b[0;31mIndentationError\u001b[0m\u001b[0;31m:\u001b[0m unexpected indent\n"
     ]
    }
   ],
   "source": [
    "#print(t2)\n",
    "#print(diff)\n",
    "    \n",
    "    \n",
    "    \n",
    "    #fig, ax = plt.subplots()\n",
    "    #ax.set(title='%sDiameter Distance, 10 m/s windspeed'%(distance), ylabel='Reference Wind Speed', xlabel='Wind Direction')\n",
    "    #ax.scatter(t1[:,0],t1[:,1], ls='--')\n",
    "    \n",
    "    \n",
    "    turb1,=plt.plot(t1[:,0],t1[:,1])\n",
    "    turb2,=plt.plot(t2[:,0],t2[:,1])\n",
    "    plt.ylabel('Reference Wind Speed')\n",
    "    plt.xlabel('Wind Direction')\n",
    "    #plt.title('%s Diameter Distance, 14 m/s windspeed'%distance)\n",
    "    plt.legend((turb1,turb2),('Turbine_1','Turbine_2'))\n",
    "    #def clear_line(turb1):\n",
    "        #lines.pop(turb1).remove()\n",
    "    \n",
    "#plt.plot(diff[0,:],diff[1,:])\n",
    "    plt.show()\n",
    "    #plt.clr()\n",
    "\n"
   ]
  },
  {
   "cell_type": "code",
   "execution_count": null,
   "metadata": {},
   "outputs": [],
   "source": []
  }
 ],
 "metadata": {
  "kernelspec": {
   "display_name": "Python 3",
   "language": "python",
   "name": "python3"
  },
  "language_info": {
   "codemirror_mode": {
    "name": "ipython",
    "version": 3
   },
   "file_extension": ".py",
   "mimetype": "text/x-python",
   "name": "python",
   "nbconvert_exporter": "python",
   "pygments_lexer": "ipython3",
   "version": "3.7.6"
  }
 },
 "nbformat": 4,
 "nbformat_minor": 4
}
