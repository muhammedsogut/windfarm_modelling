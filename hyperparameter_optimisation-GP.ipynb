{
 "cells": [
  {
   "cell_type": "code",
   "execution_count": null,
   "id": "980311f0",
   "metadata": {},
   "outputs": [],
   "source": [
    "def build_and_compile_model(norm):\n",
    "    model = keras.Sequential([\n",
    "        norm,\n",
    "        layers.Dense(64, activation='relu'),\n",
    "        layers.Dense(64, activation='relu'),\n",
    "        layers.Dense(32, activation='relu'),\n",
    "        layers.Dense(16, activation='relu'),\n",
    "        layers.Dense(1)\n",
    "    ])\n",
    "    model.compile(loss='mean_absolute_error', optimizer=tf.keras.optimizers.Adam(0.001))\n",
    "    return model"
   ]
  },
  {
   "cell_type": "code",
   "execution_count": 1,
   "id": "cfc60910",
   "metadata": {},
   "outputs": [],
   "source": [
    "import three_desc_model as exponential_new\n",
    "import numpy as np\n",
    "import pandas as pd\n",
    "from cutoffs import Polynomial\n",
    "from scipy.optimize import minimize,fmin\n",
    "import tensorflow as tf\n",
    "import matplotlib.pyplot as plt\n",
    "import keras\n",
    "from tensorflow.keras import layers\n",
    "from tensorflow.keras.layers.experimental import preprocessing\n",
    "import GPy\n",
    "from IPython.display import display\n",
    "dataset_full = pd.read_csv('all_dataset.csv', index_col=0)\n",
    "symbol=\"Siemens\"\n",
    "#dataset_pos=np.empty(shape=(0, 2))\n",
    "#dataset_fp=np.empty(shape=(0, 3))\n",
    "#dataset_ws=np.empty(shape=(0, 1))\n",
    "k=0\n",
    "count=0\n",
    "dataset_full[\"IDnum\"]=pd.Series()\n",
    "for i in range(len(dataset_full)):\n",
    "    dataset_full.at[i,\"IDnum\"]=k\n",
    "    count = count +1\n",
    "    if (count==dataset_full[\"Num_tot_turb\"].iloc[i]):\n",
    "        k=k+1\n",
    "        count=0\n",
    "dataset_full[\"Num_tot_turb\"]=dataset_full[\"Num_tot_turb\"].astype(int)\n",
    "dataset_full[\"Turb_num\"]=dataset_full[\"Turb_num\"].astype(int)\n",
    "dataset_full[\"IDnum\"]=dataset_full[\"IDnum\"].astype(int)\n",
    "numsims=dataset_full[\"IDnum\"].iloc[-1]+1\n",
    "turb = [symbol]\n",
    "nl=exponential_new.NeighborlistCalculator(cutoff=4001,cone_grad=0.12582561117875557, cone_offset=72.24947126849844)\n",
    "\n"
   ]
  },
  {
   "cell_type": "code",
   "execution_count": 2,
   "id": "dc9b46c7",
   "metadata": {},
   "outputs": [],
   "source": [
    "def f(x):\n",
    "    Gs = {\"Siemens\": [{\"type\":\"G2\", \"turbine\":\"Siemens\",\"eta\":x[0], \"offset\": 1.},\n",
    "                  {\"type\":\"G4\", \"elements\":\"Siemens\",\"eta\":x[1], \"gamma\":4., \"zeta\": 1.0},\n",
    "                  {\"type\":\"G6\", \"elements\":\"Siemens\",\"eta\":x[2], \"gamma\": 0.5, \"zeta\": 1.0}\n",
    "                 ]}\n",
    "    finpr=exponential_new.FingerprintCalculator(cutoff=4001,Gs=Gs,Rct=3000,delta_R=100,cone_grad=0.12582561117875557, cone_offset=72.24947126849844)\n",
    "    count=0\n",
    "    dataset_fp=np.empty(shape=(0, 3))\n",
    "    dataset_ws=np.empty(shape=(0, 1))\n",
    "    for i in range(numsims):\n",
    "        numturb=dataset_full[\"Num_tot_turb\"].iloc[count]\n",
    "        position = np.empty((numturb,2))\n",
    "        ws = np.empty((numturb,1))\n",
    "        fp = np.empty((numturb,3))\n",
    "        for k in range(numturb):\n",
    "            position[k,0]=dataset_full.at[count,\"X_coord\"]\n",
    "            position[k,1]=dataset_full.at[count,\"Y_coord\"]\n",
    "            ws[k,0]=dataset_full.at[count,\"Ref_wind\"]\n",
    "            count = count+ 1\n",
    "        neigh=nl.calculate(turb*numturb,position)\n",
    "        fingerprints=finpr.calculate(turb*numturb,position,neigh,symbol)\n",
    "        fingerprints=np.array(fingerprints)\n",
    "        #dataset_pos=np.append(dataset_pos,position,axis=0)\n",
    "        dataset_fp=np.append(dataset_fp,fingerprints,axis=0)\n",
    "        dataset_ws=np.append(dataset_ws,ws,axis=0)\n",
    "    dataset=np.concatenate((dataset_fp, dataset_ws),axis=1)\n",
    "    dataset = pd.DataFrame(dataset, columns = ['Fingerprint(G2)','Fingerprint(G4)','Fingerprint(G6)','Ref_Wind_Speed'])\n",
    "    X=dataset[[\"Fingerprint(G2)\",\"Fingerprint(G4)\",\"Fingerprint(G6)\"]].to_numpy()\n",
    "    Y=dataset[[\"Ref_Wind_Speed\"]].to_numpy()\n",
    "    train_dataset = dataset.sample(frac=0.8, random_state=0)\n",
    "    test_dataset = dataset.drop(train_dataset.index)\n",
    "    Xtrain=train_dataset[[\"Fingerprint(G2)\",\"Fingerprint(G4)\",\"Fingerprint(G6)\"]].to_numpy()\n",
    "    Ytrain=train_dataset[[\"Ref_Wind_Speed\"]].to_numpy()\n",
    "    Xtest=test_dataset[[\"Fingerprint(G2)\",\"Fingerprint(G4)\",\"Fingerprint(G6)\"]].to_numpy()\n",
    "    Ytest=test_dataset[[\"Ref_Wind_Speed\"]].to_numpy()\n",
    "    # define kernel\n",
    "    ker = GPy.kern.RBF(3,lengthscale=0.1)# + GPy.kern.White(2)\n",
    "    # create simple GP model\n",
    "    m = GPy.models.GPRegression(Xtrain,Ytrain,ker)\n",
    "    # optimize and plot\n",
    "    m.optimize(max_f_eval = 1000)\n",
    "\n",
    "    [Ypred,Yvar]=m.predict(Xtest)\n",
    "    return np.max(Ypred-Ytest)"
   ]
  },
  {
   "cell_type": "code",
   "execution_count": 4,
   "id": "5df86db7",
   "metadata": {},
   "outputs": [
    {
     "name": "stdout",
     "output_type": "stream",
     "text": [
      "0.7406359465508672\n",
      "0.7683589299014386\n",
      "0.7937758348131041\n",
      "0.8159054523169544\n",
      "0.8354772390848382\n",
      "0.8535167389025275\n"
     ]
    }
   ],
   "source": [
    "i=np.linspace(4,6,6)\n",
    "\n",
    "for k in i:\n",
    "    x0 = [k, 5., 2.]\n",
    "    print(f(x0))\n",
    "\n"
   ]
  },
  {
   "cell_type": "code",
   "execution_count": 5,
   "id": "4957240e",
   "metadata": {},
   "outputs": [
    {
     "name": "stdout",
     "output_type": "stream",
     "text": [
      "Optimization terminated successfully.\n",
      "         Current function value: 0.262793\n",
      "         Iterations: 148\n",
      "         Function evaluations: 266\n"
     ]
    }
   ],
   "source": [
    "x0 = [5.3, 5., 2.]\n",
    "minimum = fmin(f, x0,disp=True)"
   ]
  },
  {
   "cell_type": "code",
   "execution_count": 6,
   "id": "d82c0cd0",
   "metadata": {},
   "outputs": [
    {
     "data": {
      "text/plain": [
       "array([7.83091952, 1.91278235, 0.8768927 ])"
      ]
     },
     "execution_count": 6,
     "metadata": {},
     "output_type": "execute_result"
    }
   ],
   "source": [
    "minimum"
   ]
  },
  {
   "cell_type": "code",
   "execution_count": null,
   "id": "45599440",
   "metadata": {},
   "outputs": [],
   "source": [
    "x0 = [5.3, 5., 2.]\n",
    "bounds= ((0,10),(0,10),(0,10))\n",
    "res = minimize(f, x0, bounds= bounds, options={'disp':True})"
   ]
  },
  {
   "cell_type": "code",
   "execution_count": null,
   "id": "c41e085d",
   "metadata": {},
   "outputs": [],
   "source": [
    "count=0\n",
    "for i in range(numsims):\n",
    "#    if dataset.loc[dataset['Number of Turbine in the Simulation'] == 2].reset_index(drop=True)\n",
    "    numturb=dataset[\"Num_tot_turb\"].iloc[count]\n",
    "    print(count)\n",
    "    position = np.empty((numturb,2))\n",
    "    ws = np.empty((numturb,1))\n",
    "    fp = np.empty((numturb,3))\n",
    "    for k in range(numturb):\n",
    "        position[k,0]=dataset.at[count,\"X_coord\"]\n",
    "        position[k,1]=dataset.at[count,\"Y_coord\"]\n",
    "        ws[k,0]=dataset.at[count,\"Ref_wind\"]\n",
    "        count = count+ 1\n",
    "    #print(position)\n",
    "    neigh=nl.calculate(turb*numturb,position)\n",
    "    fp=finpr.calculate(turb*numturb,position,neigh,symbol)\n",
    "    fp=np.array(fp)\n",
    "    print(fp)\n",
    "    dataset_pos=np.append(dataset_pos,position,axis=0)\n",
    "    dataset_fp=np.append(dataset_fp,fp,axis=0)\n",
    "    dataset_ws=np.append(dataset_ws,ws,axis=0)\n",
    "dataset=np.concatenate((dataset_fp, dataset_ws),axis=1)"
   ]
  },
  {
   "cell_type": "code",
   "execution_count": null,
   "id": "8dc5aff1",
   "metadata": {},
   "outputs": [],
   "source": []
  }
 ],
 "metadata": {
  "kernelspec": {
   "display_name": "Python 3 (ipykernel)",
   "language": "python",
   "name": "python3"
  },
  "language_info": {
   "codemirror_mode": {
    "name": "ipython",
    "version": 3
   },
   "file_extension": ".py",
   "mimetype": "text/x-python",
   "name": "python",
   "nbconvert_exporter": "python",
   "pygments_lexer": "ipython3",
   "version": "3.9.10"
  }
 },
 "nbformat": 4,
 "nbformat_minor": 5
}
