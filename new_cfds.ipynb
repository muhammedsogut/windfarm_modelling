{
 "cells": [
  {
   "cell_type": "code",
   "execution_count": 1,
   "id": "f27996c4",
   "metadata": {},
   "outputs": [],
   "source": [
    "from pyDOE import *"
   ]
  },
  {
   "cell_type": "code",
   "execution_count": 2,
   "id": "4fccb966",
   "metadata": {},
   "outputs": [],
   "source": [
    "lhs=lhs(2, samples=10, criterion='maximin')"
   ]
  },
  {
   "cell_type": "code",
   "execution_count": 6,
   "id": "6c1f67da",
   "metadata": {},
   "outputs": [
    {
     "name": "stdout",
     "output_type": "stream",
     "text": [
      "[2695.25842443  -58.71854969] 2695.8979659025263 2500\n",
      "271.24804097962874\n",
      "[2034.20577039 -272.6776091 ] 2052.400105923188 2000\n",
      "277.6347719664935\n",
      "[3973.68673886  -66.06584526] 3974.235900710772 3500\n",
      "270.95250220638064\n",
      "[3788.65881561 -186.6077314 ] 3793.251648189035 3500\n",
      "272.81978463527764\n",
      "[2282.66958347 -158.07072312] 2288.1360931551344 2250\n",
      "273.96130485744914\n",
      "[3422.60044183 -292.63937201] 3435.0882938379646 3200\n",
      "274.8870210115341\n",
      "[2863.3387799  -259.57931959] 2875.080936537421 2750\n",
      "275.1800559096836\n",
      "[3332.73432567 -209.99604684] 3339.343711745877 3200\n",
      "273.60544842133845\n",
      "[2429.90611922   -9.75879662] 2429.9257153915796 2250\n",
      "270.2301055372603\n",
      "[3154.91242716 -100.17946169] 3156.5025499120675 3000\n",
      "271.8187295247237\n"
     ]
    }
   ],
   "source": [
    "distances=[800,1000,1250,1500,1750,2000,2250,2500,2750,3000,3200,3500,4000]\n",
    "\n",
    "for a in range(0,10,1):\n",
    "    position=np.array([(lhs[a,0]*2000.)+2000.,lhs[a,1]*(-325.)])\n",
    "    distance= np.linalg.norm(position)\n",
    "    turb_dist = max(i for i in distances if i <= distance)\n",
    "    print(position,distance,turb_dist)\n",
    "    angle=(270-np.rad2deg(np.arctan2(position[1],position[0])))\n",
    "    print(angle)"
   ]
  },
  {
   "cell_type": "code",
   "execution_count": 4,
   "id": "eec87ae3",
   "metadata": {},
   "outputs": [
    {
     "data": {
      "text/plain": [
       "array([3154.91242716, -100.17946169])"
      ]
     },
     "execution_count": 4,
     "metadata": {},
     "output_type": "execute_result"
    }
   ],
   "source": [
    "position"
   ]
  },
  {
   "cell_type": "code",
   "execution_count": 5,
   "id": "c3ddf958",
   "metadata": {},
   "outputs": [
    {
     "data": {
      "text/plain": [
       "array([[0.34762921, 0.18067246],\n",
       "       [0.01710289, 0.83900803],\n",
       "       [0.98684337, 0.20327952],\n",
       "       [0.89432941, 0.57417764],\n",
       "       [0.14133479, 0.48637146],\n",
       "       [0.71130022, 0.90042884],\n",
       "       [0.43166939, 0.7987056 ],\n",
       "       [0.66636716, 0.64614168],\n",
       "       [0.21495306, 0.03002707],\n",
       "       [0.57745621, 0.3082445 ]])"
      ]
     },
     "execution_count": 5,
     "metadata": {},
     "output_type": "execute_result"
    }
   ],
   "source": [
    "lhs"
   ]
  },
  {
   "cell_type": "code",
   "execution_count": null,
   "id": "fde5e16a",
   "metadata": {},
   "outputs": [],
   "source": [
    "np.arc"
   ]
  }
 ],
 "metadata": {
  "kernelspec": {
   "display_name": "Python 3 (ipykernel)",
   "language": "python",
   "name": "python3"
  },
  "language_info": {
   "codemirror_mode": {
    "name": "ipython",
    "version": 3
   },
   "file_extension": ".py",
   "mimetype": "text/x-python",
   "name": "python",
   "nbconvert_exporter": "python",
   "pygments_lexer": "ipython3",
   "version": "3.9.10"
  }
 },
 "nbformat": 4,
 "nbformat_minor": 5
}
